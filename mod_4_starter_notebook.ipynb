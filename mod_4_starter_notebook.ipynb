{
 "cells": [
  {
   "cell_type": "markdown",
   "metadata": {},
   "source": [
    "# Mod 4 Project - Starter Notebook\n",
    "\n",
    "This notebook has been provided to you so that you can make use of the following starter code to help with the trickier parts of preprocessing the Zillow dataset. \n",
    "\n",
    "The notebook contains a rough outline the general order you'll likely want to take in this project. You'll notice that most of the areas are left blank. This is so that it's more obvious exactly when you should make use of the starter code provided for preprocessing. \n",
    "\n",
    "**_NOTE:_** The number of empty cells are not meant to infer how much or how little code should be involved in any given step--we've just provided a few for your convenience. Add, delete, and change things around in this notebook as needed!\n",
    "\n",
    "# Some Notes Before Starting\n",
    "\n",
    "This project will be one of the more challenging projects you complete in this program. This is because working with Time Series data is a bit different than working with regular datasets. In order to make this a bit less frustrating and help you understand what you need to do (and when you need to do it), we'll quickly review the dataset formats that you'll encounter in this project. \n",
    "\n",
    "## Wide Format vs Long Format\n",
    "\n",
    "If you take a look at the format of the data in `zillow_data.csv`, you'll notice that the actual Time Series values are stored as separate columns. Here's a sample: \n",
    "\n",
    "<img src='~/../images/df_head.png'>\n",
    "\n",
    "You'll notice that the first seven columns look like any other dataset you're used to working with. However, column 8 refers to the median housing sales values for April 1996, column 9 for May 1996, and so on. This This is called **_Wide Format_**, and it makes the dataframe intuitive and easy to read. However, there are problems with this format when it comes to actually learning from the data, because the data only makes sense if you know the name of the column that the data can be found it. Since column names are metadata, our algorithms will miss out on what dates each value is for. This means that before we pass this data to our ARIMA model, we'll need to reshape our dataset to **_Long Format_**. Reshaped into long format, the dataframe above would now look like:\n",
    "\n",
    "<img src='~/../images/melted1.png'>\n",
    "\n",
    "There are now many more rows in this dataset--one for each unique time and zipcode combination in the data! Once our dataset is in this format, we'll be able to train an ARIMA model on it. The method used to convert from Wide to Long is `pd.melt()`, and it is common to refer to our dataset as 'melted' after the transition to denote that it is in long format. \n",
    "\n",
    "# Helper Functions Provided\n",
    "\n",
    "Melting a dataset can be tricky if you've never done it before, so you'll see that we have provided a sample function, `melt_data()`, to help you with this step below. Also provided is:\n",
    "\n",
    "* `get_datetimes()`, a function to deal with converting the column values for datetimes as a pandas series of datetime objects\n",
    "* Some good parameters for matplotlib to help make your visualizations more readable. \n",
    "\n",
    "Good luck!\n",
    "\n",
    "\n",
    "# Step 1: Load the Data/Filtering for Chosen Zipcodes"
   ]
  },
  {
   "cell_type": "markdown",
   "metadata": {},
   "source": [
    "# Michael Noel\n",
    "# 10/7/2019\n",
    "# Zillow Zipcode Data"
   ]
  },
  {
   "cell_type": "code",
   "execution_count": 220,
   "metadata": {
    "scrolled": true
   },
   "outputs": [
    {
     "data": {
      "text/html": [
       "<div>\n",
       "<style scoped>\n",
       "    .dataframe tbody tr th:only-of-type {\n",
       "        vertical-align: middle;\n",
       "    }\n",
       "\n",
       "    .dataframe tbody tr th {\n",
       "        vertical-align: top;\n",
       "    }\n",
       "\n",
       "    .dataframe thead th {\n",
       "        text-align: right;\n",
       "    }\n",
       "</style>\n",
       "<table border=\"1\" class=\"dataframe\">\n",
       "  <thead>\n",
       "    <tr style=\"text-align: right;\">\n",
       "      <th></th>\n",
       "      <th>RegionID</th>\n",
       "      <th>RegionName</th>\n",
       "      <th>City</th>\n",
       "      <th>State</th>\n",
       "      <th>Metro</th>\n",
       "      <th>CountyName</th>\n",
       "      <th>SizeRank</th>\n",
       "      <th>1996-04</th>\n",
       "      <th>1996-05</th>\n",
       "      <th>1996-06</th>\n",
       "      <th>...</th>\n",
       "      <th>2017-07</th>\n",
       "      <th>2017-08</th>\n",
       "      <th>2017-09</th>\n",
       "      <th>2017-10</th>\n",
       "      <th>2017-11</th>\n",
       "      <th>2017-12</th>\n",
       "      <th>2018-01</th>\n",
       "      <th>2018-02</th>\n",
       "      <th>2018-03</th>\n",
       "      <th>2018-04</th>\n",
       "    </tr>\n",
       "  </thead>\n",
       "  <tbody>\n",
       "    <tr>\n",
       "      <th>0</th>\n",
       "      <td>84654</td>\n",
       "      <td>60657</td>\n",
       "      <td>Chicago</td>\n",
       "      <td>IL</td>\n",
       "      <td>Chicago</td>\n",
       "      <td>Cook</td>\n",
       "      <td>1</td>\n",
       "      <td>334200.0</td>\n",
       "      <td>335400.0</td>\n",
       "      <td>336500.0</td>\n",
       "      <td>...</td>\n",
       "      <td>1005500</td>\n",
       "      <td>1007500</td>\n",
       "      <td>1007800</td>\n",
       "      <td>1009600</td>\n",
       "      <td>1013300</td>\n",
       "      <td>1018700</td>\n",
       "      <td>1024400</td>\n",
       "      <td>1030700</td>\n",
       "      <td>1033800</td>\n",
       "      <td>1030600</td>\n",
       "    </tr>\n",
       "    <tr>\n",
       "      <th>1</th>\n",
       "      <td>90668</td>\n",
       "      <td>75070</td>\n",
       "      <td>McKinney</td>\n",
       "      <td>TX</td>\n",
       "      <td>Dallas-Fort Worth</td>\n",
       "      <td>Collin</td>\n",
       "      <td>2</td>\n",
       "      <td>235700.0</td>\n",
       "      <td>236900.0</td>\n",
       "      <td>236700.0</td>\n",
       "      <td>...</td>\n",
       "      <td>308000</td>\n",
       "      <td>310000</td>\n",
       "      <td>312500</td>\n",
       "      <td>314100</td>\n",
       "      <td>315000</td>\n",
       "      <td>316600</td>\n",
       "      <td>318100</td>\n",
       "      <td>319600</td>\n",
       "      <td>321100</td>\n",
       "      <td>321800</td>\n",
       "    </tr>\n",
       "    <tr>\n",
       "      <th>2</th>\n",
       "      <td>91982</td>\n",
       "      <td>77494</td>\n",
       "      <td>Katy</td>\n",
       "      <td>TX</td>\n",
       "      <td>Houston</td>\n",
       "      <td>Harris</td>\n",
       "      <td>3</td>\n",
       "      <td>210400.0</td>\n",
       "      <td>212200.0</td>\n",
       "      <td>212200.0</td>\n",
       "      <td>...</td>\n",
       "      <td>321000</td>\n",
       "      <td>320600</td>\n",
       "      <td>320200</td>\n",
       "      <td>320400</td>\n",
       "      <td>320800</td>\n",
       "      <td>321200</td>\n",
       "      <td>321200</td>\n",
       "      <td>323000</td>\n",
       "      <td>326900</td>\n",
       "      <td>329900</td>\n",
       "    </tr>\n",
       "    <tr>\n",
       "      <th>3</th>\n",
       "      <td>84616</td>\n",
       "      <td>60614</td>\n",
       "      <td>Chicago</td>\n",
       "      <td>IL</td>\n",
       "      <td>Chicago</td>\n",
       "      <td>Cook</td>\n",
       "      <td>4</td>\n",
       "      <td>498100.0</td>\n",
       "      <td>500900.0</td>\n",
       "      <td>503100.0</td>\n",
       "      <td>...</td>\n",
       "      <td>1289800</td>\n",
       "      <td>1287700</td>\n",
       "      <td>1287400</td>\n",
       "      <td>1291500</td>\n",
       "      <td>1296600</td>\n",
       "      <td>1299000</td>\n",
       "      <td>1302700</td>\n",
       "      <td>1306400</td>\n",
       "      <td>1308500</td>\n",
       "      <td>1307000</td>\n",
       "    </tr>\n",
       "    <tr>\n",
       "      <th>4</th>\n",
       "      <td>93144</td>\n",
       "      <td>79936</td>\n",
       "      <td>El Paso</td>\n",
       "      <td>TX</td>\n",
       "      <td>El Paso</td>\n",
       "      <td>El Paso</td>\n",
       "      <td>5</td>\n",
       "      <td>77300.0</td>\n",
       "      <td>77300.0</td>\n",
       "      <td>77300.0</td>\n",
       "      <td>...</td>\n",
       "      <td>119100</td>\n",
       "      <td>119400</td>\n",
       "      <td>120000</td>\n",
       "      <td>120300</td>\n",
       "      <td>120300</td>\n",
       "      <td>120300</td>\n",
       "      <td>120300</td>\n",
       "      <td>120500</td>\n",
       "      <td>121000</td>\n",
       "      <td>121500</td>\n",
       "    </tr>\n",
       "  </tbody>\n",
       "</table>\n",
       "<p>5 rows × 272 columns</p>\n",
       "</div>"
      ],
      "text/plain": [
       "   RegionID  RegionName      City State              Metro CountyName  \\\n",
       "0     84654       60657   Chicago    IL            Chicago       Cook   \n",
       "1     90668       75070  McKinney    TX  Dallas-Fort Worth     Collin   \n",
       "2     91982       77494      Katy    TX            Houston     Harris   \n",
       "3     84616       60614   Chicago    IL            Chicago       Cook   \n",
       "4     93144       79936   El Paso    TX            El Paso    El Paso   \n",
       "\n",
       "   SizeRank   1996-04   1996-05   1996-06   ...     2017-07  2017-08  2017-09  \\\n",
       "0         1  334200.0  335400.0  336500.0   ...     1005500  1007500  1007800   \n",
       "1         2  235700.0  236900.0  236700.0   ...      308000   310000   312500   \n",
       "2         3  210400.0  212200.0  212200.0   ...      321000   320600   320200   \n",
       "3         4  498100.0  500900.0  503100.0   ...     1289800  1287700  1287400   \n",
       "4         5   77300.0   77300.0   77300.0   ...      119100   119400   120000   \n",
       "\n",
       "   2017-10  2017-11  2017-12  2018-01  2018-02  2018-03  2018-04  \n",
       "0  1009600  1013300  1018700  1024400  1030700  1033800  1030600  \n",
       "1   314100   315000   316600   318100   319600   321100   321800  \n",
       "2   320400   320800   321200   321200   323000   326900   329900  \n",
       "3  1291500  1296600  1299000  1302700  1306400  1308500  1307000  \n",
       "4   120300   120300   120300   120300   120500   121000   121500  \n",
       "\n",
       "[5 rows x 272 columns]"
      ]
     },
     "execution_count": 220,
     "metadata": {},
     "output_type": "execute_result"
    }
   ],
   "source": [
    "import pandas as pd\n",
    "import matplotlib.pyplot as plt\n",
    "from pyramid.arima import auto_arima \n",
    "%matplotlib inline\n",
    "data = pd.read_csv('zillow_data.csv')\n",
    "data.head()"
   ]
  },
  {
   "cell_type": "markdown",
   "metadata": {},
   "source": [
    "# Step 2: Data Preprocessing"
   ]
  },
  {
   "cell_type": "code",
   "execution_count": 221,
   "metadata": {},
   "outputs": [],
   "source": [
    "#get all the timestamp columns\n",
    "cols = data.columns\n",
    "value_varss = cols[7:]\n"
   ]
  },
  {
   "cell_type": "code",
   "execution_count": null,
   "metadata": {},
   "outputs": [],
   "source": [
    "#run this line after finding the top returns below\n",
    "#this gets rid of zipcodes that have missing time series data\n",
    "modifiedtopreturns = topreturns[25:]\n",
    "for i,t in enumerate(modifiedtopreturns):\n",
    "    for j,l in enumerate(t):\n",
    "        if sort[sort['RegionID']== l[1]]['value'].isna().sum() > 0 :\n",
    "            del modifiedtopreturns[i][j]\n"
   ]
  },
  {
   "cell_type": "code",
   "execution_count": null,
   "metadata": {},
   "outputs": [],
   "source": [
    "#double check that all zipcodes have the data if nothing prints then it is good\n",
    "for i in modifiedtopreturns:\n",
    "    for c in i :\n",
    "        table = sort[sort['RegionID'] == c[1]]\n",
    "        if table['value'].isna().sum() > 0:\n",
    "            \n",
    "            print(table['value'].isna().sum(),c)\n",
    "len(modifiedtopreturns)"
   ]
  },
  {
   "cell_type": "code",
   "execution_count": null,
   "metadata": {},
   "outputs": [],
   "source": []
  },
  {
   "cell_type": "code",
   "execution_count": null,
   "metadata": {},
   "outputs": [],
   "source": []
  },
  {
   "cell_type": "markdown",
   "metadata": {},
   "source": [
    "# Step 3: EDA and Visualization"
   ]
  },
  {
   "cell_type": "markdown",
   "metadata": {},
   "source": [
    "There is visualization later on, I did not want to do visualization first because there are too many zipcodes.\n",
    "I did explore the data, there is a few of the zipcodes with missing data. I assumed the zillow API would be 100% right but it was not. "
   ]
  },
  {
   "cell_type": "code",
   "execution_count": null,
   "metadata": {},
   "outputs": [],
   "source": []
  },
  {
   "cell_type": "code",
   "execution_count": null,
   "metadata": {},
   "outputs": [],
   "source": []
  },
  {
   "cell_type": "markdown",
   "metadata": {},
   "source": [
    "# Step 4: Reshape from Wide to Long Format"
   ]
  },
  {
   "cell_type": "code",
   "execution_count": 222,
   "metadata": {
    "scrolled": true
   },
   "outputs": [
    {
     "data": {
      "text/html": [
       "<div>\n",
       "<style scoped>\n",
       "    .dataframe tbody tr th:only-of-type {\n",
       "        vertical-align: middle;\n",
       "    }\n",
       "\n",
       "    .dataframe tbody tr th {\n",
       "        vertical-align: top;\n",
       "    }\n",
       "\n",
       "    .dataframe thead th {\n",
       "        text-align: right;\n",
       "    }\n",
       "</style>\n",
       "<table border=\"1\" class=\"dataframe\">\n",
       "  <thead>\n",
       "    <tr style=\"text-align: right;\">\n",
       "      <th></th>\n",
       "      <th>RegionID</th>\n",
       "      <th>RegionName</th>\n",
       "      <th>City</th>\n",
       "      <th>State</th>\n",
       "      <th>Metro</th>\n",
       "      <th>CountyName</th>\n",
       "      <th>SizeRank</th>\n",
       "      <th>variable</th>\n",
       "      <th>value</th>\n",
       "    </tr>\n",
       "    <tr>\n",
       "      <th>variable</th>\n",
       "      <th></th>\n",
       "      <th></th>\n",
       "      <th></th>\n",
       "      <th></th>\n",
       "      <th></th>\n",
       "      <th></th>\n",
       "      <th></th>\n",
       "      <th></th>\n",
       "      <th></th>\n",
       "    </tr>\n",
       "  </thead>\n",
       "  <tbody>\n",
       "    <tr>\n",
       "      <th>1996-04</th>\n",
       "      <td>84654</td>\n",
       "      <td>60657</td>\n",
       "      <td>Chicago</td>\n",
       "      <td>IL</td>\n",
       "      <td>Chicago</td>\n",
       "      <td>Cook</td>\n",
       "      <td>1</td>\n",
       "      <td>1996-04</td>\n",
       "      <td>334200.0</td>\n",
       "    </tr>\n",
       "    <tr>\n",
       "      <th>1996-04</th>\n",
       "      <td>90668</td>\n",
       "      <td>75070</td>\n",
       "      <td>McKinney</td>\n",
       "      <td>TX</td>\n",
       "      <td>Dallas-Fort Worth</td>\n",
       "      <td>Collin</td>\n",
       "      <td>2</td>\n",
       "      <td>1996-04</td>\n",
       "      <td>235700.0</td>\n",
       "    </tr>\n",
       "    <tr>\n",
       "      <th>1996-04</th>\n",
       "      <td>91982</td>\n",
       "      <td>77494</td>\n",
       "      <td>Katy</td>\n",
       "      <td>TX</td>\n",
       "      <td>Houston</td>\n",
       "      <td>Harris</td>\n",
       "      <td>3</td>\n",
       "      <td>1996-04</td>\n",
       "      <td>210400.0</td>\n",
       "    </tr>\n",
       "    <tr>\n",
       "      <th>1996-04</th>\n",
       "      <td>84616</td>\n",
       "      <td>60614</td>\n",
       "      <td>Chicago</td>\n",
       "      <td>IL</td>\n",
       "      <td>Chicago</td>\n",
       "      <td>Cook</td>\n",
       "      <td>4</td>\n",
       "      <td>1996-04</td>\n",
       "      <td>498100.0</td>\n",
       "    </tr>\n",
       "    <tr>\n",
       "      <th>1996-04</th>\n",
       "      <td>93144</td>\n",
       "      <td>79936</td>\n",
       "      <td>El Paso</td>\n",
       "      <td>TX</td>\n",
       "      <td>El Paso</td>\n",
       "      <td>El Paso</td>\n",
       "      <td>5</td>\n",
       "      <td>1996-04</td>\n",
       "      <td>77300.0</td>\n",
       "    </tr>\n",
       "  </tbody>\n",
       "</table>\n",
       "</div>"
      ],
      "text/plain": [
       "          RegionID  RegionName      City State              Metro CountyName  \\\n",
       "variable                                                                       \n",
       "1996-04      84654       60657   Chicago    IL            Chicago       Cook   \n",
       "1996-04      90668       75070  McKinney    TX  Dallas-Fort Worth     Collin   \n",
       "1996-04      91982       77494      Katy    TX            Houston     Harris   \n",
       "1996-04      84616       60614   Chicago    IL            Chicago       Cook   \n",
       "1996-04      93144       79936   El Paso    TX            El Paso    El Paso   \n",
       "\n",
       "          SizeRank variable     value  \n",
       "variable                               \n",
       "1996-04          1  1996-04  334200.0  \n",
       "1996-04          2  1996-04  235700.0  \n",
       "1996-04          3  1996-04  210400.0  \n",
       "1996-04          4  1996-04  498100.0  \n",
       "1996-04          5  1996-04   77300.0  "
      ]
     },
     "execution_count": 222,
     "metadata": {},
     "output_type": "execute_result"
    }
   ],
   "source": [
    "#convert from columns to rows for the timestamps\n",
    "melted = pd.melt(data,id_vars=['RegionID','RegionName', 'City', 'State', 'Metro', 'CountyName','SizeRank'],value_vars=value_varss)\n",
    "melted.index = melted['variable']\n",
    "melted.head()"
   ]
  },
  {
   "cell_type": "code",
   "execution_count": 223,
   "metadata": {},
   "outputs": [
    {
     "name": "stderr",
     "output_type": "stream",
     "text": [
      "C:\\Users\\Michael\\Anaconda3\\envs\\learn-env\\lib\\site-packages\\ipykernel_launcher.py:4: FutureWarning:\n",
      "\n",
      "'variable' is both an index level and a column label.\n",
      "Defaulting to column, but this will raise an ambiguity error in a future version\n",
      "\n"
     ]
    },
    {
     "data": {
      "text/html": [
       "<div>\n",
       "<style scoped>\n",
       "    .dataframe tbody tr th:only-of-type {\n",
       "        vertical-align: middle;\n",
       "    }\n",
       "\n",
       "    .dataframe tbody tr th {\n",
       "        vertical-align: top;\n",
       "    }\n",
       "\n",
       "    .dataframe thead th {\n",
       "        text-align: right;\n",
       "    }\n",
       "</style>\n",
       "<table border=\"1\" class=\"dataframe\">\n",
       "  <thead>\n",
       "    <tr style=\"text-align: right;\">\n",
       "      <th></th>\n",
       "      <th>RegionID</th>\n",
       "      <th>RegionName</th>\n",
       "      <th>City</th>\n",
       "      <th>State</th>\n",
       "      <th>Metro</th>\n",
       "      <th>CountyName</th>\n",
       "      <th>SizeRank</th>\n",
       "      <th>variable</th>\n",
       "      <th>value</th>\n",
       "    </tr>\n",
       "    <tr>\n",
       "      <th>variable</th>\n",
       "      <th></th>\n",
       "      <th></th>\n",
       "      <th></th>\n",
       "      <th></th>\n",
       "      <th></th>\n",
       "      <th></th>\n",
       "      <th></th>\n",
       "      <th></th>\n",
       "      <th></th>\n",
       "    </tr>\n",
       "  </thead>\n",
       "  <tbody>\n",
       "    <tr>\n",
       "      <th>1996-04-01</th>\n",
       "      <td>58196</td>\n",
       "      <td>1001</td>\n",
       "      <td>Agawam</td>\n",
       "      <td>MA</td>\n",
       "      <td>Springfield</td>\n",
       "      <td>Hampden</td>\n",
       "      <td>5851</td>\n",
       "      <td>1996-04</td>\n",
       "      <td>113100.0</td>\n",
       "    </tr>\n",
       "    <tr>\n",
       "      <th>1996-05-01</th>\n",
       "      <td>58196</td>\n",
       "      <td>1001</td>\n",
       "      <td>Agawam</td>\n",
       "      <td>MA</td>\n",
       "      <td>Springfield</td>\n",
       "      <td>Hampden</td>\n",
       "      <td>5851</td>\n",
       "      <td>1996-05</td>\n",
       "      <td>112800.0</td>\n",
       "    </tr>\n",
       "    <tr>\n",
       "      <th>1996-06-01</th>\n",
       "      <td>58196</td>\n",
       "      <td>1001</td>\n",
       "      <td>Agawam</td>\n",
       "      <td>MA</td>\n",
       "      <td>Springfield</td>\n",
       "      <td>Hampden</td>\n",
       "      <td>5851</td>\n",
       "      <td>1996-06</td>\n",
       "      <td>112600.0</td>\n",
       "    </tr>\n",
       "    <tr>\n",
       "      <th>1996-07-01</th>\n",
       "      <td>58196</td>\n",
       "      <td>1001</td>\n",
       "      <td>Agawam</td>\n",
       "      <td>MA</td>\n",
       "      <td>Springfield</td>\n",
       "      <td>Hampden</td>\n",
       "      <td>5851</td>\n",
       "      <td>1996-07</td>\n",
       "      <td>112300.0</td>\n",
       "    </tr>\n",
       "    <tr>\n",
       "      <th>1996-08-01</th>\n",
       "      <td>58196</td>\n",
       "      <td>1001</td>\n",
       "      <td>Agawam</td>\n",
       "      <td>MA</td>\n",
       "      <td>Springfield</td>\n",
       "      <td>Hampden</td>\n",
       "      <td>5851</td>\n",
       "      <td>1996-08</td>\n",
       "      <td>112100.0</td>\n",
       "    </tr>\n",
       "  </tbody>\n",
       "</table>\n",
       "</div>"
      ],
      "text/plain": [
       "            RegionID  RegionName    City State        Metro CountyName  \\\n",
       "variable                                                                 \n",
       "1996-04-01     58196        1001  Agawam    MA  Springfield    Hampden   \n",
       "1996-05-01     58196        1001  Agawam    MA  Springfield    Hampden   \n",
       "1996-06-01     58196        1001  Agawam    MA  Springfield    Hampden   \n",
       "1996-07-01     58196        1001  Agawam    MA  Springfield    Hampden   \n",
       "1996-08-01     58196        1001  Agawam    MA  Springfield    Hampden   \n",
       "\n",
       "            SizeRank variable     value  \n",
       "variable                                 \n",
       "1996-04-01      5851  1996-04  113100.0  \n",
       "1996-05-01      5851  1996-05  112800.0  \n",
       "1996-06-01      5851  1996-06  112600.0  \n",
       "1996-07-01      5851  1996-07  112300.0  \n",
       "1996-08-01      5851  1996-08  112100.0  "
      ]
     },
     "execution_count": 223,
     "metadata": {},
     "output_type": "execute_result"
    }
   ],
   "source": [
    "#convert the index to the timestamps and sort so that each zipcode\n",
    "#has the timestamps in descending order\n",
    "melted.index = pd.to_datetime(melted.index)\n",
    "sort = melted.sort_values(by=['RegionID','variable'])\n",
    "sort.head()"
   ]
  },
  {
   "cell_type": "code",
   "execution_count": 31,
   "metadata": {},
   "outputs": [],
   "source": [
    "#get all the unique zipcodes in a list\n",
    "zipcodes = sort['RegionID'].unique()\n",
    "temp_array = []\n",
    "#put a value in a temp_array with the percentage return historically per zipcode\n",
    "for i in zipcodes:\n",
    "    x= sort[sort['RegionID'] == i]\n",
    "    returnval = (x['value'][-1] - x['value'][0]) / x['value'][0]\n",
    "    temp_array.append([returnval,i,x['State'][0]])"
   ]
  },
  {
   "cell_type": "code",
   "execution_count": 40,
   "metadata": {},
   "outputs": [
    {
     "data": {
      "text/plain": [
       "[[1.5728100113765642, 95937],\n",
       " [1.5932926829268292, 95955],\n",
       " [1.6672278338945006, 95926],\n",
       " [1.7719442165709598, 95930],\n",
       " [2.8440611664295874, 95893]]"
      ]
     },
     "execution_count": 40,
     "metadata": {},
     "output_type": "execute_result"
    }
   ],
   "source": [
    "#get the top 5 best historical return zipcodes per state\n",
    "temp_array.sort(key= lambda x: x[0])\n",
    "topreturns = []\n",
    "#get all the states\n",
    "states = sort['State'].unique()\n",
    "for i in states:\n",
    "    top5returns = []\n",
    "    for j in temp_array:\n",
    "        #if zipcode is equal to the current state\n",
    "        if j[2] == i:\n",
    "            #if there are less than 5 zipcodes currently add zipcodes\n",
    "            if len(top5returns) < 5:\n",
    "                top5returns.append([j[0],j[1]])\n",
    "                top5returns.sort(key = lambda x : x[0])\n",
    "            else:\n",
    "                #if the current zipcode is greater historically than the 5th best current\n",
    "                #then put it in list and then resort the top5 zipcodes for that state\n",
    "                if j[0] > top5returns[0][0]:\n",
    "                    top5returns[0] = [j[0],j[1]]\n",
    "                    top5returns.sort(key = lambda x: x[0])\n",
    "    topreturns.append(top5returns)\n",
    "topreturns[45]"
   ]
  },
  {
   "cell_type": "markdown",
   "metadata": {},
   "source": [
    "# Step 5: ARIMA Modeling  and Prophet Modeling"
   ]
  },
  {
   "cell_type": "code",
   "execution_count": 126,
   "metadata": {
    "scrolled": true
   },
   "outputs": [
    {
     "name": "stderr",
     "output_type": "stream",
     "text": [
      "C:\\Users\\Michael\\Anaconda3\\envs\\learn-env\\lib\\site-packages\\ipykernel_launcher.py:40: FutureWarning:\n",
      "\n",
      "'variable' is both an index level and a column label.\n",
      "Defaulting to column, but this will raise an ambiguity error in a future version\n",
      "\n",
      "C:\\Users\\Michael\\Anaconda3\\envs\\learn-env\\lib\\site-packages\\ipykernel_launcher.py:44: FutureWarning:\n",
      "\n",
      "'variable' is both an index level and a column label.\n",
      "Defaulting to column, but this will raise an ambiguity error in a future version\n",
      "\n",
      "INFO:fbprophet:Disabling weekly seasonality. Run prophet with weekly_seasonality=True to override this.\n",
      "INFO:fbprophet:Disabling daily seasonality. Run prophet with daily_seasonality=True to override this.\n",
      "C:\\Users\\Michael\\Anaconda3\\envs\\learn-env\\lib\\site-packages\\pystan\\misc.py:399: FutureWarning:\n",
      "\n",
      "Conversion of the second argument of issubdtype from `float` to `np.floating` is deprecated. In future, it will be treated as `np.float64 == np.dtype(float).type`.\n",
      "\n",
      "C:\\Users\\Michael\\Anaconda3\\envs\\learn-env\\lib\\site-packages\\ipykernel_launcher.py:40: FutureWarning:\n",
      "\n",
      "'variable' is both an index level and a column label.\n",
      "Defaulting to column, but this will raise an ambiguity error in a future version\n",
      "\n",
      "C:\\Users\\Michael\\Anaconda3\\envs\\learn-env\\lib\\site-packages\\ipykernel_launcher.py:44: FutureWarning:\n",
      "\n",
      "'variable' is both an index level and a column label.\n",
      "Defaulting to column, but this will raise an ambiguity error in a future version\n",
      "\n",
      "INFO:fbprophet:Disabling weekly seasonality. Run prophet with weekly_seasonality=True to override this.\n",
      "INFO:fbprophet:Disabling daily seasonality. Run prophet with daily_seasonality=True to override this.\n"
     ]
    },
    {
     "name": "stdout",
     "output_type": "stream",
     "text": [
      "[9255.93527724511]\n"
     ]
    },
    {
     "name": "stderr",
     "output_type": "stream",
     "text": [
      "C:\\Users\\Michael\\Anaconda3\\envs\\learn-env\\lib\\site-packages\\pystan\\misc.py:399: FutureWarning:\n",
      "\n",
      "Conversion of the second argument of issubdtype from `float` to `np.floating` is deprecated. In future, it will be treated as `np.float64 == np.dtype(float).type`.\n",
      "\n",
      "C:\\Users\\Michael\\Anaconda3\\envs\\learn-env\\lib\\site-packages\\ipykernel_launcher.py:40: FutureWarning:\n",
      "\n",
      "'variable' is both an index level and a column label.\n",
      "Defaulting to column, but this will raise an ambiguity error in a future version\n",
      "\n",
      "C:\\Users\\Michael\\Anaconda3\\envs\\learn-env\\lib\\site-packages\\ipykernel_launcher.py:44: FutureWarning:\n",
      "\n",
      "'variable' is both an index level and a column label.\n",
      "Defaulting to column, but this will raise an ambiguity error in a future version\n",
      "\n",
      "INFO:fbprophet:Disabling weekly seasonality. Run prophet with weekly_seasonality=True to override this.\n",
      "INFO:fbprophet:Disabling daily seasonality. Run prophet with daily_seasonality=True to override this.\n"
     ]
    },
    {
     "name": "stdout",
     "output_type": "stream",
     "text": [
      "[9255.93527724511, 9013.322745559302]\n"
     ]
    },
    {
     "name": "stderr",
     "output_type": "stream",
     "text": [
      "C:\\Users\\Michael\\Anaconda3\\envs\\learn-env\\lib\\site-packages\\pystan\\misc.py:399: FutureWarning:\n",
      "\n",
      "Conversion of the second argument of issubdtype from `float` to `np.floating` is deprecated. In future, it will be treated as `np.float64 == np.dtype(float).type`.\n",
      "\n",
      "C:\\Users\\Michael\\Anaconda3\\envs\\learn-env\\lib\\site-packages\\ipykernel_launcher.py:60: FutureWarning:\n",
      "\n",
      "'variable' is both an index level and a column label.\n",
      "Defaulting to column, but this will raise an ambiguity error in a future version\n",
      "\n",
      "C:\\Users\\Michael\\Anaconda3\\envs\\learn-env\\lib\\site-packages\\ipykernel_launcher.py:63: FutureWarning:\n",
      "\n",
      "'variable' is both an index level and a column label.\n",
      "Defaulting to column, but this will raise an ambiguity error in a future version\n",
      "\n",
      "INFO:fbprophet:Disabling weekly seasonality. Run prophet with weekly_seasonality=True to override this.\n"
     ]
    },
    {
     "name": "stdout",
     "output_type": "stream",
     "text": [
      "[9255.93527724511, 9013.322745559302, 13388.033506654983]\n",
      "[9255.93527724511, 9013.322745559302, 13388.033506654983]\n"
     ]
    },
    {
     "name": "stderr",
     "output_type": "stream",
     "text": [
      "INFO:fbprophet:Disabling daily seasonality. Run prophet with daily_seasonality=True to override this.\n",
      "C:\\Users\\Michael\\Anaconda3\\envs\\learn-env\\lib\\site-packages\\pystan\\misc.py:399: FutureWarning:\n",
      "\n",
      "Conversion of the second argument of issubdtype from `float` to `np.floating` is deprecated. In future, it will be treated as `np.float64 == np.dtype(float).type`.\n",
      "\n",
      "C:\\Users\\Michael\\Anaconda3\\envs\\learn-env\\lib\\site-packages\\ipykernel_launcher.py:40: FutureWarning:\n",
      "\n",
      "'variable' is both an index level and a column label.\n",
      "Defaulting to column, but this will raise an ambiguity error in a future version\n",
      "\n",
      "C:\\Users\\Michael\\Anaconda3\\envs\\learn-env\\lib\\site-packages\\ipykernel_launcher.py:44: FutureWarning:\n",
      "\n",
      "'variable' is both an index level and a column label.\n",
      "Defaulting to column, but this will raise an ambiguity error in a future version\n",
      "\n",
      "INFO:fbprophet:Disabling weekly seasonality. Run prophet with weekly_seasonality=True to override this.\n",
      "INFO:fbprophet:Disabling daily seasonality. Run prophet with daily_seasonality=True to override this.\n"
     ]
    },
    {
     "name": "stdout",
     "output_type": "stream",
     "text": [
      " 1 progress so far\n"
     ]
    },
    {
     "name": "stderr",
     "output_type": "stream",
     "text": [
      "C:\\Users\\Michael\\Anaconda3\\envs\\learn-env\\lib\\site-packages\\ipykernel_launcher.py:40: FutureWarning:\n",
      "\n",
      "'variable' is both an index level and a column label.\n",
      "Defaulting to column, but this will raise an ambiguity error in a future version\n",
      "\n",
      "C:\\Users\\Michael\\Anaconda3\\envs\\learn-env\\lib\\site-packages\\ipykernel_launcher.py:44: FutureWarning:\n",
      "\n",
      "'variable' is both an index level and a column label.\n",
      "Defaulting to column, but this will raise an ambiguity error in a future version\n",
      "\n",
      "INFO:fbprophet:Disabling weekly seasonality. Run prophet with weekly_seasonality=True to override this.\n",
      "INFO:fbprophet:Disabling daily seasonality. Run prophet with daily_seasonality=True to override this.\n"
     ]
    },
    {
     "name": "stdout",
     "output_type": "stream",
     "text": [
      "[10992.999396003932]\n"
     ]
    },
    {
     "name": "stderr",
     "output_type": "stream",
     "text": [
      "C:\\Users\\Michael\\Anaconda3\\envs\\learn-env\\lib\\site-packages\\pystan\\misc.py:399: FutureWarning:\n",
      "\n",
      "Conversion of the second argument of issubdtype from `float` to `np.floating` is deprecated. In future, it will be treated as `np.float64 == np.dtype(float).type`.\n",
      "\n",
      "C:\\Users\\Michael\\Anaconda3\\envs\\learn-env\\lib\\site-packages\\ipykernel_launcher.py:40: FutureWarning:\n",
      "\n",
      "'variable' is both an index level and a column label.\n",
      "Defaulting to column, but this will raise an ambiguity error in a future version\n",
      "\n",
      "C:\\Users\\Michael\\Anaconda3\\envs\\learn-env\\lib\\site-packages\\ipykernel_launcher.py:44: FutureWarning:\n",
      "\n",
      "'variable' is both an index level and a column label.\n",
      "Defaulting to column, but this will raise an ambiguity error in a future version\n",
      "\n",
      "INFO:fbprophet:Disabling weekly seasonality. Run prophet with weekly_seasonality=True to override this.\n",
      "INFO:fbprophet:Disabling daily seasonality. Run prophet with daily_seasonality=True to override this.\n"
     ]
    },
    {
     "name": "stdout",
     "output_type": "stream",
     "text": [
      "[10992.999396003932, 27273.331054030878]\n"
     ]
    },
    {
     "name": "stderr",
     "output_type": "stream",
     "text": [
      "C:\\Users\\Michael\\Anaconda3\\envs\\learn-env\\lib\\site-packages\\pystan\\misc.py:399: FutureWarning:\n",
      "\n",
      "Conversion of the second argument of issubdtype from `float` to `np.floating` is deprecated. In future, it will be treated as `np.float64 == np.dtype(float).type`.\n",
      "\n"
     ]
    },
    {
     "name": "stdout",
     "output_type": "stream",
     "text": [
      "[10992.999396003932, 27273.331054030878, 20316.900255327604]\n",
      "[10992.999396003932, 27273.331054030878, 20316.900255327604]\n"
     ]
    },
    {
     "name": "stderr",
     "output_type": "stream",
     "text": [
      "C:\\Users\\Michael\\Anaconda3\\envs\\learn-env\\lib\\site-packages\\ipykernel_launcher.py:60: FutureWarning:\n",
      "\n",
      "'variable' is both an index level and a column label.\n",
      "Defaulting to column, but this will raise an ambiguity error in a future version\n",
      "\n",
      "C:\\Users\\Michael\\Anaconda3\\envs\\learn-env\\lib\\site-packages\\ipykernel_launcher.py:63: FutureWarning:\n",
      "\n",
      "'variable' is both an index level and a column label.\n",
      "Defaulting to column, but this will raise an ambiguity error in a future version\n",
      "\n",
      "INFO:fbprophet:Disabling weekly seasonality. Run prophet with weekly_seasonality=True to override this.\n",
      "INFO:fbprophet:Disabling daily seasonality. Run prophet with daily_seasonality=True to override this.\n",
      "C:\\Users\\Michael\\Anaconda3\\envs\\learn-env\\lib\\site-packages\\pystan\\misc.py:399: FutureWarning:\n",
      "\n",
      "Conversion of the second argument of issubdtype from `float` to `np.floating` is deprecated. In future, it will be treated as `np.float64 == np.dtype(float).type`.\n",
      "\n",
      "C:\\Users\\Michael\\Anaconda3\\envs\\learn-env\\lib\\site-packages\\ipykernel_launcher.py:40: FutureWarning:\n",
      "\n",
      "'variable' is both an index level and a column label.\n",
      "Defaulting to column, but this will raise an ambiguity error in a future version\n",
      "\n",
      "C:\\Users\\Michael\\Anaconda3\\envs\\learn-env\\lib\\site-packages\\ipykernel_launcher.py:44: FutureWarning:\n",
      "\n",
      "'variable' is both an index level and a column label.\n",
      "Defaulting to column, but this will raise an ambiguity error in a future version\n",
      "\n",
      "INFO:fbprophet:Disabling weekly seasonality. Run prophet with weekly_seasonality=True to override this.\n",
      "INFO:fbprophet:Disabling daily seasonality. Run prophet with daily_seasonality=True to override this.\n"
     ]
    },
    {
     "name": "stdout",
     "output_type": "stream",
     "text": [
      " 2 progress so far\n"
     ]
    },
    {
     "name": "stderr",
     "output_type": "stream",
     "text": [
      "C:\\Users\\Michael\\Anaconda3\\envs\\learn-env\\lib\\site-packages\\ipykernel_launcher.py:40: FutureWarning:\n",
      "\n",
      "'variable' is both an index level and a column label.\n",
      "Defaulting to column, but this will raise an ambiguity error in a future version\n",
      "\n",
      "C:\\Users\\Michael\\Anaconda3\\envs\\learn-env\\lib\\site-packages\\ipykernel_launcher.py:44: FutureWarning:\n",
      "\n",
      "'variable' is both an index level and a column label.\n",
      "Defaulting to column, but this will raise an ambiguity error in a future version\n",
      "\n",
      "INFO:fbprophet:Disabling weekly seasonality. Run prophet with weekly_seasonality=True to override this.\n",
      "INFO:fbprophet:Disabling daily seasonality. Run prophet with daily_seasonality=True to override this.\n"
     ]
    },
    {
     "name": "stdout",
     "output_type": "stream",
     "text": [
      "[7696.172153706142]\n"
     ]
    },
    {
     "name": "stderr",
     "output_type": "stream",
     "text": [
      "C:\\Users\\Michael\\Anaconda3\\envs\\learn-env\\lib\\site-packages\\pystan\\misc.py:399: FutureWarning:\n",
      "\n",
      "Conversion of the second argument of issubdtype from `float` to `np.floating` is deprecated. In future, it will be treated as `np.float64 == np.dtype(float).type`.\n",
      "\n",
      "C:\\Users\\Michael\\Anaconda3\\envs\\learn-env\\lib\\site-packages\\ipykernel_launcher.py:40: FutureWarning:\n",
      "\n",
      "'variable' is both an index level and a column label.\n",
      "Defaulting to column, but this will raise an ambiguity error in a future version\n",
      "\n",
      "C:\\Users\\Michael\\Anaconda3\\envs\\learn-env\\lib\\site-packages\\ipykernel_launcher.py:44: FutureWarning:\n",
      "\n",
      "'variable' is both an index level and a column label.\n",
      "Defaulting to column, but this will raise an ambiguity error in a future version\n",
      "\n",
      "INFO:fbprophet:Disabling weekly seasonality. Run prophet with weekly_seasonality=True to override this.\n",
      "INFO:fbprophet:Disabling daily seasonality. Run prophet with daily_seasonality=True to override this.\n"
     ]
    },
    {
     "name": "stdout",
     "output_type": "stream",
     "text": [
      "[7696.172153706142, 19023.72786584509]\n"
     ]
    },
    {
     "name": "stderr",
     "output_type": "stream",
     "text": [
      "C:\\Users\\Michael\\Anaconda3\\envs\\learn-env\\lib\\site-packages\\pystan\\misc.py:399: FutureWarning:\n",
      "\n",
      "Conversion of the second argument of issubdtype from `float` to `np.floating` is deprecated. In future, it will be treated as `np.float64 == np.dtype(float).type`.\n",
      "\n"
     ]
    },
    {
     "name": "stdout",
     "output_type": "stream",
     "text": [
      "[7696.172153706142, 19023.72786584509, 2159.490806867317]\n",
      "[7696.172153706142, 19023.72786584509, 2159.490806867317]\n"
     ]
    },
    {
     "name": "stderr",
     "output_type": "stream",
     "text": [
      "C:\\Users\\Michael\\Anaconda3\\envs\\learn-env\\lib\\site-packages\\ipykernel_launcher.py:60: FutureWarning:\n",
      "\n",
      "'variable' is both an index level and a column label.\n",
      "Defaulting to column, but this will raise an ambiguity error in a future version\n",
      "\n",
      "C:\\Users\\Michael\\Anaconda3\\envs\\learn-env\\lib\\site-packages\\ipykernel_launcher.py:63: FutureWarning:\n",
      "\n",
      "'variable' is both an index level and a column label.\n",
      "Defaulting to column, but this will raise an ambiguity error in a future version\n",
      "\n",
      "INFO:fbprophet:Disabling weekly seasonality. Run prophet with weekly_seasonality=True to override this.\n",
      "INFO:fbprophet:Disabling daily seasonality. Run prophet with daily_seasonality=True to override this.\n",
      "C:\\Users\\Michael\\Anaconda3\\envs\\learn-env\\lib\\site-packages\\pystan\\misc.py:399: FutureWarning:\n",
      "\n",
      "Conversion of the second argument of issubdtype from `float` to `np.floating` is deprecated. In future, it will be treated as `np.float64 == np.dtype(float).type`.\n",
      "\n",
      "C:\\Users\\Michael\\Anaconda3\\envs\\learn-env\\lib\\site-packages\\ipykernel_launcher.py:40: FutureWarning:\n",
      "\n",
      "'variable' is both an index level and a column label.\n",
      "Defaulting to column, but this will raise an ambiguity error in a future version\n",
      "\n",
      "C:\\Users\\Michael\\Anaconda3\\envs\\learn-env\\lib\\site-packages\\ipykernel_launcher.py:44: FutureWarning:\n",
      "\n",
      "'variable' is both an index level and a column label.\n",
      "Defaulting to column, but this will raise an ambiguity error in a future version\n",
      "\n",
      "INFO:fbprophet:Disabling weekly seasonality. Run prophet with weekly_seasonality=True to override this.\n",
      "INFO:fbprophet:Disabling daily seasonality. Run prophet with daily_seasonality=True to override this.\n"
     ]
    },
    {
     "name": "stdout",
     "output_type": "stream",
     "text": [
      " 3 progress so far\n"
     ]
    },
    {
     "name": "stderr",
     "output_type": "stream",
     "text": [
      "C:\\Users\\Michael\\Anaconda3\\envs\\learn-env\\lib\\site-packages\\ipykernel_launcher.py:40: FutureWarning:\n",
      "\n",
      "'variable' is both an index level and a column label.\n",
      "Defaulting to column, but this will raise an ambiguity error in a future version\n",
      "\n",
      "C:\\Users\\Michael\\Anaconda3\\envs\\learn-env\\lib\\site-packages\\ipykernel_launcher.py:44: FutureWarning:\n",
      "\n",
      "'variable' is both an index level and a column label.\n",
      "Defaulting to column, but this will raise an ambiguity error in a future version\n",
      "\n",
      "INFO:fbprophet:Disabling weekly seasonality. Run prophet with weekly_seasonality=True to override this.\n",
      "INFO:fbprophet:Disabling daily seasonality. Run prophet with daily_seasonality=True to override this.\n"
     ]
    },
    {
     "name": "stdout",
     "output_type": "stream",
     "text": [
      "[43144.05017471212]\n"
     ]
    },
    {
     "name": "stderr",
     "output_type": "stream",
     "text": [
      "C:\\Users\\Michael\\Anaconda3\\envs\\learn-env\\lib\\site-packages\\pystan\\misc.py:399: FutureWarning:\n",
      "\n",
      "Conversion of the second argument of issubdtype from `float` to `np.floating` is deprecated. In future, it will be treated as `np.float64 == np.dtype(float).type`.\n",
      "\n",
      "C:\\Users\\Michael\\Anaconda3\\envs\\learn-env\\lib\\site-packages\\ipykernel_launcher.py:40: FutureWarning:\n",
      "\n",
      "'variable' is both an index level and a column label.\n",
      "Defaulting to column, but this will raise an ambiguity error in a future version\n",
      "\n",
      "C:\\Users\\Michael\\Anaconda3\\envs\\learn-env\\lib\\site-packages\\ipykernel_launcher.py:44: FutureWarning:\n",
      "\n",
      "'variable' is both an index level and a column label.\n",
      "Defaulting to column, but this will raise an ambiguity error in a future version\n",
      "\n",
      "INFO:fbprophet:Disabling weekly seasonality. Run prophet with weekly_seasonality=True to override this.\n",
      "INFO:fbprophet:Disabling daily seasonality. Run prophet with daily_seasonality=True to override this.\n"
     ]
    },
    {
     "name": "stdout",
     "output_type": "stream",
     "text": [
      "[43144.05017471212, 27330.967566627667]\n"
     ]
    },
    {
     "name": "stderr",
     "output_type": "stream",
     "text": [
      "C:\\Users\\Michael\\Anaconda3\\envs\\learn-env\\lib\\site-packages\\pystan\\misc.py:399: FutureWarning:\n",
      "\n",
      "Conversion of the second argument of issubdtype from `float` to `np.floating` is deprecated. In future, it will be treated as `np.float64 == np.dtype(float).type`.\n",
      "\n",
      "C:\\Users\\Michael\\Anaconda3\\envs\\learn-env\\lib\\site-packages\\ipykernel_launcher.py:60: FutureWarning:\n",
      "\n",
      "'variable' is both an index level and a column label.\n",
      "Defaulting to column, but this will raise an ambiguity error in a future version\n",
      "\n",
      "C:\\Users\\Michael\\Anaconda3\\envs\\learn-env\\lib\\site-packages\\ipykernel_launcher.py:63: FutureWarning:\n",
      "\n",
      "'variable' is both an index level and a column label.\n",
      "Defaulting to column, but this will raise an ambiguity error in a future version\n",
      "\n",
      "INFO:fbprophet:Disabling weekly seasonality. Run prophet with weekly_seasonality=True to override this.\n",
      "INFO:fbprophet:Disabling daily seasonality. Run prophet with daily_seasonality=True to override this.\n"
     ]
    },
    {
     "name": "stdout",
     "output_type": "stream",
     "text": [
      "[43144.05017471212, 27330.967566627667, 37132.150198255214]\n",
      "[43144.05017471212, 27330.967566627667, 37132.150198255214]\n"
     ]
    },
    {
     "name": "stderr",
     "output_type": "stream",
     "text": [
      "C:\\Users\\Michael\\Anaconda3\\envs\\learn-env\\lib\\site-packages\\pystan\\misc.py:399: FutureWarning:\n",
      "\n",
      "Conversion of the second argument of issubdtype from `float` to `np.floating` is deprecated. In future, it will be treated as `np.float64 == np.dtype(float).type`.\n",
      "\n",
      "C:\\Users\\Michael\\Anaconda3\\envs\\learn-env\\lib\\site-packages\\ipykernel_launcher.py:40: FutureWarning:\n",
      "\n",
      "'variable' is both an index level and a column label.\n",
      "Defaulting to column, but this will raise an ambiguity error in a future version\n",
      "\n",
      "C:\\Users\\Michael\\Anaconda3\\envs\\learn-env\\lib\\site-packages\\ipykernel_launcher.py:44: FutureWarning:\n",
      "\n",
      "'variable' is both an index level and a column label.\n",
      "Defaulting to column, but this will raise an ambiguity error in a future version\n",
      "\n",
      "INFO:fbprophet:Disabling weekly seasonality. Run prophet with weekly_seasonality=True to override this.\n",
      "INFO:fbprophet:Disabling daily seasonality. Run prophet with daily_seasonality=True to override this.\n"
     ]
    },
    {
     "name": "stdout",
     "output_type": "stream",
     "text": [
      " 4 progress so far\n"
     ]
    },
    {
     "name": "stderr",
     "output_type": "stream",
     "text": [
      "C:\\Users\\Michael\\Anaconda3\\envs\\learn-env\\lib\\site-packages\\ipykernel_launcher.py:40: FutureWarning:\n",
      "\n",
      "'variable' is both an index level and a column label.\n",
      "Defaulting to column, but this will raise an ambiguity error in a future version\n",
      "\n",
      "C:\\Users\\Michael\\Anaconda3\\envs\\learn-env\\lib\\site-packages\\ipykernel_launcher.py:44: FutureWarning:\n",
      "\n",
      "'variable' is both an index level and a column label.\n",
      "Defaulting to column, but this will raise an ambiguity error in a future version\n",
      "\n",
      "INFO:fbprophet:Disabling weekly seasonality. Run prophet with weekly_seasonality=True to override this.\n",
      "INFO:fbprophet:Disabling daily seasonality. Run prophet with daily_seasonality=True to override this.\n"
     ]
    },
    {
     "name": "stdout",
     "output_type": "stream",
     "text": [
      "[10749.43711437694]\n"
     ]
    },
    {
     "name": "stderr",
     "output_type": "stream",
     "text": [
      "C:\\Users\\Michael\\Anaconda3\\envs\\learn-env\\lib\\site-packages\\pystan\\misc.py:399: FutureWarning:\n",
      "\n",
      "Conversion of the second argument of issubdtype from `float` to `np.floating` is deprecated. In future, it will be treated as `np.float64 == np.dtype(float).type`.\n",
      "\n",
      "C:\\Users\\Michael\\Anaconda3\\envs\\learn-env\\lib\\site-packages\\ipykernel_launcher.py:40: FutureWarning:\n",
      "\n",
      "'variable' is both an index level and a column label.\n",
      "Defaulting to column, but this will raise an ambiguity error in a future version\n",
      "\n",
      "C:\\Users\\Michael\\Anaconda3\\envs\\learn-env\\lib\\site-packages\\ipykernel_launcher.py:44: FutureWarning:\n",
      "\n",
      "'variable' is both an index level and a column label.\n",
      "Defaulting to column, but this will raise an ambiguity error in a future version\n",
      "\n",
      "INFO:fbprophet:Disabling weekly seasonality. Run prophet with weekly_seasonality=True to override this.\n",
      "INFO:fbprophet:Disabling daily seasonality. Run prophet with daily_seasonality=True to override this.\n"
     ]
    },
    {
     "name": "stdout",
     "output_type": "stream",
     "text": [
      "[10749.43711437694, 29295.972202903617]\n"
     ]
    },
    {
     "name": "stderr",
     "output_type": "stream",
     "text": [
      "C:\\Users\\Michael\\Anaconda3\\envs\\learn-env\\lib\\site-packages\\pystan\\misc.py:399: FutureWarning:\n",
      "\n",
      "Conversion of the second argument of issubdtype from `float` to `np.floating` is deprecated. In future, it will be treated as `np.float64 == np.dtype(float).type`.\n",
      "\n",
      "C:\\Users\\Michael\\Anaconda3\\envs\\learn-env\\lib\\site-packages\\ipykernel_launcher.py:60: FutureWarning:\n",
      "\n",
      "'variable' is both an index level and a column label.\n",
      "Defaulting to column, but this will raise an ambiguity error in a future version\n",
      "\n",
      "C:\\Users\\Michael\\Anaconda3\\envs\\learn-env\\lib\\site-packages\\ipykernel_launcher.py:63: FutureWarning:\n",
      "\n",
      "'variable' is both an index level and a column label.\n",
      "Defaulting to column, but this will raise an ambiguity error in a future version\n",
      "\n",
      "INFO:fbprophet:Disabling weekly seasonality. Run prophet with weekly_seasonality=True to override this.\n",
      "INFO:fbprophet:Disabling daily seasonality. Run prophet with daily_seasonality=True to override this.\n"
     ]
    },
    {
     "name": "stdout",
     "output_type": "stream",
     "text": [
      "[10749.43711437694, 29295.972202903617, 17923.11042043686]\n",
      "[10749.43711437694, 29295.972202903617, 17923.11042043686]\n"
     ]
    },
    {
     "name": "stderr",
     "output_type": "stream",
     "text": [
      "C:\\Users\\Michael\\Anaconda3\\envs\\learn-env\\lib\\site-packages\\pystan\\misc.py:399: FutureWarning:\n",
      "\n",
      "Conversion of the second argument of issubdtype from `float` to `np.floating` is deprecated. In future, it will be treated as `np.float64 == np.dtype(float).type`.\n",
      "\n"
     ]
    },
    {
     "name": "stdout",
     "output_type": "stream",
     "text": [
      " 5 progress so far\n"
     ]
    },
    {
     "name": "stderr",
     "output_type": "stream",
     "text": [
      "C:\\Users\\Michael\\Anaconda3\\envs\\learn-env\\lib\\site-packages\\ipykernel_launcher.py:40: FutureWarning:\n",
      "\n",
      "'variable' is both an index level and a column label.\n",
      "Defaulting to column, but this will raise an ambiguity error in a future version\n",
      "\n",
      "C:\\Users\\Michael\\Anaconda3\\envs\\learn-env\\lib\\site-packages\\ipykernel_launcher.py:44: FutureWarning:\n",
      "\n",
      "'variable' is both an index level and a column label.\n",
      "Defaulting to column, but this will raise an ambiguity error in a future version\n",
      "\n",
      "INFO:fbprophet:Disabling weekly seasonality. Run prophet with weekly_seasonality=True to override this.\n",
      "INFO:fbprophet:Disabling daily seasonality. Run prophet with daily_seasonality=True to override this.\n",
      "C:\\Users\\Michael\\Anaconda3\\envs\\learn-env\\lib\\site-packages\\ipykernel_launcher.py:40: FutureWarning:\n",
      "\n",
      "'variable' is both an index level and a column label.\n",
      "Defaulting to column, but this will raise an ambiguity error in a future version\n",
      "\n",
      "C:\\Users\\Michael\\Anaconda3\\envs\\learn-env\\lib\\site-packages\\ipykernel_launcher.py:44: FutureWarning:\n",
      "\n",
      "'variable' is both an index level and a column label.\n",
      "Defaulting to column, but this will raise an ambiguity error in a future version\n",
      "\n",
      "INFO:fbprophet:Disabling weekly seasonality. Run prophet with weekly_seasonality=True to override this.\n",
      "INFO:fbprophet:Disabling daily seasonality. Run prophet with daily_seasonality=True to override this.\n"
     ]
    },
    {
     "name": "stdout",
     "output_type": "stream",
     "text": [
      "[113251.83785867537]\n"
     ]
    },
    {
     "name": "stderr",
     "output_type": "stream",
     "text": [
      "C:\\Users\\Michael\\Anaconda3\\envs\\learn-env\\lib\\site-packages\\pystan\\misc.py:399: FutureWarning:\n",
      "\n",
      "Conversion of the second argument of issubdtype from `float` to `np.floating` is deprecated. In future, it will be treated as `np.float64 == np.dtype(float).type`.\n",
      "\n",
      "C:\\Users\\Michael\\Anaconda3\\envs\\learn-env\\lib\\site-packages\\ipykernel_launcher.py:40: FutureWarning:\n",
      "\n",
      "'variable' is both an index level and a column label.\n",
      "Defaulting to column, but this will raise an ambiguity error in a future version\n",
      "\n",
      "C:\\Users\\Michael\\Anaconda3\\envs\\learn-env\\lib\\site-packages\\ipykernel_launcher.py:44: FutureWarning:\n",
      "\n",
      "'variable' is both an index level and a column label.\n",
      "Defaulting to column, but this will raise an ambiguity error in a future version\n",
      "\n",
      "INFO:fbprophet:Disabling weekly seasonality. Run prophet with weekly_seasonality=True to override this.\n",
      "INFO:fbprophet:Disabling daily seasonality. Run prophet with daily_seasonality=True to override this.\n"
     ]
    },
    {
     "name": "stdout",
     "output_type": "stream",
     "text": [
      "[113251.83785867537, 81117.21623777406]\n"
     ]
    },
    {
     "name": "stderr",
     "output_type": "stream",
     "text": [
      "C:\\Users\\Michael\\Anaconda3\\envs\\learn-env\\lib\\site-packages\\pystan\\misc.py:399: FutureWarning:\n",
      "\n",
      "Conversion of the second argument of issubdtype from `float` to `np.floating` is deprecated. In future, it will be treated as `np.float64 == np.dtype(float).type`.\n",
      "\n",
      "C:\\Users\\Michael\\Anaconda3\\envs\\learn-env\\lib\\site-packages\\ipykernel_launcher.py:60: FutureWarning:\n",
      "\n",
      "'variable' is both an index level and a column label.\n",
      "Defaulting to column, but this will raise an ambiguity error in a future version\n",
      "\n",
      "C:\\Users\\Michael\\Anaconda3\\envs\\learn-env\\lib\\site-packages\\ipykernel_launcher.py:63: FutureWarning:\n",
      "\n",
      "'variable' is both an index level and a column label.\n",
      "Defaulting to column, but this will raise an ambiguity error in a future version\n",
      "\n",
      "INFO:fbprophet:Disabling weekly seasonality. Run prophet with weekly_seasonality=True to override this.\n",
      "INFO:fbprophet:Disabling daily seasonality. Run prophet with daily_seasonality=True to override this.\n"
     ]
    },
    {
     "name": "stdout",
     "output_type": "stream",
     "text": [
      "[113251.83785867537, 81117.21623777406, 52819.4735359664]\n",
      "[113251.83785867537, 81117.21623777406, 52819.4735359664]\n"
     ]
    },
    {
     "name": "stderr",
     "output_type": "stream",
     "text": [
      "C:\\Users\\Michael\\Anaconda3\\envs\\learn-env\\lib\\site-packages\\pystan\\misc.py:399: FutureWarning:\n",
      "\n",
      "Conversion of the second argument of issubdtype from `float` to `np.floating` is deprecated. In future, it will be treated as `np.float64 == np.dtype(float).type`.\n",
      "\n",
      "C:\\Users\\Michael\\Anaconda3\\envs\\learn-env\\lib\\site-packages\\ipykernel_launcher.py:40: FutureWarning:\n",
      "\n",
      "'variable' is both an index level and a column label.\n",
      "Defaulting to column, but this will raise an ambiguity error in a future version\n",
      "\n",
      "C:\\Users\\Michael\\Anaconda3\\envs\\learn-env\\lib\\site-packages\\ipykernel_launcher.py:44: FutureWarning:\n",
      "\n",
      "'variable' is both an index level and a column label.\n",
      "Defaulting to column, but this will raise an ambiguity error in a future version\n",
      "\n",
      "INFO:fbprophet:Disabling weekly seasonality. Run prophet with weekly_seasonality=True to override this.\n",
      "INFO:fbprophet:Disabling daily seasonality. Run prophet with daily_seasonality=True to override this.\n"
     ]
    },
    {
     "name": "stdout",
     "output_type": "stream",
     "text": [
      " 6 progress so far\n"
     ]
    },
    {
     "name": "stderr",
     "output_type": "stream",
     "text": [
      "C:\\Users\\Michael\\Anaconda3\\envs\\learn-env\\lib\\site-packages\\ipykernel_launcher.py:40: FutureWarning:\n",
      "\n",
      "'variable' is both an index level and a column label.\n",
      "Defaulting to column, but this will raise an ambiguity error in a future version\n",
      "\n",
      "C:\\Users\\Michael\\Anaconda3\\envs\\learn-env\\lib\\site-packages\\ipykernel_launcher.py:44: FutureWarning:\n",
      "\n",
      "'variable' is both an index level and a column label.\n",
      "Defaulting to column, but this will raise an ambiguity error in a future version\n",
      "\n",
      "INFO:fbprophet:Disabling weekly seasonality. Run prophet with weekly_seasonality=True to override this.\n",
      "INFO:fbprophet:Disabling daily seasonality. Run prophet with daily_seasonality=True to override this.\n"
     ]
    },
    {
     "name": "stdout",
     "output_type": "stream",
     "text": [
      "[54729.63786390472]\n"
     ]
    },
    {
     "name": "stderr",
     "output_type": "stream",
     "text": [
      "C:\\Users\\Michael\\Anaconda3\\envs\\learn-env\\lib\\site-packages\\pystan\\misc.py:399: FutureWarning:\n",
      "\n",
      "Conversion of the second argument of issubdtype from `float` to `np.floating` is deprecated. In future, it will be treated as `np.float64 == np.dtype(float).type`.\n",
      "\n",
      "C:\\Users\\Michael\\Anaconda3\\envs\\learn-env\\lib\\site-packages\\ipykernel_launcher.py:40: FutureWarning:\n",
      "\n",
      "'variable' is both an index level and a column label.\n",
      "Defaulting to column, but this will raise an ambiguity error in a future version\n",
      "\n",
      "C:\\Users\\Michael\\Anaconda3\\envs\\learn-env\\lib\\site-packages\\ipykernel_launcher.py:44: FutureWarning:\n",
      "\n",
      "'variable' is both an index level and a column label.\n",
      "Defaulting to column, but this will raise an ambiguity error in a future version\n",
      "\n",
      "INFO:fbprophet:Disabling weekly seasonality. Run prophet with weekly_seasonality=True to override this.\n",
      "INFO:fbprophet:Disabling daily seasonality. Run prophet with daily_seasonality=True to override this.\n"
     ]
    },
    {
     "name": "stdout",
     "output_type": "stream",
     "text": [
      "[54729.63786390472, 96145.38453690306]\n"
     ]
    },
    {
     "name": "stderr",
     "output_type": "stream",
     "text": [
      "C:\\Users\\Michael\\Anaconda3\\envs\\learn-env\\lib\\site-packages\\pystan\\misc.py:399: FutureWarning:\n",
      "\n",
      "Conversion of the second argument of issubdtype from `float` to `np.floating` is deprecated. In future, it will be treated as `np.float64 == np.dtype(float).type`.\n",
      "\n",
      "C:\\Users\\Michael\\Anaconda3\\envs\\learn-env\\lib\\site-packages\\ipykernel_launcher.py:60: FutureWarning:\n",
      "\n",
      "'variable' is both an index level and a column label.\n",
      "Defaulting to column, but this will raise an ambiguity error in a future version\n",
      "\n",
      "C:\\Users\\Michael\\Anaconda3\\envs\\learn-env\\lib\\site-packages\\ipykernel_launcher.py:63: FutureWarning:\n",
      "\n",
      "'variable' is both an index level and a column label.\n",
      "Defaulting to column, but this will raise an ambiguity error in a future version\n",
      "\n",
      "INFO:fbprophet:Disabling weekly seasonality. Run prophet with weekly_seasonality=True to override this.\n",
      "INFO:fbprophet:Disabling daily seasonality. Run prophet with daily_seasonality=True to override this.\n"
     ]
    },
    {
     "name": "stdout",
     "output_type": "stream",
     "text": [
      "[54729.63786390472, 96145.38453690306, 24901.89898288022]\n",
      "[54729.63786390472, 96145.38453690306, 24901.89898288022]\n"
     ]
    },
    {
     "name": "stderr",
     "output_type": "stream",
     "text": [
      "C:\\Users\\Michael\\Anaconda3\\envs\\learn-env\\lib\\site-packages\\pystan\\misc.py:399: FutureWarning:\n",
      "\n",
      "Conversion of the second argument of issubdtype from `float` to `np.floating` is deprecated. In future, it will be treated as `np.float64 == np.dtype(float).type`.\n",
      "\n",
      "C:\\Users\\Michael\\Anaconda3\\envs\\learn-env\\lib\\site-packages\\ipykernel_launcher.py:40: FutureWarning:\n",
      "\n",
      "'variable' is both an index level and a column label.\n",
      "Defaulting to column, but this will raise an ambiguity error in a future version\n",
      "\n",
      "C:\\Users\\Michael\\Anaconda3\\envs\\learn-env\\lib\\site-packages\\ipykernel_launcher.py:44: FutureWarning:\n",
      "\n",
      "'variable' is both an index level and a column label.\n",
      "Defaulting to column, but this will raise an ambiguity error in a future version\n",
      "\n",
      "INFO:fbprophet:Disabling weekly seasonality. Run prophet with weekly_seasonality=True to override this.\n",
      "INFO:fbprophet:Disabling daily seasonality. Run prophet with daily_seasonality=True to override this.\n"
     ]
    },
    {
     "name": "stdout",
     "output_type": "stream",
     "text": [
      " 7 progress so far\n"
     ]
    },
    {
     "name": "stderr",
     "output_type": "stream",
     "text": [
      "C:\\Users\\Michael\\Anaconda3\\envs\\learn-env\\lib\\site-packages\\ipykernel_launcher.py:40: FutureWarning:\n",
      "\n",
      "'variable' is both an index level and a column label.\n",
      "Defaulting to column, but this will raise an ambiguity error in a future version\n",
      "\n",
      "C:\\Users\\Michael\\Anaconda3\\envs\\learn-env\\lib\\site-packages\\ipykernel_launcher.py:44: FutureWarning:\n",
      "\n",
      "'variable' is both an index level and a column label.\n",
      "Defaulting to column, but this will raise an ambiguity error in a future version\n",
      "\n",
      "INFO:fbprophet:Disabling weekly seasonality. Run prophet with weekly_seasonality=True to override this.\n",
      "INFO:fbprophet:Disabling daily seasonality. Run prophet with daily_seasonality=True to override this.\n"
     ]
    },
    {
     "name": "stdout",
     "output_type": "stream",
     "text": [
      "[47616.744691753156]\n"
     ]
    },
    {
     "name": "stderr",
     "output_type": "stream",
     "text": [
      "C:\\Users\\Michael\\Anaconda3\\envs\\learn-env\\lib\\site-packages\\pystan\\misc.py:399: FutureWarning:\n",
      "\n",
      "Conversion of the second argument of issubdtype from `float` to `np.floating` is deprecated. In future, it will be treated as `np.float64 == np.dtype(float).type`.\n",
      "\n",
      "C:\\Users\\Michael\\Anaconda3\\envs\\learn-env\\lib\\site-packages\\ipykernel_launcher.py:40: FutureWarning:\n",
      "\n",
      "'variable' is both an index level and a column label.\n",
      "Defaulting to column, but this will raise an ambiguity error in a future version\n",
      "\n",
      "C:\\Users\\Michael\\Anaconda3\\envs\\learn-env\\lib\\site-packages\\ipykernel_launcher.py:44: FutureWarning:\n",
      "\n",
      "'variable' is both an index level and a column label.\n",
      "Defaulting to column, but this will raise an ambiguity error in a future version\n",
      "\n",
      "INFO:fbprophet:Disabling weekly seasonality. Run prophet with weekly_seasonality=True to override this.\n",
      "INFO:fbprophet:Disabling daily seasonality. Run prophet with daily_seasonality=True to override this.\n"
     ]
    },
    {
     "name": "stdout",
     "output_type": "stream",
     "text": [
      "[47616.744691753156, 86569.10291600726]\n"
     ]
    },
    {
     "name": "stderr",
     "output_type": "stream",
     "text": [
      "C:\\Users\\Michael\\Anaconda3\\envs\\learn-env\\lib\\site-packages\\pystan\\misc.py:399: FutureWarning:\n",
      "\n",
      "Conversion of the second argument of issubdtype from `float` to `np.floating` is deprecated. In future, it will be treated as `np.float64 == np.dtype(float).type`.\n",
      "\n"
     ]
    },
    {
     "name": "stdout",
     "output_type": "stream",
     "text": [
      "[47616.744691753156, 86569.10291600726, 36601.1354473642]\n",
      "[47616.744691753156, 86569.10291600726, 36601.1354473642]\n"
     ]
    },
    {
     "name": "stderr",
     "output_type": "stream",
     "text": [
      "C:\\Users\\Michael\\Anaconda3\\envs\\learn-env\\lib\\site-packages\\ipykernel_launcher.py:60: FutureWarning:\n",
      "\n",
      "'variable' is both an index level and a column label.\n",
      "Defaulting to column, but this will raise an ambiguity error in a future version\n",
      "\n",
      "C:\\Users\\Michael\\Anaconda3\\envs\\learn-env\\lib\\site-packages\\ipykernel_launcher.py:63: FutureWarning:\n",
      "\n",
      "'variable' is both an index level and a column label.\n",
      "Defaulting to column, but this will raise an ambiguity error in a future version\n",
      "\n",
      "INFO:fbprophet:Disabling weekly seasonality. Run prophet with weekly_seasonality=True to override this.\n",
      "INFO:fbprophet:Disabling daily seasonality. Run prophet with daily_seasonality=True to override this.\n",
      "C:\\Users\\Michael\\Anaconda3\\envs\\learn-env\\lib\\site-packages\\pystan\\misc.py:399: FutureWarning:\n",
      "\n",
      "Conversion of the second argument of issubdtype from `float` to `np.floating` is deprecated. In future, it will be treated as `np.float64 == np.dtype(float).type`.\n",
      "\n"
     ]
    },
    {
     "name": "stdout",
     "output_type": "stream",
     "text": [
      " 8 progress so far\n"
     ]
    },
    {
     "name": "stderr",
     "output_type": "stream",
     "text": [
      "C:\\Users\\Michael\\Anaconda3\\envs\\learn-env\\lib\\site-packages\\ipykernel_launcher.py:40: FutureWarning:\n",
      "\n",
      "'variable' is both an index level and a column label.\n",
      "Defaulting to column, but this will raise an ambiguity error in a future version\n",
      "\n",
      "C:\\Users\\Michael\\Anaconda3\\envs\\learn-env\\lib\\site-packages\\ipykernel_launcher.py:44: FutureWarning:\n",
      "\n",
      "'variable' is both an index level and a column label.\n",
      "Defaulting to column, but this will raise an ambiguity error in a future version\n",
      "\n",
      "INFO:fbprophet:Disabling weekly seasonality. Run prophet with weekly_seasonality=True to override this.\n",
      "INFO:fbprophet:Disabling daily seasonality. Run prophet with daily_seasonality=True to override this.\n",
      "C:\\Users\\Michael\\Anaconda3\\envs\\learn-env\\lib\\site-packages\\ipykernel_launcher.py:40: FutureWarning:\n",
      "\n",
      "'variable' is both an index level and a column label.\n",
      "Defaulting to column, but this will raise an ambiguity error in a future version\n",
      "\n",
      "C:\\Users\\Michael\\Anaconda3\\envs\\learn-env\\lib\\site-packages\\ipykernel_launcher.py:44: FutureWarning:\n",
      "\n",
      "'variable' is both an index level and a column label.\n",
      "Defaulting to column, but this will raise an ambiguity error in a future version\n",
      "\n",
      "INFO:fbprophet:Disabling weekly seasonality. Run prophet with weekly_seasonality=True to override this.\n",
      "INFO:fbprophet:Disabling daily seasonality. Run prophet with daily_seasonality=True to override this.\n"
     ]
    },
    {
     "name": "stdout",
     "output_type": "stream",
     "text": [
      "[33634.15973492626]\n"
     ]
    },
    {
     "name": "stderr",
     "output_type": "stream",
     "text": [
      "C:\\Users\\Michael\\Anaconda3\\envs\\learn-env\\lib\\site-packages\\pystan\\misc.py:399: FutureWarning:\n",
      "\n",
      "Conversion of the second argument of issubdtype from `float` to `np.floating` is deprecated. In future, it will be treated as `np.float64 == np.dtype(float).type`.\n",
      "\n",
      "C:\\Users\\Michael\\Anaconda3\\envs\\learn-env\\lib\\site-packages\\ipykernel_launcher.py:40: FutureWarning:\n",
      "\n",
      "'variable' is both an index level and a column label.\n",
      "Defaulting to column, but this will raise an ambiguity error in a future version\n",
      "\n",
      "C:\\Users\\Michael\\Anaconda3\\envs\\learn-env\\lib\\site-packages\\ipykernel_launcher.py:44: FutureWarning:\n",
      "\n",
      "'variable' is both an index level and a column label.\n",
      "Defaulting to column, but this will raise an ambiguity error in a future version\n",
      "\n",
      "INFO:fbprophet:Disabling weekly seasonality. Run prophet with weekly_seasonality=True to override this.\n",
      "INFO:fbprophet:Disabling daily seasonality. Run prophet with daily_seasonality=True to override this.\n"
     ]
    },
    {
     "name": "stdout",
     "output_type": "stream",
     "text": [
      "[33634.15973492626, 36136.59623817024]\n"
     ]
    },
    {
     "name": "stderr",
     "output_type": "stream",
     "text": [
      "C:\\Users\\Michael\\Anaconda3\\envs\\learn-env\\lib\\site-packages\\pystan\\misc.py:399: FutureWarning:\n",
      "\n",
      "Conversion of the second argument of issubdtype from `float` to `np.floating` is deprecated. In future, it will be treated as `np.float64 == np.dtype(float).type`.\n",
      "\n"
     ]
    },
    {
     "name": "stdout",
     "output_type": "stream",
     "text": [
      "[33634.15973492626, 36136.59623817024, 46291.68171256981]\n",
      "[33634.15973492626, 36136.59623817024, 46291.68171256981]\n"
     ]
    },
    {
     "name": "stderr",
     "output_type": "stream",
     "text": [
      "C:\\Users\\Michael\\Anaconda3\\envs\\learn-env\\lib\\site-packages\\ipykernel_launcher.py:60: FutureWarning:\n",
      "\n",
      "'variable' is both an index level and a column label.\n",
      "Defaulting to column, but this will raise an ambiguity error in a future version\n",
      "\n",
      "C:\\Users\\Michael\\Anaconda3\\envs\\learn-env\\lib\\site-packages\\ipykernel_launcher.py:63: FutureWarning:\n",
      "\n",
      "'variable' is both an index level and a column label.\n",
      "Defaulting to column, but this will raise an ambiguity error in a future version\n",
      "\n",
      "INFO:fbprophet:Disabling weekly seasonality. Run prophet with weekly_seasonality=True to override this.\n",
      "INFO:fbprophet:Disabling daily seasonality. Run prophet with daily_seasonality=True to override this.\n",
      "C:\\Users\\Michael\\Anaconda3\\envs\\learn-env\\lib\\site-packages\\pystan\\misc.py:399: FutureWarning:\n",
      "\n",
      "Conversion of the second argument of issubdtype from `float` to `np.floating` is deprecated. In future, it will be treated as `np.float64 == np.dtype(float).type`.\n",
      "\n"
     ]
    },
    {
     "name": "stdout",
     "output_type": "stream",
     "text": [
      " 9 progress so far\n"
     ]
    },
    {
     "name": "stderr",
     "output_type": "stream",
     "text": [
      "C:\\Users\\Michael\\Anaconda3\\envs\\learn-env\\lib\\site-packages\\ipykernel_launcher.py:40: FutureWarning:\n",
      "\n",
      "'variable' is both an index level and a column label.\n",
      "Defaulting to column, but this will raise an ambiguity error in a future version\n",
      "\n",
      "C:\\Users\\Michael\\Anaconda3\\envs\\learn-env\\lib\\site-packages\\ipykernel_launcher.py:44: FutureWarning:\n",
      "\n",
      "'variable' is both an index level and a column label.\n",
      "Defaulting to column, but this will raise an ambiguity error in a future version\n",
      "\n",
      "INFO:fbprophet:Disabling weekly seasonality. Run prophet with weekly_seasonality=True to override this.\n",
      "INFO:fbprophet:Disabling daily seasonality. Run prophet with daily_seasonality=True to override this.\n",
      "C:\\Users\\Michael\\Anaconda3\\envs\\learn-env\\lib\\site-packages\\ipykernel_launcher.py:40: FutureWarning:\n",
      "\n",
      "'variable' is both an index level and a column label.\n",
      "Defaulting to column, but this will raise an ambiguity error in a future version\n",
      "\n",
      "C:\\Users\\Michael\\Anaconda3\\envs\\learn-env\\lib\\site-packages\\ipykernel_launcher.py:44: FutureWarning:\n",
      "\n",
      "'variable' is both an index level and a column label.\n",
      "Defaulting to column, but this will raise an ambiguity error in a future version\n",
      "\n",
      "INFO:fbprophet:Disabling weekly seasonality. Run prophet with weekly_seasonality=True to override this.\n",
      "INFO:fbprophet:Disabling daily seasonality. Run prophet with daily_seasonality=True to override this.\n"
     ]
    },
    {
     "name": "stdout",
     "output_type": "stream",
     "text": [
      "[91865.20210461719]\n"
     ]
    },
    {
     "name": "stderr",
     "output_type": "stream",
     "text": [
      "C:\\Users\\Michael\\Anaconda3\\envs\\learn-env\\lib\\site-packages\\pystan\\misc.py:399: FutureWarning:\n",
      "\n",
      "Conversion of the second argument of issubdtype from `float` to `np.floating` is deprecated. In future, it will be treated as `np.float64 == np.dtype(float).type`.\n",
      "\n",
      "C:\\Users\\Michael\\Anaconda3\\envs\\learn-env\\lib\\site-packages\\ipykernel_launcher.py:40: FutureWarning:\n",
      "\n",
      "'variable' is both an index level and a column label.\n",
      "Defaulting to column, but this will raise an ambiguity error in a future version\n",
      "\n",
      "C:\\Users\\Michael\\Anaconda3\\envs\\learn-env\\lib\\site-packages\\ipykernel_launcher.py:44: FutureWarning:\n",
      "\n",
      "'variable' is both an index level and a column label.\n",
      "Defaulting to column, but this will raise an ambiguity error in a future version\n",
      "\n",
      "INFO:fbprophet:Disabling weekly seasonality. Run prophet with weekly_seasonality=True to override this.\n",
      "INFO:fbprophet:Disabling daily seasonality. Run prophet with daily_seasonality=True to override this.\n"
     ]
    },
    {
     "name": "stdout",
     "output_type": "stream",
     "text": [
      "[91865.20210461719, 34569.649188825344]\n"
     ]
    },
    {
     "name": "stderr",
     "output_type": "stream",
     "text": [
      "C:\\Users\\Michael\\Anaconda3\\envs\\learn-env\\lib\\site-packages\\pystan\\misc.py:399: FutureWarning:\n",
      "\n",
      "Conversion of the second argument of issubdtype from `float` to `np.floating` is deprecated. In future, it will be treated as `np.float64 == np.dtype(float).type`.\n",
      "\n",
      "C:\\Users\\Michael\\Anaconda3\\envs\\learn-env\\lib\\site-packages\\ipykernel_launcher.py:60: FutureWarning:\n",
      "\n",
      "'variable' is both an index level and a column label.\n",
      "Defaulting to column, but this will raise an ambiguity error in a future version\n",
      "\n",
      "C:\\Users\\Michael\\Anaconda3\\envs\\learn-env\\lib\\site-packages\\ipykernel_launcher.py:63: FutureWarning:\n",
      "\n",
      "'variable' is both an index level and a column label.\n",
      "Defaulting to column, but this will raise an ambiguity error in a future version\n",
      "\n",
      "INFO:fbprophet:Disabling weekly seasonality. Run prophet with weekly_seasonality=True to override this.\n",
      "INFO:fbprophet:Disabling daily seasonality. Run prophet with daily_seasonality=True to override this.\n"
     ]
    },
    {
     "name": "stdout",
     "output_type": "stream",
     "text": [
      "[91865.20210461719, 34569.649188825344, 58570.684699043995]\n",
      "[91865.20210461719, 34569.649188825344, 58570.684699043995]\n"
     ]
    },
    {
     "name": "stderr",
     "output_type": "stream",
     "text": [
      "C:\\Users\\Michael\\Anaconda3\\envs\\learn-env\\lib\\site-packages\\pystan\\misc.py:399: FutureWarning:\n",
      "\n",
      "Conversion of the second argument of issubdtype from `float` to `np.floating` is deprecated. In future, it will be treated as `np.float64 == np.dtype(float).type`.\n",
      "\n",
      "C:\\Users\\Michael\\Anaconda3\\envs\\learn-env\\lib\\site-packages\\ipykernel_launcher.py:40: FutureWarning:\n",
      "\n",
      "'variable' is both an index level and a column label.\n",
      "Defaulting to column, but this will raise an ambiguity error in a future version\n",
      "\n",
      "C:\\Users\\Michael\\Anaconda3\\envs\\learn-env\\lib\\site-packages\\ipykernel_launcher.py:44: FutureWarning:\n",
      "\n",
      "'variable' is both an index level and a column label.\n",
      "Defaulting to column, but this will raise an ambiguity error in a future version\n",
      "\n",
      "INFO:fbprophet:Disabling weekly seasonality. Run prophet with weekly_seasonality=True to override this.\n"
     ]
    },
    {
     "name": "stdout",
     "output_type": "stream",
     "text": [
      " 10 progress so far\n"
     ]
    },
    {
     "name": "stderr",
     "output_type": "stream",
     "text": [
      "INFO:fbprophet:Disabling daily seasonality. Run prophet with daily_seasonality=True to override this.\n",
      "C:\\Users\\Michael\\Anaconda3\\envs\\learn-env\\lib\\site-packages\\ipykernel_launcher.py:40: FutureWarning:\n",
      "\n",
      "'variable' is both an index level and a column label.\n",
      "Defaulting to column, but this will raise an ambiguity error in a future version\n",
      "\n",
      "C:\\Users\\Michael\\Anaconda3\\envs\\learn-env\\lib\\site-packages\\ipykernel_launcher.py:44: FutureWarning:\n",
      "\n",
      "'variable' is both an index level and a column label.\n",
      "Defaulting to column, but this will raise an ambiguity error in a future version\n",
      "\n",
      "INFO:fbprophet:Disabling weekly seasonality. Run prophet with weekly_seasonality=True to override this.\n",
      "INFO:fbprophet:Disabling daily seasonality. Run prophet with daily_seasonality=True to override this.\n"
     ]
    },
    {
     "name": "stdout",
     "output_type": "stream",
     "text": [
      "[28175.07814923169]\n"
     ]
    },
    {
     "name": "stderr",
     "output_type": "stream",
     "text": [
      "C:\\Users\\Michael\\Anaconda3\\envs\\learn-env\\lib\\site-packages\\pystan\\misc.py:399: FutureWarning:\n",
      "\n",
      "Conversion of the second argument of issubdtype from `float` to `np.floating` is deprecated. In future, it will be treated as `np.float64 == np.dtype(float).type`.\n",
      "\n",
      "C:\\Users\\Michael\\Anaconda3\\envs\\learn-env\\lib\\site-packages\\ipykernel_launcher.py:40: FutureWarning:\n",
      "\n",
      "'variable' is both an index level and a column label.\n",
      "Defaulting to column, but this will raise an ambiguity error in a future version\n",
      "\n",
      "C:\\Users\\Michael\\Anaconda3\\envs\\learn-env\\lib\\site-packages\\ipykernel_launcher.py:44: FutureWarning:\n",
      "\n",
      "'variable' is both an index level and a column label.\n",
      "Defaulting to column, but this will raise an ambiguity error in a future version\n",
      "\n",
      "INFO:fbprophet:Disabling weekly seasonality. Run prophet with weekly_seasonality=True to override this.\n",
      "INFO:fbprophet:Disabling daily seasonality. Run prophet with daily_seasonality=True to override this.\n"
     ]
    },
    {
     "name": "stdout",
     "output_type": "stream",
     "text": [
      "[28175.07814923169, 27655.561546653113]\n"
     ]
    },
    {
     "name": "stderr",
     "output_type": "stream",
     "text": [
      "C:\\Users\\Michael\\Anaconda3\\envs\\learn-env\\lib\\site-packages\\pystan\\misc.py:399: FutureWarning:\n",
      "\n",
      "Conversion of the second argument of issubdtype from `float` to `np.floating` is deprecated. In future, it will be treated as `np.float64 == np.dtype(float).type`.\n",
      "\n",
      "C:\\Users\\Michael\\Anaconda3\\envs\\learn-env\\lib\\site-packages\\ipykernel_launcher.py:60: FutureWarning:\n",
      "\n",
      "'variable' is both an index level and a column label.\n",
      "Defaulting to column, but this will raise an ambiguity error in a future version\n",
      "\n",
      "C:\\Users\\Michael\\Anaconda3\\envs\\learn-env\\lib\\site-packages\\ipykernel_launcher.py:63: FutureWarning:\n",
      "\n",
      "'variable' is both an index level and a column label.\n",
      "Defaulting to column, but this will raise an ambiguity error in a future version\n",
      "\n",
      "INFO:fbprophet:Disabling weekly seasonality. Run prophet with weekly_seasonality=True to override this.\n",
      "INFO:fbprophet:Disabling daily seasonality. Run prophet with daily_seasonality=True to override this.\n"
     ]
    },
    {
     "name": "stdout",
     "output_type": "stream",
     "text": [
      "[28175.07814923169, 27655.561546653113, 36412.774578369426]\n",
      "[28175.07814923169, 27655.561546653113, 36412.774578369426]\n"
     ]
    },
    {
     "name": "stderr",
     "output_type": "stream",
     "text": [
      "C:\\Users\\Michael\\Anaconda3\\envs\\learn-env\\lib\\site-packages\\pystan\\misc.py:399: FutureWarning:\n",
      "\n",
      "Conversion of the second argument of issubdtype from `float` to `np.floating` is deprecated. In future, it will be treated as `np.float64 == np.dtype(float).type`.\n",
      "\n",
      "C:\\Users\\Michael\\Anaconda3\\envs\\learn-env\\lib\\site-packages\\ipykernel_launcher.py:40: FutureWarning:\n",
      "\n",
      "'variable' is both an index level and a column label.\n",
      "Defaulting to column, but this will raise an ambiguity error in a future version\n",
      "\n",
      "C:\\Users\\Michael\\Anaconda3\\envs\\learn-env\\lib\\site-packages\\ipykernel_launcher.py:44: FutureWarning:\n",
      "\n",
      "'variable' is both an index level and a column label.\n",
      "Defaulting to column, but this will raise an ambiguity error in a future version\n",
      "\n",
      "INFO:fbprophet:Disabling weekly seasonality. Run prophet with weekly_seasonality=True to override this.\n",
      "INFO:fbprophet:Disabling daily seasonality. Run prophet with daily_seasonality=True to override this.\n"
     ]
    },
    {
     "name": "stdout",
     "output_type": "stream",
     "text": [
      " 11 progress so far\n"
     ]
    },
    {
     "name": "stderr",
     "output_type": "stream",
     "text": [
      "C:\\Users\\Michael\\Anaconda3\\envs\\learn-env\\lib\\site-packages\\ipykernel_launcher.py:40: FutureWarning:\n",
      "\n",
      "'variable' is both an index level and a column label.\n",
      "Defaulting to column, but this will raise an ambiguity error in a future version\n",
      "\n",
      "C:\\Users\\Michael\\Anaconda3\\envs\\learn-env\\lib\\site-packages\\ipykernel_launcher.py:44: FutureWarning:\n",
      "\n",
      "'variable' is both an index level and a column label.\n",
      "Defaulting to column, but this will raise an ambiguity error in a future version\n",
      "\n",
      "INFO:fbprophet:Disabling weekly seasonality. Run prophet with weekly_seasonality=True to override this.\n",
      "INFO:fbprophet:Disabling daily seasonality. Run prophet with daily_seasonality=True to override this.\n"
     ]
    },
    {
     "name": "stdout",
     "output_type": "stream",
     "text": [
      "[85365.92891874896]\n"
     ]
    },
    {
     "name": "stderr",
     "output_type": "stream",
     "text": [
      "C:\\Users\\Michael\\Anaconda3\\envs\\learn-env\\lib\\site-packages\\pystan\\misc.py:399: FutureWarning:\n",
      "\n",
      "Conversion of the second argument of issubdtype from `float` to `np.floating` is deprecated. In future, it will be treated as `np.float64 == np.dtype(float).type`.\n",
      "\n",
      "C:\\Users\\Michael\\Anaconda3\\envs\\learn-env\\lib\\site-packages\\ipykernel_launcher.py:40: FutureWarning:\n",
      "\n",
      "'variable' is both an index level and a column label.\n",
      "Defaulting to column, but this will raise an ambiguity error in a future version\n",
      "\n",
      "C:\\Users\\Michael\\Anaconda3\\envs\\learn-env\\lib\\site-packages\\ipykernel_launcher.py:44: FutureWarning:\n",
      "\n",
      "'variable' is both an index level and a column label.\n",
      "Defaulting to column, but this will raise an ambiguity error in a future version\n",
      "\n",
      "INFO:fbprophet:Disabling weekly seasonality. Run prophet with weekly_seasonality=True to override this.\n",
      "INFO:fbprophet:Disabling daily seasonality. Run prophet with daily_seasonality=True to override this.\n"
     ]
    },
    {
     "name": "stdout",
     "output_type": "stream",
     "text": [
      "[85365.92891874896, 65821.02725523543]\n"
     ]
    },
    {
     "name": "stderr",
     "output_type": "stream",
     "text": [
      "C:\\Users\\Michael\\Anaconda3\\envs\\learn-env\\lib\\site-packages\\pystan\\misc.py:399: FutureWarning:\n",
      "\n",
      "Conversion of the second argument of issubdtype from `float` to `np.floating` is deprecated. In future, it will be treated as `np.float64 == np.dtype(float).type`.\n",
      "\n"
     ]
    },
    {
     "name": "stdout",
     "output_type": "stream",
     "text": [
      "[85365.92891874896, 65821.02725523543, 37932.78871111978]\n",
      "[85365.92891874896, 65821.02725523543, 37932.78871111978]\n"
     ]
    },
    {
     "name": "stderr",
     "output_type": "stream",
     "text": [
      "C:\\Users\\Michael\\Anaconda3\\envs\\learn-env\\lib\\site-packages\\ipykernel_launcher.py:60: FutureWarning:\n",
      "\n",
      "'variable' is both an index level and a column label.\n",
      "Defaulting to column, but this will raise an ambiguity error in a future version\n",
      "\n",
      "C:\\Users\\Michael\\Anaconda3\\envs\\learn-env\\lib\\site-packages\\ipykernel_launcher.py:63: FutureWarning:\n",
      "\n",
      "'variable' is both an index level and a column label.\n",
      "Defaulting to column, but this will raise an ambiguity error in a future version\n",
      "\n",
      "INFO:fbprophet:Disabling weekly seasonality. Run prophet with weekly_seasonality=True to override this.\n",
      "INFO:fbprophet:Disabling daily seasonality. Run prophet with daily_seasonality=True to override this.\n",
      "C:\\Users\\Michael\\Anaconda3\\envs\\learn-env\\lib\\site-packages\\pystan\\misc.py:399: FutureWarning:\n",
      "\n",
      "Conversion of the second argument of issubdtype from `float` to `np.floating` is deprecated. In future, it will be treated as `np.float64 == np.dtype(float).type`.\n",
      "\n",
      "C:\\Users\\Michael\\Anaconda3\\envs\\learn-env\\lib\\site-packages\\ipykernel_launcher.py:40: FutureWarning:\n",
      "\n",
      "'variable' is both an index level and a column label.\n",
      "Defaulting to column, but this will raise an ambiguity error in a future version\n",
      "\n",
      "C:\\Users\\Michael\\Anaconda3\\envs\\learn-env\\lib\\site-packages\\ipykernel_launcher.py:44: FutureWarning:\n",
      "\n",
      "'variable' is both an index level and a column label.\n",
      "Defaulting to column, but this will raise an ambiguity error in a future version\n",
      "\n",
      "INFO:fbprophet:Disabling weekly seasonality. Run prophet with weekly_seasonality=True to override this.\n",
      "INFO:fbprophet:Disabling daily seasonality. Run prophet with daily_seasonality=True to override this.\n"
     ]
    },
    {
     "name": "stdout",
     "output_type": "stream",
     "text": [
      " 12 progress so far\n"
     ]
    },
    {
     "name": "stderr",
     "output_type": "stream",
     "text": [
      "C:\\Users\\Michael\\Anaconda3\\envs\\learn-env\\lib\\site-packages\\ipykernel_launcher.py:40: FutureWarning:\n",
      "\n",
      "'variable' is both an index level and a column label.\n",
      "Defaulting to column, but this will raise an ambiguity error in a future version\n",
      "\n",
      "C:\\Users\\Michael\\Anaconda3\\envs\\learn-env\\lib\\site-packages\\ipykernel_launcher.py:44: FutureWarning:\n",
      "\n",
      "'variable' is both an index level and a column label.\n",
      "Defaulting to column, but this will raise an ambiguity error in a future version\n",
      "\n",
      "INFO:fbprophet:Disabling weekly seasonality. Run prophet with weekly_seasonality=True to override this.\n",
      "INFO:fbprophet:Disabling daily seasonality. Run prophet with daily_seasonality=True to override this.\n"
     ]
    },
    {
     "name": "stdout",
     "output_type": "stream",
     "text": [
      "[71495.48418206841]\n"
     ]
    },
    {
     "name": "stderr",
     "output_type": "stream",
     "text": [
      "C:\\Users\\Michael\\Anaconda3\\envs\\learn-env\\lib\\site-packages\\pystan\\misc.py:399: FutureWarning:\n",
      "\n",
      "Conversion of the second argument of issubdtype from `float` to `np.floating` is deprecated. In future, it will be treated as `np.float64 == np.dtype(float).type`.\n",
      "\n",
      "C:\\Users\\Michael\\Anaconda3\\envs\\learn-env\\lib\\site-packages\\ipykernel_launcher.py:40: FutureWarning:\n",
      "\n",
      "'variable' is both an index level and a column label.\n",
      "Defaulting to column, but this will raise an ambiguity error in a future version\n",
      "\n",
      "C:\\Users\\Michael\\Anaconda3\\envs\\learn-env\\lib\\site-packages\\ipykernel_launcher.py:44: FutureWarning:\n",
      "\n",
      "'variable' is both an index level and a column label.\n",
      "Defaulting to column, but this will raise an ambiguity error in a future version\n",
      "\n",
      "INFO:fbprophet:Disabling weekly seasonality. Run prophet with weekly_seasonality=True to override this.\n",
      "INFO:fbprophet:Disabling daily seasonality. Run prophet with daily_seasonality=True to override this.\n"
     ]
    },
    {
     "name": "stdout",
     "output_type": "stream",
     "text": [
      "[71495.48418206841, 89902.59394642472]\n"
     ]
    },
    {
     "name": "stderr",
     "output_type": "stream",
     "text": [
      "C:\\Users\\Michael\\Anaconda3\\envs\\learn-env\\lib\\site-packages\\pystan\\misc.py:399: FutureWarning:\n",
      "\n",
      "Conversion of the second argument of issubdtype from `float` to `np.floating` is deprecated. In future, it will be treated as `np.float64 == np.dtype(float).type`.\n",
      "\n",
      "C:\\Users\\Michael\\Anaconda3\\envs\\learn-env\\lib\\site-packages\\ipykernel_launcher.py:60: FutureWarning:\n",
      "\n",
      "'variable' is both an index level and a column label.\n",
      "Defaulting to column, but this will raise an ambiguity error in a future version\n",
      "\n",
      "C:\\Users\\Michael\\Anaconda3\\envs\\learn-env\\lib\\site-packages\\ipykernel_launcher.py:63: FutureWarning:\n",
      "\n",
      "'variable' is both an index level and a column label.\n",
      "Defaulting to column, but this will raise an ambiguity error in a future version\n",
      "\n",
      "INFO:fbprophet:Disabling weekly seasonality. Run prophet with weekly_seasonality=True to override this.\n"
     ]
    },
    {
     "name": "stdout",
     "output_type": "stream",
     "text": [
      "[71495.48418206841, 89902.59394642472, 33214.99657195582]\n",
      "[71495.48418206841, 89902.59394642472, 33214.99657195582]\n"
     ]
    },
    {
     "name": "stderr",
     "output_type": "stream",
     "text": [
      "INFO:fbprophet:Disabling daily seasonality. Run prophet with daily_seasonality=True to override this.\n",
      "C:\\Users\\Michael\\Anaconda3\\envs\\learn-env\\lib\\site-packages\\pystan\\misc.py:399: FutureWarning:\n",
      "\n",
      "Conversion of the second argument of issubdtype from `float` to `np.floating` is deprecated. In future, it will be treated as `np.float64 == np.dtype(float).type`.\n",
      "\n",
      "C:\\Users\\Michael\\Anaconda3\\envs\\learn-env\\lib\\site-packages\\ipykernel_launcher.py:40: FutureWarning:\n",
      "\n",
      "'variable' is both an index level and a column label.\n",
      "Defaulting to column, but this will raise an ambiguity error in a future version\n",
      "\n",
      "C:\\Users\\Michael\\Anaconda3\\envs\\learn-env\\lib\\site-packages\\ipykernel_launcher.py:44: FutureWarning:\n",
      "\n",
      "'variable' is both an index level and a column label.\n",
      "Defaulting to column, but this will raise an ambiguity error in a future version\n",
      "\n",
      "INFO:fbprophet:Disabling weekly seasonality. Run prophet with weekly_seasonality=True to override this.\n",
      "INFO:fbprophet:Disabling daily seasonality. Run prophet with daily_seasonality=True to override this.\n"
     ]
    },
    {
     "name": "stdout",
     "output_type": "stream",
     "text": [
      " 13 progress so far\n"
     ]
    },
    {
     "name": "stderr",
     "output_type": "stream",
     "text": [
      "C:\\Users\\Michael\\Anaconda3\\envs\\learn-env\\lib\\site-packages\\ipykernel_launcher.py:40: FutureWarning:\n",
      "\n",
      "'variable' is both an index level and a column label.\n",
      "Defaulting to column, but this will raise an ambiguity error in a future version\n",
      "\n",
      "C:\\Users\\Michael\\Anaconda3\\envs\\learn-env\\lib\\site-packages\\ipykernel_launcher.py:44: FutureWarning:\n",
      "\n",
      "'variable' is both an index level and a column label.\n",
      "Defaulting to column, but this will raise an ambiguity error in a future version\n",
      "\n",
      "INFO:fbprophet:Disabling weekly seasonality. Run prophet with weekly_seasonality=True to override this.\n",
      "INFO:fbprophet:Disabling daily seasonality. Run prophet with daily_seasonality=True to override this.\n"
     ]
    },
    {
     "name": "stdout",
     "output_type": "stream",
     "text": [
      "[52361.918984538475]\n"
     ]
    },
    {
     "name": "stderr",
     "output_type": "stream",
     "text": [
      "C:\\Users\\Michael\\Anaconda3\\envs\\learn-env\\lib\\site-packages\\pystan\\misc.py:399: FutureWarning:\n",
      "\n",
      "Conversion of the second argument of issubdtype from `float` to `np.floating` is deprecated. In future, it will be treated as `np.float64 == np.dtype(float).type`.\n",
      "\n",
      "C:\\Users\\Michael\\Anaconda3\\envs\\learn-env\\lib\\site-packages\\ipykernel_launcher.py:40: FutureWarning:\n",
      "\n",
      "'variable' is both an index level and a column label.\n",
      "Defaulting to column, but this will raise an ambiguity error in a future version\n",
      "\n",
      "C:\\Users\\Michael\\Anaconda3\\envs\\learn-env\\lib\\site-packages\\ipykernel_launcher.py:44: FutureWarning:\n",
      "\n",
      "'variable' is both an index level and a column label.\n",
      "Defaulting to column, but this will raise an ambiguity error in a future version\n",
      "\n",
      "INFO:fbprophet:Disabling weekly seasonality. Run prophet with weekly_seasonality=True to override this.\n",
      "INFO:fbprophet:Disabling daily seasonality. Run prophet with daily_seasonality=True to override this.\n"
     ]
    },
    {
     "name": "stdout",
     "output_type": "stream",
     "text": [
      "[52361.918984538475, 60314.28675013974]\n"
     ]
    },
    {
     "name": "stderr",
     "output_type": "stream",
     "text": [
      "C:\\Users\\Michael\\Anaconda3\\envs\\learn-env\\lib\\site-packages\\pystan\\misc.py:399: FutureWarning:\n",
      "\n",
      "Conversion of the second argument of issubdtype from `float` to `np.floating` is deprecated. In future, it will be treated as `np.float64 == np.dtype(float).type`.\n",
      "\n",
      "C:\\Users\\Michael\\Anaconda3\\envs\\learn-env\\lib\\site-packages\\ipykernel_launcher.py:60: FutureWarning:\n",
      "\n",
      "'variable' is both an index level and a column label.\n",
      "Defaulting to column, but this will raise an ambiguity error in a future version\n",
      "\n",
      "C:\\Users\\Michael\\Anaconda3\\envs\\learn-env\\lib\\site-packages\\ipykernel_launcher.py:63: FutureWarning:\n",
      "\n",
      "'variable' is both an index level and a column label.\n",
      "Defaulting to column, but this will raise an ambiguity error in a future version\n",
      "\n",
      "INFO:fbprophet:Disabling weekly seasonality. Run prophet with weekly_seasonality=True to override this.\n"
     ]
    },
    {
     "name": "stdout",
     "output_type": "stream",
     "text": [
      "[52361.918984538475, 60314.28675013974, 51063.394309307005]\n",
      "[52361.918984538475, 60314.28675013974, 51063.394309307005]\n"
     ]
    },
    {
     "name": "stderr",
     "output_type": "stream",
     "text": [
      "INFO:fbprophet:Disabling daily seasonality. Run prophet with daily_seasonality=True to override this.\n",
      "C:\\Users\\Michael\\Anaconda3\\envs\\learn-env\\lib\\site-packages\\pystan\\misc.py:399: FutureWarning:\n",
      "\n",
      "Conversion of the second argument of issubdtype from `float` to `np.floating` is deprecated. In future, it will be treated as `np.float64 == np.dtype(float).type`.\n",
      "\n",
      "C:\\Users\\Michael\\Anaconda3\\envs\\learn-env\\lib\\site-packages\\ipykernel_launcher.py:40: FutureWarning:\n",
      "\n",
      "'variable' is both an index level and a column label.\n",
      "Defaulting to column, but this will raise an ambiguity error in a future version\n",
      "\n",
      "C:\\Users\\Michael\\Anaconda3\\envs\\learn-env\\lib\\site-packages\\ipykernel_launcher.py:44: FutureWarning:\n",
      "\n",
      "'variable' is both an index level and a column label.\n",
      "Defaulting to column, but this will raise an ambiguity error in a future version\n",
      "\n",
      "INFO:fbprophet:Disabling weekly seasonality. Run prophet with weekly_seasonality=True to override this.\n",
      "INFO:fbprophet:Disabling daily seasonality. Run prophet with daily_seasonality=True to override this.\n"
     ]
    },
    {
     "name": "stdout",
     "output_type": "stream",
     "text": [
      " 14 progress so far\n"
     ]
    },
    {
     "name": "stderr",
     "output_type": "stream",
     "text": [
      "C:\\Users\\Michael\\Anaconda3\\envs\\learn-env\\lib\\site-packages\\ipykernel_launcher.py:40: FutureWarning:\n",
      "\n",
      "'variable' is both an index level and a column label.\n",
      "Defaulting to column, but this will raise an ambiguity error in a future version\n",
      "\n",
      "C:\\Users\\Michael\\Anaconda3\\envs\\learn-env\\lib\\site-packages\\ipykernel_launcher.py:44: FutureWarning:\n",
      "\n",
      "'variable' is both an index level and a column label.\n",
      "Defaulting to column, but this will raise an ambiguity error in a future version\n",
      "\n",
      "INFO:fbprophet:Disabling weekly seasonality. Run prophet with weekly_seasonality=True to override this.\n",
      "INFO:fbprophet:Disabling daily seasonality. Run prophet with daily_seasonality=True to override this.\n"
     ]
    },
    {
     "name": "stdout",
     "output_type": "stream",
     "text": [
      "[129859.80599935027]\n"
     ]
    },
    {
     "name": "stderr",
     "output_type": "stream",
     "text": [
      "C:\\Users\\Michael\\Anaconda3\\envs\\learn-env\\lib\\site-packages\\pystan\\misc.py:399: FutureWarning:\n",
      "\n",
      "Conversion of the second argument of issubdtype from `float` to `np.floating` is deprecated. In future, it will be treated as `np.float64 == np.dtype(float).type`.\n",
      "\n",
      "C:\\Users\\Michael\\Anaconda3\\envs\\learn-env\\lib\\site-packages\\ipykernel_launcher.py:40: FutureWarning:\n",
      "\n",
      "'variable' is both an index level and a column label.\n",
      "Defaulting to column, but this will raise an ambiguity error in a future version\n",
      "\n",
      "C:\\Users\\Michael\\Anaconda3\\envs\\learn-env\\lib\\site-packages\\ipykernel_launcher.py:44: FutureWarning:\n",
      "\n",
      "'variable' is both an index level and a column label.\n",
      "Defaulting to column, but this will raise an ambiguity error in a future version\n",
      "\n",
      "INFO:fbprophet:Disabling weekly seasonality. Run prophet with weekly_seasonality=True to override this.\n",
      "INFO:fbprophet:Disabling daily seasonality. Run prophet with daily_seasonality=True to override this.\n"
     ]
    },
    {
     "name": "stdout",
     "output_type": "stream",
     "text": [
      "[129859.80599935027, 116871.49244685206]\n"
     ]
    },
    {
     "name": "stderr",
     "output_type": "stream",
     "text": [
      "C:\\Users\\Michael\\Anaconda3\\envs\\learn-env\\lib\\site-packages\\pystan\\misc.py:399: FutureWarning:\n",
      "\n",
      "Conversion of the second argument of issubdtype from `float` to `np.floating` is deprecated. In future, it will be treated as `np.float64 == np.dtype(float).type`.\n",
      "\n"
     ]
    },
    {
     "name": "stdout",
     "output_type": "stream",
     "text": [
      "[129859.80599935027, 116871.49244685206, 53752.03628054139]\n",
      "[129859.80599935027, 116871.49244685206, 53752.03628054139]\n"
     ]
    },
    {
     "name": "stderr",
     "output_type": "stream",
     "text": [
      "C:\\Users\\Michael\\Anaconda3\\envs\\learn-env\\lib\\site-packages\\ipykernel_launcher.py:60: FutureWarning:\n",
      "\n",
      "'variable' is both an index level and a column label.\n",
      "Defaulting to column, but this will raise an ambiguity error in a future version\n",
      "\n",
      "C:\\Users\\Michael\\Anaconda3\\envs\\learn-env\\lib\\site-packages\\ipykernel_launcher.py:63: FutureWarning:\n",
      "\n",
      "'variable' is both an index level and a column label.\n",
      "Defaulting to column, but this will raise an ambiguity error in a future version\n",
      "\n",
      "INFO:fbprophet:Disabling weekly seasonality. Run prophet with weekly_seasonality=True to override this.\n",
      "INFO:fbprophet:Disabling daily seasonality. Run prophet with daily_seasonality=True to override this.\n",
      "C:\\Users\\Michael\\Anaconda3\\envs\\learn-env\\lib\\site-packages\\pystan\\misc.py:399: FutureWarning:\n",
      "\n",
      "Conversion of the second argument of issubdtype from `float` to `np.floating` is deprecated. In future, it will be treated as `np.float64 == np.dtype(float).type`.\n",
      "\n",
      "C:\\Users\\Michael\\Anaconda3\\envs\\learn-env\\lib\\site-packages\\ipykernel_launcher.py:40: FutureWarning:\n",
      "\n",
      "'variable' is both an index level and a column label.\n",
      "Defaulting to column, but this will raise an ambiguity error in a future version\n",
      "\n",
      "C:\\Users\\Michael\\Anaconda3\\envs\\learn-env\\lib\\site-packages\\ipykernel_launcher.py:44: FutureWarning:\n",
      "\n",
      "'variable' is both an index level and a column label.\n",
      "Defaulting to column, but this will raise an ambiguity error in a future version\n",
      "\n",
      "INFO:fbprophet:Disabling weekly seasonality. Run prophet with weekly_seasonality=True to override this.\n",
      "INFO:fbprophet:Disabling daily seasonality. Run prophet with daily_seasonality=True to override this.\n"
     ]
    },
    {
     "name": "stdout",
     "output_type": "stream",
     "text": [
      " 15 progress so far\n"
     ]
    },
    {
     "name": "stderr",
     "output_type": "stream",
     "text": [
      "C:\\Users\\Michael\\Anaconda3\\envs\\learn-env\\lib\\site-packages\\ipykernel_launcher.py:40: FutureWarning:\n",
      "\n",
      "'variable' is both an index level and a column label.\n",
      "Defaulting to column, but this will raise an ambiguity error in a future version\n",
      "\n",
      "C:\\Users\\Michael\\Anaconda3\\envs\\learn-env\\lib\\site-packages\\ipykernel_launcher.py:44: FutureWarning:\n",
      "\n",
      "'variable' is both an index level and a column label.\n",
      "Defaulting to column, but this will raise an ambiguity error in a future version\n",
      "\n",
      "INFO:fbprophet:Disabling weekly seasonality. Run prophet with weekly_seasonality=True to override this.\n",
      "INFO:fbprophet:Disabling daily seasonality. Run prophet with daily_seasonality=True to override this.\n"
     ]
    },
    {
     "name": "stdout",
     "output_type": "stream",
     "text": [
      "[10515.350722638324]\n"
     ]
    },
    {
     "name": "stderr",
     "output_type": "stream",
     "text": [
      "C:\\Users\\Michael\\Anaconda3\\envs\\learn-env\\lib\\site-packages\\pystan\\misc.py:399: FutureWarning:\n",
      "\n",
      "Conversion of the second argument of issubdtype from `float` to `np.floating` is deprecated. In future, it will be treated as `np.float64 == np.dtype(float).type`.\n",
      "\n",
      "C:\\Users\\Michael\\Anaconda3\\envs\\learn-env\\lib\\site-packages\\ipykernel_launcher.py:40: FutureWarning:\n",
      "\n",
      "'variable' is both an index level and a column label.\n",
      "Defaulting to column, but this will raise an ambiguity error in a future version\n",
      "\n",
      "C:\\Users\\Michael\\Anaconda3\\envs\\learn-env\\lib\\site-packages\\ipykernel_launcher.py:44: FutureWarning:\n",
      "\n",
      "'variable' is both an index level and a column label.\n",
      "Defaulting to column, but this will raise an ambiguity error in a future version\n",
      "\n",
      "INFO:fbprophet:Disabling weekly seasonality. Run prophet with weekly_seasonality=True to override this.\n",
      "INFO:fbprophet:Disabling daily seasonality. Run prophet with daily_seasonality=True to override this.\n"
     ]
    },
    {
     "name": "stdout",
     "output_type": "stream",
     "text": [
      "[10515.350722638324, 31301.452795292043]\n"
     ]
    },
    {
     "name": "stderr",
     "output_type": "stream",
     "text": [
      "C:\\Users\\Michael\\Anaconda3\\envs\\learn-env\\lib\\site-packages\\pystan\\misc.py:399: FutureWarning:\n",
      "\n",
      "Conversion of the second argument of issubdtype from `float` to `np.floating` is deprecated. In future, it will be treated as `np.float64 == np.dtype(float).type`.\n",
      "\n"
     ]
    },
    {
     "name": "stdout",
     "output_type": "stream",
     "text": [
      "[10515.350722638324, 31301.452795292043, 20587.667024020273]\n",
      "[10515.350722638324, 31301.452795292043, 20587.667024020273]\n"
     ]
    },
    {
     "name": "stderr",
     "output_type": "stream",
     "text": [
      "C:\\Users\\Michael\\Anaconda3\\envs\\learn-env\\lib\\site-packages\\ipykernel_launcher.py:60: FutureWarning:\n",
      "\n",
      "'variable' is both an index level and a column label.\n",
      "Defaulting to column, but this will raise an ambiguity error in a future version\n",
      "\n",
      "C:\\Users\\Michael\\Anaconda3\\envs\\learn-env\\lib\\site-packages\\ipykernel_launcher.py:63: FutureWarning:\n",
      "\n",
      "'variable' is both an index level and a column label.\n",
      "Defaulting to column, but this will raise an ambiguity error in a future version\n",
      "\n",
      "INFO:fbprophet:Disabling weekly seasonality. Run prophet with weekly_seasonality=True to override this.\n",
      "INFO:fbprophet:Disabling daily seasonality. Run prophet with daily_seasonality=True to override this.\n",
      "C:\\Users\\Michael\\Anaconda3\\envs\\learn-env\\lib\\site-packages\\pystan\\misc.py:399: FutureWarning:\n",
      "\n",
      "Conversion of the second argument of issubdtype from `float` to `np.floating` is deprecated. In future, it will be treated as `np.float64 == np.dtype(float).type`.\n",
      "\n",
      "C:\\Users\\Michael\\Anaconda3\\envs\\learn-env\\lib\\site-packages\\ipykernel_launcher.py:40: FutureWarning:\n",
      "\n",
      "'variable' is both an index level and a column label.\n",
      "Defaulting to column, but this will raise an ambiguity error in a future version\n",
      "\n",
      "C:\\Users\\Michael\\Anaconda3\\envs\\learn-env\\lib\\site-packages\\ipykernel_launcher.py:44: FutureWarning:\n",
      "\n",
      "'variable' is both an index level and a column label.\n",
      "Defaulting to column, but this will raise an ambiguity error in a future version\n",
      "\n",
      "INFO:fbprophet:Disabling weekly seasonality. Run prophet with weekly_seasonality=True to override this.\n",
      "INFO:fbprophet:Disabling daily seasonality. Run prophet with daily_seasonality=True to override this.\n"
     ]
    },
    {
     "name": "stdout",
     "output_type": "stream",
     "text": [
      " 16 progress so far\n"
     ]
    },
    {
     "name": "stderr",
     "output_type": "stream",
     "text": [
      "C:\\Users\\Michael\\Anaconda3\\envs\\learn-env\\lib\\site-packages\\ipykernel_launcher.py:40: FutureWarning:\n",
      "\n",
      "'variable' is both an index level and a column label.\n",
      "Defaulting to column, but this will raise an ambiguity error in a future version\n",
      "\n",
      "C:\\Users\\Michael\\Anaconda3\\envs\\learn-env\\lib\\site-packages\\ipykernel_launcher.py:44: FutureWarning:\n",
      "\n",
      "'variable' is both an index level and a column label.\n",
      "Defaulting to column, but this will raise an ambiguity error in a future version\n",
      "\n",
      "INFO:fbprophet:Disabling weekly seasonality. Run prophet with weekly_seasonality=True to override this.\n",
      "INFO:fbprophet:Disabling daily seasonality. Run prophet with daily_seasonality=True to override this.\n"
     ]
    },
    {
     "name": "stdout",
     "output_type": "stream",
     "text": [
      "[12487.942601018884]\n"
     ]
    },
    {
     "name": "stderr",
     "output_type": "stream",
     "text": [
      "C:\\Users\\Michael\\Anaconda3\\envs\\learn-env\\lib\\site-packages\\pystan\\misc.py:399: FutureWarning:\n",
      "\n",
      "Conversion of the second argument of issubdtype from `float` to `np.floating` is deprecated. In future, it will be treated as `np.float64 == np.dtype(float).type`.\n",
      "\n",
      "C:\\Users\\Michael\\Anaconda3\\envs\\learn-env\\lib\\site-packages\\ipykernel_launcher.py:40: FutureWarning:\n",
      "\n",
      "'variable' is both an index level and a column label.\n",
      "Defaulting to column, but this will raise an ambiguity error in a future version\n",
      "\n",
      "C:\\Users\\Michael\\Anaconda3\\envs\\learn-env\\lib\\site-packages\\ipykernel_launcher.py:44: FutureWarning:\n",
      "\n",
      "'variable' is both an index level and a column label.\n",
      "Defaulting to column, but this will raise an ambiguity error in a future version\n",
      "\n",
      "INFO:fbprophet:Disabling weekly seasonality. Run prophet with weekly_seasonality=True to override this.\n",
      "INFO:fbprophet:Disabling daily seasonality. Run prophet with daily_seasonality=True to override this.\n"
     ]
    },
    {
     "name": "stdout",
     "output_type": "stream",
     "text": [
      "[12487.942601018884, 39155.51876142835]\n"
     ]
    },
    {
     "name": "stderr",
     "output_type": "stream",
     "text": [
      "C:\\Users\\Michael\\Anaconda3\\envs\\learn-env\\lib\\site-packages\\pystan\\misc.py:399: FutureWarning:\n",
      "\n",
      "Conversion of the second argument of issubdtype from `float` to `np.floating` is deprecated. In future, it will be treated as `np.float64 == np.dtype(float).type`.\n",
      "\n",
      "C:\\Users\\Michael\\Anaconda3\\envs\\learn-env\\lib\\site-packages\\ipykernel_launcher.py:60: FutureWarning:\n",
      "\n",
      "'variable' is both an index level and a column label.\n",
      "Defaulting to column, but this will raise an ambiguity error in a future version\n",
      "\n",
      "C:\\Users\\Michael\\Anaconda3\\envs\\learn-env\\lib\\site-packages\\ipykernel_launcher.py:63: FutureWarning:\n",
      "\n",
      "'variable' is both an index level and a column label.\n",
      "Defaulting to column, but this will raise an ambiguity error in a future version\n",
      "\n",
      "INFO:fbprophet:Disabling weekly seasonality. Run prophet with weekly_seasonality=True to override this.\n"
     ]
    },
    {
     "name": "stdout",
     "output_type": "stream",
     "text": [
      "[12487.942601018884, 39155.51876142835, 26043.84013788942]\n",
      "[12487.942601018884, 39155.51876142835, 26043.84013788942]\n"
     ]
    },
    {
     "name": "stderr",
     "output_type": "stream",
     "text": [
      "INFO:fbprophet:Disabling daily seasonality. Run prophet with daily_seasonality=True to override this.\n",
      "C:\\Users\\Michael\\Anaconda3\\envs\\learn-env\\lib\\site-packages\\pystan\\misc.py:399: FutureWarning:\n",
      "\n",
      "Conversion of the second argument of issubdtype from `float` to `np.floating` is deprecated. In future, it will be treated as `np.float64 == np.dtype(float).type`.\n",
      "\n",
      "C:\\Users\\Michael\\Anaconda3\\envs\\learn-env\\lib\\site-packages\\ipykernel_launcher.py:40: FutureWarning:\n",
      "\n",
      "'variable' is both an index level and a column label.\n",
      "Defaulting to column, but this will raise an ambiguity error in a future version\n",
      "\n",
      "C:\\Users\\Michael\\Anaconda3\\envs\\learn-env\\lib\\site-packages\\ipykernel_launcher.py:44: FutureWarning:\n",
      "\n",
      "'variable' is both an index level and a column label.\n",
      "Defaulting to column, but this will raise an ambiguity error in a future version\n",
      "\n",
      "INFO:fbprophet:Disabling weekly seasonality. Run prophet with weekly_seasonality=True to override this.\n",
      "INFO:fbprophet:Disabling daily seasonality. Run prophet with daily_seasonality=True to override this.\n"
     ]
    },
    {
     "name": "stdout",
     "output_type": "stream",
     "text": [
      " 17 progress so far\n"
     ]
    },
    {
     "name": "stderr",
     "output_type": "stream",
     "text": [
      "C:\\Users\\Michael\\Anaconda3\\envs\\learn-env\\lib\\site-packages\\ipykernel_launcher.py:40: FutureWarning:\n",
      "\n",
      "'variable' is both an index level and a column label.\n",
      "Defaulting to column, but this will raise an ambiguity error in a future version\n",
      "\n",
      "C:\\Users\\Michael\\Anaconda3\\envs\\learn-env\\lib\\site-packages\\ipykernel_launcher.py:44: FutureWarning:\n",
      "\n",
      "'variable' is both an index level and a column label.\n",
      "Defaulting to column, but this will raise an ambiguity error in a future version\n",
      "\n",
      "INFO:fbprophet:Disabling weekly seasonality. Run prophet with weekly_seasonality=True to override this.\n",
      "INFO:fbprophet:Disabling daily seasonality. Run prophet with daily_seasonality=True to override this.\n"
     ]
    },
    {
     "name": "stdout",
     "output_type": "stream",
     "text": [
      "[24813.351783747]\n"
     ]
    },
    {
     "name": "stderr",
     "output_type": "stream",
     "text": [
      "C:\\Users\\Michael\\Anaconda3\\envs\\learn-env\\lib\\site-packages\\pystan\\misc.py:399: FutureWarning:\n",
      "\n",
      "Conversion of the second argument of issubdtype from `float` to `np.floating` is deprecated. In future, it will be treated as `np.float64 == np.dtype(float).type`.\n",
      "\n",
      "C:\\Users\\Michael\\Anaconda3\\envs\\learn-env\\lib\\site-packages\\ipykernel_launcher.py:40: FutureWarning:\n",
      "\n",
      "'variable' is both an index level and a column label.\n",
      "Defaulting to column, but this will raise an ambiguity error in a future version\n",
      "\n",
      "C:\\Users\\Michael\\Anaconda3\\envs\\learn-env\\lib\\site-packages\\ipykernel_launcher.py:44: FutureWarning:\n",
      "\n",
      "'variable' is both an index level and a column label.\n",
      "Defaulting to column, but this will raise an ambiguity error in a future version\n",
      "\n",
      "INFO:fbprophet:Disabling weekly seasonality. Run prophet with weekly_seasonality=True to override this.\n",
      "INFO:fbprophet:Disabling daily seasonality. Run prophet with daily_seasonality=True to override this.\n"
     ]
    },
    {
     "name": "stdout",
     "output_type": "stream",
     "text": [
      "[24813.351783747, 48836.88957311087]\n"
     ]
    },
    {
     "name": "stderr",
     "output_type": "stream",
     "text": [
      "C:\\Users\\Michael\\Anaconda3\\envs\\learn-env\\lib\\site-packages\\pystan\\misc.py:399: FutureWarning:\n",
      "\n",
      "Conversion of the second argument of issubdtype from `float` to `np.floating` is deprecated. In future, it will be treated as `np.float64 == np.dtype(float).type`.\n",
      "\n"
     ]
    },
    {
     "name": "stdout",
     "output_type": "stream",
     "text": [
      "[24813.351783747, 48836.88957311087, 22211.46245456314]\n",
      "[24813.351783747, 48836.88957311087, 22211.46245456314]\n"
     ]
    },
    {
     "name": "stderr",
     "output_type": "stream",
     "text": [
      "C:\\Users\\Michael\\Anaconda3\\envs\\learn-env\\lib\\site-packages\\ipykernel_launcher.py:60: FutureWarning:\n",
      "\n",
      "'variable' is both an index level and a column label.\n",
      "Defaulting to column, but this will raise an ambiguity error in a future version\n",
      "\n",
      "C:\\Users\\Michael\\Anaconda3\\envs\\learn-env\\lib\\site-packages\\ipykernel_launcher.py:63: FutureWarning:\n",
      "\n",
      "'variable' is both an index level and a column label.\n",
      "Defaulting to column, but this will raise an ambiguity error in a future version\n",
      "\n",
      "INFO:fbprophet:Disabling weekly seasonality. Run prophet with weekly_seasonality=True to override this.\n",
      "INFO:fbprophet:Disabling daily seasonality. Run prophet with daily_seasonality=True to override this.\n",
      "C:\\Users\\Michael\\Anaconda3\\envs\\learn-env\\lib\\site-packages\\pystan\\misc.py:399: FutureWarning:\n",
      "\n",
      "Conversion of the second argument of issubdtype from `float` to `np.floating` is deprecated. In future, it will be treated as `np.float64 == np.dtype(float).type`.\n",
      "\n",
      "C:\\Users\\Michael\\Anaconda3\\envs\\learn-env\\lib\\site-packages\\ipykernel_launcher.py:40: FutureWarning:\n",
      "\n",
      "'variable' is both an index level and a column label.\n",
      "Defaulting to column, but this will raise an ambiguity error in a future version\n",
      "\n",
      "C:\\Users\\Michael\\Anaconda3\\envs\\learn-env\\lib\\site-packages\\ipykernel_launcher.py:44: FutureWarning:\n",
      "\n",
      "'variable' is both an index level and a column label.\n",
      "Defaulting to column, but this will raise an ambiguity error in a future version\n",
      "\n",
      "INFO:fbprophet:Disabling weekly seasonality. Run prophet with weekly_seasonality=True to override this.\n",
      "INFO:fbprophet:Disabling daily seasonality. Run prophet with daily_seasonality=True to override this.\n"
     ]
    },
    {
     "name": "stdout",
     "output_type": "stream",
     "text": [
      " 18 progress so far\n"
     ]
    },
    {
     "name": "stderr",
     "output_type": "stream",
     "text": [
      "C:\\Users\\Michael\\Anaconda3\\envs\\learn-env\\lib\\site-packages\\ipykernel_launcher.py:40: FutureWarning:\n",
      "\n",
      "'variable' is both an index level and a column label.\n",
      "Defaulting to column, but this will raise an ambiguity error in a future version\n",
      "\n",
      "C:\\Users\\Michael\\Anaconda3\\envs\\learn-env\\lib\\site-packages\\ipykernel_launcher.py:44: FutureWarning:\n",
      "\n",
      "'variable' is both an index level and a column label.\n",
      "Defaulting to column, but this will raise an ambiguity error in a future version\n",
      "\n",
      "INFO:fbprophet:Disabling weekly seasonality. Run prophet with weekly_seasonality=True to override this.\n",
      "INFO:fbprophet:Disabling daily seasonality. Run prophet with daily_seasonality=True to override this.\n"
     ]
    },
    {
     "name": "stdout",
     "output_type": "stream",
     "text": [
      "[20987.624983209407]\n"
     ]
    },
    {
     "name": "stderr",
     "output_type": "stream",
     "text": [
      "C:\\Users\\Michael\\Anaconda3\\envs\\learn-env\\lib\\site-packages\\pystan\\misc.py:399: FutureWarning:\n",
      "\n",
      "Conversion of the second argument of issubdtype from `float` to `np.floating` is deprecated. In future, it will be treated as `np.float64 == np.dtype(float).type`.\n",
      "\n",
      "C:\\Users\\Michael\\Anaconda3\\envs\\learn-env\\lib\\site-packages\\ipykernel_launcher.py:40: FutureWarning:\n",
      "\n",
      "'variable' is both an index level and a column label.\n",
      "Defaulting to column, but this will raise an ambiguity error in a future version\n",
      "\n",
      "C:\\Users\\Michael\\Anaconda3\\envs\\learn-env\\lib\\site-packages\\ipykernel_launcher.py:44: FutureWarning:\n",
      "\n",
      "'variable' is both an index level and a column label.\n",
      "Defaulting to column, but this will raise an ambiguity error in a future version\n",
      "\n",
      "INFO:fbprophet:Disabling weekly seasonality. Run prophet with weekly_seasonality=True to override this.\n",
      "INFO:fbprophet:Disabling daily seasonality. Run prophet with daily_seasonality=True to override this.\n"
     ]
    },
    {
     "name": "stdout",
     "output_type": "stream",
     "text": [
      "[20987.624983209407, 51102.37251756508]\n"
     ]
    },
    {
     "name": "stderr",
     "output_type": "stream",
     "text": [
      "C:\\Users\\Michael\\Anaconda3\\envs\\learn-env\\lib\\site-packages\\pystan\\misc.py:399: FutureWarning:\n",
      "\n",
      "Conversion of the second argument of issubdtype from `float` to `np.floating` is deprecated. In future, it will be treated as `np.float64 == np.dtype(float).type`.\n",
      "\n"
     ]
    },
    {
     "name": "stdout",
     "output_type": "stream",
     "text": [
      "[20987.624983209407, 51102.37251756508, 17145.172390505944]\n",
      "[20987.624983209407, 51102.37251756508, 17145.172390505944]\n"
     ]
    },
    {
     "name": "stderr",
     "output_type": "stream",
     "text": [
      "C:\\Users\\Michael\\Anaconda3\\envs\\learn-env\\lib\\site-packages\\ipykernel_launcher.py:60: FutureWarning:\n",
      "\n",
      "'variable' is both an index level and a column label.\n",
      "Defaulting to column, but this will raise an ambiguity error in a future version\n",
      "\n",
      "C:\\Users\\Michael\\Anaconda3\\envs\\learn-env\\lib\\site-packages\\ipykernel_launcher.py:63: FutureWarning:\n",
      "\n",
      "'variable' is both an index level and a column label.\n",
      "Defaulting to column, but this will raise an ambiguity error in a future version\n",
      "\n",
      "INFO:fbprophet:Disabling weekly seasonality. Run prophet with weekly_seasonality=True to override this.\n",
      "INFO:fbprophet:Disabling daily seasonality. Run prophet with daily_seasonality=True to override this.\n",
      "C:\\Users\\Michael\\Anaconda3\\envs\\learn-env\\lib\\site-packages\\pystan\\misc.py:399: FutureWarning:\n",
      "\n",
      "Conversion of the second argument of issubdtype from `float` to `np.floating` is deprecated. In future, it will be treated as `np.float64 == np.dtype(float).type`.\n",
      "\n"
     ]
    },
    {
     "name": "stdout",
     "output_type": "stream",
     "text": [
      " 19 progress so far\n"
     ]
    },
    {
     "name": "stderr",
     "output_type": "stream",
     "text": [
      "C:\\Users\\Michael\\Anaconda3\\envs\\learn-env\\lib\\site-packages\\ipykernel_launcher.py:40: FutureWarning:\n",
      "\n",
      "'variable' is both an index level and a column label.\n",
      "Defaulting to column, but this will raise an ambiguity error in a future version\n",
      "\n",
      "C:\\Users\\Michael\\Anaconda3\\envs\\learn-env\\lib\\site-packages\\ipykernel_launcher.py:44: FutureWarning:\n",
      "\n",
      "'variable' is both an index level and a column label.\n",
      "Defaulting to column, but this will raise an ambiguity error in a future version\n",
      "\n",
      "INFO:fbprophet:Disabling weekly seasonality. Run prophet with weekly_seasonality=True to override this.\n",
      "INFO:fbprophet:Disabling daily seasonality. Run prophet with daily_seasonality=True to override this.\n"
     ]
    },
    {
     "name": "stdout",
     "output_type": "stream",
     "text": [
      "[14508.886555808951]\n"
     ]
    },
    {
     "name": "stderr",
     "output_type": "stream",
     "text": [
      "C:\\Users\\Michael\\Anaconda3\\envs\\learn-env\\lib\\site-packages\\ipykernel_launcher.py:40: FutureWarning:\n",
      "\n",
      "'variable' is both an index level and a column label.\n",
      "Defaulting to column, but this will raise an ambiguity error in a future version\n",
      "\n",
      "C:\\Users\\Michael\\Anaconda3\\envs\\learn-env\\lib\\site-packages\\ipykernel_launcher.py:44: FutureWarning:\n",
      "\n",
      "'variable' is both an index level and a column label.\n",
      "Defaulting to column, but this will raise an ambiguity error in a future version\n",
      "\n",
      "INFO:fbprophet:Disabling weekly seasonality. Run prophet with weekly_seasonality=True to override this.\n",
      "INFO:fbprophet:Disabling daily seasonality. Run prophet with daily_seasonality=True to override this.\n",
      "C:\\Users\\Michael\\Anaconda3\\envs\\learn-env\\lib\\site-packages\\pystan\\misc.py:399: FutureWarning:\n",
      "\n",
      "Conversion of the second argument of issubdtype from `float` to `np.floating` is deprecated. In future, it will be treated as `np.float64 == np.dtype(float).type`.\n",
      "\n"
     ]
    },
    {
     "name": "stdout",
     "output_type": "stream",
     "text": [
      "[14508.886555808951, 44970.43849764057]\n"
     ]
    },
    {
     "name": "stderr",
     "output_type": "stream",
     "text": [
      "C:\\Users\\Michael\\Anaconda3\\envs\\learn-env\\lib\\site-packages\\ipykernel_launcher.py:40: FutureWarning:\n",
      "\n",
      "'variable' is both an index level and a column label.\n",
      "Defaulting to column, but this will raise an ambiguity error in a future version\n",
      "\n",
      "C:\\Users\\Michael\\Anaconda3\\envs\\learn-env\\lib\\site-packages\\ipykernel_launcher.py:44: FutureWarning:\n",
      "\n",
      "'variable' is both an index level and a column label.\n",
      "Defaulting to column, but this will raise an ambiguity error in a future version\n",
      "\n",
      "INFO:fbprophet:Disabling weekly seasonality. Run prophet with weekly_seasonality=True to override this.\n",
      "INFO:fbprophet:Disabling daily seasonality. Run prophet with daily_seasonality=True to override this.\n",
      "C:\\Users\\Michael\\Anaconda3\\envs\\learn-env\\lib\\site-packages\\pystan\\misc.py:399: FutureWarning:\n",
      "\n",
      "Conversion of the second argument of issubdtype from `float` to `np.floating` is deprecated. In future, it will be treated as `np.float64 == np.dtype(float).type`.\n",
      "\n"
     ]
    },
    {
     "name": "stdout",
     "output_type": "stream",
     "text": [
      "[14508.886555808951, 44970.43849764057, 22487.220510507184]\n",
      "[14508.886555808951, 44970.43849764057, 22487.220510507184]\n"
     ]
    },
    {
     "name": "stderr",
     "output_type": "stream",
     "text": [
      "C:\\Users\\Michael\\Anaconda3\\envs\\learn-env\\lib\\site-packages\\ipykernel_launcher.py:60: FutureWarning:\n",
      "\n",
      "'variable' is both an index level and a column label.\n",
      "Defaulting to column, but this will raise an ambiguity error in a future version\n",
      "\n",
      "C:\\Users\\Michael\\Anaconda3\\envs\\learn-env\\lib\\site-packages\\ipykernel_launcher.py:63: FutureWarning:\n",
      "\n",
      "'variable' is both an index level and a column label.\n",
      "Defaulting to column, but this will raise an ambiguity error in a future version\n",
      "\n",
      "INFO:fbprophet:Disabling weekly seasonality. Run prophet with weekly_seasonality=True to override this.\n",
      "INFO:fbprophet:Disabling daily seasonality. Run prophet with daily_seasonality=True to override this.\n",
      "C:\\Users\\Michael\\Anaconda3\\envs\\learn-env\\lib\\site-packages\\pystan\\misc.py:399: FutureWarning:\n",
      "\n",
      "Conversion of the second argument of issubdtype from `float` to `np.floating` is deprecated. In future, it will be treated as `np.float64 == np.dtype(float).type`.\n",
      "\n",
      "C:\\Users\\Michael\\Anaconda3\\envs\\learn-env\\lib\\site-packages\\ipykernel_launcher.py:40: FutureWarning:\n",
      "\n",
      "'variable' is both an index level and a column label.\n",
      "Defaulting to column, but this will raise an ambiguity error in a future version\n",
      "\n",
      "C:\\Users\\Michael\\Anaconda3\\envs\\learn-env\\lib\\site-packages\\ipykernel_launcher.py:44: FutureWarning:\n",
      "\n",
      "'variable' is both an index level and a column label.\n",
      "Defaulting to column, but this will raise an ambiguity error in a future version\n",
      "\n",
      "INFO:fbprophet:Disabling weekly seasonality. Run prophet with weekly_seasonality=True to override this.\n",
      "INFO:fbprophet:Disabling daily seasonality. Run prophet with daily_seasonality=True to override this.\n"
     ]
    },
    {
     "name": "stdout",
     "output_type": "stream",
     "text": [
      " 20 progress so far\n"
     ]
    },
    {
     "name": "stderr",
     "output_type": "stream",
     "text": [
      "C:\\Users\\Michael\\Anaconda3\\envs\\learn-env\\lib\\site-packages\\ipykernel_launcher.py:40: FutureWarning:\n",
      "\n",
      "'variable' is both an index level and a column label.\n",
      "Defaulting to column, but this will raise an ambiguity error in a future version\n",
      "\n",
      "C:\\Users\\Michael\\Anaconda3\\envs\\learn-env\\lib\\site-packages\\ipykernel_launcher.py:44: FutureWarning:\n",
      "\n",
      "'variable' is both an index level and a column label.\n",
      "Defaulting to column, but this will raise an ambiguity error in a future version\n",
      "\n",
      "INFO:fbprophet:Disabling weekly seasonality. Run prophet with weekly_seasonality=True to override this.\n",
      "INFO:fbprophet:Disabling daily seasonality. Run prophet with daily_seasonality=True to override this.\n"
     ]
    },
    {
     "name": "stdout",
     "output_type": "stream",
     "text": [
      "[47781.735554490166]\n"
     ]
    },
    {
     "name": "stderr",
     "output_type": "stream",
     "text": [
      "C:\\Users\\Michael\\Anaconda3\\envs\\learn-env\\lib\\site-packages\\pystan\\misc.py:399: FutureWarning:\n",
      "\n",
      "Conversion of the second argument of issubdtype from `float` to `np.floating` is deprecated. In future, it will be treated as `np.float64 == np.dtype(float).type`.\n",
      "\n",
      "C:\\Users\\Michael\\Anaconda3\\envs\\learn-env\\lib\\site-packages\\ipykernel_launcher.py:40: FutureWarning:\n",
      "\n",
      "'variable' is both an index level and a column label.\n",
      "Defaulting to column, but this will raise an ambiguity error in a future version\n",
      "\n",
      "C:\\Users\\Michael\\Anaconda3\\envs\\learn-env\\lib\\site-packages\\ipykernel_launcher.py:44: FutureWarning:\n",
      "\n",
      "'variable' is both an index level and a column label.\n",
      "Defaulting to column, but this will raise an ambiguity error in a future version\n",
      "\n",
      "INFO:fbprophet:Disabling weekly seasonality. Run prophet with weekly_seasonality=True to override this.\n",
      "INFO:fbprophet:Disabling daily seasonality. Run prophet with daily_seasonality=True to override this.\n"
     ]
    },
    {
     "name": "stdout",
     "output_type": "stream",
     "text": [
      "[47781.735554490166, 123436.86724031845]\n"
     ]
    },
    {
     "name": "stderr",
     "output_type": "stream",
     "text": [
      "C:\\Users\\Michael\\Anaconda3\\envs\\learn-env\\lib\\site-packages\\pystan\\misc.py:399: FutureWarning:\n",
      "\n",
      "Conversion of the second argument of issubdtype from `float` to `np.floating` is deprecated. In future, it will be treated as `np.float64 == np.dtype(float).type`.\n",
      "\n",
      "C:\\Users\\Michael\\Anaconda3\\envs\\learn-env\\lib\\site-packages\\ipykernel_launcher.py:60: FutureWarning:\n",
      "\n",
      "'variable' is both an index level and a column label.\n",
      "Defaulting to column, but this will raise an ambiguity error in a future version\n",
      "\n",
      "C:\\Users\\Michael\\Anaconda3\\envs\\learn-env\\lib\\site-packages\\ipykernel_launcher.py:63: FutureWarning:\n",
      "\n",
      "'variable' is both an index level and a column label.\n",
      "Defaulting to column, but this will raise an ambiguity error in a future version\n",
      "\n",
      "INFO:fbprophet:Disabling weekly seasonality. Run prophet with weekly_seasonality=True to override this.\n"
     ]
    },
    {
     "name": "stdout",
     "output_type": "stream",
     "text": [
      "[47781.735554490166, 123436.86724031845, 76848.57854455132]\n",
      "[47781.735554490166, 123436.86724031845, 76848.57854455132]\n"
     ]
    },
    {
     "name": "stderr",
     "output_type": "stream",
     "text": [
      "INFO:fbprophet:Disabling daily seasonality. Run prophet with daily_seasonality=True to override this.\n",
      "C:\\Users\\Michael\\Anaconda3\\envs\\learn-env\\lib\\site-packages\\pystan\\misc.py:399: FutureWarning:\n",
      "\n",
      "Conversion of the second argument of issubdtype from `float` to `np.floating` is deprecated. In future, it will be treated as `np.float64 == np.dtype(float).type`.\n",
      "\n",
      "C:\\Users\\Michael\\Anaconda3\\envs\\learn-env\\lib\\site-packages\\ipykernel_launcher.py:40: FutureWarning:\n",
      "\n",
      "'variable' is both an index level and a column label.\n",
      "Defaulting to column, but this will raise an ambiguity error in a future version\n",
      "\n",
      "C:\\Users\\Michael\\Anaconda3\\envs\\learn-env\\lib\\site-packages\\ipykernel_launcher.py:44: FutureWarning:\n",
      "\n",
      "'variable' is both an index level and a column label.\n",
      "Defaulting to column, but this will raise an ambiguity error in a future version\n",
      "\n",
      "INFO:fbprophet:Disabling weekly seasonality. Run prophet with weekly_seasonality=True to override this.\n",
      "INFO:fbprophet:Disabling daily seasonality. Run prophet with daily_seasonality=True to override this.\n"
     ]
    },
    {
     "name": "stdout",
     "output_type": "stream",
     "text": [
      " 21 progress so far\n",
      "[26772.590284977436]\n"
     ]
    },
    {
     "name": "stderr",
     "output_type": "stream",
     "text": [
      "C:\\Users\\Michael\\Anaconda3\\envs\\learn-env\\lib\\site-packages\\ipykernel_launcher.py:40: FutureWarning:\n",
      "\n",
      "'variable' is both an index level and a column label.\n",
      "Defaulting to column, but this will raise an ambiguity error in a future version\n",
      "\n",
      "C:\\Users\\Michael\\Anaconda3\\envs\\learn-env\\lib\\site-packages\\ipykernel_launcher.py:44: FutureWarning:\n",
      "\n",
      "'variable' is both an index level and a column label.\n",
      "Defaulting to column, but this will raise an ambiguity error in a future version\n",
      "\n",
      "INFO:fbprophet:Disabling weekly seasonality. Run prophet with weekly_seasonality=True to override this.\n",
      "INFO:fbprophet:Disabling daily seasonality. Run prophet with daily_seasonality=True to override this.\n",
      "C:\\Users\\Michael\\Anaconda3\\envs\\learn-env\\lib\\site-packages\\pystan\\misc.py:399: FutureWarning:\n",
      "\n",
      "Conversion of the second argument of issubdtype from `float` to `np.floating` is deprecated. In future, it will be treated as `np.float64 == np.dtype(float).type`.\n",
      "\n",
      "C:\\Users\\Michael\\Anaconda3\\envs\\learn-env\\lib\\site-packages\\ipykernel_launcher.py:40: FutureWarning:\n",
      "\n",
      "'variable' is both an index level and a column label.\n",
      "Defaulting to column, but this will raise an ambiguity error in a future version\n",
      "\n",
      "C:\\Users\\Michael\\Anaconda3\\envs\\learn-env\\lib\\site-packages\\ipykernel_launcher.py:44: FutureWarning:\n",
      "\n",
      "'variable' is both an index level and a column label.\n",
      "Defaulting to column, but this will raise an ambiguity error in a future version\n",
      "\n",
      "INFO:fbprophet:Disabling weekly seasonality. Run prophet with weekly_seasonality=True to override this.\n",
      "INFO:fbprophet:Disabling daily seasonality. Run prophet with daily_seasonality=True to override this.\n"
     ]
    },
    {
     "name": "stdout",
     "output_type": "stream",
     "text": [
      "[26772.590284977436, 5120.26219098331]\n"
     ]
    },
    {
     "name": "stderr",
     "output_type": "stream",
     "text": [
      "C:\\Users\\Michael\\Anaconda3\\envs\\learn-env\\lib\\site-packages\\pystan\\misc.py:399: FutureWarning:\n",
      "\n",
      "Conversion of the second argument of issubdtype from `float` to `np.floating` is deprecated. In future, it will be treated as `np.float64 == np.dtype(float).type`.\n",
      "\n",
      "C:\\Users\\Michael\\Anaconda3\\envs\\learn-env\\lib\\site-packages\\ipykernel_launcher.py:60: FutureWarning:\n",
      "\n",
      "'variable' is both an index level and a column label.\n",
      "Defaulting to column, but this will raise an ambiguity error in a future version\n",
      "\n",
      "C:\\Users\\Michael\\Anaconda3\\envs\\learn-env\\lib\\site-packages\\ipykernel_launcher.py:63: FutureWarning:\n",
      "\n",
      "'variable' is both an index level and a column label.\n",
      "Defaulting to column, but this will raise an ambiguity error in a future version\n",
      "\n",
      "INFO:fbprophet:Disabling weekly seasonality. Run prophet with weekly_seasonality=True to override this.\n"
     ]
    },
    {
     "name": "stdout",
     "output_type": "stream",
     "text": [
      "[26772.590284977436, 5120.26219098331, 11052.318329464953]\n",
      "[26772.590284977436, 5120.26219098331, 11052.318329464953]\n"
     ]
    },
    {
     "name": "stderr",
     "output_type": "stream",
     "text": [
      "INFO:fbprophet:Disabling daily seasonality. Run prophet with daily_seasonality=True to override this.\n",
      "C:\\Users\\Michael\\Anaconda3\\envs\\learn-env\\lib\\site-packages\\pystan\\misc.py:399: FutureWarning:\n",
      "\n",
      "Conversion of the second argument of issubdtype from `float` to `np.floating` is deprecated. In future, it will be treated as `np.float64 == np.dtype(float).type`.\n",
      "\n",
      "C:\\Users\\Michael\\Anaconda3\\envs\\learn-env\\lib\\site-packages\\ipykernel_launcher.py:40: FutureWarning:\n",
      "\n",
      "'variable' is both an index level and a column label.\n",
      "Defaulting to column, but this will raise an ambiguity error in a future version\n",
      "\n",
      "C:\\Users\\Michael\\Anaconda3\\envs\\learn-env\\lib\\site-packages\\ipykernel_launcher.py:44: FutureWarning:\n",
      "\n",
      "'variable' is both an index level and a column label.\n",
      "Defaulting to column, but this will raise an ambiguity error in a future version\n",
      "\n",
      "INFO:fbprophet:Disabling weekly seasonality. Run prophet with weekly_seasonality=True to override this.\n",
      "INFO:fbprophet:Disabling daily seasonality. Run prophet with daily_seasonality=True to override this.\n"
     ]
    },
    {
     "name": "stdout",
     "output_type": "stream",
     "text": [
      " 22 progress so far\n"
     ]
    },
    {
     "name": "stderr",
     "output_type": "stream",
     "text": [
      "C:\\Users\\Michael\\Anaconda3\\envs\\learn-env\\lib\\site-packages\\ipykernel_launcher.py:40: FutureWarning:\n",
      "\n",
      "'variable' is both an index level and a column label.\n",
      "Defaulting to column, but this will raise an ambiguity error in a future version\n",
      "\n",
      "C:\\Users\\Michael\\Anaconda3\\envs\\learn-env\\lib\\site-packages\\ipykernel_launcher.py:44: FutureWarning:\n",
      "\n",
      "'variable' is both an index level and a column label.\n",
      "Defaulting to column, but this will raise an ambiguity error in a future version\n",
      "\n",
      "INFO:fbprophet:Disabling weekly seasonality. Run prophet with weekly_seasonality=True to override this.\n",
      "INFO:fbprophet:Disabling daily seasonality. Run prophet with daily_seasonality=True to override this.\n"
     ]
    },
    {
     "name": "stdout",
     "output_type": "stream",
     "text": [
      "[19387.4864343296]\n"
     ]
    },
    {
     "name": "stderr",
     "output_type": "stream",
     "text": [
      "C:\\Users\\Michael\\Anaconda3\\envs\\learn-env\\lib\\site-packages\\pystan\\misc.py:399: FutureWarning:\n",
      "\n",
      "Conversion of the second argument of issubdtype from `float` to `np.floating` is deprecated. In future, it will be treated as `np.float64 == np.dtype(float).type`.\n",
      "\n",
      "C:\\Users\\Michael\\Anaconda3\\envs\\learn-env\\lib\\site-packages\\ipykernel_launcher.py:40: FutureWarning:\n",
      "\n",
      "'variable' is both an index level and a column label.\n",
      "Defaulting to column, but this will raise an ambiguity error in a future version\n",
      "\n",
      "C:\\Users\\Michael\\Anaconda3\\envs\\learn-env\\lib\\site-packages\\ipykernel_launcher.py:44: FutureWarning:\n",
      "\n",
      "'variable' is both an index level and a column label.\n",
      "Defaulting to column, but this will raise an ambiguity error in a future version\n",
      "\n",
      "INFO:fbprophet:Disabling weekly seasonality. Run prophet with weekly_seasonality=True to override this.\n",
      "INFO:fbprophet:Disabling daily seasonality. Run prophet with daily_seasonality=True to override this.\n"
     ]
    },
    {
     "name": "stdout",
     "output_type": "stream",
     "text": [
      "[19387.4864343296, 3600.6912026907607]\n"
     ]
    },
    {
     "name": "stderr",
     "output_type": "stream",
     "text": [
      "C:\\Users\\Michael\\Anaconda3\\envs\\learn-env\\lib\\site-packages\\pystan\\misc.py:399: FutureWarning:\n",
      "\n",
      "Conversion of the second argument of issubdtype from `float` to `np.floating` is deprecated. In future, it will be treated as `np.float64 == np.dtype(float).type`.\n",
      "\n"
     ]
    },
    {
     "name": "stdout",
     "output_type": "stream",
     "text": [
      "[19387.4864343296, 3600.6912026907607, 3595.8183655920384]\n",
      "[19387.4864343296, 3600.6912026907607, 3595.8183655920384]\n"
     ]
    },
    {
     "name": "stderr",
     "output_type": "stream",
     "text": [
      "C:\\Users\\Michael\\Anaconda3\\envs\\learn-env\\lib\\site-packages\\ipykernel_launcher.py:60: FutureWarning:\n",
      "\n",
      "'variable' is both an index level and a column label.\n",
      "Defaulting to column, but this will raise an ambiguity error in a future version\n",
      "\n",
      "C:\\Users\\Michael\\Anaconda3\\envs\\learn-env\\lib\\site-packages\\ipykernel_launcher.py:63: FutureWarning:\n",
      "\n",
      "'variable' is both an index level and a column label.\n",
      "Defaulting to column, but this will raise an ambiguity error in a future version\n",
      "\n",
      "INFO:fbprophet:Disabling weekly seasonality. Run prophet with weekly_seasonality=True to override this.\n",
      "INFO:fbprophet:Disabling daily seasonality. Run prophet with daily_seasonality=True to override this.\n",
      "C:\\Users\\Michael\\Anaconda3\\envs\\learn-env\\lib\\site-packages\\pystan\\misc.py:399: FutureWarning:\n",
      "\n",
      "Conversion of the second argument of issubdtype from `float` to `np.floating` is deprecated. In future, it will be treated as `np.float64 == np.dtype(float).type`.\n",
      "\n",
      "C:\\Users\\Michael\\Anaconda3\\envs\\learn-env\\lib\\site-packages\\ipykernel_launcher.py:40: FutureWarning:\n",
      "\n",
      "'variable' is both an index level and a column label.\n",
      "Defaulting to column, but this will raise an ambiguity error in a future version\n",
      "\n",
      "C:\\Users\\Michael\\Anaconda3\\envs\\learn-env\\lib\\site-packages\\ipykernel_launcher.py:44: FutureWarning:\n",
      "\n",
      "'variable' is both an index level and a column label.\n",
      "Defaulting to column, but this will raise an ambiguity error in a future version\n",
      "\n",
      "INFO:fbprophet:Disabling weekly seasonality. Run prophet with weekly_seasonality=True to override this.\n",
      "INFO:fbprophet:Disabling daily seasonality. Run prophet with daily_seasonality=True to override this.\n"
     ]
    },
    {
     "name": "stdout",
     "output_type": "stream",
     "text": [
      " 23 progress so far\n"
     ]
    },
    {
     "name": "stderr",
     "output_type": "stream",
     "text": [
      "C:\\Users\\Michael\\Anaconda3\\envs\\learn-env\\lib\\site-packages\\ipykernel_launcher.py:40: FutureWarning:\n",
      "\n",
      "'variable' is both an index level and a column label.\n",
      "Defaulting to column, but this will raise an ambiguity error in a future version\n",
      "\n",
      "C:\\Users\\Michael\\Anaconda3\\envs\\learn-env\\lib\\site-packages\\ipykernel_launcher.py:44: FutureWarning:\n",
      "\n",
      "'variable' is both an index level and a column label.\n",
      "Defaulting to column, but this will raise an ambiguity error in a future version\n",
      "\n",
      "INFO:fbprophet:Disabling weekly seasonality. Run prophet with weekly_seasonality=True to override this.\n",
      "INFO:fbprophet:Disabling daily seasonality. Run prophet with daily_seasonality=True to override this.\n"
     ]
    },
    {
     "name": "stdout",
     "output_type": "stream",
     "text": [
      "[25953.28937944285]\n"
     ]
    },
    {
     "name": "stderr",
     "output_type": "stream",
     "text": [
      "C:\\Users\\Michael\\Anaconda3\\envs\\learn-env\\lib\\site-packages\\pystan\\misc.py:399: FutureWarning:\n",
      "\n",
      "Conversion of the second argument of issubdtype from `float` to `np.floating` is deprecated. In future, it will be treated as `np.float64 == np.dtype(float).type`.\n",
      "\n",
      "C:\\Users\\Michael\\Anaconda3\\envs\\learn-env\\lib\\site-packages\\ipykernel_launcher.py:40: FutureWarning:\n",
      "\n",
      "'variable' is both an index level and a column label.\n",
      "Defaulting to column, but this will raise an ambiguity error in a future version\n",
      "\n",
      "C:\\Users\\Michael\\Anaconda3\\envs\\learn-env\\lib\\site-packages\\ipykernel_launcher.py:44: FutureWarning:\n",
      "\n",
      "'variable' is both an index level and a column label.\n",
      "Defaulting to column, but this will raise an ambiguity error in a future version\n",
      "\n",
      "INFO:fbprophet:Disabling weekly seasonality. Run prophet with weekly_seasonality=True to override this.\n",
      "INFO:fbprophet:Disabling daily seasonality. Run prophet with daily_seasonality=True to override this.\n"
     ]
    },
    {
     "name": "stdout",
     "output_type": "stream",
     "text": [
      "[25953.28937944285, 26753.4025314817]\n"
     ]
    },
    {
     "name": "stderr",
     "output_type": "stream",
     "text": [
      "C:\\Users\\Michael\\Anaconda3\\envs\\learn-env\\lib\\site-packages\\pystan\\misc.py:399: FutureWarning:\n",
      "\n",
      "Conversion of the second argument of issubdtype from `float` to `np.floating` is deprecated. In future, it will be treated as `np.float64 == np.dtype(float).type`.\n",
      "\n",
      "C:\\Users\\Michael\\Anaconda3\\envs\\learn-env\\lib\\site-packages\\ipykernel_launcher.py:60: FutureWarning:\n",
      "\n",
      "'variable' is both an index level and a column label.\n",
      "Defaulting to column, but this will raise an ambiguity error in a future version\n",
      "\n",
      "C:\\Users\\Michael\\Anaconda3\\envs\\learn-env\\lib\\site-packages\\ipykernel_launcher.py:63: FutureWarning:\n",
      "\n",
      "'variable' is both an index level and a column label.\n",
      "Defaulting to column, but this will raise an ambiguity error in a future version\n",
      "\n",
      "INFO:fbprophet:Disabling weekly seasonality. Run prophet with weekly_seasonality=True to override this.\n"
     ]
    },
    {
     "name": "stdout",
     "output_type": "stream",
     "text": [
      "[25953.28937944285, 26753.4025314817, 13461.762063369348]\n",
      "[25953.28937944285, 26753.4025314817, 13461.762063369348]\n"
     ]
    },
    {
     "name": "stderr",
     "output_type": "stream",
     "text": [
      "INFO:fbprophet:Disabling daily seasonality. Run prophet with daily_seasonality=True to override this.\n",
      "C:\\Users\\Michael\\Anaconda3\\envs\\learn-env\\lib\\site-packages\\pystan\\misc.py:399: FutureWarning:\n",
      "\n",
      "Conversion of the second argument of issubdtype from `float` to `np.floating` is deprecated. In future, it will be treated as `np.float64 == np.dtype(float).type`.\n",
      "\n"
     ]
    },
    {
     "name": "stdout",
     "output_type": "stream",
     "text": [
      " 24 progress so far\n"
     ]
    },
    {
     "name": "stderr",
     "output_type": "stream",
     "text": [
      "C:\\Users\\Michael\\Anaconda3\\envs\\learn-env\\lib\\site-packages\\ipykernel_launcher.py:40: FutureWarning:\n",
      "\n",
      "'variable' is both an index level and a column label.\n",
      "Defaulting to column, but this will raise an ambiguity error in a future version\n",
      "\n",
      "C:\\Users\\Michael\\Anaconda3\\envs\\learn-env\\lib\\site-packages\\ipykernel_launcher.py:44: FutureWarning:\n",
      "\n",
      "'variable' is both an index level and a column label.\n",
      "Defaulting to column, but this will raise an ambiguity error in a future version\n",
      "\n",
      "INFO:fbprophet:Disabling weekly seasonality. Run prophet with weekly_seasonality=True to override this.\n",
      "INFO:fbprophet:Disabling daily seasonality. Run prophet with daily_seasonality=True to override this.\n",
      "C:\\Users\\Michael\\Anaconda3\\envs\\learn-env\\lib\\site-packages\\ipykernel_launcher.py:40: FutureWarning:\n",
      "\n",
      "'variable' is both an index level and a column label.\n",
      "Defaulting to column, but this will raise an ambiguity error in a future version\n",
      "\n",
      "C:\\Users\\Michael\\Anaconda3\\envs\\learn-env\\lib\\site-packages\\ipykernel_launcher.py:44: FutureWarning:\n",
      "\n",
      "'variable' is both an index level and a column label.\n",
      "Defaulting to column, but this will raise an ambiguity error in a future version\n",
      "\n",
      "INFO:fbprophet:Disabling weekly seasonality. Run prophet with weekly_seasonality=True to override this.\n",
      "INFO:fbprophet:Disabling daily seasonality. Run prophet with daily_seasonality=True to override this.\n"
     ]
    },
    {
     "name": "stdout",
     "output_type": "stream",
     "text": [
      "[108133.93922422644]\n"
     ]
    },
    {
     "name": "stderr",
     "output_type": "stream",
     "text": [
      "C:\\Users\\Michael\\Anaconda3\\envs\\learn-env\\lib\\site-packages\\pystan\\misc.py:399: FutureWarning:\n",
      "\n",
      "Conversion of the second argument of issubdtype from `float` to `np.floating` is deprecated. In future, it will be treated as `np.float64 == np.dtype(float).type`.\n",
      "\n",
      "C:\\Users\\Michael\\Anaconda3\\envs\\learn-env\\lib\\site-packages\\ipykernel_launcher.py:40: FutureWarning:\n",
      "\n",
      "'variable' is both an index level and a column label.\n",
      "Defaulting to column, but this will raise an ambiguity error in a future version\n",
      "\n",
      "C:\\Users\\Michael\\Anaconda3\\envs\\learn-env\\lib\\site-packages\\ipykernel_launcher.py:44: FutureWarning:\n",
      "\n",
      "'variable' is both an index level and a column label.\n",
      "Defaulting to column, but this will raise an ambiguity error in a future version\n",
      "\n",
      "INFO:fbprophet:Disabling weekly seasonality. Run prophet with weekly_seasonality=True to override this.\n",
      "INFO:fbprophet:Disabling daily seasonality. Run prophet with daily_seasonality=True to override this.\n"
     ]
    },
    {
     "name": "stdout",
     "output_type": "stream",
     "text": [
      "[108133.93922422644, 225460.5817114251]\n"
     ]
    },
    {
     "name": "stderr",
     "output_type": "stream",
     "text": [
      "C:\\Users\\Michael\\Anaconda3\\envs\\learn-env\\lib\\site-packages\\pystan\\misc.py:399: FutureWarning:\n",
      "\n",
      "Conversion of the second argument of issubdtype from `float` to `np.floating` is deprecated. In future, it will be treated as `np.float64 == np.dtype(float).type`.\n",
      "\n",
      "C:\\Users\\Michael\\Anaconda3\\envs\\learn-env\\lib\\site-packages\\ipykernel_launcher.py:60: FutureWarning:\n",
      "\n",
      "'variable' is both an index level and a column label.\n",
      "Defaulting to column, but this will raise an ambiguity error in a future version\n",
      "\n",
      "C:\\Users\\Michael\\Anaconda3\\envs\\learn-env\\lib\\site-packages\\ipykernel_launcher.py:63: FutureWarning:\n",
      "\n",
      "'variable' is both an index level and a column label.\n",
      "Defaulting to column, but this will raise an ambiguity error in a future version\n",
      "\n",
      "INFO:fbprophet:Disabling weekly seasonality. Run prophet with weekly_seasonality=True to override this.\n",
      "INFO:fbprophet:Disabling daily seasonality. Run prophet with daily_seasonality=True to override this.\n"
     ]
    },
    {
     "name": "stdout",
     "output_type": "stream",
     "text": [
      "[108133.93922422644, 225460.5817114251, 129788.84528017929]\n",
      "[108133.93922422644, 225460.5817114251, 129788.84528017929]\n"
     ]
    },
    {
     "name": "stderr",
     "output_type": "stream",
     "text": [
      "C:\\Users\\Michael\\Anaconda3\\envs\\learn-env\\lib\\site-packages\\pystan\\misc.py:399: FutureWarning:\n",
      "\n",
      "Conversion of the second argument of issubdtype from `float` to `np.floating` is deprecated. In future, it will be treated as `np.float64 == np.dtype(float).type`.\n",
      "\n",
      "C:\\Users\\Michael\\Anaconda3\\envs\\learn-env\\lib\\site-packages\\ipykernel_launcher.py:40: FutureWarning:\n",
      "\n",
      "'variable' is both an index level and a column label.\n",
      "Defaulting to column, but this will raise an ambiguity error in a future version\n",
      "\n",
      "C:\\Users\\Michael\\Anaconda3\\envs\\learn-env\\lib\\site-packages\\ipykernel_launcher.py:44: FutureWarning:\n",
      "\n",
      "'variable' is both an index level and a column label.\n",
      "Defaulting to column, but this will raise an ambiguity error in a future version\n",
      "\n",
      "INFO:fbprophet:Disabling weekly seasonality. Run prophet with weekly_seasonality=True to override this.\n",
      "INFO:fbprophet:Disabling daily seasonality. Run prophet with daily_seasonality=True to override this.\n"
     ]
    },
    {
     "name": "stdout",
     "output_type": "stream",
     "text": [
      " 25 progress so far\n"
     ]
    },
    {
     "name": "stderr",
     "output_type": "stream",
     "text": [
      "C:\\Users\\Michael\\Anaconda3\\envs\\learn-env\\lib\\site-packages\\ipykernel_launcher.py:40: FutureWarning:\n",
      "\n",
      "'variable' is both an index level and a column label.\n",
      "Defaulting to column, but this will raise an ambiguity error in a future version\n",
      "\n",
      "C:\\Users\\Michael\\Anaconda3\\envs\\learn-env\\lib\\site-packages\\ipykernel_launcher.py:44: FutureWarning:\n",
      "\n",
      "'variable' is both an index level and a column label.\n",
      "Defaulting to column, but this will raise an ambiguity error in a future version\n",
      "\n",
      "INFO:fbprophet:Disabling weekly seasonality. Run prophet with weekly_seasonality=True to override this.\n",
      "INFO:fbprophet:Disabling daily seasonality. Run prophet with daily_seasonality=True to override this.\n"
     ]
    },
    {
     "name": "stdout",
     "output_type": "stream",
     "text": [
      "[377176.60141458974]\n"
     ]
    },
    {
     "name": "stderr",
     "output_type": "stream",
     "text": [
      "C:\\Users\\Michael\\Anaconda3\\envs\\learn-env\\lib\\site-packages\\pystan\\misc.py:399: FutureWarning:\n",
      "\n",
      "Conversion of the second argument of issubdtype from `float` to `np.floating` is deprecated. In future, it will be treated as `np.float64 == np.dtype(float).type`.\n",
      "\n",
      "C:\\Users\\Michael\\Anaconda3\\envs\\learn-env\\lib\\site-packages\\ipykernel_launcher.py:40: FutureWarning:\n",
      "\n",
      "'variable' is both an index level and a column label.\n",
      "Defaulting to column, but this will raise an ambiguity error in a future version\n",
      "\n",
      "C:\\Users\\Michael\\Anaconda3\\envs\\learn-env\\lib\\site-packages\\ipykernel_launcher.py:44: FutureWarning:\n",
      "\n",
      "'variable' is both an index level and a column label.\n",
      "Defaulting to column, but this will raise an ambiguity error in a future version\n",
      "\n",
      "INFO:fbprophet:Disabling weekly seasonality. Run prophet with weekly_seasonality=True to override this.\n",
      "INFO:fbprophet:Disabling daily seasonality. Run prophet with daily_seasonality=True to override this.\n"
     ]
    },
    {
     "name": "stdout",
     "output_type": "stream",
     "text": [
      "[377176.60141458974, 319224.43396070076]\n"
     ]
    },
    {
     "name": "stderr",
     "output_type": "stream",
     "text": [
      "C:\\Users\\Michael\\Anaconda3\\envs\\learn-env\\lib\\site-packages\\pystan\\misc.py:399: FutureWarning:\n",
      "\n",
      "Conversion of the second argument of issubdtype from `float` to `np.floating` is deprecated. In future, it will be treated as `np.float64 == np.dtype(float).type`.\n",
      "\n",
      "C:\\Users\\Michael\\Anaconda3\\envs\\learn-env\\lib\\site-packages\\ipykernel_launcher.py:60: FutureWarning:\n",
      "\n",
      "'variable' is both an index level and a column label.\n",
      "Defaulting to column, but this will raise an ambiguity error in a future version\n",
      "\n",
      "C:\\Users\\Michael\\Anaconda3\\envs\\learn-env\\lib\\site-packages\\ipykernel_launcher.py:63: FutureWarning:\n",
      "\n",
      "'variable' is both an index level and a column label.\n",
      "Defaulting to column, but this will raise an ambiguity error in a future version\n",
      "\n",
      "INFO:fbprophet:Disabling weekly seasonality. Run prophet with weekly_seasonality=True to override this.\n",
      "INFO:fbprophet:Disabling daily seasonality. Run prophet with daily_seasonality=True to override this.\n"
     ]
    },
    {
     "name": "stdout",
     "output_type": "stream",
     "text": [
      "[377176.60141458974, 319224.43396070076, 108017.62029787125]\n",
      "[377176.60141458974, 319224.43396070076, 108017.62029787125]\n"
     ]
    },
    {
     "name": "stderr",
     "output_type": "stream",
     "text": [
      "C:\\Users\\Michael\\Anaconda3\\envs\\learn-env\\lib\\site-packages\\pystan\\misc.py:399: FutureWarning:\n",
      "\n",
      "Conversion of the second argument of issubdtype from `float` to `np.floating` is deprecated. In future, it will be treated as `np.float64 == np.dtype(float).type`.\n",
      "\n",
      "C:\\Users\\Michael\\Anaconda3\\envs\\learn-env\\lib\\site-packages\\ipykernel_launcher.py:40: FutureWarning:\n",
      "\n",
      "'variable' is both an index level and a column label.\n",
      "Defaulting to column, but this will raise an ambiguity error in a future version\n",
      "\n",
      "C:\\Users\\Michael\\Anaconda3\\envs\\learn-env\\lib\\site-packages\\ipykernel_launcher.py:44: FutureWarning:\n",
      "\n",
      "'variable' is both an index level and a column label.\n",
      "Defaulting to column, but this will raise an ambiguity error in a future version\n",
      "\n",
      "INFO:fbprophet:Disabling weekly seasonality. Run prophet with weekly_seasonality=True to override this.\n",
      "INFO:fbprophet:Disabling daily seasonality. Run prophet with daily_seasonality=True to override this.\n"
     ]
    },
    {
     "name": "stdout",
     "output_type": "stream",
     "text": [
      " 26 progress so far\n"
     ]
    },
    {
     "name": "stderr",
     "output_type": "stream",
     "text": [
      "C:\\Users\\Michael\\Anaconda3\\envs\\learn-env\\lib\\site-packages\\ipykernel_launcher.py:40: FutureWarning:\n",
      "\n",
      "'variable' is both an index level and a column label.\n",
      "Defaulting to column, but this will raise an ambiguity error in a future version\n",
      "\n",
      "C:\\Users\\Michael\\Anaconda3\\envs\\learn-env\\lib\\site-packages\\ipykernel_launcher.py:44: FutureWarning:\n",
      "\n",
      "'variable' is both an index level and a column label.\n",
      "Defaulting to column, but this will raise an ambiguity error in a future version\n",
      "\n",
      "INFO:fbprophet:Disabling weekly seasonality. Run prophet with weekly_seasonality=True to override this.\n",
      "INFO:fbprophet:Disabling daily seasonality. Run prophet with daily_seasonality=True to override this.\n"
     ]
    },
    {
     "name": "stdout",
     "output_type": "stream",
     "text": [
      "[226561.22327356582]\n"
     ]
    },
    {
     "name": "stderr",
     "output_type": "stream",
     "text": [
      "C:\\Users\\Michael\\Anaconda3\\envs\\learn-env\\lib\\site-packages\\pystan\\misc.py:399: FutureWarning:\n",
      "\n",
      "Conversion of the second argument of issubdtype from `float` to `np.floating` is deprecated. In future, it will be treated as `np.float64 == np.dtype(float).type`.\n",
      "\n",
      "C:\\Users\\Michael\\Anaconda3\\envs\\learn-env\\lib\\site-packages\\ipykernel_launcher.py:40: FutureWarning:\n",
      "\n",
      "'variable' is both an index level and a column label.\n",
      "Defaulting to column, but this will raise an ambiguity error in a future version\n",
      "\n",
      "C:\\Users\\Michael\\Anaconda3\\envs\\learn-env\\lib\\site-packages\\ipykernel_launcher.py:44: FutureWarning:\n",
      "\n",
      "'variable' is both an index level and a column label.\n",
      "Defaulting to column, but this will raise an ambiguity error in a future version\n",
      "\n",
      "INFO:fbprophet:Disabling weekly seasonality. Run prophet with weekly_seasonality=True to override this.\n",
      "INFO:fbprophet:Disabling daily seasonality. Run prophet with daily_seasonality=True to override this.\n"
     ]
    },
    {
     "name": "stdout",
     "output_type": "stream",
     "text": [
      "[226561.22327356582, 268129.8518379426]\n"
     ]
    },
    {
     "name": "stderr",
     "output_type": "stream",
     "text": [
      "C:\\Users\\Michael\\Anaconda3\\envs\\learn-env\\lib\\site-packages\\pystan\\misc.py:399: FutureWarning:\n",
      "\n",
      "Conversion of the second argument of issubdtype from `float` to `np.floating` is deprecated. In future, it will be treated as `np.float64 == np.dtype(float).type`.\n",
      "\n"
     ]
    },
    {
     "name": "stdout",
     "output_type": "stream",
     "text": [
      "[226561.22327356582, 268129.8518379426, 214220.67190359463]\n",
      "[226561.22327356582, 268129.8518379426, 214220.67190359463]\n"
     ]
    },
    {
     "name": "stderr",
     "output_type": "stream",
     "text": [
      "C:\\Users\\Michael\\Anaconda3\\envs\\learn-env\\lib\\site-packages\\ipykernel_launcher.py:60: FutureWarning:\n",
      "\n",
      "'variable' is both an index level and a column label.\n",
      "Defaulting to column, but this will raise an ambiguity error in a future version\n",
      "\n",
      "C:\\Users\\Michael\\Anaconda3\\envs\\learn-env\\lib\\site-packages\\ipykernel_launcher.py:63: FutureWarning:\n",
      "\n",
      "'variable' is both an index level and a column label.\n",
      "Defaulting to column, but this will raise an ambiguity error in a future version\n",
      "\n",
      "INFO:fbprophet:Disabling weekly seasonality. Run prophet with weekly_seasonality=True to override this.\n",
      "INFO:fbprophet:Disabling daily seasonality. Run prophet with daily_seasonality=True to override this.\n",
      "C:\\Users\\Michael\\Anaconda3\\envs\\learn-env\\lib\\site-packages\\pystan\\misc.py:399: FutureWarning:\n",
      "\n",
      "Conversion of the second argument of issubdtype from `float` to `np.floating` is deprecated. In future, it will be treated as `np.float64 == np.dtype(float).type`.\n",
      "\n",
      "C:\\Users\\Michael\\Anaconda3\\envs\\learn-env\\lib\\site-packages\\ipykernel_launcher.py:40: FutureWarning:\n",
      "\n",
      "'variable' is both an index level and a column label.\n",
      "Defaulting to column, but this will raise an ambiguity error in a future version\n",
      "\n",
      "C:\\Users\\Michael\\Anaconda3\\envs\\learn-env\\lib\\site-packages\\ipykernel_launcher.py:44: FutureWarning:\n",
      "\n",
      "'variable' is both an index level and a column label.\n",
      "Defaulting to column, but this will raise an ambiguity error in a future version\n",
      "\n",
      "INFO:fbprophet:Disabling weekly seasonality. Run prophet with weekly_seasonality=True to override this.\n",
      "INFO:fbprophet:Disabling daily seasonality. Run prophet with daily_seasonality=True to override this.\n"
     ]
    },
    {
     "name": "stdout",
     "output_type": "stream",
     "text": [
      " 27 progress so far\n"
     ]
    },
    {
     "name": "stderr",
     "output_type": "stream",
     "text": [
      "C:\\Users\\Michael\\Anaconda3\\envs\\learn-env\\lib\\site-packages\\ipykernel_launcher.py:40: FutureWarning:\n",
      "\n",
      "'variable' is both an index level and a column label.\n",
      "Defaulting to column, but this will raise an ambiguity error in a future version\n",
      "\n",
      "C:\\Users\\Michael\\Anaconda3\\envs\\learn-env\\lib\\site-packages\\ipykernel_launcher.py:44: FutureWarning:\n",
      "\n",
      "'variable' is both an index level and a column label.\n",
      "Defaulting to column, but this will raise an ambiguity error in a future version\n",
      "\n",
      "INFO:fbprophet:Disabling weekly seasonality. Run prophet with weekly_seasonality=True to override this.\n",
      "INFO:fbprophet:Disabling daily seasonality. Run prophet with daily_seasonality=True to override this.\n"
     ]
    },
    {
     "name": "stdout",
     "output_type": "stream",
     "text": [
      "[127579.03301840308]\n"
     ]
    },
    {
     "name": "stderr",
     "output_type": "stream",
     "text": [
      "C:\\Users\\Michael\\Anaconda3\\envs\\learn-env\\lib\\site-packages\\pystan\\misc.py:399: FutureWarning:\n",
      "\n",
      "Conversion of the second argument of issubdtype from `float` to `np.floating` is deprecated. In future, it will be treated as `np.float64 == np.dtype(float).type`.\n",
      "\n"
     ]
    },
    {
     "name": "stdout",
     "output_type": "stream",
     "text": [
      "[127579.03301840308, 336890.25004727923]\n"
     ]
    },
    {
     "name": "stderr",
     "output_type": "stream",
     "text": [
      "C:\\Users\\Michael\\Anaconda3\\envs\\learn-env\\lib\\site-packages\\ipykernel_launcher.py:40: FutureWarning:\n",
      "\n",
      "'variable' is both an index level and a column label.\n",
      "Defaulting to column, but this will raise an ambiguity error in a future version\n",
      "\n",
      "C:\\Users\\Michael\\Anaconda3\\envs\\learn-env\\lib\\site-packages\\ipykernel_launcher.py:44: FutureWarning:\n",
      "\n",
      "'variable' is both an index level and a column label.\n",
      "Defaulting to column, but this will raise an ambiguity error in a future version\n",
      "\n",
      "INFO:fbprophet:Disabling weekly seasonality. Run prophet with weekly_seasonality=True to override this.\n",
      "INFO:fbprophet:Disabling daily seasonality. Run prophet with daily_seasonality=True to override this.\n",
      "C:\\Users\\Michael\\Anaconda3\\envs\\learn-env\\lib\\site-packages\\pystan\\misc.py:399: FutureWarning:\n",
      "\n",
      "Conversion of the second argument of issubdtype from `float` to `np.floating` is deprecated. In future, it will be treated as `np.float64 == np.dtype(float).type`.\n",
      "\n",
      "C:\\Users\\Michael\\Anaconda3\\envs\\learn-env\\lib\\site-packages\\ipykernel_launcher.py:60: FutureWarning:\n",
      "\n",
      "'variable' is both an index level and a column label.\n",
      "Defaulting to column, but this will raise an ambiguity error in a future version\n",
      "\n",
      "C:\\Users\\Michael\\Anaconda3\\envs\\learn-env\\lib\\site-packages\\ipykernel_launcher.py:63: FutureWarning:\n",
      "\n",
      "'variable' is both an index level and a column label.\n",
      "Defaulting to column, but this will raise an ambiguity error in a future version\n",
      "\n",
      "INFO:fbprophet:Disabling weekly seasonality. Run prophet with weekly_seasonality=True to override this.\n"
     ]
    },
    {
     "name": "stdout",
     "output_type": "stream",
     "text": [
      "[127579.03301840308, 336890.25004727923, 201521.08469320298]\n",
      "[127579.03301840308, 336890.25004727923, 201521.08469320298]\n"
     ]
    },
    {
     "name": "stderr",
     "output_type": "stream",
     "text": [
      "INFO:fbprophet:Disabling daily seasonality. Run prophet with daily_seasonality=True to override this.\n",
      "C:\\Users\\Michael\\Anaconda3\\envs\\learn-env\\lib\\site-packages\\pystan\\misc.py:399: FutureWarning:\n",
      "\n",
      "Conversion of the second argument of issubdtype from `float` to `np.floating` is deprecated. In future, it will be treated as `np.float64 == np.dtype(float).type`.\n",
      "\n",
      "C:\\Users\\Michael\\Anaconda3\\envs\\learn-env\\lib\\site-packages\\ipykernel_launcher.py:40: FutureWarning:\n",
      "\n",
      "'variable' is both an index level and a column label.\n",
      "Defaulting to column, but this will raise an ambiguity error in a future version\n",
      "\n",
      "C:\\Users\\Michael\\Anaconda3\\envs\\learn-env\\lib\\site-packages\\ipykernel_launcher.py:44: FutureWarning:\n",
      "\n",
      "'variable' is both an index level and a column label.\n",
      "Defaulting to column, but this will raise an ambiguity error in a future version\n",
      "\n",
      "INFO:fbprophet:Disabling weekly seasonality. Run prophet with weekly_seasonality=True to override this.\n",
      "INFO:fbprophet:Disabling daily seasonality. Run prophet with daily_seasonality=True to override this.\n"
     ]
    },
    {
     "name": "stdout",
     "output_type": "stream",
     "text": [
      " 28 progress so far\n"
     ]
    },
    {
     "name": "stderr",
     "output_type": "stream",
     "text": [
      "C:\\Users\\Michael\\Anaconda3\\envs\\learn-env\\lib\\site-packages\\ipykernel_launcher.py:40: FutureWarning:\n",
      "\n",
      "'variable' is both an index level and a column label.\n",
      "Defaulting to column, but this will raise an ambiguity error in a future version\n",
      "\n",
      "C:\\Users\\Michael\\Anaconda3\\envs\\learn-env\\lib\\site-packages\\ipykernel_launcher.py:44: FutureWarning:\n",
      "\n",
      "'variable' is both an index level and a column label.\n",
      "Defaulting to column, but this will raise an ambiguity error in a future version\n",
      "\n",
      "INFO:fbprophet:Disabling weekly seasonality. Run prophet with weekly_seasonality=True to override this.\n",
      "INFO:fbprophet:Disabling daily seasonality. Run prophet with daily_seasonality=True to override this.\n"
     ]
    },
    {
     "name": "stdout",
     "output_type": "stream",
     "text": [
      "[122111.2698611553]\n"
     ]
    },
    {
     "name": "stderr",
     "output_type": "stream",
     "text": [
      "C:\\Users\\Michael\\Anaconda3\\envs\\learn-env\\lib\\site-packages\\pystan\\misc.py:399: FutureWarning:\n",
      "\n",
      "Conversion of the second argument of issubdtype from `float` to `np.floating` is deprecated. In future, it will be treated as `np.float64 == np.dtype(float).type`.\n",
      "\n",
      "C:\\Users\\Michael\\Anaconda3\\envs\\learn-env\\lib\\site-packages\\ipykernel_launcher.py:40: FutureWarning:\n",
      "\n",
      "'variable' is both an index level and a column label.\n",
      "Defaulting to column, but this will raise an ambiguity error in a future version\n",
      "\n",
      "C:\\Users\\Michael\\Anaconda3\\envs\\learn-env\\lib\\site-packages\\ipykernel_launcher.py:44: FutureWarning:\n",
      "\n",
      "'variable' is both an index level and a column label.\n",
      "Defaulting to column, but this will raise an ambiguity error in a future version\n",
      "\n",
      "INFO:fbprophet:Disabling weekly seasonality. Run prophet with weekly_seasonality=True to override this.\n",
      "INFO:fbprophet:Disabling daily seasonality. Run prophet with daily_seasonality=True to override this.\n"
     ]
    },
    {
     "name": "stdout",
     "output_type": "stream",
     "text": [
      "[122111.2698611553, 249591.70647338234]\n"
     ]
    },
    {
     "name": "stderr",
     "output_type": "stream",
     "text": [
      "C:\\Users\\Michael\\Anaconda3\\envs\\learn-env\\lib\\site-packages\\pystan\\misc.py:399: FutureWarning:\n",
      "\n",
      "Conversion of the second argument of issubdtype from `float` to `np.floating` is deprecated. In future, it will be treated as `np.float64 == np.dtype(float).type`.\n",
      "\n"
     ]
    },
    {
     "name": "stdout",
     "output_type": "stream",
     "text": [
      "[122111.2698611553, 249591.70647338234, 98448.16853526211]\n",
      "[122111.2698611553, 249591.70647338234, 98448.16853526211]\n"
     ]
    },
    {
     "name": "stderr",
     "output_type": "stream",
     "text": [
      "C:\\Users\\Michael\\Anaconda3\\envs\\learn-env\\lib\\site-packages\\ipykernel_launcher.py:60: FutureWarning:\n",
      "\n",
      "'variable' is both an index level and a column label.\n",
      "Defaulting to column, but this will raise an ambiguity error in a future version\n",
      "\n",
      "C:\\Users\\Michael\\Anaconda3\\envs\\learn-env\\lib\\site-packages\\ipykernel_launcher.py:63: FutureWarning:\n",
      "\n",
      "'variable' is both an index level and a column label.\n",
      "Defaulting to column, but this will raise an ambiguity error in a future version\n",
      "\n",
      "INFO:fbprophet:Disabling weekly seasonality. Run prophet with weekly_seasonality=True to override this.\n",
      "INFO:fbprophet:Disabling daily seasonality. Run prophet with daily_seasonality=True to override this.\n",
      "C:\\Users\\Michael\\Anaconda3\\envs\\learn-env\\lib\\site-packages\\pystan\\misc.py:399: FutureWarning:\n",
      "\n",
      "Conversion of the second argument of issubdtype from `float` to `np.floating` is deprecated. In future, it will be treated as `np.float64 == np.dtype(float).type`.\n",
      "\n",
      "C:\\Users\\Michael\\Anaconda3\\envs\\learn-env\\lib\\site-packages\\ipykernel_launcher.py:40: FutureWarning:\n",
      "\n",
      "'variable' is both an index level and a column label.\n",
      "Defaulting to column, but this will raise an ambiguity error in a future version\n",
      "\n",
      "C:\\Users\\Michael\\Anaconda3\\envs\\learn-env\\lib\\site-packages\\ipykernel_launcher.py:44: FutureWarning:\n",
      "\n",
      "'variable' is both an index level and a column label.\n",
      "Defaulting to column, but this will raise an ambiguity error in a future version\n",
      "\n",
      "INFO:fbprophet:Disabling weekly seasonality. Run prophet with weekly_seasonality=True to override this.\n",
      "INFO:fbprophet:Disabling daily seasonality. Run prophet with daily_seasonality=True to override this.\n"
     ]
    },
    {
     "name": "stdout",
     "output_type": "stream",
     "text": [
      " 29 progress so far\n"
     ]
    },
    {
     "name": "stderr",
     "output_type": "stream",
     "text": [
      "C:\\Users\\Michael\\Anaconda3\\envs\\learn-env\\lib\\site-packages\\ipykernel_launcher.py:40: FutureWarning:\n",
      "\n",
      "'variable' is both an index level and a column label.\n",
      "Defaulting to column, but this will raise an ambiguity error in a future version\n",
      "\n",
      "C:\\Users\\Michael\\Anaconda3\\envs\\learn-env\\lib\\site-packages\\ipykernel_launcher.py:44: FutureWarning:\n",
      "\n",
      "'variable' is both an index level and a column label.\n",
      "Defaulting to column, but this will raise an ambiguity error in a future version\n",
      "\n",
      "INFO:fbprophet:Disabling weekly seasonality. Run prophet with weekly_seasonality=True to override this.\n",
      "INFO:fbprophet:Disabling daily seasonality. Run prophet with daily_seasonality=True to override this.\n"
     ]
    },
    {
     "name": "stdout",
     "output_type": "stream",
     "text": [
      "[23638.22036210865]\n"
     ]
    },
    {
     "name": "stderr",
     "output_type": "stream",
     "text": [
      "C:\\Users\\Michael\\Anaconda3\\envs\\learn-env\\lib\\site-packages\\pystan\\misc.py:399: FutureWarning:\n",
      "\n",
      "Conversion of the second argument of issubdtype from `float` to `np.floating` is deprecated. In future, it will be treated as `np.float64 == np.dtype(float).type`.\n",
      "\n",
      "C:\\Users\\Michael\\Anaconda3\\envs\\learn-env\\lib\\site-packages\\ipykernel_launcher.py:40: FutureWarning:\n",
      "\n",
      "'variable' is both an index level and a column label.\n",
      "Defaulting to column, but this will raise an ambiguity error in a future version\n",
      "\n",
      "C:\\Users\\Michael\\Anaconda3\\envs\\learn-env\\lib\\site-packages\\ipykernel_launcher.py:44: FutureWarning:\n",
      "\n",
      "'variable' is both an index level and a column label.\n",
      "Defaulting to column, but this will raise an ambiguity error in a future version\n",
      "\n",
      "INFO:fbprophet:Disabling weekly seasonality. Run prophet with weekly_seasonality=True to override this.\n",
      "INFO:fbprophet:Disabling daily seasonality. Run prophet with daily_seasonality=True to override this.\n"
     ]
    },
    {
     "name": "stdout",
     "output_type": "stream",
     "text": [
      "[23638.22036210865, 61406.56437002949]\n"
     ]
    },
    {
     "name": "stderr",
     "output_type": "stream",
     "text": [
      "C:\\Users\\Michael\\Anaconda3\\envs\\learn-env\\lib\\site-packages\\pystan\\misc.py:399: FutureWarning:\n",
      "\n",
      "Conversion of the second argument of issubdtype from `float` to `np.floating` is deprecated. In future, it will be treated as `np.float64 == np.dtype(float).type`.\n",
      "\n",
      "C:\\Users\\Michael\\Anaconda3\\envs\\learn-env\\lib\\site-packages\\ipykernel_launcher.py:60: FutureWarning:\n",
      "\n",
      "'variable' is both an index level and a column label.\n",
      "Defaulting to column, but this will raise an ambiguity error in a future version\n",
      "\n",
      "C:\\Users\\Michael\\Anaconda3\\envs\\learn-env\\lib\\site-packages\\ipykernel_launcher.py:63: FutureWarning:\n",
      "\n",
      "'variable' is both an index level and a column label.\n",
      "Defaulting to column, but this will raise an ambiguity error in a future version\n",
      "\n",
      "INFO:fbprophet:Disabling weekly seasonality. Run prophet with weekly_seasonality=True to override this.\n"
     ]
    },
    {
     "name": "stdout",
     "output_type": "stream",
     "text": [
      "[23638.22036210865, 61406.56437002949, 31828.508424584157]\n",
      "[23638.22036210865, 61406.56437002949, 31828.508424584157]\n"
     ]
    },
    {
     "name": "stderr",
     "output_type": "stream",
     "text": [
      "INFO:fbprophet:Disabling daily seasonality. Run prophet with daily_seasonality=True to override this.\n",
      "C:\\Users\\Michael\\Anaconda3\\envs\\learn-env\\lib\\site-packages\\pystan\\misc.py:399: FutureWarning:\n",
      "\n",
      "Conversion of the second argument of issubdtype from `float` to `np.floating` is deprecated. In future, it will be treated as `np.float64 == np.dtype(float).type`.\n",
      "\n",
      "C:\\Users\\Michael\\Anaconda3\\envs\\learn-env\\lib\\site-packages\\ipykernel_launcher.py:40: FutureWarning:\n",
      "\n",
      "'variable' is both an index level and a column label.\n",
      "Defaulting to column, but this will raise an ambiguity error in a future version\n",
      "\n",
      "C:\\Users\\Michael\\Anaconda3\\envs\\learn-env\\lib\\site-packages\\ipykernel_launcher.py:44: FutureWarning:\n",
      "\n",
      "'variable' is both an index level and a column label.\n",
      "Defaulting to column, but this will raise an ambiguity error in a future version\n",
      "\n",
      "INFO:fbprophet:Disabling weekly seasonality. Run prophet with weekly_seasonality=True to override this.\n",
      "INFO:fbprophet:Disabling daily seasonality. Run prophet with daily_seasonality=True to override this.\n"
     ]
    },
    {
     "name": "stdout",
     "output_type": "stream",
     "text": [
      " 30 progress so far\n"
     ]
    },
    {
     "name": "stderr",
     "output_type": "stream",
     "text": [
      "C:\\Users\\Michael\\Anaconda3\\envs\\learn-env\\lib\\site-packages\\ipykernel_launcher.py:40: FutureWarning:\n",
      "\n",
      "'variable' is both an index level and a column label.\n",
      "Defaulting to column, but this will raise an ambiguity error in a future version\n",
      "\n",
      "C:\\Users\\Michael\\Anaconda3\\envs\\learn-env\\lib\\site-packages\\ipykernel_launcher.py:44: FutureWarning:\n",
      "\n",
      "'variable' is both an index level and a column label.\n",
      "Defaulting to column, but this will raise an ambiguity error in a future version\n",
      "\n",
      "INFO:fbprophet:Disabling weekly seasonality. Run prophet with weekly_seasonality=True to override this.\n",
      "INFO:fbprophet:Disabling daily seasonality. Run prophet with daily_seasonality=True to override this.\n"
     ]
    },
    {
     "name": "stdout",
     "output_type": "stream",
     "text": [
      "[8133.740801159887]\n"
     ]
    },
    {
     "name": "stderr",
     "output_type": "stream",
     "text": [
      "C:\\Users\\Michael\\Anaconda3\\envs\\learn-env\\lib\\site-packages\\pystan\\misc.py:399: FutureWarning:\n",
      "\n",
      "Conversion of the second argument of issubdtype from `float` to `np.floating` is deprecated. In future, it will be treated as `np.float64 == np.dtype(float).type`.\n",
      "\n",
      "C:\\Users\\Michael\\Anaconda3\\envs\\learn-env\\lib\\site-packages\\ipykernel_launcher.py:40: FutureWarning:\n",
      "\n",
      "'variable' is both an index level and a column label.\n",
      "Defaulting to column, but this will raise an ambiguity error in a future version\n",
      "\n",
      "C:\\Users\\Michael\\Anaconda3\\envs\\learn-env\\lib\\site-packages\\ipykernel_launcher.py:44: FutureWarning:\n",
      "\n",
      "'variable' is both an index level and a column label.\n",
      "Defaulting to column, but this will raise an ambiguity error in a future version\n",
      "\n",
      "INFO:fbprophet:Disabling weekly seasonality. Run prophet with weekly_seasonality=True to override this.\n",
      "INFO:fbprophet:Disabling daily seasonality. Run prophet with daily_seasonality=True to override this.\n"
     ]
    },
    {
     "name": "stdout",
     "output_type": "stream",
     "text": [
      "[8133.740801159887, 4463.783446041737]\n"
     ]
    },
    {
     "name": "stderr",
     "output_type": "stream",
     "text": [
      "C:\\Users\\Michael\\Anaconda3\\envs\\learn-env\\lib\\site-packages\\pystan\\misc.py:399: FutureWarning:\n",
      "\n",
      "Conversion of the second argument of issubdtype from `float` to `np.floating` is deprecated. In future, it will be treated as `np.float64 == np.dtype(float).type`.\n",
      "\n",
      "C:\\Users\\Michael\\Anaconda3\\envs\\learn-env\\lib\\site-packages\\ipykernel_launcher.py:60: FutureWarning:\n",
      "\n",
      "'variable' is both an index level and a column label.\n",
      "Defaulting to column, but this will raise an ambiguity error in a future version\n",
      "\n",
      "C:\\Users\\Michael\\Anaconda3\\envs\\learn-env\\lib\\site-packages\\ipykernel_launcher.py:63: FutureWarning:\n",
      "\n",
      "'variable' is both an index level and a column label.\n",
      "Defaulting to column, but this will raise an ambiguity error in a future version\n",
      "\n",
      "INFO:fbprophet:Disabling weekly seasonality. Run prophet with weekly_seasonality=True to override this.\n",
      "INFO:fbprophet:Disabling daily seasonality. Run prophet with daily_seasonality=True to override this.\n"
     ]
    },
    {
     "name": "stdout",
     "output_type": "stream",
     "text": [
      "[8133.740801159887, 4463.783446041737, 3988.8435264534637]\n",
      "[8133.740801159887, 4463.783446041737, 3988.8435264534637]\n"
     ]
    },
    {
     "name": "stderr",
     "output_type": "stream",
     "text": [
      "C:\\Users\\Michael\\Anaconda3\\envs\\learn-env\\lib\\site-packages\\pystan\\misc.py:399: FutureWarning:\n",
      "\n",
      "Conversion of the second argument of issubdtype from `float` to `np.floating` is deprecated. In future, it will be treated as `np.float64 == np.dtype(float).type`.\n",
      "\n",
      "C:\\Users\\Michael\\Anaconda3\\envs\\learn-env\\lib\\site-packages\\ipykernel_launcher.py:40: FutureWarning:\n",
      "\n",
      "'variable' is both an index level and a column label.\n",
      "Defaulting to column, but this will raise an ambiguity error in a future version\n",
      "\n",
      "C:\\Users\\Michael\\Anaconda3\\envs\\learn-env\\lib\\site-packages\\ipykernel_launcher.py:44: FutureWarning:\n",
      "\n",
      "'variable' is both an index level and a column label.\n",
      "Defaulting to column, but this will raise an ambiguity error in a future version\n",
      "\n",
      "INFO:fbprophet:Disabling weekly seasonality. Run prophet with weekly_seasonality=True to override this.\n",
      "INFO:fbprophet:Disabling daily seasonality. Run prophet with daily_seasonality=True to override this.\n"
     ]
    },
    {
     "name": "stdout",
     "output_type": "stream",
     "text": [
      " 31 progress so far\n"
     ]
    },
    {
     "name": "stderr",
     "output_type": "stream",
     "text": [
      "C:\\Users\\Michael\\Anaconda3\\envs\\learn-env\\lib\\site-packages\\ipykernel_launcher.py:40: FutureWarning:\n",
      "\n",
      "'variable' is both an index level and a column label.\n",
      "Defaulting to column, but this will raise an ambiguity error in a future version\n",
      "\n",
      "C:\\Users\\Michael\\Anaconda3\\envs\\learn-env\\lib\\site-packages\\ipykernel_launcher.py:44: FutureWarning:\n",
      "\n",
      "'variable' is both an index level and a column label.\n",
      "Defaulting to column, but this will raise an ambiguity error in a future version\n",
      "\n",
      "INFO:fbprophet:Disabling weekly seasonality. Run prophet with weekly_seasonality=True to override this.\n",
      "INFO:fbprophet:Disabling daily seasonality. Run prophet with daily_seasonality=True to override this.\n"
     ]
    },
    {
     "name": "stdout",
     "output_type": "stream",
     "text": [
      "[32964.66843965298]\n"
     ]
    },
    {
     "name": "stderr",
     "output_type": "stream",
     "text": [
      "C:\\Users\\Michael\\Anaconda3\\envs\\learn-env\\lib\\site-packages\\pystan\\misc.py:399: FutureWarning:\n",
      "\n",
      "Conversion of the second argument of issubdtype from `float` to `np.floating` is deprecated. In future, it will be treated as `np.float64 == np.dtype(float).type`.\n",
      "\n",
      "C:\\Users\\Michael\\Anaconda3\\envs\\learn-env\\lib\\site-packages\\ipykernel_launcher.py:40: FutureWarning:\n",
      "\n",
      "'variable' is both an index level and a column label.\n",
      "Defaulting to column, but this will raise an ambiguity error in a future version\n",
      "\n",
      "C:\\Users\\Michael\\Anaconda3\\envs\\learn-env\\lib\\site-packages\\ipykernel_launcher.py:44: FutureWarning:\n",
      "\n",
      "'variable' is both an index level and a column label.\n",
      "Defaulting to column, but this will raise an ambiguity error in a future version\n",
      "\n",
      "INFO:fbprophet:Disabling weekly seasonality. Run prophet with weekly_seasonality=True to override this.\n",
      "INFO:fbprophet:Disabling daily seasonality. Run prophet with daily_seasonality=True to override this.\n"
     ]
    },
    {
     "name": "stdout",
     "output_type": "stream",
     "text": [
      "[32964.66843965298, 37843.52132611942]\n"
     ]
    },
    {
     "name": "stderr",
     "output_type": "stream",
     "text": [
      "C:\\Users\\Michael\\Anaconda3\\envs\\learn-env\\lib\\site-packages\\pystan\\misc.py:399: FutureWarning:\n",
      "\n",
      "Conversion of the second argument of issubdtype from `float` to `np.floating` is deprecated. In future, it will be treated as `np.float64 == np.dtype(float).type`.\n",
      "\n"
     ]
    },
    {
     "name": "stdout",
     "output_type": "stream",
     "text": [
      "[32964.66843965298, 37843.52132611942, 40497.84881109149]\n",
      "[32964.66843965298, 37843.52132611942, 40497.84881109149]\n"
     ]
    },
    {
     "name": "stderr",
     "output_type": "stream",
     "text": [
      "C:\\Users\\Michael\\Anaconda3\\envs\\learn-env\\lib\\site-packages\\ipykernel_launcher.py:60: FutureWarning:\n",
      "\n",
      "'variable' is both an index level and a column label.\n",
      "Defaulting to column, but this will raise an ambiguity error in a future version\n",
      "\n",
      "C:\\Users\\Michael\\Anaconda3\\envs\\learn-env\\lib\\site-packages\\ipykernel_launcher.py:63: FutureWarning:\n",
      "\n",
      "'variable' is both an index level and a column label.\n",
      "Defaulting to column, but this will raise an ambiguity error in a future version\n",
      "\n",
      "INFO:fbprophet:Disabling weekly seasonality. Run prophet with weekly_seasonality=True to override this.\n",
      "INFO:fbprophet:Disabling daily seasonality. Run prophet with daily_seasonality=True to override this.\n",
      "C:\\Users\\Michael\\Anaconda3\\envs\\learn-env\\lib\\site-packages\\pystan\\misc.py:399: FutureWarning:\n",
      "\n",
      "Conversion of the second argument of issubdtype from `float` to `np.floating` is deprecated. In future, it will be treated as `np.float64 == np.dtype(float).type`.\n",
      "\n"
     ]
    },
    {
     "name": "stdout",
     "output_type": "stream",
     "text": [
      " 32 progress so far\n"
     ]
    },
    {
     "name": "stderr",
     "output_type": "stream",
     "text": [
      "C:\\Users\\Michael\\Anaconda3\\envs\\learn-env\\lib\\site-packages\\ipykernel_launcher.py:40: FutureWarning:\n",
      "\n",
      "'variable' is both an index level and a column label.\n",
      "Defaulting to column, but this will raise an ambiguity error in a future version\n",
      "\n",
      "C:\\Users\\Michael\\Anaconda3\\envs\\learn-env\\lib\\site-packages\\ipykernel_launcher.py:44: FutureWarning:\n",
      "\n",
      "'variable' is both an index level and a column label.\n",
      "Defaulting to column, but this will raise an ambiguity error in a future version\n",
      "\n",
      "INFO:fbprophet:Disabling weekly seasonality. Run prophet with weekly_seasonality=True to override this.\n",
      "INFO:fbprophet:Disabling daily seasonality. Run prophet with daily_seasonality=True to override this.\n",
      "C:\\Users\\Michael\\Anaconda3\\envs\\learn-env\\lib\\site-packages\\ipykernel_launcher.py:40: FutureWarning:\n",
      "\n",
      "'variable' is both an index level and a column label.\n",
      "Defaulting to column, but this will raise an ambiguity error in a future version\n",
      "\n",
      "C:\\Users\\Michael\\Anaconda3\\envs\\learn-env\\lib\\site-packages\\ipykernel_launcher.py:44: FutureWarning:\n",
      "\n",
      "'variable' is both an index level and a column label.\n",
      "Defaulting to column, but this will raise an ambiguity error in a future version\n",
      "\n",
      "INFO:fbprophet:Disabling weekly seasonality. Run prophet with weekly_seasonality=True to override this.\n",
      "INFO:fbprophet:Disabling daily seasonality. Run prophet with daily_seasonality=True to override this.\n"
     ]
    },
    {
     "name": "stdout",
     "output_type": "stream",
     "text": [
      "[29198.23604572991]\n"
     ]
    },
    {
     "name": "stderr",
     "output_type": "stream",
     "text": [
      "C:\\Users\\Michael\\Anaconda3\\envs\\learn-env\\lib\\site-packages\\pystan\\misc.py:399: FutureWarning:\n",
      "\n",
      "Conversion of the second argument of issubdtype from `float` to `np.floating` is deprecated. In future, it will be treated as `np.float64 == np.dtype(float).type`.\n",
      "\n",
      "C:\\Users\\Michael\\Anaconda3\\envs\\learn-env\\lib\\site-packages\\ipykernel_launcher.py:40: FutureWarning:\n",
      "\n",
      "'variable' is both an index level and a column label.\n",
      "Defaulting to column, but this will raise an ambiguity error in a future version\n",
      "\n",
      "C:\\Users\\Michael\\Anaconda3\\envs\\learn-env\\lib\\site-packages\\ipykernel_launcher.py:44: FutureWarning:\n",
      "\n",
      "'variable' is both an index level and a column label.\n",
      "Defaulting to column, but this will raise an ambiguity error in a future version\n",
      "\n",
      "INFO:fbprophet:Disabling weekly seasonality. Run prophet with weekly_seasonality=True to override this.\n",
      "INFO:fbprophet:Disabling daily seasonality. Run prophet with daily_seasonality=True to override this.\n"
     ]
    },
    {
     "name": "stdout",
     "output_type": "stream",
     "text": [
      "[29198.23604572991, 47849.19924179465]\n"
     ]
    },
    {
     "name": "stderr",
     "output_type": "stream",
     "text": [
      "C:\\Users\\Michael\\Anaconda3\\envs\\learn-env\\lib\\site-packages\\pystan\\misc.py:399: FutureWarning:\n",
      "\n",
      "Conversion of the second argument of issubdtype from `float` to `np.floating` is deprecated. In future, it will be treated as `np.float64 == np.dtype(float).type`.\n",
      "\n"
     ]
    },
    {
     "name": "stdout",
     "output_type": "stream",
     "text": [
      "[29198.23604572991, 47849.19924179465, 50961.822753691864]\n",
      "[29198.23604572991, 47849.19924179465, 50961.822753691864]\n"
     ]
    },
    {
     "name": "stderr",
     "output_type": "stream",
     "text": [
      "C:\\Users\\Michael\\Anaconda3\\envs\\learn-env\\lib\\site-packages\\ipykernel_launcher.py:60: FutureWarning:\n",
      "\n",
      "'variable' is both an index level and a column label.\n",
      "Defaulting to column, but this will raise an ambiguity error in a future version\n",
      "\n",
      "C:\\Users\\Michael\\Anaconda3\\envs\\learn-env\\lib\\site-packages\\ipykernel_launcher.py:63: FutureWarning:\n",
      "\n",
      "'variable' is both an index level and a column label.\n",
      "Defaulting to column, but this will raise an ambiguity error in a future version\n",
      "\n",
      "INFO:fbprophet:Disabling weekly seasonality. Run prophet with weekly_seasonality=True to override this.\n",
      "INFO:fbprophet:Disabling daily seasonality. Run prophet with daily_seasonality=True to override this.\n",
      "C:\\Users\\Michael\\Anaconda3\\envs\\learn-env\\lib\\site-packages\\pystan\\misc.py:399: FutureWarning:\n",
      "\n",
      "Conversion of the second argument of issubdtype from `float` to `np.floating` is deprecated. In future, it will be treated as `np.float64 == np.dtype(float).type`.\n",
      "\n"
     ]
    },
    {
     "name": "stdout",
     "output_type": "stream",
     "text": [
      " 33 progress so far\n"
     ]
    },
    {
     "name": "stderr",
     "output_type": "stream",
     "text": [
      "C:\\Users\\Michael\\Anaconda3\\envs\\learn-env\\lib\\site-packages\\ipykernel_launcher.py:40: FutureWarning:\n",
      "\n",
      "'variable' is both an index level and a column label.\n",
      "Defaulting to column, but this will raise an ambiguity error in a future version\n",
      "\n",
      "C:\\Users\\Michael\\Anaconda3\\envs\\learn-env\\lib\\site-packages\\ipykernel_launcher.py:44: FutureWarning:\n",
      "\n",
      "'variable' is both an index level and a column label.\n",
      "Defaulting to column, but this will raise an ambiguity error in a future version\n",
      "\n",
      "INFO:fbprophet:Disabling weekly seasonality. Run prophet with weekly_seasonality=True to override this.\n",
      "INFO:fbprophet:Disabling daily seasonality. Run prophet with daily_seasonality=True to override this.\n"
     ]
    },
    {
     "name": "stdout",
     "output_type": "stream",
     "text": [
      "[28340.13243756995]\n"
     ]
    },
    {
     "name": "stderr",
     "output_type": "stream",
     "text": [
      "C:\\Users\\Michael\\Anaconda3\\envs\\learn-env\\lib\\site-packages\\ipykernel_launcher.py:40: FutureWarning:\n",
      "\n",
      "'variable' is both an index level and a column label.\n",
      "Defaulting to column, but this will raise an ambiguity error in a future version\n",
      "\n",
      "C:\\Users\\Michael\\Anaconda3\\envs\\learn-env\\lib\\site-packages\\ipykernel_launcher.py:44: FutureWarning:\n",
      "\n",
      "'variable' is both an index level and a column label.\n",
      "Defaulting to column, but this will raise an ambiguity error in a future version\n",
      "\n",
      "INFO:fbprophet:Disabling weekly seasonality. Run prophet with weekly_seasonality=True to override this.\n",
      "INFO:fbprophet:Disabling daily seasonality. Run prophet with daily_seasonality=True to override this.\n",
      "C:\\Users\\Michael\\Anaconda3\\envs\\learn-env\\lib\\site-packages\\pystan\\misc.py:399: FutureWarning:\n",
      "\n",
      "Conversion of the second argument of issubdtype from `float` to `np.floating` is deprecated. In future, it will be treated as `np.float64 == np.dtype(float).type`.\n",
      "\n",
      "C:\\Users\\Michael\\Anaconda3\\envs\\learn-env\\lib\\site-packages\\ipykernel_launcher.py:40: FutureWarning:\n",
      "\n",
      "'variable' is both an index level and a column label.\n",
      "Defaulting to column, but this will raise an ambiguity error in a future version\n",
      "\n",
      "C:\\Users\\Michael\\Anaconda3\\envs\\learn-env\\lib\\site-packages\\ipykernel_launcher.py:44: FutureWarning:\n",
      "\n",
      "'variable' is both an index level and a column label.\n",
      "Defaulting to column, but this will raise an ambiguity error in a future version\n",
      "\n",
      "INFO:fbprophet:Disabling weekly seasonality. Run prophet with weekly_seasonality=True to override this.\n",
      "INFO:fbprophet:Disabling daily seasonality. Run prophet with daily_seasonality=True to override this.\n"
     ]
    },
    {
     "name": "stdout",
     "output_type": "stream",
     "text": [
      "[28340.13243756995, 71109.03609038914]\n"
     ]
    },
    {
     "name": "stderr",
     "output_type": "stream",
     "text": [
      "C:\\Users\\Michael\\Anaconda3\\envs\\learn-env\\lib\\site-packages\\pystan\\misc.py:399: FutureWarning:\n",
      "\n",
      "Conversion of the second argument of issubdtype from `float` to `np.floating` is deprecated. In future, it will be treated as `np.float64 == np.dtype(float).type`.\n",
      "\n"
     ]
    },
    {
     "name": "stdout",
     "output_type": "stream",
     "text": [
      "[28340.13243756995, 71109.03609038914, 51435.7254865176]\n",
      "[28340.13243756995, 71109.03609038914, 51435.7254865176]\n"
     ]
    },
    {
     "name": "stderr",
     "output_type": "stream",
     "text": [
      "C:\\Users\\Michael\\Anaconda3\\envs\\learn-env\\lib\\site-packages\\ipykernel_launcher.py:60: FutureWarning:\n",
      "\n",
      "'variable' is both an index level and a column label.\n",
      "Defaulting to column, but this will raise an ambiguity error in a future version\n",
      "\n",
      "C:\\Users\\Michael\\Anaconda3\\envs\\learn-env\\lib\\site-packages\\ipykernel_launcher.py:63: FutureWarning:\n",
      "\n",
      "'variable' is both an index level and a column label.\n",
      "Defaulting to column, but this will raise an ambiguity error in a future version\n",
      "\n",
      "INFO:fbprophet:Disabling weekly seasonality. Run prophet with weekly_seasonality=True to override this.\n",
      "INFO:fbprophet:Disabling daily seasonality. Run prophet with daily_seasonality=True to override this.\n",
      "C:\\Users\\Michael\\Anaconda3\\envs\\learn-env\\lib\\site-packages\\pystan\\misc.py:399: FutureWarning:\n",
      "\n",
      "Conversion of the second argument of issubdtype from `float` to `np.floating` is deprecated. In future, it will be treated as `np.float64 == np.dtype(float).type`.\n",
      "\n"
     ]
    },
    {
     "name": "stdout",
     "output_type": "stream",
     "text": [
      " 34 progress so far\n"
     ]
    },
    {
     "name": "stderr",
     "output_type": "stream",
     "text": [
      "C:\\Users\\Michael\\Anaconda3\\envs\\learn-env\\lib\\site-packages\\ipykernel_launcher.py:40: FutureWarning:\n",
      "\n",
      "'variable' is both an index level and a column label.\n",
      "Defaulting to column, but this will raise an ambiguity error in a future version\n",
      "\n",
      "C:\\Users\\Michael\\Anaconda3\\envs\\learn-env\\lib\\site-packages\\ipykernel_launcher.py:44: FutureWarning:\n",
      "\n",
      "'variable' is both an index level and a column label.\n",
      "Defaulting to column, but this will raise an ambiguity error in a future version\n",
      "\n",
      "INFO:fbprophet:Disabling weekly seasonality. Run prophet with weekly_seasonality=True to override this.\n",
      "INFO:fbprophet:Disabling daily seasonality. Run prophet with daily_seasonality=True to override this.\n",
      "C:\\Users\\Michael\\Anaconda3\\envs\\learn-env\\lib\\site-packages\\ipykernel_launcher.py:40: FutureWarning:\n",
      "\n",
      "'variable' is both an index level and a column label.\n",
      "Defaulting to column, but this will raise an ambiguity error in a future version\n",
      "\n",
      "C:\\Users\\Michael\\Anaconda3\\envs\\learn-env\\lib\\site-packages\\ipykernel_launcher.py:44: FutureWarning:\n",
      "\n",
      "'variable' is both an index level and a column label.\n",
      "Defaulting to column, but this will raise an ambiguity error in a future version\n",
      "\n",
      "INFO:fbprophet:Disabling weekly seasonality. Run prophet with weekly_seasonality=True to override this.\n",
      "INFO:fbprophet:Disabling daily seasonality. Run prophet with daily_seasonality=True to override this.\n"
     ]
    },
    {
     "name": "stdout",
     "output_type": "stream",
     "text": [
      "[33197.09465595248]\n"
     ]
    },
    {
     "name": "stderr",
     "output_type": "stream",
     "text": [
      "C:\\Users\\Michael\\Anaconda3\\envs\\learn-env\\lib\\site-packages\\pystan\\misc.py:399: FutureWarning:\n",
      "\n",
      "Conversion of the second argument of issubdtype from `float` to `np.floating` is deprecated. In future, it will be treated as `np.float64 == np.dtype(float).type`.\n",
      "\n",
      "C:\\Users\\Michael\\Anaconda3\\envs\\learn-env\\lib\\site-packages\\ipykernel_launcher.py:40: FutureWarning:\n",
      "\n",
      "'variable' is both an index level and a column label.\n",
      "Defaulting to column, but this will raise an ambiguity error in a future version\n",
      "\n",
      "C:\\Users\\Michael\\Anaconda3\\envs\\learn-env\\lib\\site-packages\\ipykernel_launcher.py:44: FutureWarning:\n",
      "\n",
      "'variable' is both an index level and a column label.\n",
      "Defaulting to column, but this will raise an ambiguity error in a future version\n",
      "\n",
      "INFO:fbprophet:Disabling weekly seasonality. Run prophet with weekly_seasonality=True to override this.\n",
      "INFO:fbprophet:Disabling daily seasonality. Run prophet with daily_seasonality=True to override this.\n"
     ]
    },
    {
     "name": "stdout",
     "output_type": "stream",
     "text": [
      "[33197.09465595248, 54486.5924393231]\n"
     ]
    },
    {
     "name": "stderr",
     "output_type": "stream",
     "text": [
      "C:\\Users\\Michael\\Anaconda3\\envs\\learn-env\\lib\\site-packages\\pystan\\misc.py:399: FutureWarning:\n",
      "\n",
      "Conversion of the second argument of issubdtype from `float` to `np.floating` is deprecated. In future, it will be treated as `np.float64 == np.dtype(float).type`.\n",
      "\n"
     ]
    },
    {
     "name": "stdout",
     "output_type": "stream",
     "text": [
      "[33197.09465595248, 54486.5924393231, 54470.1614051283]\n",
      "[33197.09465595248, 54486.5924393231, 54470.1614051283]\n"
     ]
    },
    {
     "name": "stderr",
     "output_type": "stream",
     "text": [
      "C:\\Users\\Michael\\Anaconda3\\envs\\learn-env\\lib\\site-packages\\ipykernel_launcher.py:60: FutureWarning:\n",
      "\n",
      "'variable' is both an index level and a column label.\n",
      "Defaulting to column, but this will raise an ambiguity error in a future version\n",
      "\n",
      "C:\\Users\\Michael\\Anaconda3\\envs\\learn-env\\lib\\site-packages\\ipykernel_launcher.py:63: FutureWarning:\n",
      "\n",
      "'variable' is both an index level and a column label.\n",
      "Defaulting to column, but this will raise an ambiguity error in a future version\n",
      "\n",
      "INFO:fbprophet:Disabling weekly seasonality. Run prophet with weekly_seasonality=True to override this.\n",
      "INFO:fbprophet:Disabling daily seasonality. Run prophet with daily_seasonality=True to override this.\n",
      "C:\\Users\\Michael\\Anaconda3\\envs\\learn-env\\lib\\site-packages\\pystan\\misc.py:399: FutureWarning:\n",
      "\n",
      "Conversion of the second argument of issubdtype from `float` to `np.floating` is deprecated. In future, it will be treated as `np.float64 == np.dtype(float).type`.\n",
      "\n"
     ]
    },
    {
     "name": "stdout",
     "output_type": "stream",
     "text": [
      " 35 progress so far\n"
     ]
    },
    {
     "name": "stderr",
     "output_type": "stream",
     "text": [
      "C:\\Users\\Michael\\Anaconda3\\envs\\learn-env\\lib\\site-packages\\ipykernel_launcher.py:40: FutureWarning:\n",
      "\n",
      "'variable' is both an index level and a column label.\n",
      "Defaulting to column, but this will raise an ambiguity error in a future version\n",
      "\n",
      "C:\\Users\\Michael\\Anaconda3\\envs\\learn-env\\lib\\site-packages\\ipykernel_launcher.py:44: FutureWarning:\n",
      "\n",
      "'variable' is both an index level and a column label.\n",
      "Defaulting to column, but this will raise an ambiguity error in a future version\n",
      "\n",
      "INFO:fbprophet:Disabling weekly seasonality. Run prophet with weekly_seasonality=True to override this.\n",
      "INFO:fbprophet:Disabling daily seasonality. Run prophet with daily_seasonality=True to override this.\n"
     ]
    },
    {
     "name": "stdout",
     "output_type": "stream",
     "text": [
      "[29655.247073360988]\n"
     ]
    },
    {
     "name": "stderr",
     "output_type": "stream",
     "text": [
      "C:\\Users\\Michael\\Anaconda3\\envs\\learn-env\\lib\\site-packages\\ipykernel_launcher.py:40: FutureWarning:\n",
      "\n",
      "'variable' is both an index level and a column label.\n",
      "Defaulting to column, but this will raise an ambiguity error in a future version\n",
      "\n",
      "C:\\Users\\Michael\\Anaconda3\\envs\\learn-env\\lib\\site-packages\\ipykernel_launcher.py:44: FutureWarning:\n",
      "\n",
      "'variable' is both an index level and a column label.\n",
      "Defaulting to column, but this will raise an ambiguity error in a future version\n",
      "\n",
      "INFO:fbprophet:Disabling weekly seasonality. Run prophet with weekly_seasonality=True to override this.\n",
      "INFO:fbprophet:Disabling daily seasonality. Run prophet with daily_seasonality=True to override this.\n",
      "C:\\Users\\Michael\\Anaconda3\\envs\\learn-env\\lib\\site-packages\\pystan\\misc.py:399: FutureWarning:\n",
      "\n",
      "Conversion of the second argument of issubdtype from `float` to `np.floating` is deprecated. In future, it will be treated as `np.float64 == np.dtype(float).type`.\n",
      "\n",
      "C:\\Users\\Michael\\Anaconda3\\envs\\learn-env\\lib\\site-packages\\ipykernel_launcher.py:40: FutureWarning:\n",
      "\n",
      "'variable' is both an index level and a column label.\n",
      "Defaulting to column, but this will raise an ambiguity error in a future version\n",
      "\n",
      "C:\\Users\\Michael\\Anaconda3\\envs\\learn-env\\lib\\site-packages\\ipykernel_launcher.py:44: FutureWarning:\n",
      "\n",
      "'variable' is both an index level and a column label.\n",
      "Defaulting to column, but this will raise an ambiguity error in a future version\n",
      "\n",
      "INFO:fbprophet:Disabling weekly seasonality. Run prophet with weekly_seasonality=True to override this.\n",
      "INFO:fbprophet:Disabling daily seasonality. Run prophet with daily_seasonality=True to override this.\n"
     ]
    },
    {
     "name": "stdout",
     "output_type": "stream",
     "text": [
      "[29655.247073360988, 14431.051163188698]\n"
     ]
    },
    {
     "name": "stderr",
     "output_type": "stream",
     "text": [
      "C:\\Users\\Michael\\Anaconda3\\envs\\learn-env\\lib\\site-packages\\pystan\\misc.py:399: FutureWarning:\n",
      "\n",
      "Conversion of the second argument of issubdtype from `float` to `np.floating` is deprecated. In future, it will be treated as `np.float64 == np.dtype(float).type`.\n",
      "\n"
     ]
    },
    {
     "name": "stdout",
     "output_type": "stream",
     "text": [
      "[29655.247073360988, 14431.051163188698, 42235.501146153314]\n",
      "[29655.247073360988, 14431.051163188698, 42235.501146153314]\n"
     ]
    },
    {
     "name": "stderr",
     "output_type": "stream",
     "text": [
      "C:\\Users\\Michael\\Anaconda3\\envs\\learn-env\\lib\\site-packages\\ipykernel_launcher.py:60: FutureWarning:\n",
      "\n",
      "'variable' is both an index level and a column label.\n",
      "Defaulting to column, but this will raise an ambiguity error in a future version\n",
      "\n",
      "C:\\Users\\Michael\\Anaconda3\\envs\\learn-env\\lib\\site-packages\\ipykernel_launcher.py:63: FutureWarning:\n",
      "\n",
      "'variable' is both an index level and a column label.\n",
      "Defaulting to column, but this will raise an ambiguity error in a future version\n",
      "\n",
      "INFO:fbprophet:Disabling weekly seasonality. Run prophet with weekly_seasonality=True to override this.\n",
      "INFO:fbprophet:Disabling daily seasonality. Run prophet with daily_seasonality=True to override this.\n",
      "C:\\Users\\Michael\\Anaconda3\\envs\\learn-env\\lib\\site-packages\\pystan\\misc.py:399: FutureWarning:\n",
      "\n",
      "Conversion of the second argument of issubdtype from `float` to `np.floating` is deprecated. In future, it will be treated as `np.float64 == np.dtype(float).type`.\n",
      "\n"
     ]
    },
    {
     "name": "stdout",
     "output_type": "stream",
     "text": [
      " 36 progress so far\n"
     ]
    },
    {
     "name": "stderr",
     "output_type": "stream",
     "text": [
      "C:\\Users\\Michael\\Anaconda3\\envs\\learn-env\\lib\\site-packages\\ipykernel_launcher.py:40: FutureWarning:\n",
      "\n",
      "'variable' is both an index level and a column label.\n",
      "Defaulting to column, but this will raise an ambiguity error in a future version\n",
      "\n",
      "C:\\Users\\Michael\\Anaconda3\\envs\\learn-env\\lib\\site-packages\\ipykernel_launcher.py:44: FutureWarning:\n",
      "\n",
      "'variable' is both an index level and a column label.\n",
      "Defaulting to column, but this will raise an ambiguity error in a future version\n",
      "\n",
      "INFO:fbprophet:Disabling weekly seasonality. Run prophet with weekly_seasonality=True to override this.\n",
      "INFO:fbprophet:Disabling daily seasonality. Run prophet with daily_seasonality=True to override this.\n"
     ]
    },
    {
     "name": "stdout",
     "output_type": "stream",
     "text": [
      "[59769.89280702777]\n"
     ]
    },
    {
     "name": "stderr",
     "output_type": "stream",
     "text": [
      "C:\\Users\\Michael\\Anaconda3\\envs\\learn-env\\lib\\site-packages\\ipykernel_launcher.py:40: FutureWarning:\n",
      "\n",
      "'variable' is both an index level and a column label.\n",
      "Defaulting to column, but this will raise an ambiguity error in a future version\n",
      "\n",
      "C:\\Users\\Michael\\Anaconda3\\envs\\learn-env\\lib\\site-packages\\ipykernel_launcher.py:44: FutureWarning:\n",
      "\n",
      "'variable' is both an index level and a column label.\n",
      "Defaulting to column, but this will raise an ambiguity error in a future version\n",
      "\n",
      "INFO:fbprophet:Disabling weekly seasonality. Run prophet with weekly_seasonality=True to override this.\n",
      "INFO:fbprophet:Disabling daily seasonality. Run prophet with daily_seasonality=True to override this.\n",
      "C:\\Users\\Michael\\Anaconda3\\envs\\learn-env\\lib\\site-packages\\pystan\\misc.py:399: FutureWarning:\n",
      "\n",
      "Conversion of the second argument of issubdtype from `float` to `np.floating` is deprecated. In future, it will be treated as `np.float64 == np.dtype(float).type`.\n",
      "\n"
     ]
    },
    {
     "name": "stdout",
     "output_type": "stream",
     "text": [
      "[59769.89280702777, 24379.897175127197]\n"
     ]
    },
    {
     "name": "stderr",
     "output_type": "stream",
     "text": [
      "C:\\Users\\Michael\\Anaconda3\\envs\\learn-env\\lib\\site-packages\\ipykernel_launcher.py:40: FutureWarning:\n",
      "\n",
      "'variable' is both an index level and a column label.\n",
      "Defaulting to column, but this will raise an ambiguity error in a future version\n",
      "\n",
      "C:\\Users\\Michael\\Anaconda3\\envs\\learn-env\\lib\\site-packages\\ipykernel_launcher.py:44: FutureWarning:\n",
      "\n",
      "'variable' is both an index level and a column label.\n",
      "Defaulting to column, but this will raise an ambiguity error in a future version\n",
      "\n",
      "INFO:fbprophet:Disabling weekly seasonality. Run prophet with weekly_seasonality=True to override this.\n",
      "INFO:fbprophet:Disabling daily seasonality. Run prophet with daily_seasonality=True to override this.\n",
      "C:\\Users\\Michael\\Anaconda3\\envs\\learn-env\\lib\\site-packages\\pystan\\misc.py:399: FutureWarning:\n",
      "\n",
      "Conversion of the second argument of issubdtype from `float` to `np.floating` is deprecated. In future, it will be treated as `np.float64 == np.dtype(float).type`.\n",
      "\n"
     ]
    },
    {
     "name": "stdout",
     "output_type": "stream",
     "text": [
      "[59769.89280702777, 24379.897175127197, 21851.929488138274]\n",
      "[59769.89280702777, 24379.897175127197, 21851.929488138274]\n"
     ]
    },
    {
     "name": "stderr",
     "output_type": "stream",
     "text": [
      "C:\\Users\\Michael\\Anaconda3\\envs\\learn-env\\lib\\site-packages\\ipykernel_launcher.py:60: FutureWarning:\n",
      "\n",
      "'variable' is both an index level and a column label.\n",
      "Defaulting to column, but this will raise an ambiguity error in a future version\n",
      "\n",
      "C:\\Users\\Michael\\Anaconda3\\envs\\learn-env\\lib\\site-packages\\ipykernel_launcher.py:63: FutureWarning:\n",
      "\n",
      "'variable' is both an index level and a column label.\n",
      "Defaulting to column, but this will raise an ambiguity error in a future version\n",
      "\n",
      "INFO:fbprophet:Disabling weekly seasonality. Run prophet with weekly_seasonality=True to override this.\n",
      "INFO:fbprophet:Disabling daily seasonality. Run prophet with daily_seasonality=True to override this.\n",
      "C:\\Users\\Michael\\Anaconda3\\envs\\learn-env\\lib\\site-packages\\pystan\\misc.py:399: FutureWarning:\n",
      "\n",
      "Conversion of the second argument of issubdtype from `float` to `np.floating` is deprecated. In future, it will be treated as `np.float64 == np.dtype(float).type`.\n",
      "\n"
     ]
    },
    {
     "name": "stdout",
     "output_type": "stream",
     "text": [
      " 37 progress so far\n"
     ]
    },
    {
     "name": "stderr",
     "output_type": "stream",
     "text": [
      "C:\\Users\\Michael\\Anaconda3\\envs\\learn-env\\lib\\site-packages\\ipykernel_launcher.py:40: FutureWarning:\n",
      "\n",
      "'variable' is both an index level and a column label.\n",
      "Defaulting to column, but this will raise an ambiguity error in a future version\n",
      "\n",
      "C:\\Users\\Michael\\Anaconda3\\envs\\learn-env\\lib\\site-packages\\ipykernel_launcher.py:44: FutureWarning:\n",
      "\n",
      "'variable' is both an index level and a column label.\n",
      "Defaulting to column, but this will raise an ambiguity error in a future version\n",
      "\n",
      "INFO:fbprophet:Disabling weekly seasonality. Run prophet with weekly_seasonality=True to override this.\n",
      "INFO:fbprophet:Disabling daily seasonality. Run prophet with daily_seasonality=True to override this.\n"
     ]
    },
    {
     "name": "stdout",
     "output_type": "stream",
     "text": [
      "[86082.0664580397]\n"
     ]
    },
    {
     "name": "stderr",
     "output_type": "stream",
     "text": [
      "C:\\Users\\Michael\\Anaconda3\\envs\\learn-env\\lib\\site-packages\\ipykernel_launcher.py:40: FutureWarning:\n",
      "\n",
      "'variable' is both an index level and a column label.\n",
      "Defaulting to column, but this will raise an ambiguity error in a future version\n",
      "\n",
      "C:\\Users\\Michael\\Anaconda3\\envs\\learn-env\\lib\\site-packages\\ipykernel_launcher.py:44: FutureWarning:\n",
      "\n",
      "'variable' is both an index level and a column label.\n",
      "Defaulting to column, but this will raise an ambiguity error in a future version\n",
      "\n",
      "INFO:fbprophet:Disabling weekly seasonality. Run prophet with weekly_seasonality=True to override this.\n",
      "INFO:fbprophet:Disabling daily seasonality. Run prophet with daily_seasonality=True to override this.\n",
      "C:\\Users\\Michael\\Anaconda3\\envs\\learn-env\\lib\\site-packages\\pystan\\misc.py:399: FutureWarning:\n",
      "\n",
      "Conversion of the second argument of issubdtype from `float` to `np.floating` is deprecated. In future, it will be treated as `np.float64 == np.dtype(float).type`.\n",
      "\n"
     ]
    },
    {
     "name": "stdout",
     "output_type": "stream",
     "text": [
      "[86082.0664580397, 297692.8606100267]\n"
     ]
    },
    {
     "name": "stderr",
     "output_type": "stream",
     "text": [
      "C:\\Users\\Michael\\Anaconda3\\envs\\learn-env\\lib\\site-packages\\ipykernel_launcher.py:40: FutureWarning:\n",
      "\n",
      "'variable' is both an index level and a column label.\n",
      "Defaulting to column, but this will raise an ambiguity error in a future version\n",
      "\n",
      "C:\\Users\\Michael\\Anaconda3\\envs\\learn-env\\lib\\site-packages\\ipykernel_launcher.py:44: FutureWarning:\n",
      "\n",
      "'variable' is both an index level and a column label.\n",
      "Defaulting to column, but this will raise an ambiguity error in a future version\n",
      "\n",
      "INFO:fbprophet:Disabling weekly seasonality. Run prophet with weekly_seasonality=True to override this.\n",
      "INFO:fbprophet:Disabling daily seasonality. Run prophet with daily_seasonality=True to override this.\n",
      "C:\\Users\\Michael\\Anaconda3\\envs\\learn-env\\lib\\site-packages\\pystan\\misc.py:399: FutureWarning:\n",
      "\n",
      "Conversion of the second argument of issubdtype from `float` to `np.floating` is deprecated. In future, it will be treated as `np.float64 == np.dtype(float).type`.\n",
      "\n"
     ]
    },
    {
     "name": "stdout",
     "output_type": "stream",
     "text": [
      "[86082.0664580397, 297692.8606100267, 66856.38197694265]\n",
      "[86082.0664580397, 297692.8606100267, 66856.38197694265]\n"
     ]
    },
    {
     "name": "stderr",
     "output_type": "stream",
     "text": [
      "C:\\Users\\Michael\\Anaconda3\\envs\\learn-env\\lib\\site-packages\\ipykernel_launcher.py:60: FutureWarning:\n",
      "\n",
      "'variable' is both an index level and a column label.\n",
      "Defaulting to column, but this will raise an ambiguity error in a future version\n",
      "\n",
      "C:\\Users\\Michael\\Anaconda3\\envs\\learn-env\\lib\\site-packages\\ipykernel_launcher.py:63: FutureWarning:\n",
      "\n",
      "'variable' is both an index level and a column label.\n",
      "Defaulting to column, but this will raise an ambiguity error in a future version\n",
      "\n",
      "INFO:fbprophet:Disabling weekly seasonality. Run prophet with weekly_seasonality=True to override this.\n",
      "INFO:fbprophet:Disabling daily seasonality. Run prophet with daily_seasonality=True to override this.\n",
      "C:\\Users\\Michael\\Anaconda3\\envs\\learn-env\\lib\\site-packages\\pystan\\misc.py:399: FutureWarning:\n",
      "\n",
      "Conversion of the second argument of issubdtype from `float` to `np.floating` is deprecated. In future, it will be treated as `np.float64 == np.dtype(float).type`.\n",
      "\n"
     ]
    },
    {
     "name": "stdout",
     "output_type": "stream",
     "text": [
      " 38 progress so far\n"
     ]
    },
    {
     "name": "stderr",
     "output_type": "stream",
     "text": [
      "C:\\Users\\Michael\\Anaconda3\\envs\\learn-env\\lib\\site-packages\\ipykernel_launcher.py:40: FutureWarning:\n",
      "\n",
      "'variable' is both an index level and a column label.\n",
      "Defaulting to column, but this will raise an ambiguity error in a future version\n",
      "\n",
      "C:\\Users\\Michael\\Anaconda3\\envs\\learn-env\\lib\\site-packages\\ipykernel_launcher.py:44: FutureWarning:\n",
      "\n",
      "'variable' is both an index level and a column label.\n",
      "Defaulting to column, but this will raise an ambiguity error in a future version\n",
      "\n",
      "INFO:fbprophet:Disabling weekly seasonality. Run prophet with weekly_seasonality=True to override this.\n",
      "INFO:fbprophet:Disabling daily seasonality. Run prophet with daily_seasonality=True to override this.\n"
     ]
    },
    {
     "name": "stdout",
     "output_type": "stream",
     "text": [
      "[47538.52834538024]\n"
     ]
    },
    {
     "name": "stderr",
     "output_type": "stream",
     "text": [
      "C:\\Users\\Michael\\Anaconda3\\envs\\learn-env\\lib\\site-packages\\ipykernel_launcher.py:40: FutureWarning:\n",
      "\n",
      "'variable' is both an index level and a column label.\n",
      "Defaulting to column, but this will raise an ambiguity error in a future version\n",
      "\n",
      "C:\\Users\\Michael\\Anaconda3\\envs\\learn-env\\lib\\site-packages\\ipykernel_launcher.py:44: FutureWarning:\n",
      "\n",
      "'variable' is both an index level and a column label.\n",
      "Defaulting to column, but this will raise an ambiguity error in a future version\n",
      "\n",
      "INFO:fbprophet:Disabling weekly seasonality. Run prophet with weekly_seasonality=True to override this.\n",
      "INFO:fbprophet:Disabling daily seasonality. Run prophet with daily_seasonality=True to override this.\n",
      "C:\\Users\\Michael\\Anaconda3\\envs\\learn-env\\lib\\site-packages\\pystan\\misc.py:399: FutureWarning:\n",
      "\n",
      "Conversion of the second argument of issubdtype from `float` to `np.floating` is deprecated. In future, it will be treated as `np.float64 == np.dtype(float).type`.\n",
      "\n"
     ]
    },
    {
     "name": "stdout",
     "output_type": "stream",
     "text": [
      "[47538.52834538024, 71485.38975008564]\n"
     ]
    },
    {
     "name": "stderr",
     "output_type": "stream",
     "text": [
      "C:\\Users\\Michael\\Anaconda3\\envs\\learn-env\\lib\\site-packages\\ipykernel_launcher.py:40: FutureWarning:\n",
      "\n",
      "'variable' is both an index level and a column label.\n",
      "Defaulting to column, but this will raise an ambiguity error in a future version\n",
      "\n",
      "C:\\Users\\Michael\\Anaconda3\\envs\\learn-env\\lib\\site-packages\\ipykernel_launcher.py:44: FutureWarning:\n",
      "\n",
      "'variable' is both an index level and a column label.\n",
      "Defaulting to column, but this will raise an ambiguity error in a future version\n",
      "\n",
      "INFO:fbprophet:Disabling weekly seasonality. Run prophet with weekly_seasonality=True to override this.\n",
      "INFO:fbprophet:Disabling daily seasonality. Run prophet with daily_seasonality=True to override this.\n",
      "C:\\Users\\Michael\\Anaconda3\\envs\\learn-env\\lib\\site-packages\\pystan\\misc.py:399: FutureWarning:\n",
      "\n",
      "Conversion of the second argument of issubdtype from `float` to `np.floating` is deprecated. In future, it will be treated as `np.float64 == np.dtype(float).type`.\n",
      "\n"
     ]
    },
    {
     "name": "stdout",
     "output_type": "stream",
     "text": [
      "[47538.52834538024, 71485.38975008564, 77106.20789564494]\n",
      "[47538.52834538024, 71485.38975008564, 77106.20789564494]\n"
     ]
    },
    {
     "name": "stderr",
     "output_type": "stream",
     "text": [
      "C:\\Users\\Michael\\Anaconda3\\envs\\learn-env\\lib\\site-packages\\ipykernel_launcher.py:60: FutureWarning:\n",
      "\n",
      "'variable' is both an index level and a column label.\n",
      "Defaulting to column, but this will raise an ambiguity error in a future version\n",
      "\n",
      "C:\\Users\\Michael\\Anaconda3\\envs\\learn-env\\lib\\site-packages\\ipykernel_launcher.py:63: FutureWarning:\n",
      "\n",
      "'variable' is both an index level and a column label.\n",
      "Defaulting to column, but this will raise an ambiguity error in a future version\n",
      "\n",
      "INFO:fbprophet:Disabling weekly seasonality. Run prophet with weekly_seasonality=True to override this.\n",
      "INFO:fbprophet:Disabling daily seasonality. Run prophet with daily_seasonality=True to override this.\n",
      "C:\\Users\\Michael\\Anaconda3\\envs\\learn-env\\lib\\site-packages\\pystan\\misc.py:399: FutureWarning:\n",
      "\n",
      "Conversion of the second argument of issubdtype from `float` to `np.floating` is deprecated. In future, it will be treated as `np.float64 == np.dtype(float).type`.\n",
      "\n"
     ]
    },
    {
     "name": "stdout",
     "output_type": "stream",
     "text": [
      " 39 progress so far\n"
     ]
    },
    {
     "name": "stderr",
     "output_type": "stream",
     "text": [
      "C:\\Users\\Michael\\Anaconda3\\envs\\learn-env\\lib\\site-packages\\ipykernel_launcher.py:40: FutureWarning:\n",
      "\n",
      "'variable' is both an index level and a column label.\n",
      "Defaulting to column, but this will raise an ambiguity error in a future version\n",
      "\n",
      "C:\\Users\\Michael\\Anaconda3\\envs\\learn-env\\lib\\site-packages\\ipykernel_launcher.py:44: FutureWarning:\n",
      "\n",
      "'variable' is both an index level and a column label.\n",
      "Defaulting to column, but this will raise an ambiguity error in a future version\n",
      "\n",
      "INFO:fbprophet:Disabling weekly seasonality. Run prophet with weekly_seasonality=True to override this.\n",
      "INFO:fbprophet:Disabling daily seasonality. Run prophet with daily_seasonality=True to override this.\n",
      "C:\\Users\\Michael\\Anaconda3\\envs\\learn-env\\lib\\site-packages\\ipykernel_launcher.py:40: FutureWarning:\n",
      "\n",
      "'variable' is both an index level and a column label.\n",
      "Defaulting to column, but this will raise an ambiguity error in a future version\n",
      "\n",
      "C:\\Users\\Michael\\Anaconda3\\envs\\learn-env\\lib\\site-packages\\ipykernel_launcher.py:44: FutureWarning:\n",
      "\n",
      "'variable' is both an index level and a column label.\n",
      "Defaulting to column, but this will raise an ambiguity error in a future version\n",
      "\n",
      "INFO:fbprophet:Disabling weekly seasonality. Run prophet with weekly_seasonality=True to override this.\n",
      "INFO:fbprophet:Disabling daily seasonality. Run prophet with daily_seasonality=True to override this.\n"
     ]
    },
    {
     "name": "stdout",
     "output_type": "stream",
     "text": [
      "[19223.153689007948]\n"
     ]
    },
    {
     "name": "stderr",
     "output_type": "stream",
     "text": [
      "C:\\Users\\Michael\\Anaconda3\\envs\\learn-env\\lib\\site-packages\\pystan\\misc.py:399: FutureWarning:\n",
      "\n",
      "Conversion of the second argument of issubdtype from `float` to `np.floating` is deprecated. In future, it will be treated as `np.float64 == np.dtype(float).type`.\n",
      "\n"
     ]
    },
    {
     "name": "stdout",
     "output_type": "stream",
     "text": [
      "[19223.153689007948, 37412.69626291676]\n"
     ]
    },
    {
     "name": "stderr",
     "output_type": "stream",
     "text": [
      "C:\\Users\\Michael\\Anaconda3\\envs\\learn-env\\lib\\site-packages\\ipykernel_launcher.py:40: FutureWarning:\n",
      "\n",
      "'variable' is both an index level and a column label.\n",
      "Defaulting to column, but this will raise an ambiguity error in a future version\n",
      "\n",
      "C:\\Users\\Michael\\Anaconda3\\envs\\learn-env\\lib\\site-packages\\ipykernel_launcher.py:44: FutureWarning:\n",
      "\n",
      "'variable' is both an index level and a column label.\n",
      "Defaulting to column, but this will raise an ambiguity error in a future version\n",
      "\n",
      "INFO:fbprophet:Disabling weekly seasonality. Run prophet with weekly_seasonality=True to override this.\n",
      "INFO:fbprophet:Disabling daily seasonality. Run prophet with daily_seasonality=True to override this.\n",
      "C:\\Users\\Michael\\Anaconda3\\envs\\learn-env\\lib\\site-packages\\pystan\\misc.py:399: FutureWarning:\n",
      "\n",
      "Conversion of the second argument of issubdtype from `float` to `np.floating` is deprecated. In future, it will be treated as `np.float64 == np.dtype(float).type`.\n",
      "\n"
     ]
    },
    {
     "name": "stdout",
     "output_type": "stream",
     "text": [
      "[19223.153689007948, 37412.69626291676, 31950.40147775012]\n",
      "[19223.153689007948, 37412.69626291676, 31950.40147775012]\n"
     ]
    },
    {
     "name": "stderr",
     "output_type": "stream",
     "text": [
      "C:\\Users\\Michael\\Anaconda3\\envs\\learn-env\\lib\\site-packages\\ipykernel_launcher.py:60: FutureWarning:\n",
      "\n",
      "'variable' is both an index level and a column label.\n",
      "Defaulting to column, but this will raise an ambiguity error in a future version\n",
      "\n",
      "C:\\Users\\Michael\\Anaconda3\\envs\\learn-env\\lib\\site-packages\\ipykernel_launcher.py:63: FutureWarning:\n",
      "\n",
      "'variable' is both an index level and a column label.\n",
      "Defaulting to column, but this will raise an ambiguity error in a future version\n",
      "\n",
      "INFO:fbprophet:Disabling weekly seasonality. Run prophet with weekly_seasonality=True to override this.\n",
      "INFO:fbprophet:Disabling daily seasonality. Run prophet with daily_seasonality=True to override this.\n",
      "C:\\Users\\Michael\\Anaconda3\\envs\\learn-env\\lib\\site-packages\\pystan\\misc.py:399: FutureWarning:\n",
      "\n",
      "Conversion of the second argument of issubdtype from `float` to `np.floating` is deprecated. In future, it will be treated as `np.float64 == np.dtype(float).type`.\n",
      "\n"
     ]
    },
    {
     "name": "stdout",
     "output_type": "stream",
     "text": [
      " 40 progress so far\n"
     ]
    },
    {
     "name": "stderr",
     "output_type": "stream",
     "text": [
      "C:\\Users\\Michael\\Anaconda3\\envs\\learn-env\\lib\\site-packages\\ipykernel_launcher.py:40: FutureWarning:\n",
      "\n",
      "'variable' is both an index level and a column label.\n",
      "Defaulting to column, but this will raise an ambiguity error in a future version\n",
      "\n",
      "C:\\Users\\Michael\\Anaconda3\\envs\\learn-env\\lib\\site-packages\\ipykernel_launcher.py:44: FutureWarning:\n",
      "\n",
      "'variable' is both an index level and a column label.\n",
      "Defaulting to column, but this will raise an ambiguity error in a future version\n",
      "\n",
      "INFO:fbprophet:Disabling weekly seasonality. Run prophet with weekly_seasonality=True to override this.\n",
      "INFO:fbprophet:Disabling daily seasonality. Run prophet with daily_seasonality=True to override this.\n"
     ]
    },
    {
     "name": "stdout",
     "output_type": "stream",
     "text": [
      "[40912.79308587284]\n"
     ]
    },
    {
     "name": "stderr",
     "output_type": "stream",
     "text": [
      "C:\\Users\\Michael\\Anaconda3\\envs\\learn-env\\lib\\site-packages\\ipykernel_launcher.py:40: FutureWarning:\n",
      "\n",
      "'variable' is both an index level and a column label.\n",
      "Defaulting to column, but this will raise an ambiguity error in a future version\n",
      "\n",
      "C:\\Users\\Michael\\Anaconda3\\envs\\learn-env\\lib\\site-packages\\ipykernel_launcher.py:44: FutureWarning:\n",
      "\n",
      "'variable' is both an index level and a column label.\n",
      "Defaulting to column, but this will raise an ambiguity error in a future version\n",
      "\n",
      "INFO:fbprophet:Disabling weekly seasonality. Run prophet with weekly_seasonality=True to override this.\n",
      "INFO:fbprophet:Disabling daily seasonality. Run prophet with daily_seasonality=True to override this.\n",
      "C:\\Users\\Michael\\Anaconda3\\envs\\learn-env\\lib\\site-packages\\pystan\\misc.py:399: FutureWarning:\n",
      "\n",
      "Conversion of the second argument of issubdtype from `float` to `np.floating` is deprecated. In future, it will be treated as `np.float64 == np.dtype(float).type`.\n",
      "\n"
     ]
    },
    {
     "name": "stdout",
     "output_type": "stream",
     "text": [
      "[40912.79308587284, 11798.196466369305]\n"
     ]
    },
    {
     "name": "stderr",
     "output_type": "stream",
     "text": [
      "C:\\Users\\Michael\\Anaconda3\\envs\\learn-env\\lib\\site-packages\\ipykernel_launcher.py:40: FutureWarning:\n",
      "\n",
      "'variable' is both an index level and a column label.\n",
      "Defaulting to column, but this will raise an ambiguity error in a future version\n",
      "\n",
      "C:\\Users\\Michael\\Anaconda3\\envs\\learn-env\\lib\\site-packages\\ipykernel_launcher.py:44: FutureWarning:\n",
      "\n",
      "'variable' is both an index level and a column label.\n",
      "Defaulting to column, but this will raise an ambiguity error in a future version\n",
      "\n",
      "INFO:fbprophet:Disabling weekly seasonality. Run prophet with weekly_seasonality=True to override this.\n",
      "INFO:fbprophet:Disabling daily seasonality. Run prophet with daily_seasonality=True to override this.\n",
      "C:\\Users\\Michael\\Anaconda3\\envs\\learn-env\\lib\\site-packages\\pystan\\misc.py:399: FutureWarning:\n",
      "\n",
      "Conversion of the second argument of issubdtype from `float` to `np.floating` is deprecated. In future, it will be treated as `np.float64 == np.dtype(float).type`.\n",
      "\n"
     ]
    },
    {
     "name": "stdout",
     "output_type": "stream",
     "text": [
      "[40912.79308587284, 11798.196466369305, 18423.08559911072]\n",
      "[40912.79308587284, 11798.196466369305, 18423.08559911072]\n"
     ]
    },
    {
     "name": "stderr",
     "output_type": "stream",
     "text": [
      "C:\\Users\\Michael\\Anaconda3\\envs\\learn-env\\lib\\site-packages\\ipykernel_launcher.py:60: FutureWarning:\n",
      "\n",
      "'variable' is both an index level and a column label.\n",
      "Defaulting to column, but this will raise an ambiguity error in a future version\n",
      "\n",
      "C:\\Users\\Michael\\Anaconda3\\envs\\learn-env\\lib\\site-packages\\ipykernel_launcher.py:63: FutureWarning:\n",
      "\n",
      "'variable' is both an index level and a column label.\n",
      "Defaulting to column, but this will raise an ambiguity error in a future version\n",
      "\n",
      "INFO:fbprophet:Disabling weekly seasonality. Run prophet with weekly_seasonality=True to override this.\n",
      "INFO:fbprophet:Disabling daily seasonality. Run prophet with daily_seasonality=True to override this.\n",
      "C:\\Users\\Michael\\Anaconda3\\envs\\learn-env\\lib\\site-packages\\pystan\\misc.py:399: FutureWarning:\n",
      "\n",
      "Conversion of the second argument of issubdtype from `float` to `np.floating` is deprecated. In future, it will be treated as `np.float64 == np.dtype(float).type`.\n",
      "\n"
     ]
    },
    {
     "name": "stdout",
     "output_type": "stream",
     "text": [
      " 41 progress so far\n"
     ]
    },
    {
     "name": "stderr",
     "output_type": "stream",
     "text": [
      "C:\\Users\\Michael\\Anaconda3\\envs\\learn-env\\lib\\site-packages\\ipykernel_launcher.py:40: FutureWarning:\n",
      "\n",
      "'variable' is both an index level and a column label.\n",
      "Defaulting to column, but this will raise an ambiguity error in a future version\n",
      "\n",
      "C:\\Users\\Michael\\Anaconda3\\envs\\learn-env\\lib\\site-packages\\ipykernel_launcher.py:44: FutureWarning:\n",
      "\n",
      "'variable' is both an index level and a column label.\n",
      "Defaulting to column, but this will raise an ambiguity error in a future version\n",
      "\n",
      "INFO:fbprophet:Disabling weekly seasonality. Run prophet with weekly_seasonality=True to override this.\n",
      "INFO:fbprophet:Disabling daily seasonality. Run prophet with daily_seasonality=True to override this.\n",
      "C:\\Users\\Michael\\Anaconda3\\envs\\learn-env\\lib\\site-packages\\ipykernel_launcher.py:40: FutureWarning:\n",
      "\n",
      "'variable' is both an index level and a column label.\n",
      "Defaulting to column, but this will raise an ambiguity error in a future version\n",
      "\n",
      "C:\\Users\\Michael\\Anaconda3\\envs\\learn-env\\lib\\site-packages\\ipykernel_launcher.py:44: FutureWarning:\n",
      "\n",
      "'variable' is both an index level and a column label.\n",
      "Defaulting to column, but this will raise an ambiguity error in a future version\n",
      "\n",
      "INFO:fbprophet:Disabling weekly seasonality. Run prophet with weekly_seasonality=True to override this.\n",
      "INFO:fbprophet:Disabling daily seasonality. Run prophet with daily_seasonality=True to override this.\n"
     ]
    },
    {
     "name": "stdout",
     "output_type": "stream",
     "text": [
      "[19269.620150518123]\n"
     ]
    },
    {
     "name": "stderr",
     "output_type": "stream",
     "text": [
      "C:\\Users\\Michael\\Anaconda3\\envs\\learn-env\\lib\\site-packages\\pystan\\misc.py:399: FutureWarning:\n",
      "\n",
      "Conversion of the second argument of issubdtype from `float` to `np.floating` is deprecated. In future, it will be treated as `np.float64 == np.dtype(float).type`.\n",
      "\n",
      "C:\\Users\\Michael\\Anaconda3\\envs\\learn-env\\lib\\site-packages\\ipykernel_launcher.py:40: FutureWarning:\n",
      "\n",
      "'variable' is both an index level and a column label.\n",
      "Defaulting to column, but this will raise an ambiguity error in a future version\n",
      "\n",
      "C:\\Users\\Michael\\Anaconda3\\envs\\learn-env\\lib\\site-packages\\ipykernel_launcher.py:44: FutureWarning:\n",
      "\n",
      "'variable' is both an index level and a column label.\n",
      "Defaulting to column, but this will raise an ambiguity error in a future version\n",
      "\n",
      "INFO:fbprophet:Disabling weekly seasonality. Run prophet with weekly_seasonality=True to override this.\n",
      "INFO:fbprophet:Disabling daily seasonality. Run prophet with daily_seasonality=True to override this.\n"
     ]
    },
    {
     "name": "stdout",
     "output_type": "stream",
     "text": [
      "[19269.620150518123, 19812.09146944732]\n"
     ]
    },
    {
     "name": "stderr",
     "output_type": "stream",
     "text": [
      "C:\\Users\\Michael\\Anaconda3\\envs\\learn-env\\lib\\site-packages\\pystan\\misc.py:399: FutureWarning:\n",
      "\n",
      "Conversion of the second argument of issubdtype from `float` to `np.floating` is deprecated. In future, it will be treated as `np.float64 == np.dtype(float).type`.\n",
      "\n"
     ]
    },
    {
     "name": "stdout",
     "output_type": "stream",
     "text": [
      "[19269.620150518123, 19812.09146944732, 13318.668789248903]\n",
      "[19269.620150518123, 19812.09146944732, 13318.668789248903]\n"
     ]
    },
    {
     "name": "stderr",
     "output_type": "stream",
     "text": [
      "C:\\Users\\Michael\\Anaconda3\\envs\\learn-env\\lib\\site-packages\\ipykernel_launcher.py:60: FutureWarning:\n",
      "\n",
      "'variable' is both an index level and a column label.\n",
      "Defaulting to column, but this will raise an ambiguity error in a future version\n",
      "\n",
      "C:\\Users\\Michael\\Anaconda3\\envs\\learn-env\\lib\\site-packages\\ipykernel_launcher.py:63: FutureWarning:\n",
      "\n",
      "'variable' is both an index level and a column label.\n",
      "Defaulting to column, but this will raise an ambiguity error in a future version\n",
      "\n",
      "INFO:fbprophet:Disabling weekly seasonality. Run prophet with weekly_seasonality=True to override this.\n",
      "INFO:fbprophet:Disabling daily seasonality. Run prophet with daily_seasonality=True to override this.\n",
      "C:\\Users\\Michael\\Anaconda3\\envs\\learn-env\\lib\\site-packages\\pystan\\misc.py:399: FutureWarning:\n",
      "\n",
      "Conversion of the second argument of issubdtype from `float` to `np.floating` is deprecated. In future, it will be treated as `np.float64 == np.dtype(float).type`.\n",
      "\n"
     ]
    },
    {
     "name": "stdout",
     "output_type": "stream",
     "text": [
      " 42 progress so far\n"
     ]
    },
    {
     "name": "stderr",
     "output_type": "stream",
     "text": [
      "C:\\Users\\Michael\\Anaconda3\\envs\\learn-env\\lib\\site-packages\\ipykernel_launcher.py:40: FutureWarning:\n",
      "\n",
      "'variable' is both an index level and a column label.\n",
      "Defaulting to column, but this will raise an ambiguity error in a future version\n",
      "\n",
      "C:\\Users\\Michael\\Anaconda3\\envs\\learn-env\\lib\\site-packages\\ipykernel_launcher.py:44: FutureWarning:\n",
      "\n",
      "'variable' is both an index level and a column label.\n",
      "Defaulting to column, but this will raise an ambiguity error in a future version\n",
      "\n",
      "INFO:fbprophet:Disabling weekly seasonality. Run prophet with weekly_seasonality=True to override this.\n",
      "INFO:fbprophet:Disabling daily seasonality. Run prophet with daily_seasonality=True to override this.\n",
      "C:\\Users\\Michael\\Anaconda3\\envs\\learn-env\\lib\\site-packages\\ipykernel_launcher.py:40: FutureWarning:\n",
      "\n",
      "'variable' is both an index level and a column label.\n",
      "Defaulting to column, but this will raise an ambiguity error in a future version\n",
      "\n",
      "C:\\Users\\Michael\\Anaconda3\\envs\\learn-env\\lib\\site-packages\\ipykernel_launcher.py:44: FutureWarning:\n",
      "\n",
      "'variable' is both an index level and a column label.\n",
      "Defaulting to column, but this will raise an ambiguity error in a future version\n",
      "\n",
      "INFO:fbprophet:Disabling weekly seasonality. Run prophet with weekly_seasonality=True to override this.\n",
      "INFO:fbprophet:Disabling daily seasonality. Run prophet with daily_seasonality=True to override this.\n"
     ]
    },
    {
     "name": "stdout",
     "output_type": "stream",
     "text": [
      "[25294.667239290393]\n"
     ]
    },
    {
     "name": "stderr",
     "output_type": "stream",
     "text": [
      "C:\\Users\\Michael\\Anaconda3\\envs\\learn-env\\lib\\site-packages\\pystan\\misc.py:399: FutureWarning:\n",
      "\n",
      "Conversion of the second argument of issubdtype from `float` to `np.floating` is deprecated. In future, it will be treated as `np.float64 == np.dtype(float).type`.\n",
      "\n",
      "C:\\Users\\Michael\\Anaconda3\\envs\\learn-env\\lib\\site-packages\\ipykernel_launcher.py:40: FutureWarning:\n",
      "\n",
      "'variable' is both an index level and a column label.\n",
      "Defaulting to column, but this will raise an ambiguity error in a future version\n",
      "\n",
      "C:\\Users\\Michael\\Anaconda3\\envs\\learn-env\\lib\\site-packages\\ipykernel_launcher.py:44: FutureWarning:\n",
      "\n",
      "'variable' is both an index level and a column label.\n",
      "Defaulting to column, but this will raise an ambiguity error in a future version\n",
      "\n",
      "INFO:fbprophet:Disabling weekly seasonality. Run prophet with weekly_seasonality=True to override this.\n",
      "INFO:fbprophet:Disabling daily seasonality. Run prophet with daily_seasonality=True to override this.\n"
     ]
    },
    {
     "name": "stdout",
     "output_type": "stream",
     "text": [
      "[25294.667239290393, 47209.10678460322]\n"
     ]
    },
    {
     "name": "stderr",
     "output_type": "stream",
     "text": [
      "C:\\Users\\Michael\\Anaconda3\\envs\\learn-env\\lib\\site-packages\\pystan\\misc.py:399: FutureWarning:\n",
      "\n",
      "Conversion of the second argument of issubdtype from `float` to `np.floating` is deprecated. In future, it will be treated as `np.float64 == np.dtype(float).type`.\n",
      "\n"
     ]
    },
    {
     "name": "stdout",
     "output_type": "stream",
     "text": [
      "[25294.667239290393, 47209.10678460322, 74656.21404205298]\n",
      "[25294.667239290393, 47209.10678460322, 74656.21404205298]\n"
     ]
    },
    {
     "name": "stderr",
     "output_type": "stream",
     "text": [
      "C:\\Users\\Michael\\Anaconda3\\envs\\learn-env\\lib\\site-packages\\ipykernel_launcher.py:60: FutureWarning:\n",
      "\n",
      "'variable' is both an index level and a column label.\n",
      "Defaulting to column, but this will raise an ambiguity error in a future version\n",
      "\n",
      "C:\\Users\\Michael\\Anaconda3\\envs\\learn-env\\lib\\site-packages\\ipykernel_launcher.py:63: FutureWarning:\n",
      "\n",
      "'variable' is both an index level and a column label.\n",
      "Defaulting to column, but this will raise an ambiguity error in a future version\n",
      "\n",
      "INFO:fbprophet:Disabling weekly seasonality. Run prophet with weekly_seasonality=True to override this.\n",
      "INFO:fbprophet:Disabling daily seasonality. Run prophet with daily_seasonality=True to override this.\n",
      "C:\\Users\\Michael\\Anaconda3\\envs\\learn-env\\lib\\site-packages\\pystan\\misc.py:399: FutureWarning:\n",
      "\n",
      "Conversion of the second argument of issubdtype from `float` to `np.floating` is deprecated. In future, it will be treated as `np.float64 == np.dtype(float).type`.\n",
      "\n",
      "C:\\Users\\Michael\\Anaconda3\\envs\\learn-env\\lib\\site-packages\\ipykernel_launcher.py:40: FutureWarning:\n",
      "\n",
      "'variable' is both an index level and a column label.\n",
      "Defaulting to column, but this will raise an ambiguity error in a future version\n",
      "\n",
      "C:\\Users\\Michael\\Anaconda3\\envs\\learn-env\\lib\\site-packages\\ipykernel_launcher.py:44: FutureWarning:\n",
      "\n",
      "'variable' is both an index level and a column label.\n",
      "Defaulting to column, but this will raise an ambiguity error in a future version\n",
      "\n",
      "INFO:fbprophet:Disabling weekly seasonality. Run prophet with weekly_seasonality=True to override this.\n"
     ]
    },
    {
     "name": "stdout",
     "output_type": "stream",
     "text": [
      " 43 progress so far\n"
     ]
    },
    {
     "name": "stderr",
     "output_type": "stream",
     "text": [
      "INFO:fbprophet:Disabling daily seasonality. Run prophet with daily_seasonality=True to override this.\n"
     ]
    },
    {
     "name": "stdout",
     "output_type": "stream",
     "text": [
      "[25923.81307834543]\n"
     ]
    },
    {
     "name": "stderr",
     "output_type": "stream",
     "text": [
      "C:\\Users\\Michael\\Anaconda3\\envs\\learn-env\\lib\\site-packages\\ipykernel_launcher.py:40: FutureWarning:\n",
      "\n",
      "'variable' is both an index level and a column label.\n",
      "Defaulting to column, but this will raise an ambiguity error in a future version\n",
      "\n",
      "C:\\Users\\Michael\\Anaconda3\\envs\\learn-env\\lib\\site-packages\\ipykernel_launcher.py:44: FutureWarning:\n",
      "\n",
      "'variable' is both an index level and a column label.\n",
      "Defaulting to column, but this will raise an ambiguity error in a future version\n",
      "\n",
      "INFO:fbprophet:Disabling weekly seasonality. Run prophet with weekly_seasonality=True to override this.\n",
      "INFO:fbprophet:Disabling daily seasonality. Run prophet with daily_seasonality=True to override this.\n",
      "C:\\Users\\Michael\\Anaconda3\\envs\\learn-env\\lib\\site-packages\\pystan\\misc.py:399: FutureWarning:\n",
      "\n",
      "Conversion of the second argument of issubdtype from `float` to `np.floating` is deprecated. In future, it will be treated as `np.float64 == np.dtype(float).type`.\n",
      "\n",
      "C:\\Users\\Michael\\Anaconda3\\envs\\learn-env\\lib\\site-packages\\ipykernel_launcher.py:40: FutureWarning:\n",
      "\n",
      "'variable' is both an index level and a column label.\n",
      "Defaulting to column, but this will raise an ambiguity error in a future version\n",
      "\n",
      "C:\\Users\\Michael\\Anaconda3\\envs\\learn-env\\lib\\site-packages\\ipykernel_launcher.py:44: FutureWarning:\n",
      "\n",
      "'variable' is both an index level and a column label.\n",
      "Defaulting to column, but this will raise an ambiguity error in a future version\n",
      "\n",
      "INFO:fbprophet:Disabling weekly seasonality. Run prophet with weekly_seasonality=True to override this.\n",
      "INFO:fbprophet:Disabling daily seasonality. Run prophet with daily_seasonality=True to override this.\n"
     ]
    },
    {
     "name": "stdout",
     "output_type": "stream",
     "text": [
      "[25923.81307834543, 64915.4780306966]\n"
     ]
    },
    {
     "name": "stderr",
     "output_type": "stream",
     "text": [
      "C:\\Users\\Michael\\Anaconda3\\envs\\learn-env\\lib\\site-packages\\pystan\\misc.py:399: FutureWarning:\n",
      "\n",
      "Conversion of the second argument of issubdtype from `float` to `np.floating` is deprecated. In future, it will be treated as `np.float64 == np.dtype(float).type`.\n",
      "\n"
     ]
    },
    {
     "name": "stdout",
     "output_type": "stream",
     "text": [
      "[25923.81307834543, 64915.4780306966, 55036.739000468544]\n",
      "[25923.81307834543, 64915.4780306966, 55036.739000468544]\n"
     ]
    },
    {
     "name": "stderr",
     "output_type": "stream",
     "text": [
      "C:\\Users\\Michael\\Anaconda3\\envs\\learn-env\\lib\\site-packages\\ipykernel_launcher.py:60: FutureWarning:\n",
      "\n",
      "'variable' is both an index level and a column label.\n",
      "Defaulting to column, but this will raise an ambiguity error in a future version\n",
      "\n",
      "C:\\Users\\Michael\\Anaconda3\\envs\\learn-env\\lib\\site-packages\\ipykernel_launcher.py:63: FutureWarning:\n",
      "\n",
      "'variable' is both an index level and a column label.\n",
      "Defaulting to column, but this will raise an ambiguity error in a future version\n",
      "\n",
      "INFO:fbprophet:Disabling weekly seasonality. Run prophet with weekly_seasonality=True to override this.\n",
      "INFO:fbprophet:Disabling daily seasonality. Run prophet with daily_seasonality=True to override this.\n",
      "C:\\Users\\Michael\\Anaconda3\\envs\\learn-env\\lib\\site-packages\\pystan\\misc.py:399: FutureWarning:\n",
      "\n",
      "Conversion of the second argument of issubdtype from `float` to `np.floating` is deprecated. In future, it will be treated as `np.float64 == np.dtype(float).type`.\n",
      "\n"
     ]
    },
    {
     "name": "stdout",
     "output_type": "stream",
     "text": [
      " 44 progress so far\n"
     ]
    },
    {
     "name": "stderr",
     "output_type": "stream",
     "text": [
      "C:\\Users\\Michael\\Anaconda3\\envs\\learn-env\\lib\\site-packages\\ipykernel_launcher.py:40: FutureWarning:\n",
      "\n",
      "'variable' is both an index level and a column label.\n",
      "Defaulting to column, but this will raise an ambiguity error in a future version\n",
      "\n",
      "C:\\Users\\Michael\\Anaconda3\\envs\\learn-env\\lib\\site-packages\\ipykernel_launcher.py:44: FutureWarning:\n",
      "\n",
      "'variable' is both an index level and a column label.\n",
      "Defaulting to column, but this will raise an ambiguity error in a future version\n",
      "\n",
      "INFO:fbprophet:Disabling weekly seasonality. Run prophet with weekly_seasonality=True to override this.\n",
      "INFO:fbprophet:Disabling daily seasonality. Run prophet with daily_seasonality=True to override this.\n",
      "C:\\Users\\Michael\\Anaconda3\\envs\\learn-env\\lib\\site-packages\\ipykernel_launcher.py:40: FutureWarning:\n",
      "\n",
      "'variable' is both an index level and a column label.\n",
      "Defaulting to column, but this will raise an ambiguity error in a future version\n",
      "\n",
      "C:\\Users\\Michael\\Anaconda3\\envs\\learn-env\\lib\\site-packages\\ipykernel_launcher.py:44: FutureWarning:\n",
      "\n",
      "'variable' is both an index level and a column label.\n",
      "Defaulting to column, but this will raise an ambiguity error in a future version\n",
      "\n",
      "INFO:fbprophet:Disabling weekly seasonality. Run prophet with weekly_seasonality=True to override this.\n",
      "INFO:fbprophet:Disabling daily seasonality. Run prophet with daily_seasonality=True to override this.\n"
     ]
    },
    {
     "name": "stdout",
     "output_type": "stream",
     "text": [
      "[59621.537838621014]\n"
     ]
    },
    {
     "name": "stderr",
     "output_type": "stream",
     "text": [
      "C:\\Users\\Michael\\Anaconda3\\envs\\learn-env\\lib\\site-packages\\pystan\\misc.py:399: FutureWarning:\n",
      "\n",
      "Conversion of the second argument of issubdtype from `float` to `np.floating` is deprecated. In future, it will be treated as `np.float64 == np.dtype(float).type`.\n",
      "\n",
      "C:\\Users\\Michael\\Anaconda3\\envs\\learn-env\\lib\\site-packages\\ipykernel_launcher.py:40: FutureWarning:\n",
      "\n",
      "'variable' is both an index level and a column label.\n",
      "Defaulting to column, but this will raise an ambiguity error in a future version\n",
      "\n",
      "C:\\Users\\Michael\\Anaconda3\\envs\\learn-env\\lib\\site-packages\\ipykernel_launcher.py:44: FutureWarning:\n",
      "\n",
      "'variable' is both an index level and a column label.\n",
      "Defaulting to column, but this will raise an ambiguity error in a future version\n",
      "\n",
      "INFO:fbprophet:Disabling weekly seasonality. Run prophet with weekly_seasonality=True to override this.\n",
      "INFO:fbprophet:Disabling daily seasonality. Run prophet with daily_seasonality=True to override this.\n"
     ]
    },
    {
     "name": "stdout",
     "output_type": "stream",
     "text": [
      "[59621.537838621014, 22100.505938860348]\n"
     ]
    },
    {
     "name": "stderr",
     "output_type": "stream",
     "text": [
      "C:\\Users\\Michael\\Anaconda3\\envs\\learn-env\\lib\\site-packages\\pystan\\misc.py:399: FutureWarning:\n",
      "\n",
      "Conversion of the second argument of issubdtype from `float` to `np.floating` is deprecated. In future, it will be treated as `np.float64 == np.dtype(float).type`.\n",
      "\n"
     ]
    },
    {
     "name": "stdout",
     "output_type": "stream",
     "text": [
      "[59621.537838621014, 22100.505938860348, 20174.34528408592]\n",
      "[59621.537838621014, 22100.505938860348, 20174.34528408592]\n"
     ]
    },
    {
     "name": "stderr",
     "output_type": "stream",
     "text": [
      "C:\\Users\\Michael\\Anaconda3\\envs\\learn-env\\lib\\site-packages\\ipykernel_launcher.py:60: FutureWarning:\n",
      "\n",
      "'variable' is both an index level and a column label.\n",
      "Defaulting to column, but this will raise an ambiguity error in a future version\n",
      "\n",
      "C:\\Users\\Michael\\Anaconda3\\envs\\learn-env\\lib\\site-packages\\ipykernel_launcher.py:63: FutureWarning:\n",
      "\n",
      "'variable' is both an index level and a column label.\n",
      "Defaulting to column, but this will raise an ambiguity error in a future version\n",
      "\n",
      "INFO:fbprophet:Disabling weekly seasonality. Run prophet with weekly_seasonality=True to override this.\n",
      "INFO:fbprophet:Disabling daily seasonality. Run prophet with daily_seasonality=True to override this.\n",
      "C:\\Users\\Michael\\Anaconda3\\envs\\learn-env\\lib\\site-packages\\pystan\\misc.py:399: FutureWarning:\n",
      "\n",
      "Conversion of the second argument of issubdtype from `float` to `np.floating` is deprecated. In future, it will be treated as `np.float64 == np.dtype(float).type`.\n",
      "\n"
     ]
    },
    {
     "name": "stdout",
     "output_type": "stream",
     "text": [
      " 45 progress so far\n"
     ]
    },
    {
     "name": "stderr",
     "output_type": "stream",
     "text": [
      "C:\\Users\\Michael\\Anaconda3\\envs\\learn-env\\lib\\site-packages\\ipykernel_launcher.py:40: FutureWarning:\n",
      "\n",
      "'variable' is both an index level and a column label.\n",
      "Defaulting to column, but this will raise an ambiguity error in a future version\n",
      "\n",
      "C:\\Users\\Michael\\Anaconda3\\envs\\learn-env\\lib\\site-packages\\ipykernel_launcher.py:44: FutureWarning:\n",
      "\n",
      "'variable' is both an index level and a column label.\n",
      "Defaulting to column, but this will raise an ambiguity error in a future version\n",
      "\n",
      "INFO:fbprophet:Disabling weekly seasonality. Run prophet with weekly_seasonality=True to override this.\n",
      "INFO:fbprophet:Disabling daily seasonality. Run prophet with daily_seasonality=True to override this.\n",
      "C:\\Users\\Michael\\Anaconda3\\envs\\learn-env\\lib\\site-packages\\ipykernel_launcher.py:40: FutureWarning:\n",
      "\n",
      "'variable' is both an index level and a column label.\n",
      "Defaulting to column, but this will raise an ambiguity error in a future version\n",
      "\n",
      "C:\\Users\\Michael\\Anaconda3\\envs\\learn-env\\lib\\site-packages\\ipykernel_launcher.py:44: FutureWarning:\n",
      "\n",
      "'variable' is both an index level and a column label.\n",
      "Defaulting to column, but this will raise an ambiguity error in a future version\n",
      "\n",
      "INFO:fbprophet:Disabling weekly seasonality. Run prophet with weekly_seasonality=True to override this.\n",
      "INFO:fbprophet:Disabling daily seasonality. Run prophet with daily_seasonality=True to override this.\n"
     ]
    },
    {
     "name": "stdout",
     "output_type": "stream",
     "text": [
      "[11245.91491045078]\n"
     ]
    },
    {
     "name": "stderr",
     "output_type": "stream",
     "text": [
      "C:\\Users\\Michael\\Anaconda3\\envs\\learn-env\\lib\\site-packages\\pystan\\misc.py:399: FutureWarning:\n",
      "\n",
      "Conversion of the second argument of issubdtype from `float` to `np.floating` is deprecated. In future, it will be treated as `np.float64 == np.dtype(float).type`.\n",
      "\n",
      "C:\\Users\\Michael\\Anaconda3\\envs\\learn-env\\lib\\site-packages\\ipykernel_launcher.py:40: FutureWarning:\n",
      "\n",
      "'variable' is both an index level and a column label.\n",
      "Defaulting to column, but this will raise an ambiguity error in a future version\n",
      "\n",
      "C:\\Users\\Michael\\Anaconda3\\envs\\learn-env\\lib\\site-packages\\ipykernel_launcher.py:44: FutureWarning:\n",
      "\n",
      "'variable' is both an index level and a column label.\n",
      "Defaulting to column, but this will raise an ambiguity error in a future version\n",
      "\n",
      "INFO:fbprophet:Disabling weekly seasonality. Run prophet with weekly_seasonality=True to override this.\n",
      "INFO:fbprophet:Disabling daily seasonality. Run prophet with daily_seasonality=True to override this.\n"
     ]
    },
    {
     "name": "stdout",
     "output_type": "stream",
     "text": [
      "[11245.91491045078, 4733.23905376483]\n"
     ]
    },
    {
     "name": "stderr",
     "output_type": "stream",
     "text": [
      "C:\\Users\\Michael\\Anaconda3\\envs\\learn-env\\lib\\site-packages\\pystan\\misc.py:399: FutureWarning:\n",
      "\n",
      "Conversion of the second argument of issubdtype from `float` to `np.floating` is deprecated. In future, it will be treated as `np.float64 == np.dtype(float).type`.\n",
      "\n"
     ]
    },
    {
     "name": "stdout",
     "output_type": "stream",
     "text": [
      "[11245.91491045078, 4733.23905376483, 11542.706083905494]\n",
      "[11245.91491045078, 4733.23905376483, 11542.706083905494]\n"
     ]
    },
    {
     "name": "stderr",
     "output_type": "stream",
     "text": [
      "C:\\Users\\Michael\\Anaconda3\\envs\\learn-env\\lib\\site-packages\\ipykernel_launcher.py:60: FutureWarning:\n",
      "\n",
      "'variable' is both an index level and a column label.\n",
      "Defaulting to column, but this will raise an ambiguity error in a future version\n",
      "\n",
      "C:\\Users\\Michael\\Anaconda3\\envs\\learn-env\\lib\\site-packages\\ipykernel_launcher.py:63: FutureWarning:\n",
      "\n",
      "'variable' is both an index level and a column label.\n",
      "Defaulting to column, but this will raise an ambiguity error in a future version\n",
      "\n",
      "INFO:fbprophet:Disabling weekly seasonality. Run prophet with weekly_seasonality=True to override this.\n",
      "INFO:fbprophet:Disabling daily seasonality. Run prophet with daily_seasonality=True to override this.\n",
      "C:\\Users\\Michael\\Anaconda3\\envs\\learn-env\\lib\\site-packages\\pystan\\misc.py:399: FutureWarning:\n",
      "\n",
      "Conversion of the second argument of issubdtype from `float` to `np.floating` is deprecated. In future, it will be treated as `np.float64 == np.dtype(float).type`.\n",
      "\n"
     ]
    },
    {
     "name": "stdout",
     "output_type": "stream",
     "text": [
      " 46 progress so far\n"
     ]
    },
    {
     "name": "stderr",
     "output_type": "stream",
     "text": [
      "C:\\Users\\Michael\\Anaconda3\\envs\\learn-env\\lib\\site-packages\\ipykernel_launcher.py:40: FutureWarning:\n",
      "\n",
      "'variable' is both an index level and a column label.\n",
      "Defaulting to column, but this will raise an ambiguity error in a future version\n",
      "\n",
      "C:\\Users\\Michael\\Anaconda3\\envs\\learn-env\\lib\\site-packages\\ipykernel_launcher.py:44: FutureWarning:\n",
      "\n",
      "'variable' is both an index level and a column label.\n",
      "Defaulting to column, but this will raise an ambiguity error in a future version\n",
      "\n",
      "INFO:fbprophet:Disabling weekly seasonality. Run prophet with weekly_seasonality=True to override this.\n",
      "INFO:fbprophet:Disabling daily seasonality. Run prophet with daily_seasonality=True to override this.\n",
      "C:\\Users\\Michael\\Anaconda3\\envs\\learn-env\\lib\\site-packages\\ipykernel_launcher.py:40: FutureWarning:\n",
      "\n",
      "'variable' is both an index level and a column label.\n",
      "Defaulting to column, but this will raise an ambiguity error in a future version\n",
      "\n",
      "C:\\Users\\Michael\\Anaconda3\\envs\\learn-env\\lib\\site-packages\\ipykernel_launcher.py:44: FutureWarning:\n",
      "\n",
      "'variable' is both an index level and a column label.\n",
      "Defaulting to column, but this will raise an ambiguity error in a future version\n",
      "\n",
      "INFO:fbprophet:Disabling weekly seasonality. Run prophet with weekly_seasonality=True to override this.\n",
      "INFO:fbprophet:Disabling daily seasonality. Run prophet with daily_seasonality=True to override this.\n"
     ]
    },
    {
     "name": "stdout",
     "output_type": "stream",
     "text": [
      "[122085.43884030625]\n"
     ]
    },
    {
     "name": "stderr",
     "output_type": "stream",
     "text": [
      "C:\\Users\\Michael\\Anaconda3\\envs\\learn-env\\lib\\site-packages\\pystan\\misc.py:399: FutureWarning:\n",
      "\n",
      "Conversion of the second argument of issubdtype from `float` to `np.floating` is deprecated. In future, it will be treated as `np.float64 == np.dtype(float).type`.\n",
      "\n"
     ]
    },
    {
     "name": "stdout",
     "output_type": "stream",
     "text": [
      "[122085.43884030625, 166223.8928791615]\n"
     ]
    },
    {
     "name": "stderr",
     "output_type": "stream",
     "text": [
      "C:\\Users\\Michael\\Anaconda3\\envs\\learn-env\\lib\\site-packages\\ipykernel_launcher.py:40: FutureWarning:\n",
      "\n",
      "'variable' is both an index level and a column label.\n",
      "Defaulting to column, but this will raise an ambiguity error in a future version\n",
      "\n",
      "C:\\Users\\Michael\\Anaconda3\\envs\\learn-env\\lib\\site-packages\\ipykernel_launcher.py:44: FutureWarning:\n",
      "\n",
      "'variable' is both an index level and a column label.\n",
      "Defaulting to column, but this will raise an ambiguity error in a future version\n",
      "\n",
      "INFO:fbprophet:Disabling weekly seasonality. Run prophet with weekly_seasonality=True to override this.\n",
      "INFO:fbprophet:Disabling daily seasonality. Run prophet with daily_seasonality=True to override this.\n",
      "C:\\Users\\Michael\\Anaconda3\\envs\\learn-env\\lib\\site-packages\\pystan\\misc.py:399: FutureWarning:\n",
      "\n",
      "Conversion of the second argument of issubdtype from `float` to `np.floating` is deprecated. In future, it will be treated as `np.float64 == np.dtype(float).type`.\n",
      "\n"
     ]
    },
    {
     "name": "stdout",
     "output_type": "stream",
     "text": [
      "[122085.43884030625, 166223.8928791615, 156525.0863019015]\n",
      "[122085.43884030625, 166223.8928791615, 156525.0863019015]\n"
     ]
    },
    {
     "name": "stderr",
     "output_type": "stream",
     "text": [
      "C:\\Users\\Michael\\Anaconda3\\envs\\learn-env\\lib\\site-packages\\ipykernel_launcher.py:60: FutureWarning:\n",
      "\n",
      "'variable' is both an index level and a column label.\n",
      "Defaulting to column, but this will raise an ambiguity error in a future version\n",
      "\n",
      "C:\\Users\\Michael\\Anaconda3\\envs\\learn-env\\lib\\site-packages\\ipykernel_launcher.py:63: FutureWarning:\n",
      "\n",
      "'variable' is both an index level and a column label.\n",
      "Defaulting to column, but this will raise an ambiguity error in a future version\n",
      "\n",
      "INFO:fbprophet:Disabling weekly seasonality. Run prophet with weekly_seasonality=True to override this.\n",
      "INFO:fbprophet:Disabling daily seasonality. Run prophet with daily_seasonality=True to override this.\n",
      "C:\\Users\\Michael\\Anaconda3\\envs\\learn-env\\lib\\site-packages\\pystan\\misc.py:399: FutureWarning:\n",
      "\n",
      "Conversion of the second argument of issubdtype from `float` to `np.floating` is deprecated. In future, it will be treated as `np.float64 == np.dtype(float).type`.\n",
      "\n"
     ]
    },
    {
     "name": "stdout",
     "output_type": "stream",
     "text": [
      " 47 progress so far\n"
     ]
    },
    {
     "name": "stderr",
     "output_type": "stream",
     "text": [
      "C:\\Users\\Michael\\Anaconda3\\envs\\learn-env\\lib\\site-packages\\ipykernel_launcher.py:40: FutureWarning:\n",
      "\n",
      "'variable' is both an index level and a column label.\n",
      "Defaulting to column, but this will raise an ambiguity error in a future version\n",
      "\n",
      "C:\\Users\\Michael\\Anaconda3\\envs\\learn-env\\lib\\site-packages\\ipykernel_launcher.py:44: FutureWarning:\n",
      "\n",
      "'variable' is both an index level and a column label.\n",
      "Defaulting to column, but this will raise an ambiguity error in a future version\n",
      "\n",
      "INFO:fbprophet:Disabling weekly seasonality. Run prophet with weekly_seasonality=True to override this.\n",
      "INFO:fbprophet:Disabling daily seasonality. Run prophet with daily_seasonality=True to override this.\n"
     ]
    },
    {
     "name": "stdout",
     "output_type": "stream",
     "text": [
      "[9712.71436525278]\n"
     ]
    },
    {
     "name": "stderr",
     "output_type": "stream",
     "text": [
      "C:\\Users\\Michael\\Anaconda3\\envs\\learn-env\\lib\\site-packages\\ipykernel_launcher.py:40: FutureWarning:\n",
      "\n",
      "'variable' is both an index level and a column label.\n",
      "Defaulting to column, but this will raise an ambiguity error in a future version\n",
      "\n",
      "C:\\Users\\Michael\\Anaconda3\\envs\\learn-env\\lib\\site-packages\\ipykernel_launcher.py:44: FutureWarning:\n",
      "\n",
      "'variable' is both an index level and a column label.\n",
      "Defaulting to column, but this will raise an ambiguity error in a future version\n",
      "\n",
      "INFO:fbprophet:Disabling weekly seasonality. Run prophet with weekly_seasonality=True to override this.\n",
      "INFO:fbprophet:Disabling daily seasonality. Run prophet with daily_seasonality=True to override this.\n",
      "C:\\Users\\Michael\\Anaconda3\\envs\\learn-env\\lib\\site-packages\\pystan\\misc.py:399: FutureWarning:\n",
      "\n",
      "Conversion of the second argument of issubdtype from `float` to `np.floating` is deprecated. In future, it will be treated as `np.float64 == np.dtype(float).type`.\n",
      "\n",
      "C:\\Users\\Michael\\Anaconda3\\envs\\learn-env\\lib\\site-packages\\ipykernel_launcher.py:40: FutureWarning:\n",
      "\n",
      "'variable' is both an index level and a column label.\n",
      "Defaulting to column, but this will raise an ambiguity error in a future version\n",
      "\n",
      "C:\\Users\\Michael\\Anaconda3\\envs\\learn-env\\lib\\site-packages\\ipykernel_launcher.py:44: FutureWarning:\n",
      "\n",
      "'variable' is both an index level and a column label.\n",
      "Defaulting to column, but this will raise an ambiguity error in a future version\n",
      "\n",
      "INFO:fbprophet:Disabling weekly seasonality. Run prophet with weekly_seasonality=True to override this.\n",
      "INFO:fbprophet:Disabling daily seasonality. Run prophet with daily_seasonality=True to override this.\n"
     ]
    },
    {
     "name": "stdout",
     "output_type": "stream",
     "text": [
      "[9712.71436525278, 25556.173622812614]\n"
     ]
    },
    {
     "name": "stderr",
     "output_type": "stream",
     "text": [
      "C:\\Users\\Michael\\Anaconda3\\envs\\learn-env\\lib\\site-packages\\pystan\\misc.py:399: FutureWarning:\n",
      "\n",
      "Conversion of the second argument of issubdtype from `float` to `np.floating` is deprecated. In future, it will be treated as `np.float64 == np.dtype(float).type`.\n",
      "\n"
     ]
    },
    {
     "name": "stdout",
     "output_type": "stream",
     "text": [
      "[9712.71436525278, 25556.173622812614, 25950.922159795202]\n",
      "[9712.71436525278, 25556.173622812614, 25950.922159795202]\n"
     ]
    },
    {
     "name": "stderr",
     "output_type": "stream",
     "text": [
      "C:\\Users\\Michael\\Anaconda3\\envs\\learn-env\\lib\\site-packages\\ipykernel_launcher.py:60: FutureWarning:\n",
      "\n",
      "'variable' is both an index level and a column label.\n",
      "Defaulting to column, but this will raise an ambiguity error in a future version\n",
      "\n",
      "C:\\Users\\Michael\\Anaconda3\\envs\\learn-env\\lib\\site-packages\\ipykernel_launcher.py:63: FutureWarning:\n",
      "\n",
      "'variable' is both an index level and a column label.\n",
      "Defaulting to column, but this will raise an ambiguity error in a future version\n",
      "\n",
      "INFO:fbprophet:Disabling weekly seasonality. Run prophet with weekly_seasonality=True to override this.\n",
      "INFO:fbprophet:Disabling daily seasonality. Run prophet with daily_seasonality=True to override this.\n",
      "C:\\Users\\Michael\\Anaconda3\\envs\\learn-env\\lib\\site-packages\\pystan\\misc.py:399: FutureWarning:\n",
      "\n",
      "Conversion of the second argument of issubdtype from `float` to `np.floating` is deprecated. In future, it will be treated as `np.float64 == np.dtype(float).type`.\n",
      "\n"
     ]
    },
    {
     "name": "stdout",
     "output_type": "stream",
     "text": [
      " 48 progress so far\n"
     ]
    },
    {
     "name": "stderr",
     "output_type": "stream",
     "text": [
      "C:\\Users\\Michael\\Anaconda3\\envs\\learn-env\\lib\\site-packages\\ipykernel_launcher.py:40: FutureWarning:\n",
      "\n",
      "'variable' is both an index level and a column label.\n",
      "Defaulting to column, but this will raise an ambiguity error in a future version\n",
      "\n",
      "C:\\Users\\Michael\\Anaconda3\\envs\\learn-env\\lib\\site-packages\\ipykernel_launcher.py:44: FutureWarning:\n",
      "\n",
      "'variable' is both an index level and a column label.\n",
      "Defaulting to column, but this will raise an ambiguity error in a future version\n",
      "\n",
      "INFO:fbprophet:Disabling weekly seasonality. Run prophet with weekly_seasonality=True to override this.\n",
      "INFO:fbprophet:Disabling daily seasonality. Run prophet with daily_seasonality=True to override this.\n",
      "C:\\Users\\Michael\\Anaconda3\\envs\\learn-env\\lib\\site-packages\\ipykernel_launcher.py:40: FutureWarning:\n",
      "\n",
      "'variable' is both an index level and a column label.\n",
      "Defaulting to column, but this will raise an ambiguity error in a future version\n",
      "\n",
      "C:\\Users\\Michael\\Anaconda3\\envs\\learn-env\\lib\\site-packages\\ipykernel_launcher.py:44: FutureWarning:\n",
      "\n",
      "'variable' is both an index level and a column label.\n",
      "Defaulting to column, but this will raise an ambiguity error in a future version\n",
      "\n",
      "INFO:fbprophet:Disabling weekly seasonality. Run prophet with weekly_seasonality=True to override this.\n",
      "INFO:fbprophet:Disabling daily seasonality. Run prophet with daily_seasonality=True to override this.\n"
     ]
    },
    {
     "name": "stdout",
     "output_type": "stream",
     "text": [
      "[8935.655692653569]\n"
     ]
    },
    {
     "name": "stderr",
     "output_type": "stream",
     "text": [
      "C:\\Users\\Michael\\Anaconda3\\envs\\learn-env\\lib\\site-packages\\pystan\\misc.py:399: FutureWarning:\n",
      "\n",
      "Conversion of the second argument of issubdtype from `float` to `np.floating` is deprecated. In future, it will be treated as `np.float64 == np.dtype(float).type`.\n",
      "\n"
     ]
    },
    {
     "name": "stdout",
     "output_type": "stream",
     "text": [
      "[8935.655692653569, 21196.93779539856]\n"
     ]
    },
    {
     "name": "stderr",
     "output_type": "stream",
     "text": [
      "C:\\Users\\Michael\\Anaconda3\\envs\\learn-env\\lib\\site-packages\\ipykernel_launcher.py:40: FutureWarning:\n",
      "\n",
      "'variable' is both an index level and a column label.\n",
      "Defaulting to column, but this will raise an ambiguity error in a future version\n",
      "\n",
      "C:\\Users\\Michael\\Anaconda3\\envs\\learn-env\\lib\\site-packages\\ipykernel_launcher.py:44: FutureWarning:\n",
      "\n",
      "'variable' is both an index level and a column label.\n",
      "Defaulting to column, but this will raise an ambiguity error in a future version\n",
      "\n",
      "INFO:fbprophet:Disabling weekly seasonality. Run prophet with weekly_seasonality=True to override this.\n",
      "INFO:fbprophet:Disabling daily seasonality. Run prophet with daily_seasonality=True to override this.\n",
      "C:\\Users\\Michael\\Anaconda3\\envs\\learn-env\\lib\\site-packages\\pystan\\misc.py:399: FutureWarning:\n",
      "\n",
      "Conversion of the second argument of issubdtype from `float` to `np.floating` is deprecated. In future, it will be treated as `np.float64 == np.dtype(float).type`.\n",
      "\n"
     ]
    },
    {
     "name": "stdout",
     "output_type": "stream",
     "text": [
      "[8935.655692653569, 21196.93779539856, 20485.257641826967]\n",
      "[8935.655692653569, 21196.93779539856, 20485.257641826967]\n"
     ]
    },
    {
     "name": "stderr",
     "output_type": "stream",
     "text": [
      "C:\\Users\\Michael\\Anaconda3\\envs\\learn-env\\lib\\site-packages\\ipykernel_launcher.py:60: FutureWarning:\n",
      "\n",
      "'variable' is both an index level and a column label.\n",
      "Defaulting to column, but this will raise an ambiguity error in a future version\n",
      "\n",
      "C:\\Users\\Michael\\Anaconda3\\envs\\learn-env\\lib\\site-packages\\ipykernel_launcher.py:63: FutureWarning:\n",
      "\n",
      "'variable' is both an index level and a column label.\n",
      "Defaulting to column, but this will raise an ambiguity error in a future version\n",
      "\n",
      "INFO:fbprophet:Disabling weekly seasonality. Run prophet with weekly_seasonality=True to override this.\n",
      "INFO:fbprophet:Disabling daily seasonality. Run prophet with daily_seasonality=True to override this.\n",
      "C:\\Users\\Michael\\Anaconda3\\envs\\learn-env\\lib\\site-packages\\pystan\\misc.py:399: FutureWarning:\n",
      "\n",
      "Conversion of the second argument of issubdtype from `float` to `np.floating` is deprecated. In future, it will be treated as `np.float64 == np.dtype(float).type`.\n",
      "\n"
     ]
    },
    {
     "name": "stdout",
     "output_type": "stream",
     "text": [
      " 49 progress so far\n"
     ]
    },
    {
     "name": "stderr",
     "output_type": "stream",
     "text": [
      "C:\\Users\\Michael\\Anaconda3\\envs\\learn-env\\lib\\site-packages\\ipykernel_launcher.py:40: FutureWarning:\n",
      "\n",
      "'variable' is both an index level and a column label.\n",
      "Defaulting to column, but this will raise an ambiguity error in a future version\n",
      "\n",
      "C:\\Users\\Michael\\Anaconda3\\envs\\learn-env\\lib\\site-packages\\ipykernel_launcher.py:44: FutureWarning:\n",
      "\n",
      "'variable' is both an index level and a column label.\n",
      "Defaulting to column, but this will raise an ambiguity error in a future version\n",
      "\n",
      "INFO:fbprophet:Disabling weekly seasonality. Run prophet with weekly_seasonality=True to override this.\n",
      "INFO:fbprophet:Disabling daily seasonality. Run prophet with daily_seasonality=True to override this.\n",
      "C:\\Users\\Michael\\Anaconda3\\envs\\learn-env\\lib\\site-packages\\ipykernel_launcher.py:40: FutureWarning:\n",
      "\n",
      "'variable' is both an index level and a column label.\n",
      "Defaulting to column, but this will raise an ambiguity error in a future version\n",
      "\n",
      "C:\\Users\\Michael\\Anaconda3\\envs\\learn-env\\lib\\site-packages\\ipykernel_launcher.py:44: FutureWarning:\n",
      "\n",
      "'variable' is both an index level and a column label.\n",
      "Defaulting to column, but this will raise an ambiguity error in a future version\n",
      "\n",
      "INFO:fbprophet:Disabling weekly seasonality. Run prophet with weekly_seasonality=True to override this.\n"
     ]
    },
    {
     "name": "stdout",
     "output_type": "stream",
     "text": [
      "[13055.410073300793]\n"
     ]
    },
    {
     "name": "stderr",
     "output_type": "stream",
     "text": [
      "INFO:fbprophet:Disabling daily seasonality. Run prophet with daily_seasonality=True to override this.\n",
      "C:\\Users\\Michael\\Anaconda3\\envs\\learn-env\\lib\\site-packages\\pystan\\misc.py:399: FutureWarning:\n",
      "\n",
      "Conversion of the second argument of issubdtype from `float` to `np.floating` is deprecated. In future, it will be treated as `np.float64 == np.dtype(float).type`.\n",
      "\n",
      "C:\\Users\\Michael\\Anaconda3\\envs\\learn-env\\lib\\site-packages\\ipykernel_launcher.py:40: FutureWarning:\n",
      "\n",
      "'variable' is both an index level and a column label.\n",
      "Defaulting to column, but this will raise an ambiguity error in a future version\n",
      "\n",
      "C:\\Users\\Michael\\Anaconda3\\envs\\learn-env\\lib\\site-packages\\ipykernel_launcher.py:44: FutureWarning:\n",
      "\n",
      "'variable' is both an index level and a column label.\n",
      "Defaulting to column, but this will raise an ambiguity error in a future version\n",
      "\n",
      "INFO:fbprophet:Disabling weekly seasonality. Run prophet with weekly_seasonality=True to override this.\n",
      "INFO:fbprophet:Disabling daily seasonality. Run prophet with daily_seasonality=True to override this.\n"
     ]
    },
    {
     "name": "stdout",
     "output_type": "stream",
     "text": [
      "[13055.410073300793, 7995.4638722645905]\n"
     ]
    },
    {
     "name": "stderr",
     "output_type": "stream",
     "text": [
      "C:\\Users\\Michael\\Anaconda3\\envs\\learn-env\\lib\\site-packages\\pystan\\misc.py:399: FutureWarning:\n",
      "\n",
      "Conversion of the second argument of issubdtype from `float` to `np.floating` is deprecated. In future, it will be treated as `np.float64 == np.dtype(float).type`.\n",
      "\n",
      "C:\\Users\\Michael\\Anaconda3\\envs\\learn-env\\lib\\site-packages\\ipykernel_launcher.py:60: FutureWarning:\n",
      "\n",
      "'variable' is both an index level and a column label.\n",
      "Defaulting to column, but this will raise an ambiguity error in a future version\n",
      "\n",
      "C:\\Users\\Michael\\Anaconda3\\envs\\learn-env\\lib\\site-packages\\ipykernel_launcher.py:63: FutureWarning:\n",
      "\n",
      "'variable' is both an index level and a column label.\n",
      "Defaulting to column, but this will raise an ambiguity error in a future version\n",
      "\n",
      "INFO:fbprophet:Disabling weekly seasonality. Run prophet with weekly_seasonality=True to override this.\n"
     ]
    },
    {
     "name": "stdout",
     "output_type": "stream",
     "text": [
      "[13055.410073300793, 7995.4638722645905, 4438.060461803866]\n",
      "[13055.410073300793, 7995.4638722645905, 4438.060461803866]\n"
     ]
    },
    {
     "name": "stderr",
     "output_type": "stream",
     "text": [
      "INFO:fbprophet:Disabling daily seasonality. Run prophet with daily_seasonality=True to override this.\n",
      "C:\\Users\\Michael\\Anaconda3\\envs\\learn-env\\lib\\site-packages\\pystan\\misc.py:399: FutureWarning:\n",
      "\n",
      "Conversion of the second argument of issubdtype from `float` to `np.floating` is deprecated. In future, it will be treated as `np.float64 == np.dtype(float).type`.\n",
      "\n"
     ]
    },
    {
     "name": "stdout",
     "output_type": "stream",
     "text": [
      " 50 progress so far\n"
     ]
    },
    {
     "name": "stderr",
     "output_type": "stream",
     "text": [
      "C:\\Users\\Michael\\Anaconda3\\envs\\learn-env\\lib\\site-packages\\ipykernel_launcher.py:40: FutureWarning:\n",
      "\n",
      "'variable' is both an index level and a column label.\n",
      "Defaulting to column, but this will raise an ambiguity error in a future version\n",
      "\n",
      "C:\\Users\\Michael\\Anaconda3\\envs\\learn-env\\lib\\site-packages\\ipykernel_launcher.py:44: FutureWarning:\n",
      "\n",
      "'variable' is both an index level and a column label.\n",
      "Defaulting to column, but this will raise an ambiguity error in a future version\n",
      "\n",
      "INFO:fbprophet:Disabling weekly seasonality. Run prophet with weekly_seasonality=True to override this.\n",
      "INFO:fbprophet:Disabling daily seasonality. Run prophet with daily_seasonality=True to override this.\n",
      "C:\\Users\\Michael\\Anaconda3\\envs\\learn-env\\lib\\site-packages\\ipykernel_launcher.py:40: FutureWarning:\n",
      "\n",
      "'variable' is both an index level and a column label.\n",
      "Defaulting to column, but this will raise an ambiguity error in a future version\n",
      "\n",
      "C:\\Users\\Michael\\Anaconda3\\envs\\learn-env\\lib\\site-packages\\ipykernel_launcher.py:44: FutureWarning:\n",
      "\n",
      "'variable' is both an index level and a column label.\n",
      "Defaulting to column, but this will raise an ambiguity error in a future version\n",
      "\n",
      "INFO:fbprophet:Disabling weekly seasonality. Run prophet with weekly_seasonality=True to override this.\n"
     ]
    },
    {
     "name": "stdout",
     "output_type": "stream",
     "text": [
      "[12939.210288221726]\n"
     ]
    },
    {
     "name": "stderr",
     "output_type": "stream",
     "text": [
      "INFO:fbprophet:Disabling daily seasonality. Run prophet with daily_seasonality=True to override this.\n",
      "C:\\Users\\Michael\\Anaconda3\\envs\\learn-env\\lib\\site-packages\\pystan\\misc.py:399: FutureWarning:\n",
      "\n",
      "Conversion of the second argument of issubdtype from `float` to `np.floating` is deprecated. In future, it will be treated as `np.float64 == np.dtype(float).type`.\n",
      "\n"
     ]
    },
    {
     "name": "stdout",
     "output_type": "stream",
     "text": [
      "[12939.210288221726, 14068.856997543116]\n"
     ]
    },
    {
     "name": "stderr",
     "output_type": "stream",
     "text": [
      "C:\\Users\\Michael\\Anaconda3\\envs\\learn-env\\lib\\site-packages\\ipykernel_launcher.py:40: FutureWarning:\n",
      "\n",
      "'variable' is both an index level and a column label.\n",
      "Defaulting to column, but this will raise an ambiguity error in a future version\n",
      "\n",
      "C:\\Users\\Michael\\Anaconda3\\envs\\learn-env\\lib\\site-packages\\ipykernel_launcher.py:44: FutureWarning:\n",
      "\n",
      "'variable' is both an index level and a column label.\n",
      "Defaulting to column, but this will raise an ambiguity error in a future version\n",
      "\n",
      "INFO:fbprophet:Disabling weekly seasonality. Run prophet with weekly_seasonality=True to override this.\n",
      "INFO:fbprophet:Disabling daily seasonality. Run prophet with daily_seasonality=True to override this.\n",
      "C:\\Users\\Michael\\Anaconda3\\envs\\learn-env\\lib\\site-packages\\pystan\\misc.py:399: FutureWarning:\n",
      "\n",
      "Conversion of the second argument of issubdtype from `float` to `np.floating` is deprecated. In future, it will be treated as `np.float64 == np.dtype(float).type`.\n",
      "\n"
     ]
    },
    {
     "name": "stdout",
     "output_type": "stream",
     "text": [
      "[12939.210288221726, 14068.856997543116, 9531.696432835693]\n",
      "[12939.210288221726, 14068.856997543116, 9531.696432835693]\n"
     ]
    },
    {
     "name": "stderr",
     "output_type": "stream",
     "text": [
      "C:\\Users\\Michael\\Anaconda3\\envs\\learn-env\\lib\\site-packages\\ipykernel_launcher.py:60: FutureWarning:\n",
      "\n",
      "'variable' is both an index level and a column label.\n",
      "Defaulting to column, but this will raise an ambiguity error in a future version\n",
      "\n",
      "C:\\Users\\Michael\\Anaconda3\\envs\\learn-env\\lib\\site-packages\\ipykernel_launcher.py:63: FutureWarning:\n",
      "\n",
      "'variable' is both an index level and a column label.\n",
      "Defaulting to column, but this will raise an ambiguity error in a future version\n",
      "\n",
      "INFO:fbprophet:Disabling weekly seasonality. Run prophet with weekly_seasonality=True to override this.\n",
      "INFO:fbprophet:Disabling daily seasonality. Run prophet with daily_seasonality=True to override this.\n",
      "C:\\Users\\Michael\\Anaconda3\\envs\\learn-env\\lib\\site-packages\\pystan\\misc.py:399: FutureWarning:\n",
      "\n",
      "Conversion of the second argument of issubdtype from `float` to `np.floating` is deprecated. In future, it will be treated as `np.float64 == np.dtype(float).type`.\n",
      "\n"
     ]
    },
    {
     "name": "stdout",
     "output_type": "stream",
     "text": [
      " 51 progress so far\n"
     ]
    },
    {
     "name": "stderr",
     "output_type": "stream",
     "text": [
      "C:\\Users\\Michael\\Anaconda3\\envs\\learn-env\\lib\\site-packages\\ipykernel_launcher.py:40: FutureWarning:\n",
      "\n",
      "'variable' is both an index level and a column label.\n",
      "Defaulting to column, but this will raise an ambiguity error in a future version\n",
      "\n",
      "C:\\Users\\Michael\\Anaconda3\\envs\\learn-env\\lib\\site-packages\\ipykernel_launcher.py:44: FutureWarning:\n",
      "\n",
      "'variable' is both an index level and a column label.\n",
      "Defaulting to column, but this will raise an ambiguity error in a future version\n",
      "\n",
      "INFO:fbprophet:Disabling weekly seasonality. Run prophet with weekly_seasonality=True to override this.\n",
      "INFO:fbprophet:Disabling daily seasonality. Run prophet with daily_seasonality=True to override this.\n"
     ]
    },
    {
     "name": "stdout",
     "output_type": "stream",
     "text": [
      "[21573.738837722107]\n"
     ]
    },
    {
     "name": "stderr",
     "output_type": "stream",
     "text": [
      "C:\\Users\\Michael\\Anaconda3\\envs\\learn-env\\lib\\site-packages\\ipykernel_launcher.py:40: FutureWarning:\n",
      "\n",
      "'variable' is both an index level and a column label.\n",
      "Defaulting to column, but this will raise an ambiguity error in a future version\n",
      "\n",
      "C:\\Users\\Michael\\Anaconda3\\envs\\learn-env\\lib\\site-packages\\ipykernel_launcher.py:44: FutureWarning:\n",
      "\n",
      "'variable' is both an index level and a column label.\n",
      "Defaulting to column, but this will raise an ambiguity error in a future version\n",
      "\n",
      "INFO:fbprophet:Disabling weekly seasonality. Run prophet with weekly_seasonality=True to override this.\n",
      "INFO:fbprophet:Disabling daily seasonality. Run prophet with daily_seasonality=True to override this.\n",
      "C:\\Users\\Michael\\Anaconda3\\envs\\learn-env\\lib\\site-packages\\pystan\\misc.py:399: FutureWarning:\n",
      "\n",
      "Conversion of the second argument of issubdtype from `float` to `np.floating` is deprecated. In future, it will be treated as `np.float64 == np.dtype(float).type`.\n",
      "\n",
      "C:\\Users\\Michael\\Anaconda3\\envs\\learn-env\\lib\\site-packages\\ipykernel_launcher.py:40: FutureWarning:\n",
      "\n",
      "'variable' is both an index level and a column label.\n",
      "Defaulting to column, but this will raise an ambiguity error in a future version\n",
      "\n",
      "C:\\Users\\Michael\\Anaconda3\\envs\\learn-env\\lib\\site-packages\\ipykernel_launcher.py:44: FutureWarning:\n",
      "\n",
      "'variable' is both an index level and a column label.\n",
      "Defaulting to column, but this will raise an ambiguity error in a future version\n",
      "\n",
      "INFO:fbprophet:Disabling weekly seasonality. Run prophet with weekly_seasonality=True to override this.\n",
      "INFO:fbprophet:Disabling daily seasonality. Run prophet with daily_seasonality=True to override this.\n"
     ]
    },
    {
     "name": "stdout",
     "output_type": "stream",
     "text": [
      "[21573.738837722107, 11814.357532385393]\n"
     ]
    },
    {
     "name": "stderr",
     "output_type": "stream",
     "text": [
      "C:\\Users\\Michael\\Anaconda3\\envs\\learn-env\\lib\\site-packages\\pystan\\misc.py:399: FutureWarning:\n",
      "\n",
      "Conversion of the second argument of issubdtype from `float` to `np.floating` is deprecated. In future, it will be treated as `np.float64 == np.dtype(float).type`.\n",
      "\n"
     ]
    },
    {
     "name": "stdout",
     "output_type": "stream",
     "text": [
      "[21573.738837722107, 11814.357532385393, 20636.57815665291]\n",
      "[21573.738837722107, 11814.357532385393, 20636.57815665291]\n"
     ]
    },
    {
     "name": "stderr",
     "output_type": "stream",
     "text": [
      "C:\\Users\\Michael\\Anaconda3\\envs\\learn-env\\lib\\site-packages\\ipykernel_launcher.py:60: FutureWarning:\n",
      "\n",
      "'variable' is both an index level and a column label.\n",
      "Defaulting to column, but this will raise an ambiguity error in a future version\n",
      "\n",
      "C:\\Users\\Michael\\Anaconda3\\envs\\learn-env\\lib\\site-packages\\ipykernel_launcher.py:63: FutureWarning:\n",
      "\n",
      "'variable' is both an index level and a column label.\n",
      "Defaulting to column, but this will raise an ambiguity error in a future version\n",
      "\n",
      "INFO:fbprophet:Disabling weekly seasonality. Run prophet with weekly_seasonality=True to override this.\n",
      "INFO:fbprophet:Disabling daily seasonality. Run prophet with daily_seasonality=True to override this.\n",
      "C:\\Users\\Michael\\Anaconda3\\envs\\learn-env\\lib\\site-packages\\pystan\\misc.py:399: FutureWarning:\n",
      "\n",
      "Conversion of the second argument of issubdtype from `float` to `np.floating` is deprecated. In future, it will be treated as `np.float64 == np.dtype(float).type`.\n",
      "\n"
     ]
    },
    {
     "name": "stdout",
     "output_type": "stream",
     "text": [
      " 52 progress so far\n"
     ]
    },
    {
     "name": "stderr",
     "output_type": "stream",
     "text": [
      "C:\\Users\\Michael\\Anaconda3\\envs\\learn-env\\lib\\site-packages\\ipykernel_launcher.py:40: FutureWarning:\n",
      "\n",
      "'variable' is both an index level and a column label.\n",
      "Defaulting to column, but this will raise an ambiguity error in a future version\n",
      "\n",
      "C:\\Users\\Michael\\Anaconda3\\envs\\learn-env\\lib\\site-packages\\ipykernel_launcher.py:44: FutureWarning:\n",
      "\n",
      "'variable' is both an index level and a column label.\n",
      "Defaulting to column, but this will raise an ambiguity error in a future version\n",
      "\n",
      "INFO:fbprophet:Disabling weekly seasonality. Run prophet with weekly_seasonality=True to override this.\n",
      "INFO:fbprophet:Disabling daily seasonality. Run prophet with daily_seasonality=True to override this.\n",
      "C:\\Users\\Michael\\Anaconda3\\envs\\learn-env\\lib\\site-packages\\ipykernel_launcher.py:40: FutureWarning:\n",
      "\n",
      "'variable' is both an index level and a column label.\n",
      "Defaulting to column, but this will raise an ambiguity error in a future version\n",
      "\n",
      "C:\\Users\\Michael\\Anaconda3\\envs\\learn-env\\lib\\site-packages\\ipykernel_launcher.py:44: FutureWarning:\n",
      "\n",
      "'variable' is both an index level and a column label.\n",
      "Defaulting to column, but this will raise an ambiguity error in a future version\n",
      "\n",
      "INFO:fbprophet:Disabling weekly seasonality. Run prophet with weekly_seasonality=True to override this.\n",
      "INFO:fbprophet:Disabling daily seasonality. Run prophet with daily_seasonality=True to override this.\n"
     ]
    },
    {
     "name": "stdout",
     "output_type": "stream",
     "text": [
      "[4663.93241366447]\n"
     ]
    },
    {
     "name": "stderr",
     "output_type": "stream",
     "text": [
      "C:\\Users\\Michael\\Anaconda3\\envs\\learn-env\\lib\\site-packages\\pystan\\misc.py:399: FutureWarning:\n",
      "\n",
      "Conversion of the second argument of issubdtype from `float` to `np.floating` is deprecated. In future, it will be treated as `np.float64 == np.dtype(float).type`.\n",
      "\n",
      "C:\\Users\\Michael\\Anaconda3\\envs\\learn-env\\lib\\site-packages\\ipykernel_launcher.py:40: FutureWarning:\n",
      "\n",
      "'variable' is both an index level and a column label.\n",
      "Defaulting to column, but this will raise an ambiguity error in a future version\n",
      "\n",
      "C:\\Users\\Michael\\Anaconda3\\envs\\learn-env\\lib\\site-packages\\ipykernel_launcher.py:44: FutureWarning:\n",
      "\n",
      "'variable' is both an index level and a column label.\n",
      "Defaulting to column, but this will raise an ambiguity error in a future version\n",
      "\n",
      "INFO:fbprophet:Disabling weekly seasonality. Run prophet with weekly_seasonality=True to override this.\n",
      "INFO:fbprophet:Disabling daily seasonality. Run prophet with daily_seasonality=True to override this.\n"
     ]
    },
    {
     "name": "stdout",
     "output_type": "stream",
     "text": [
      "[4663.93241366447, 7295.069527427743]\n"
     ]
    },
    {
     "name": "stderr",
     "output_type": "stream",
     "text": [
      "C:\\Users\\Michael\\Anaconda3\\envs\\learn-env\\lib\\site-packages\\pystan\\misc.py:399: FutureWarning:\n",
      "\n",
      "Conversion of the second argument of issubdtype from `float` to `np.floating` is deprecated. In future, it will be treated as `np.float64 == np.dtype(float).type`.\n",
      "\n"
     ]
    },
    {
     "name": "stdout",
     "output_type": "stream",
     "text": [
      "[4663.93241366447, 7295.069527427743, 11408.929238520006]\n",
      "[4663.93241366447, 7295.069527427743, 11408.929238520006]\n"
     ]
    },
    {
     "name": "stderr",
     "output_type": "stream",
     "text": [
      "C:\\Users\\Michael\\Anaconda3\\envs\\learn-env\\lib\\site-packages\\ipykernel_launcher.py:60: FutureWarning:\n",
      "\n",
      "'variable' is both an index level and a column label.\n",
      "Defaulting to column, but this will raise an ambiguity error in a future version\n",
      "\n",
      "C:\\Users\\Michael\\Anaconda3\\envs\\learn-env\\lib\\site-packages\\ipykernel_launcher.py:63: FutureWarning:\n",
      "\n",
      "'variable' is both an index level and a column label.\n",
      "Defaulting to column, but this will raise an ambiguity error in a future version\n",
      "\n",
      "INFO:fbprophet:Disabling weekly seasonality. Run prophet with weekly_seasonality=True to override this.\n",
      "INFO:fbprophet:Disabling daily seasonality. Run prophet with daily_seasonality=True to override this.\n",
      "C:\\Users\\Michael\\Anaconda3\\envs\\learn-env\\lib\\site-packages\\pystan\\misc.py:399: FutureWarning:\n",
      "\n",
      "Conversion of the second argument of issubdtype from `float` to `np.floating` is deprecated. In future, it will be treated as `np.float64 == np.dtype(float).type`.\n",
      "\n"
     ]
    },
    {
     "name": "stdout",
     "output_type": "stream",
     "text": [
      " 53 progress so far\n"
     ]
    },
    {
     "name": "stderr",
     "output_type": "stream",
     "text": [
      "C:\\Users\\Michael\\Anaconda3\\envs\\learn-env\\lib\\site-packages\\ipykernel_launcher.py:40: FutureWarning:\n",
      "\n",
      "'variable' is both an index level and a column label.\n",
      "Defaulting to column, but this will raise an ambiguity error in a future version\n",
      "\n",
      "C:\\Users\\Michael\\Anaconda3\\envs\\learn-env\\lib\\site-packages\\ipykernel_launcher.py:44: FutureWarning:\n",
      "\n",
      "'variable' is both an index level and a column label.\n",
      "Defaulting to column, but this will raise an ambiguity error in a future version\n",
      "\n",
      "INFO:fbprophet:Disabling weekly seasonality. Run prophet with weekly_seasonality=True to override this.\n",
      "INFO:fbprophet:Disabling daily seasonality. Run prophet with daily_seasonality=True to override this.\n",
      "C:\\Users\\Michael\\Anaconda3\\envs\\learn-env\\lib\\site-packages\\ipykernel_launcher.py:40: FutureWarning:\n",
      "\n",
      "'variable' is both an index level and a column label.\n",
      "Defaulting to column, but this will raise an ambiguity error in a future version\n",
      "\n",
      "C:\\Users\\Michael\\Anaconda3\\envs\\learn-env\\lib\\site-packages\\ipykernel_launcher.py:44: FutureWarning:\n",
      "\n",
      "'variable' is both an index level and a column label.\n",
      "Defaulting to column, but this will raise an ambiguity error in a future version\n",
      "\n",
      "INFO:fbprophet:Disabling weekly seasonality. Run prophet with weekly_seasonality=True to override this.\n",
      "INFO:fbprophet:Disabling daily seasonality. Run prophet with daily_seasonality=True to override this.\n"
     ]
    },
    {
     "name": "stdout",
     "output_type": "stream",
     "text": [
      "[69220.57859805448]\n"
     ]
    },
    {
     "name": "stderr",
     "output_type": "stream",
     "text": [
      "C:\\Users\\Michael\\Anaconda3\\envs\\learn-env\\lib\\site-packages\\pystan\\misc.py:399: FutureWarning:\n",
      "\n",
      "Conversion of the second argument of issubdtype from `float` to `np.floating` is deprecated. In future, it will be treated as `np.float64 == np.dtype(float).type`.\n",
      "\n"
     ]
    },
    {
     "name": "stdout",
     "output_type": "stream",
     "text": [
      "[69220.57859805448, 37084.486093128246]\n"
     ]
    },
    {
     "name": "stderr",
     "output_type": "stream",
     "text": [
      "C:\\Users\\Michael\\Anaconda3\\envs\\learn-env\\lib\\site-packages\\ipykernel_launcher.py:40: FutureWarning:\n",
      "\n",
      "'variable' is both an index level and a column label.\n",
      "Defaulting to column, but this will raise an ambiguity error in a future version\n",
      "\n",
      "C:\\Users\\Michael\\Anaconda3\\envs\\learn-env\\lib\\site-packages\\ipykernel_launcher.py:44: FutureWarning:\n",
      "\n",
      "'variable' is both an index level and a column label.\n",
      "Defaulting to column, but this will raise an ambiguity error in a future version\n",
      "\n",
      "INFO:fbprophet:Disabling weekly seasonality. Run prophet with weekly_seasonality=True to override this.\n",
      "INFO:fbprophet:Disabling daily seasonality. Run prophet with daily_seasonality=True to override this.\n",
      "C:\\Users\\Michael\\Anaconda3\\envs\\learn-env\\lib\\site-packages\\pystan\\misc.py:399: FutureWarning:\n",
      "\n",
      "Conversion of the second argument of issubdtype from `float` to `np.floating` is deprecated. In future, it will be treated as `np.float64 == np.dtype(float).type`.\n",
      "\n"
     ]
    },
    {
     "name": "stdout",
     "output_type": "stream",
     "text": [
      "[69220.57859805448, 37084.486093128246, 11029.895544516092]\n",
      "[69220.57859805448, 37084.486093128246, 11029.895544516092]\n"
     ]
    },
    {
     "name": "stderr",
     "output_type": "stream",
     "text": [
      "C:\\Users\\Michael\\Anaconda3\\envs\\learn-env\\lib\\site-packages\\ipykernel_launcher.py:60: FutureWarning:\n",
      "\n",
      "'variable' is both an index level and a column label.\n",
      "Defaulting to column, but this will raise an ambiguity error in a future version\n",
      "\n",
      "C:\\Users\\Michael\\Anaconda3\\envs\\learn-env\\lib\\site-packages\\ipykernel_launcher.py:63: FutureWarning:\n",
      "\n",
      "'variable' is both an index level and a column label.\n",
      "Defaulting to column, but this will raise an ambiguity error in a future version\n",
      "\n",
      "INFO:fbprophet:Disabling weekly seasonality. Run prophet with weekly_seasonality=True to override this.\n",
      "INFO:fbprophet:Disabling daily seasonality. Run prophet with daily_seasonality=True to override this.\n",
      "C:\\Users\\Michael\\Anaconda3\\envs\\learn-env\\lib\\site-packages\\pystan\\misc.py:399: FutureWarning:\n",
      "\n",
      "Conversion of the second argument of issubdtype from `float` to `np.floating` is deprecated. In future, it will be treated as `np.float64 == np.dtype(float).type`.\n",
      "\n",
      "C:\\Users\\Michael\\Anaconda3\\envs\\learn-env\\lib\\site-packages\\ipykernel_launcher.py:40: FutureWarning:\n",
      "\n",
      "'variable' is both an index level and a column label.\n",
      "Defaulting to column, but this will raise an ambiguity error in a future version\n",
      "\n",
      "C:\\Users\\Michael\\Anaconda3\\envs\\learn-env\\lib\\site-packages\\ipykernel_launcher.py:44: FutureWarning:\n",
      "\n",
      "'variable' is both an index level and a column label.\n",
      "Defaulting to column, but this will raise an ambiguity error in a future version\n",
      "\n",
      "INFO:fbprophet:Disabling weekly seasonality. Run prophet with weekly_seasonality=True to override this.\n",
      "INFO:fbprophet:Disabling daily seasonality. Run prophet with daily_seasonality=True to override this.\n"
     ]
    },
    {
     "name": "stdout",
     "output_type": "stream",
     "text": [
      " 54 progress so far\n"
     ]
    },
    {
     "name": "stderr",
     "output_type": "stream",
     "text": [
      "C:\\Users\\Michael\\Anaconda3\\envs\\learn-env\\lib\\site-packages\\ipykernel_launcher.py:40: FutureWarning:\n",
      "\n",
      "'variable' is both an index level and a column label.\n",
      "Defaulting to column, but this will raise an ambiguity error in a future version\n",
      "\n",
      "C:\\Users\\Michael\\Anaconda3\\envs\\learn-env\\lib\\site-packages\\ipykernel_launcher.py:44: FutureWarning:\n",
      "\n",
      "'variable' is both an index level and a column label.\n",
      "Defaulting to column, but this will raise an ambiguity error in a future version\n",
      "\n",
      "INFO:fbprophet:Disabling weekly seasonality. Run prophet with weekly_seasonality=True to override this.\n",
      "INFO:fbprophet:Disabling daily seasonality. Run prophet with daily_seasonality=True to override this.\n"
     ]
    },
    {
     "name": "stdout",
     "output_type": "stream",
     "text": [
      "[11091.861478733408]\n"
     ]
    },
    {
     "name": "stderr",
     "output_type": "stream",
     "text": [
      "C:\\Users\\Michael\\Anaconda3\\envs\\learn-env\\lib\\site-packages\\pystan\\misc.py:399: FutureWarning:\n",
      "\n",
      "Conversion of the second argument of issubdtype from `float` to `np.floating` is deprecated. In future, it will be treated as `np.float64 == np.dtype(float).type`.\n",
      "\n",
      "C:\\Users\\Michael\\Anaconda3\\envs\\learn-env\\lib\\site-packages\\ipykernel_launcher.py:40: FutureWarning:\n",
      "\n",
      "'variable' is both an index level and a column label.\n",
      "Defaulting to column, but this will raise an ambiguity error in a future version\n",
      "\n",
      "C:\\Users\\Michael\\Anaconda3\\envs\\learn-env\\lib\\site-packages\\ipykernel_launcher.py:44: FutureWarning:\n",
      "\n",
      "'variable' is both an index level and a column label.\n",
      "Defaulting to column, but this will raise an ambiguity error in a future version\n",
      "\n",
      "INFO:fbprophet:Disabling weekly seasonality. Run prophet with weekly_seasonality=True to override this.\n",
      "INFO:fbprophet:Disabling daily seasonality. Run prophet with daily_seasonality=True to override this.\n"
     ]
    },
    {
     "name": "stdout",
     "output_type": "stream",
     "text": [
      "[11091.861478733408, 4515.025241453345]\n"
     ]
    },
    {
     "name": "stderr",
     "output_type": "stream",
     "text": [
      "C:\\Users\\Michael\\Anaconda3\\envs\\learn-env\\lib\\site-packages\\pystan\\misc.py:399: FutureWarning:\n",
      "\n",
      "Conversion of the second argument of issubdtype from `float` to `np.floating` is deprecated. In future, it will be treated as `np.float64 == np.dtype(float).type`.\n",
      "\n",
      "C:\\Users\\Michael\\Anaconda3\\envs\\learn-env\\lib\\site-packages\\ipykernel_launcher.py:60: FutureWarning:\n",
      "\n",
      "'variable' is both an index level and a column label.\n",
      "Defaulting to column, but this will raise an ambiguity error in a future version\n",
      "\n",
      "C:\\Users\\Michael\\Anaconda3\\envs\\learn-env\\lib\\site-packages\\ipykernel_launcher.py:63: FutureWarning:\n",
      "\n",
      "'variable' is both an index level and a column label.\n",
      "Defaulting to column, but this will raise an ambiguity error in a future version\n",
      "\n",
      "INFO:fbprophet:Disabling weekly seasonality. Run prophet with weekly_seasonality=True to override this.\n"
     ]
    },
    {
     "name": "stdout",
     "output_type": "stream",
     "text": [
      "[11091.861478733408, 4515.025241453345, 4422.351909501269]\n",
      "[11091.861478733408, 4515.025241453345, 4422.351909501269]\n"
     ]
    },
    {
     "name": "stderr",
     "output_type": "stream",
     "text": [
      "INFO:fbprophet:Disabling daily seasonality. Run prophet with daily_seasonality=True to override this.\n",
      "C:\\Users\\Michael\\Anaconda3\\envs\\learn-env\\lib\\site-packages\\pystan\\misc.py:399: FutureWarning:\n",
      "\n",
      "Conversion of the second argument of issubdtype from `float` to `np.floating` is deprecated. In future, it will be treated as `np.float64 == np.dtype(float).type`.\n",
      "\n",
      "C:\\Users\\Michael\\Anaconda3\\envs\\learn-env\\lib\\site-packages\\ipykernel_launcher.py:40: FutureWarning:\n",
      "\n",
      "'variable' is both an index level and a column label.\n",
      "Defaulting to column, but this will raise an ambiguity error in a future version\n",
      "\n",
      "C:\\Users\\Michael\\Anaconda3\\envs\\learn-env\\lib\\site-packages\\ipykernel_launcher.py:44: FutureWarning:\n",
      "\n",
      "'variable' is both an index level and a column label.\n",
      "Defaulting to column, but this will raise an ambiguity error in a future version\n",
      "\n",
      "INFO:fbprophet:Disabling weekly seasonality. Run prophet with weekly_seasonality=True to override this.\n",
      "INFO:fbprophet:Disabling daily seasonality. Run prophet with daily_seasonality=True to override this.\n"
     ]
    },
    {
     "name": "stdout",
     "output_type": "stream",
     "text": [
      " 55 progress so far\n"
     ]
    },
    {
     "name": "stderr",
     "output_type": "stream",
     "text": [
      "C:\\Users\\Michael\\Anaconda3\\envs\\learn-env\\lib\\site-packages\\ipykernel_launcher.py:40: FutureWarning:\n",
      "\n",
      "'variable' is both an index level and a column label.\n",
      "Defaulting to column, but this will raise an ambiguity error in a future version\n",
      "\n",
      "C:\\Users\\Michael\\Anaconda3\\envs\\learn-env\\lib\\site-packages\\ipykernel_launcher.py:44: FutureWarning:\n",
      "\n",
      "'variable' is both an index level and a column label.\n",
      "Defaulting to column, but this will raise an ambiguity error in a future version\n",
      "\n",
      "INFO:fbprophet:Disabling weekly seasonality. Run prophet with weekly_seasonality=True to override this.\n",
      "INFO:fbprophet:Disabling daily seasonality. Run prophet with daily_seasonality=True to override this.\n"
     ]
    },
    {
     "name": "stdout",
     "output_type": "stream",
     "text": [
      "[19021.983249700257]\n"
     ]
    },
    {
     "name": "stderr",
     "output_type": "stream",
     "text": [
      "C:\\Users\\Michael\\Anaconda3\\envs\\learn-env\\lib\\site-packages\\pystan\\misc.py:399: FutureWarning:\n",
      "\n",
      "Conversion of the second argument of issubdtype from `float` to `np.floating` is deprecated. In future, it will be treated as `np.float64 == np.dtype(float).type`.\n",
      "\n",
      "C:\\Users\\Michael\\Anaconda3\\envs\\learn-env\\lib\\site-packages\\ipykernel_launcher.py:40: FutureWarning:\n",
      "\n",
      "'variable' is both an index level and a column label.\n",
      "Defaulting to column, but this will raise an ambiguity error in a future version\n",
      "\n",
      "C:\\Users\\Michael\\Anaconda3\\envs\\learn-env\\lib\\site-packages\\ipykernel_launcher.py:44: FutureWarning:\n",
      "\n",
      "'variable' is both an index level and a column label.\n",
      "Defaulting to column, but this will raise an ambiguity error in a future version\n",
      "\n",
      "INFO:fbprophet:Disabling weekly seasonality. Run prophet with weekly_seasonality=True to override this.\n",
      "INFO:fbprophet:Disabling daily seasonality. Run prophet with daily_seasonality=True to override this.\n"
     ]
    },
    {
     "name": "stdout",
     "output_type": "stream",
     "text": [
      "[19021.983249700257, 26288.55273266957]\n"
     ]
    },
    {
     "name": "stderr",
     "output_type": "stream",
     "text": [
      "C:\\Users\\Michael\\Anaconda3\\envs\\learn-env\\lib\\site-packages\\pystan\\misc.py:399: FutureWarning:\n",
      "\n",
      "Conversion of the second argument of issubdtype from `float` to `np.floating` is deprecated. In future, it will be treated as `np.float64 == np.dtype(float).type`.\n",
      "\n",
      "C:\\Users\\Michael\\Anaconda3\\envs\\learn-env\\lib\\site-packages\\ipykernel_launcher.py:60: FutureWarning:\n",
      "\n",
      "'variable' is both an index level and a column label.\n",
      "Defaulting to column, but this will raise an ambiguity error in a future version\n",
      "\n",
      "C:\\Users\\Michael\\Anaconda3\\envs\\learn-env\\lib\\site-packages\\ipykernel_launcher.py:63: FutureWarning:\n",
      "\n",
      "'variable' is both an index level and a column label.\n",
      "Defaulting to column, but this will raise an ambiguity error in a future version\n",
      "\n",
      "INFO:fbprophet:Disabling weekly seasonality. Run prophet with weekly_seasonality=True to override this.\n",
      "INFO:fbprophet:Disabling daily seasonality. Run prophet with daily_seasonality=True to override this.\n"
     ]
    },
    {
     "name": "stdout",
     "output_type": "stream",
     "text": [
      "[19021.983249700257, 26288.55273266957, 35599.358913899334]\n",
      "[19021.983249700257, 26288.55273266957, 35599.358913899334]\n"
     ]
    },
    {
     "name": "stderr",
     "output_type": "stream",
     "text": [
      "C:\\Users\\Michael\\Anaconda3\\envs\\learn-env\\lib\\site-packages\\pystan\\misc.py:399: FutureWarning:\n",
      "\n",
      "Conversion of the second argument of issubdtype from `float` to `np.floating` is deprecated. In future, it will be treated as `np.float64 == np.dtype(float).type`.\n",
      "\n",
      "C:\\Users\\Michael\\Anaconda3\\envs\\learn-env\\lib\\site-packages\\ipykernel_launcher.py:40: FutureWarning:\n",
      "\n",
      "'variable' is both an index level and a column label.\n",
      "Defaulting to column, but this will raise an ambiguity error in a future version\n",
      "\n",
      "C:\\Users\\Michael\\Anaconda3\\envs\\learn-env\\lib\\site-packages\\ipykernel_launcher.py:44: FutureWarning:\n",
      "\n",
      "'variable' is both an index level and a column label.\n",
      "Defaulting to column, but this will raise an ambiguity error in a future version\n",
      "\n",
      "INFO:fbprophet:Disabling weekly seasonality. Run prophet with weekly_seasonality=True to override this.\n",
      "INFO:fbprophet:Disabling daily seasonality. Run prophet with daily_seasonality=True to override this.\n"
     ]
    },
    {
     "name": "stdout",
     "output_type": "stream",
     "text": [
      " 56 progress so far\n"
     ]
    },
    {
     "name": "stderr",
     "output_type": "stream",
     "text": [
      "C:\\Users\\Michael\\Anaconda3\\envs\\learn-env\\lib\\site-packages\\ipykernel_launcher.py:40: FutureWarning:\n",
      "\n",
      "'variable' is both an index level and a column label.\n",
      "Defaulting to column, but this will raise an ambiguity error in a future version\n",
      "\n",
      "C:\\Users\\Michael\\Anaconda3\\envs\\learn-env\\lib\\site-packages\\ipykernel_launcher.py:44: FutureWarning:\n",
      "\n",
      "'variable' is both an index level and a column label.\n",
      "Defaulting to column, but this will raise an ambiguity error in a future version\n",
      "\n",
      "INFO:fbprophet:Disabling weekly seasonality. Run prophet with weekly_seasonality=True to override this.\n",
      "INFO:fbprophet:Disabling daily seasonality. Run prophet with daily_seasonality=True to override this.\n"
     ]
    },
    {
     "name": "stdout",
     "output_type": "stream",
     "text": [
      "[11908.273474033715]\n"
     ]
    },
    {
     "name": "stderr",
     "output_type": "stream",
     "text": [
      "C:\\Users\\Michael\\Anaconda3\\envs\\learn-env\\lib\\site-packages\\pystan\\misc.py:399: FutureWarning:\n",
      "\n",
      "Conversion of the second argument of issubdtype from `float` to `np.floating` is deprecated. In future, it will be treated as `np.float64 == np.dtype(float).type`.\n",
      "\n",
      "C:\\Users\\Michael\\Anaconda3\\envs\\learn-env\\lib\\site-packages\\ipykernel_launcher.py:40: FutureWarning:\n",
      "\n",
      "'variable' is both an index level and a column label.\n",
      "Defaulting to column, but this will raise an ambiguity error in a future version\n",
      "\n",
      "C:\\Users\\Michael\\Anaconda3\\envs\\learn-env\\lib\\site-packages\\ipykernel_launcher.py:44: FutureWarning:\n",
      "\n",
      "'variable' is both an index level and a column label.\n",
      "Defaulting to column, but this will raise an ambiguity error in a future version\n",
      "\n",
      "INFO:fbprophet:Disabling weekly seasonality. Run prophet with weekly_seasonality=True to override this.\n",
      "INFO:fbprophet:Disabling daily seasonality. Run prophet with daily_seasonality=True to override this.\n"
     ]
    },
    {
     "name": "stdout",
     "output_type": "stream",
     "text": [
      "[11908.273474033715, 10153.2419448989]\n"
     ]
    },
    {
     "name": "stderr",
     "output_type": "stream",
     "text": [
      "C:\\Users\\Michael\\Anaconda3\\envs\\learn-env\\lib\\site-packages\\pystan\\misc.py:399: FutureWarning:\n",
      "\n",
      "Conversion of the second argument of issubdtype from `float` to `np.floating` is deprecated. In future, it will be treated as `np.float64 == np.dtype(float).type`.\n",
      "\n"
     ]
    },
    {
     "name": "stdout",
     "output_type": "stream",
     "text": [
      "[11908.273474033715, 10153.2419448989, 9000.144295503196]\n",
      "[11908.273474033715, 10153.2419448989, 9000.144295503196]\n"
     ]
    },
    {
     "name": "stderr",
     "output_type": "stream",
     "text": [
      "C:\\Users\\Michael\\Anaconda3\\envs\\learn-env\\lib\\site-packages\\ipykernel_launcher.py:60: FutureWarning:\n",
      "\n",
      "'variable' is both an index level and a column label.\n",
      "Defaulting to column, but this will raise an ambiguity error in a future version\n",
      "\n",
      "C:\\Users\\Michael\\Anaconda3\\envs\\learn-env\\lib\\site-packages\\ipykernel_launcher.py:63: FutureWarning:\n",
      "\n",
      "'variable' is both an index level and a column label.\n",
      "Defaulting to column, but this will raise an ambiguity error in a future version\n",
      "\n",
      "INFO:fbprophet:Disabling weekly seasonality. Run prophet with weekly_seasonality=True to override this.\n",
      "INFO:fbprophet:Disabling daily seasonality. Run prophet with daily_seasonality=True to override this.\n",
      "C:\\Users\\Michael\\Anaconda3\\envs\\learn-env\\lib\\site-packages\\pystan\\misc.py:399: FutureWarning:\n",
      "\n",
      "Conversion of the second argument of issubdtype from `float` to `np.floating` is deprecated. In future, it will be treated as `np.float64 == np.dtype(float).type`.\n",
      "\n"
     ]
    },
    {
     "name": "stdout",
     "output_type": "stream",
     "text": [
      " 57 progress so far\n"
     ]
    },
    {
     "name": "stderr",
     "output_type": "stream",
     "text": [
      "C:\\Users\\Michael\\Anaconda3\\envs\\learn-env\\lib\\site-packages\\ipykernel_launcher.py:40: FutureWarning:\n",
      "\n",
      "'variable' is both an index level and a column label.\n",
      "Defaulting to column, but this will raise an ambiguity error in a future version\n",
      "\n",
      "C:\\Users\\Michael\\Anaconda3\\envs\\learn-env\\lib\\site-packages\\ipykernel_launcher.py:44: FutureWarning:\n",
      "\n",
      "'variable' is both an index level and a column label.\n",
      "Defaulting to column, but this will raise an ambiguity error in a future version\n",
      "\n",
      "INFO:fbprophet:Disabling weekly seasonality. Run prophet with weekly_seasonality=True to override this.\n",
      "INFO:fbprophet:Disabling daily seasonality. Run prophet with daily_seasonality=True to override this.\n",
      "C:\\Users\\Michael\\Anaconda3\\envs\\learn-env\\lib\\site-packages\\ipykernel_launcher.py:40: FutureWarning:\n",
      "\n",
      "'variable' is both an index level and a column label.\n",
      "Defaulting to column, but this will raise an ambiguity error in a future version\n",
      "\n",
      "C:\\Users\\Michael\\Anaconda3\\envs\\learn-env\\lib\\site-packages\\ipykernel_launcher.py:44: FutureWarning:\n",
      "\n",
      "'variable' is both an index level and a column label.\n",
      "Defaulting to column, but this will raise an ambiguity error in a future version\n",
      "\n",
      "INFO:fbprophet:Disabling weekly seasonality. Run prophet with weekly_seasonality=True to override this.\n",
      "INFO:fbprophet:Disabling daily seasonality. Run prophet with daily_seasonality=True to override this.\n"
     ]
    },
    {
     "name": "stdout",
     "output_type": "stream",
     "text": [
      "[21136.47038755972]\n"
     ]
    },
    {
     "name": "stderr",
     "output_type": "stream",
     "text": [
      "C:\\Users\\Michael\\Anaconda3\\envs\\learn-env\\lib\\site-packages\\pystan\\misc.py:399: FutureWarning:\n",
      "\n",
      "Conversion of the second argument of issubdtype from `float` to `np.floating` is deprecated. In future, it will be treated as `np.float64 == np.dtype(float).type`.\n",
      "\n",
      "C:\\Users\\Michael\\Anaconda3\\envs\\learn-env\\lib\\site-packages\\ipykernel_launcher.py:40: FutureWarning:\n",
      "\n",
      "'variable' is both an index level and a column label.\n",
      "Defaulting to column, but this will raise an ambiguity error in a future version\n",
      "\n",
      "C:\\Users\\Michael\\Anaconda3\\envs\\learn-env\\lib\\site-packages\\ipykernel_launcher.py:44: FutureWarning:\n",
      "\n",
      "'variable' is both an index level and a column label.\n",
      "Defaulting to column, but this will raise an ambiguity error in a future version\n",
      "\n",
      "INFO:fbprophet:Disabling weekly seasonality. Run prophet with weekly_seasonality=True to override this.\n",
      "INFO:fbprophet:Disabling daily seasonality. Run prophet with daily_seasonality=True to override this.\n"
     ]
    },
    {
     "name": "stdout",
     "output_type": "stream",
     "text": [
      "[21136.47038755972, 28293.206584164614]\n"
     ]
    },
    {
     "name": "stderr",
     "output_type": "stream",
     "text": [
      "C:\\Users\\Michael\\Anaconda3\\envs\\learn-env\\lib\\site-packages\\pystan\\misc.py:399: FutureWarning:\n",
      "\n",
      "Conversion of the second argument of issubdtype from `float` to `np.floating` is deprecated. In future, it will be treated as `np.float64 == np.dtype(float).type`.\n",
      "\n"
     ]
    },
    {
     "name": "stdout",
     "output_type": "stream",
     "text": [
      "[21136.47038755972, 28293.206584164614, 32253.781983045563]\n",
      "[21136.47038755972, 28293.206584164614, 32253.781983045563]\n"
     ]
    },
    {
     "name": "stderr",
     "output_type": "stream",
     "text": [
      "C:\\Users\\Michael\\Anaconda3\\envs\\learn-env\\lib\\site-packages\\ipykernel_launcher.py:60: FutureWarning:\n",
      "\n",
      "'variable' is both an index level and a column label.\n",
      "Defaulting to column, but this will raise an ambiguity error in a future version\n",
      "\n",
      "C:\\Users\\Michael\\Anaconda3\\envs\\learn-env\\lib\\site-packages\\ipykernel_launcher.py:63: FutureWarning:\n",
      "\n",
      "'variable' is both an index level and a column label.\n",
      "Defaulting to column, but this will raise an ambiguity error in a future version\n",
      "\n",
      "INFO:fbprophet:Disabling weekly seasonality. Run prophet with weekly_seasonality=True to override this.\n",
      "INFO:fbprophet:Disabling daily seasonality. Run prophet with daily_seasonality=True to override this.\n",
      "C:\\Users\\Michael\\Anaconda3\\envs\\learn-env\\lib\\site-packages\\pystan\\misc.py:399: FutureWarning:\n",
      "\n",
      "Conversion of the second argument of issubdtype from `float` to `np.floating` is deprecated. In future, it will be treated as `np.float64 == np.dtype(float).type`.\n",
      "\n",
      "C:\\Users\\Michael\\Anaconda3\\envs\\learn-env\\lib\\site-packages\\ipykernel_launcher.py:40: FutureWarning:\n",
      "\n",
      "'variable' is both an index level and a column label.\n",
      "Defaulting to column, but this will raise an ambiguity error in a future version\n",
      "\n",
      "C:\\Users\\Michael\\Anaconda3\\envs\\learn-env\\lib\\site-packages\\ipykernel_launcher.py:44: FutureWarning:\n",
      "\n",
      "'variable' is both an index level and a column label.\n",
      "Defaulting to column, but this will raise an ambiguity error in a future version\n",
      "\n",
      "INFO:fbprophet:Disabling weekly seasonality. Run prophet with weekly_seasonality=True to override this.\n",
      "INFO:fbprophet:Disabling daily seasonality. Run prophet with daily_seasonality=True to override this.\n"
     ]
    },
    {
     "name": "stdout",
     "output_type": "stream",
     "text": [
      " 58 progress so far\n"
     ]
    },
    {
     "name": "stderr",
     "output_type": "stream",
     "text": [
      "C:\\Users\\Michael\\Anaconda3\\envs\\learn-env\\lib\\site-packages\\ipykernel_launcher.py:40: FutureWarning:\n",
      "\n",
      "'variable' is both an index level and a column label.\n",
      "Defaulting to column, but this will raise an ambiguity error in a future version\n",
      "\n",
      "C:\\Users\\Michael\\Anaconda3\\envs\\learn-env\\lib\\site-packages\\ipykernel_launcher.py:44: FutureWarning:\n",
      "\n",
      "'variable' is both an index level and a column label.\n",
      "Defaulting to column, but this will raise an ambiguity error in a future version\n",
      "\n",
      "INFO:fbprophet:Disabling weekly seasonality. Run prophet with weekly_seasonality=True to override this.\n",
      "INFO:fbprophet:Disabling daily seasonality. Run prophet with daily_seasonality=True to override this.\n"
     ]
    },
    {
     "name": "stdout",
     "output_type": "stream",
     "text": [
      "[34728.14892635406]\n"
     ]
    },
    {
     "name": "stderr",
     "output_type": "stream",
     "text": [
      "C:\\Users\\Michael\\Anaconda3\\envs\\learn-env\\lib\\site-packages\\pystan\\misc.py:399: FutureWarning:\n",
      "\n",
      "Conversion of the second argument of issubdtype from `float` to `np.floating` is deprecated. In future, it will be treated as `np.float64 == np.dtype(float).type`.\n",
      "\n",
      "C:\\Users\\Michael\\Anaconda3\\envs\\learn-env\\lib\\site-packages\\ipykernel_launcher.py:40: FutureWarning:\n",
      "\n",
      "'variable' is both an index level and a column label.\n",
      "Defaulting to column, but this will raise an ambiguity error in a future version\n",
      "\n",
      "C:\\Users\\Michael\\Anaconda3\\envs\\learn-env\\lib\\site-packages\\ipykernel_launcher.py:44: FutureWarning:\n",
      "\n",
      "'variable' is both an index level and a column label.\n",
      "Defaulting to column, but this will raise an ambiguity error in a future version\n",
      "\n",
      "INFO:fbprophet:Disabling weekly seasonality. Run prophet with weekly_seasonality=True to override this.\n",
      "INFO:fbprophet:Disabling daily seasonality. Run prophet with daily_seasonality=True to override this.\n"
     ]
    },
    {
     "name": "stdout",
     "output_type": "stream",
     "text": [
      "[34728.14892635406, 54592.89159020618]\n"
     ]
    },
    {
     "name": "stderr",
     "output_type": "stream",
     "text": [
      "C:\\Users\\Michael\\Anaconda3\\envs\\learn-env\\lib\\site-packages\\pystan\\misc.py:399: FutureWarning:\n",
      "\n",
      "Conversion of the second argument of issubdtype from `float` to `np.floating` is deprecated. In future, it will be treated as `np.float64 == np.dtype(float).type`.\n",
      "\n",
      "C:\\Users\\Michael\\Anaconda3\\envs\\learn-env\\lib\\site-packages\\ipykernel_launcher.py:60: FutureWarning:\n",
      "\n",
      "'variable' is both an index level and a column label.\n",
      "Defaulting to column, but this will raise an ambiguity error in a future version\n",
      "\n",
      "C:\\Users\\Michael\\Anaconda3\\envs\\learn-env\\lib\\site-packages\\ipykernel_launcher.py:63: FutureWarning:\n",
      "\n",
      "'variable' is both an index level and a column label.\n",
      "Defaulting to column, but this will raise an ambiguity error in a future version\n",
      "\n",
      "INFO:fbprophet:Disabling weekly seasonality. Run prophet with weekly_seasonality=True to override this.\n",
      "INFO:fbprophet:Disabling daily seasonality. Run prophet with daily_seasonality=True to override this.\n"
     ]
    },
    {
     "name": "stdout",
     "output_type": "stream",
     "text": [
      "[34728.14892635406, 54592.89159020618, 55871.48486203163]\n",
      "[34728.14892635406, 54592.89159020618, 55871.48486203163]\n"
     ]
    },
    {
     "name": "stderr",
     "output_type": "stream",
     "text": [
      "C:\\Users\\Michael\\Anaconda3\\envs\\learn-env\\lib\\site-packages\\pystan\\misc.py:399: FutureWarning:\n",
      "\n",
      "Conversion of the second argument of issubdtype from `float` to `np.floating` is deprecated. In future, it will be treated as `np.float64 == np.dtype(float).type`.\n",
      "\n",
      "C:\\Users\\Michael\\Anaconda3\\envs\\learn-env\\lib\\site-packages\\ipykernel_launcher.py:40: FutureWarning:\n",
      "\n",
      "'variable' is both an index level and a column label.\n",
      "Defaulting to column, but this will raise an ambiguity error in a future version\n",
      "\n",
      "C:\\Users\\Michael\\Anaconda3\\envs\\learn-env\\lib\\site-packages\\ipykernel_launcher.py:44: FutureWarning:\n",
      "\n",
      "'variable' is both an index level and a column label.\n",
      "Defaulting to column, but this will raise an ambiguity error in a future version\n",
      "\n",
      "INFO:fbprophet:Disabling weekly seasonality. Run prophet with weekly_seasonality=True to override this.\n",
      "INFO:fbprophet:Disabling daily seasonality. Run prophet with daily_seasonality=True to override this.\n"
     ]
    },
    {
     "name": "stdout",
     "output_type": "stream",
     "text": [
      " 59 progress so far\n"
     ]
    },
    {
     "name": "stderr",
     "output_type": "stream",
     "text": [
      "C:\\Users\\Michael\\Anaconda3\\envs\\learn-env\\lib\\site-packages\\ipykernel_launcher.py:40: FutureWarning:\n",
      "\n",
      "'variable' is both an index level and a column label.\n",
      "Defaulting to column, but this will raise an ambiguity error in a future version\n",
      "\n",
      "C:\\Users\\Michael\\Anaconda3\\envs\\learn-env\\lib\\site-packages\\ipykernel_launcher.py:44: FutureWarning:\n",
      "\n",
      "'variable' is both an index level and a column label.\n",
      "Defaulting to column, but this will raise an ambiguity error in a future version\n",
      "\n",
      "INFO:fbprophet:Disabling weekly seasonality. Run prophet with weekly_seasonality=True to override this.\n",
      "INFO:fbprophet:Disabling daily seasonality. Run prophet with daily_seasonality=True to override this.\n"
     ]
    },
    {
     "name": "stdout",
     "output_type": "stream",
     "text": [
      "[45130.82632969051]\n"
     ]
    },
    {
     "name": "stderr",
     "output_type": "stream",
     "text": [
      "C:\\Users\\Michael\\Anaconda3\\envs\\learn-env\\lib\\site-packages\\pystan\\misc.py:399: FutureWarning:\n",
      "\n",
      "Conversion of the second argument of issubdtype from `float` to `np.floating` is deprecated. In future, it will be treated as `np.float64 == np.dtype(float).type`.\n",
      "\n",
      "C:\\Users\\Michael\\Anaconda3\\envs\\learn-env\\lib\\site-packages\\ipykernel_launcher.py:40: FutureWarning:\n",
      "\n",
      "'variable' is both an index level and a column label.\n",
      "Defaulting to column, but this will raise an ambiguity error in a future version\n",
      "\n",
      "C:\\Users\\Michael\\Anaconda3\\envs\\learn-env\\lib\\site-packages\\ipykernel_launcher.py:44: FutureWarning:\n",
      "\n",
      "'variable' is both an index level and a column label.\n",
      "Defaulting to column, but this will raise an ambiguity error in a future version\n",
      "\n",
      "INFO:fbprophet:Disabling weekly seasonality. Run prophet with weekly_seasonality=True to override this.\n",
      "INFO:fbprophet:Disabling daily seasonality. Run prophet with daily_seasonality=True to override this.\n"
     ]
    },
    {
     "name": "stdout",
     "output_type": "stream",
     "text": [
      "[45130.82632969051, 112878.77122560692]\n"
     ]
    },
    {
     "name": "stderr",
     "output_type": "stream",
     "text": [
      "C:\\Users\\Michael\\Anaconda3\\envs\\learn-env\\lib\\site-packages\\pystan\\misc.py:399: FutureWarning:\n",
      "\n",
      "Conversion of the second argument of issubdtype from `float` to `np.floating` is deprecated. In future, it will be treated as `np.float64 == np.dtype(float).type`.\n",
      "\n"
     ]
    },
    {
     "name": "stdout",
     "output_type": "stream",
     "text": [
      "[45130.82632969051, 112878.77122560692, 87825.18212826004]\n",
      "[45130.82632969051, 112878.77122560692, 87825.18212826004]\n"
     ]
    },
    {
     "name": "stderr",
     "output_type": "stream",
     "text": [
      "C:\\Users\\Michael\\Anaconda3\\envs\\learn-env\\lib\\site-packages\\ipykernel_launcher.py:60: FutureWarning:\n",
      "\n",
      "'variable' is both an index level and a column label.\n",
      "Defaulting to column, but this will raise an ambiguity error in a future version\n",
      "\n",
      "C:\\Users\\Michael\\Anaconda3\\envs\\learn-env\\lib\\site-packages\\ipykernel_launcher.py:63: FutureWarning:\n",
      "\n",
      "'variable' is both an index level and a column label.\n",
      "Defaulting to column, but this will raise an ambiguity error in a future version\n",
      "\n",
      "INFO:fbprophet:Disabling weekly seasonality. Run prophet with weekly_seasonality=True to override this.\n",
      "INFO:fbprophet:Disabling daily seasonality. Run prophet with daily_seasonality=True to override this.\n",
      "C:\\Users\\Michael\\Anaconda3\\envs\\learn-env\\lib\\site-packages\\pystan\\misc.py:399: FutureWarning:\n",
      "\n",
      "Conversion of the second argument of issubdtype from `float` to `np.floating` is deprecated. In future, it will be treated as `np.float64 == np.dtype(float).type`.\n",
      "\n",
      "C:\\Users\\Michael\\Anaconda3\\envs\\learn-env\\lib\\site-packages\\ipykernel_launcher.py:40: FutureWarning:\n",
      "\n",
      "'variable' is both an index level and a column label.\n",
      "Defaulting to column, but this will raise an ambiguity error in a future version\n",
      "\n",
      "C:\\Users\\Michael\\Anaconda3\\envs\\learn-env\\lib\\site-packages\\ipykernel_launcher.py:44: FutureWarning:\n",
      "\n",
      "'variable' is both an index level and a column label.\n",
      "Defaulting to column, but this will raise an ambiguity error in a future version\n",
      "\n",
      "INFO:fbprophet:Disabling weekly seasonality. Run prophet with weekly_seasonality=True to override this.\n",
      "INFO:fbprophet:Disabling daily seasonality. Run prophet with daily_seasonality=True to override this.\n"
     ]
    },
    {
     "name": "stdout",
     "output_type": "stream",
     "text": [
      " 60 progress so far\n"
     ]
    },
    {
     "name": "stderr",
     "output_type": "stream",
     "text": [
      "C:\\Users\\Michael\\Anaconda3\\envs\\learn-env\\lib\\site-packages\\ipykernel_launcher.py:40: FutureWarning:\n",
      "\n",
      "'variable' is both an index level and a column label.\n",
      "Defaulting to column, but this will raise an ambiguity error in a future version\n",
      "\n",
      "C:\\Users\\Michael\\Anaconda3\\envs\\learn-env\\lib\\site-packages\\ipykernel_launcher.py:44: FutureWarning:\n",
      "\n",
      "'variable' is both an index level and a column label.\n",
      "Defaulting to column, but this will raise an ambiguity error in a future version\n",
      "\n",
      "INFO:fbprophet:Disabling weekly seasonality. Run prophet with weekly_seasonality=True to override this.\n",
      "INFO:fbprophet:Disabling daily seasonality. Run prophet with daily_seasonality=True to override this.\n"
     ]
    },
    {
     "name": "stdout",
     "output_type": "stream",
     "text": [
      "[73312.23389082898]\n"
     ]
    },
    {
     "name": "stderr",
     "output_type": "stream",
     "text": [
      "C:\\Users\\Michael\\Anaconda3\\envs\\learn-env\\lib\\site-packages\\pystan\\misc.py:399: FutureWarning:\n",
      "\n",
      "Conversion of the second argument of issubdtype from `float` to `np.floating` is deprecated. In future, it will be treated as `np.float64 == np.dtype(float).type`.\n",
      "\n",
      "C:\\Users\\Michael\\Anaconda3\\envs\\learn-env\\lib\\site-packages\\ipykernel_launcher.py:40: FutureWarning:\n",
      "\n",
      "'variable' is both an index level and a column label.\n",
      "Defaulting to column, but this will raise an ambiguity error in a future version\n",
      "\n",
      "C:\\Users\\Michael\\Anaconda3\\envs\\learn-env\\lib\\site-packages\\ipykernel_launcher.py:44: FutureWarning:\n",
      "\n",
      "'variable' is both an index level and a column label.\n",
      "Defaulting to column, but this will raise an ambiguity error in a future version\n",
      "\n",
      "INFO:fbprophet:Disabling weekly seasonality. Run prophet with weekly_seasonality=True to override this.\n",
      "INFO:fbprophet:Disabling daily seasonality. Run prophet with daily_seasonality=True to override this.\n"
     ]
    },
    {
     "name": "stdout",
     "output_type": "stream",
     "text": [
      "[73312.23389082898, 78258.30595587331]\n"
     ]
    },
    {
     "name": "stderr",
     "output_type": "stream",
     "text": [
      "C:\\Users\\Michael\\Anaconda3\\envs\\learn-env\\lib\\site-packages\\pystan\\misc.py:399: FutureWarning:\n",
      "\n",
      "Conversion of the second argument of issubdtype from `float` to `np.floating` is deprecated. In future, it will be treated as `np.float64 == np.dtype(float).type`.\n",
      "\n",
      "C:\\Users\\Michael\\Anaconda3\\envs\\learn-env\\lib\\site-packages\\ipykernel_launcher.py:60: FutureWarning:\n",
      "\n",
      "'variable' is both an index level and a column label.\n",
      "Defaulting to column, but this will raise an ambiguity error in a future version\n",
      "\n",
      "C:\\Users\\Michael\\Anaconda3\\envs\\learn-env\\lib\\site-packages\\ipykernel_launcher.py:63: FutureWarning:\n",
      "\n",
      "'variable' is both an index level and a column label.\n",
      "Defaulting to column, but this will raise an ambiguity error in a future version\n",
      "\n",
      "INFO:fbprophet:Disabling weekly seasonality. Run prophet with weekly_seasonality=True to override this.\n"
     ]
    },
    {
     "name": "stdout",
     "output_type": "stream",
     "text": [
      "[73312.23389082898, 78258.30595587331, 81356.9884152558]\n",
      "[73312.23389082898, 78258.30595587331, 81356.9884152558]\n"
     ]
    },
    {
     "name": "stderr",
     "output_type": "stream",
     "text": [
      "INFO:fbprophet:Disabling daily seasonality. Run prophet with daily_seasonality=True to override this.\n",
      "C:\\Users\\Michael\\Anaconda3\\envs\\learn-env\\lib\\site-packages\\pystan\\misc.py:399: FutureWarning:\n",
      "\n",
      "Conversion of the second argument of issubdtype from `float` to `np.floating` is deprecated. In future, it will be treated as `np.float64 == np.dtype(float).type`.\n",
      "\n",
      "C:\\Users\\Michael\\Anaconda3\\envs\\learn-env\\lib\\site-packages\\ipykernel_launcher.py:40: FutureWarning:\n",
      "\n",
      "'variable' is both an index level and a column label.\n",
      "Defaulting to column, but this will raise an ambiguity error in a future version\n",
      "\n",
      "C:\\Users\\Michael\\Anaconda3\\envs\\learn-env\\lib\\site-packages\\ipykernel_launcher.py:44: FutureWarning:\n",
      "\n",
      "'variable' is both an index level and a column label.\n",
      "Defaulting to column, but this will raise an ambiguity error in a future version\n",
      "\n",
      "INFO:fbprophet:Disabling weekly seasonality. Run prophet with weekly_seasonality=True to override this.\n",
      "INFO:fbprophet:Disabling daily seasonality. Run prophet with daily_seasonality=True to override this.\n"
     ]
    },
    {
     "name": "stdout",
     "output_type": "stream",
     "text": [
      " 61 progress so far\n"
     ]
    },
    {
     "name": "stderr",
     "output_type": "stream",
     "text": [
      "C:\\Users\\Michael\\Anaconda3\\envs\\learn-env\\lib\\site-packages\\ipykernel_launcher.py:40: FutureWarning:\n",
      "\n",
      "'variable' is both an index level and a column label.\n",
      "Defaulting to column, but this will raise an ambiguity error in a future version\n",
      "\n",
      "C:\\Users\\Michael\\Anaconda3\\envs\\learn-env\\lib\\site-packages\\ipykernel_launcher.py:44: FutureWarning:\n",
      "\n",
      "'variable' is both an index level and a column label.\n",
      "Defaulting to column, but this will raise an ambiguity error in a future version\n",
      "\n",
      "INFO:fbprophet:Disabling weekly seasonality. Run prophet with weekly_seasonality=True to override this.\n",
      "INFO:fbprophet:Disabling daily seasonality. Run prophet with daily_seasonality=True to override this.\n"
     ]
    },
    {
     "name": "stdout",
     "output_type": "stream",
     "text": [
      "[6854.095329533766]\n"
     ]
    },
    {
     "name": "stderr",
     "output_type": "stream",
     "text": [
      "C:\\Users\\Michael\\Anaconda3\\envs\\learn-env\\lib\\site-packages\\pystan\\misc.py:399: FutureWarning:\n",
      "\n",
      "Conversion of the second argument of issubdtype from `float` to `np.floating` is deprecated. In future, it will be treated as `np.float64 == np.dtype(float).type`.\n",
      "\n",
      "C:\\Users\\Michael\\Anaconda3\\envs\\learn-env\\lib\\site-packages\\ipykernel_launcher.py:40: FutureWarning:\n",
      "\n",
      "'variable' is both an index level and a column label.\n",
      "Defaulting to column, but this will raise an ambiguity error in a future version\n",
      "\n",
      "C:\\Users\\Michael\\Anaconda3\\envs\\learn-env\\lib\\site-packages\\ipykernel_launcher.py:44: FutureWarning:\n",
      "\n",
      "'variable' is both an index level and a column label.\n",
      "Defaulting to column, but this will raise an ambiguity error in a future version\n",
      "\n",
      "INFO:fbprophet:Disabling weekly seasonality. Run prophet with weekly_seasonality=True to override this.\n",
      "INFO:fbprophet:Disabling daily seasonality. Run prophet with daily_seasonality=True to override this.\n"
     ]
    },
    {
     "name": "stdout",
     "output_type": "stream",
     "text": [
      "[6854.095329533766, 18583.655814738097]\n"
     ]
    },
    {
     "name": "stderr",
     "output_type": "stream",
     "text": [
      "C:\\Users\\Michael\\Anaconda3\\envs\\learn-env\\lib\\site-packages\\pystan\\misc.py:399: FutureWarning:\n",
      "\n",
      "Conversion of the second argument of issubdtype from `float` to `np.floating` is deprecated. In future, it will be treated as `np.float64 == np.dtype(float).type`.\n",
      "\n"
     ]
    },
    {
     "name": "stdout",
     "output_type": "stream",
     "text": [
      "[6854.095329533766, 18583.655814738097, 19022.014009870974]\n",
      "[6854.095329533766, 18583.655814738097, 19022.014009870974]\n"
     ]
    },
    {
     "name": "stderr",
     "output_type": "stream",
     "text": [
      "C:\\Users\\Michael\\Anaconda3\\envs\\learn-env\\lib\\site-packages\\ipykernel_launcher.py:60: FutureWarning:\n",
      "\n",
      "'variable' is both an index level and a column label.\n",
      "Defaulting to column, but this will raise an ambiguity error in a future version\n",
      "\n",
      "C:\\Users\\Michael\\Anaconda3\\envs\\learn-env\\lib\\site-packages\\ipykernel_launcher.py:63: FutureWarning:\n",
      "\n",
      "'variable' is both an index level and a column label.\n",
      "Defaulting to column, but this will raise an ambiguity error in a future version\n",
      "\n",
      "INFO:fbprophet:Disabling weekly seasonality. Run prophet with weekly_seasonality=True to override this.\n",
      "INFO:fbprophet:Disabling daily seasonality. Run prophet with daily_seasonality=True to override this.\n",
      "C:\\Users\\Michael\\Anaconda3\\envs\\learn-env\\lib\\site-packages\\pystan\\misc.py:399: FutureWarning:\n",
      "\n",
      "Conversion of the second argument of issubdtype from `float` to `np.floating` is deprecated. In future, it will be treated as `np.float64 == np.dtype(float).type`.\n",
      "\n",
      "C:\\Users\\Michael\\Anaconda3\\envs\\learn-env\\lib\\site-packages\\ipykernel_launcher.py:40: FutureWarning:\n",
      "\n",
      "'variable' is both an index level and a column label.\n",
      "Defaulting to column, but this will raise an ambiguity error in a future version\n",
      "\n",
      "C:\\Users\\Michael\\Anaconda3\\envs\\learn-env\\lib\\site-packages\\ipykernel_launcher.py:44: FutureWarning:\n",
      "\n",
      "'variable' is both an index level and a column label.\n",
      "Defaulting to column, but this will raise an ambiguity error in a future version\n",
      "\n",
      "INFO:fbprophet:Disabling weekly seasonality. Run prophet with weekly_seasonality=True to override this.\n",
      "INFO:fbprophet:Disabling daily seasonality. Run prophet with daily_seasonality=True to override this.\n"
     ]
    },
    {
     "name": "stdout",
     "output_type": "stream",
     "text": [
      " 62 progress so far\n"
     ]
    },
    {
     "name": "stderr",
     "output_type": "stream",
     "text": [
      "C:\\Users\\Michael\\Anaconda3\\envs\\learn-env\\lib\\site-packages\\ipykernel_launcher.py:40: FutureWarning:\n",
      "\n",
      "'variable' is both an index level and a column label.\n",
      "Defaulting to column, but this will raise an ambiguity error in a future version\n",
      "\n",
      "C:\\Users\\Michael\\Anaconda3\\envs\\learn-env\\lib\\site-packages\\ipykernel_launcher.py:44: FutureWarning:\n",
      "\n",
      "'variable' is both an index level and a column label.\n",
      "Defaulting to column, but this will raise an ambiguity error in a future version\n",
      "\n",
      "INFO:fbprophet:Disabling weekly seasonality. Run prophet with weekly_seasonality=True to override this.\n",
      "INFO:fbprophet:Disabling daily seasonality. Run prophet with daily_seasonality=True to override this.\n"
     ]
    },
    {
     "name": "stdout",
     "output_type": "stream",
     "text": [
      "[35755.14598430114]\n"
     ]
    },
    {
     "name": "stderr",
     "output_type": "stream",
     "text": [
      "C:\\Users\\Michael\\Anaconda3\\envs\\learn-env\\lib\\site-packages\\pystan\\misc.py:399: FutureWarning:\n",
      "\n",
      "Conversion of the second argument of issubdtype from `float` to `np.floating` is deprecated. In future, it will be treated as `np.float64 == np.dtype(float).type`.\n",
      "\n",
      "C:\\Users\\Michael\\Anaconda3\\envs\\learn-env\\lib\\site-packages\\ipykernel_launcher.py:40: FutureWarning:\n",
      "\n",
      "'variable' is both an index level and a column label.\n",
      "Defaulting to column, but this will raise an ambiguity error in a future version\n",
      "\n",
      "C:\\Users\\Michael\\Anaconda3\\envs\\learn-env\\lib\\site-packages\\ipykernel_launcher.py:44: FutureWarning:\n",
      "\n",
      "'variable' is both an index level and a column label.\n",
      "Defaulting to column, but this will raise an ambiguity error in a future version\n",
      "\n",
      "INFO:fbprophet:Disabling weekly seasonality. Run prophet with weekly_seasonality=True to override this.\n",
      "INFO:fbprophet:Disabling daily seasonality. Run prophet with daily_seasonality=True to override this.\n"
     ]
    },
    {
     "name": "stdout",
     "output_type": "stream",
     "text": [
      "[35755.14598430114, 109859.02845005222]\n"
     ]
    },
    {
     "name": "stderr",
     "output_type": "stream",
     "text": [
      "C:\\Users\\Michael\\Anaconda3\\envs\\learn-env\\lib\\site-packages\\pystan\\misc.py:399: FutureWarning:\n",
      "\n",
      "Conversion of the second argument of issubdtype from `float` to `np.floating` is deprecated. In future, it will be treated as `np.float64 == np.dtype(float).type`.\n",
      "\n"
     ]
    },
    {
     "name": "stdout",
     "output_type": "stream",
     "text": [
      "[35755.14598430114, 109859.02845005222, 74428.48789362577]\n",
      "[35755.14598430114, 109859.02845005222, 74428.48789362577]\n"
     ]
    },
    {
     "name": "stderr",
     "output_type": "stream",
     "text": [
      "C:\\Users\\Michael\\Anaconda3\\envs\\learn-env\\lib\\site-packages\\ipykernel_launcher.py:60: FutureWarning:\n",
      "\n",
      "'variable' is both an index level and a column label.\n",
      "Defaulting to column, but this will raise an ambiguity error in a future version\n",
      "\n",
      "C:\\Users\\Michael\\Anaconda3\\envs\\learn-env\\lib\\site-packages\\ipykernel_launcher.py:63: FutureWarning:\n",
      "\n",
      "'variable' is both an index level and a column label.\n",
      "Defaulting to column, but this will raise an ambiguity error in a future version\n",
      "\n",
      "INFO:fbprophet:Disabling weekly seasonality. Run prophet with weekly_seasonality=True to override this.\n",
      "INFO:fbprophet:Disabling daily seasonality. Run prophet with daily_seasonality=True to override this.\n",
      "C:\\Users\\Michael\\Anaconda3\\envs\\learn-env\\lib\\site-packages\\pystan\\misc.py:399: FutureWarning:\n",
      "\n",
      "Conversion of the second argument of issubdtype from `float` to `np.floating` is deprecated. In future, it will be treated as `np.float64 == np.dtype(float).type`.\n",
      "\n",
      "C:\\Users\\Michael\\Anaconda3\\envs\\learn-env\\lib\\site-packages\\ipykernel_launcher.py:40: FutureWarning:\n",
      "\n",
      "'variable' is both an index level and a column label.\n",
      "Defaulting to column, but this will raise an ambiguity error in a future version\n",
      "\n",
      "C:\\Users\\Michael\\Anaconda3\\envs\\learn-env\\lib\\site-packages\\ipykernel_launcher.py:44: FutureWarning:\n",
      "\n",
      "'variable' is both an index level and a column label.\n",
      "Defaulting to column, but this will raise an ambiguity error in a future version\n",
      "\n",
      "INFO:fbprophet:Disabling weekly seasonality. Run prophet with weekly_seasonality=True to override this.\n"
     ]
    },
    {
     "name": "stdout",
     "output_type": "stream",
     "text": [
      " 63 progress so far\n"
     ]
    },
    {
     "name": "stderr",
     "output_type": "stream",
     "text": [
      "INFO:fbprophet:Disabling daily seasonality. Run prophet with daily_seasonality=True to override this.\n",
      "C:\\Users\\Michael\\Anaconda3\\envs\\learn-env\\lib\\site-packages\\ipykernel_launcher.py:40: FutureWarning:\n",
      "\n",
      "'variable' is both an index level and a column label.\n",
      "Defaulting to column, but this will raise an ambiguity error in a future version\n",
      "\n",
      "C:\\Users\\Michael\\Anaconda3\\envs\\learn-env\\lib\\site-packages\\ipykernel_launcher.py:44: FutureWarning:\n",
      "\n",
      "'variable' is both an index level and a column label.\n",
      "Defaulting to column, but this will raise an ambiguity error in a future version\n",
      "\n",
      "INFO:fbprophet:Disabling weekly seasonality. Run prophet with weekly_seasonality=True to override this.\n",
      "INFO:fbprophet:Disabling daily seasonality. Run prophet with daily_seasonality=True to override this.\n"
     ]
    },
    {
     "name": "stdout",
     "output_type": "stream",
     "text": [
      "[59195.72972872729]\n"
     ]
    },
    {
     "name": "stderr",
     "output_type": "stream",
     "text": [
      "C:\\Users\\Michael\\Anaconda3\\envs\\learn-env\\lib\\site-packages\\pystan\\misc.py:399: FutureWarning:\n",
      "\n",
      "Conversion of the second argument of issubdtype from `float` to `np.floating` is deprecated. In future, it will be treated as `np.float64 == np.dtype(float).type`.\n",
      "\n",
      "C:\\Users\\Michael\\Anaconda3\\envs\\learn-env\\lib\\site-packages\\ipykernel_launcher.py:40: FutureWarning:\n",
      "\n",
      "'variable' is both an index level and a column label.\n",
      "Defaulting to column, but this will raise an ambiguity error in a future version\n",
      "\n",
      "C:\\Users\\Michael\\Anaconda3\\envs\\learn-env\\lib\\site-packages\\ipykernel_launcher.py:44: FutureWarning:\n",
      "\n",
      "'variable' is both an index level and a column label.\n",
      "Defaulting to column, but this will raise an ambiguity error in a future version\n",
      "\n",
      "INFO:fbprophet:Disabling weekly seasonality. Run prophet with weekly_seasonality=True to override this.\n",
      "INFO:fbprophet:Disabling daily seasonality. Run prophet with daily_seasonality=True to override this.\n"
     ]
    },
    {
     "name": "stdout",
     "output_type": "stream",
     "text": [
      "[59195.72972872729, 103590.95641521098]\n"
     ]
    },
    {
     "name": "stderr",
     "output_type": "stream",
     "text": [
      "C:\\Users\\Michael\\Anaconda3\\envs\\learn-env\\lib\\site-packages\\pystan\\misc.py:399: FutureWarning:\n",
      "\n",
      "Conversion of the second argument of issubdtype from `float` to `np.floating` is deprecated. In future, it will be treated as `np.float64 == np.dtype(float).type`.\n",
      "\n",
      "C:\\Users\\Michael\\Anaconda3\\envs\\learn-env\\lib\\site-packages\\ipykernel_launcher.py:60: FutureWarning:\n",
      "\n",
      "'variable' is both an index level and a column label.\n",
      "Defaulting to column, but this will raise an ambiguity error in a future version\n",
      "\n",
      "C:\\Users\\Michael\\Anaconda3\\envs\\learn-env\\lib\\site-packages\\ipykernel_launcher.py:63: FutureWarning:\n",
      "\n",
      "'variable' is both an index level and a column label.\n",
      "Defaulting to column, but this will raise an ambiguity error in a future version\n",
      "\n",
      "INFO:fbprophet:Disabling weekly seasonality. Run prophet with weekly_seasonality=True to override this.\n"
     ]
    },
    {
     "name": "stdout",
     "output_type": "stream",
     "text": [
      "[59195.72972872729, 103590.95641521098, 106997.08340892284]\n",
      "[59195.72972872729, 103590.95641521098, 106997.08340892284]\n"
     ]
    },
    {
     "name": "stderr",
     "output_type": "stream",
     "text": [
      "INFO:fbprophet:Disabling daily seasonality. Run prophet with daily_seasonality=True to override this.\n",
      "C:\\Users\\Michael\\Anaconda3\\envs\\learn-env\\lib\\site-packages\\pystan\\misc.py:399: FutureWarning:\n",
      "\n",
      "Conversion of the second argument of issubdtype from `float` to `np.floating` is deprecated. In future, it will be treated as `np.float64 == np.dtype(float).type`.\n",
      "\n",
      "C:\\Users\\Michael\\Anaconda3\\envs\\learn-env\\lib\\site-packages\\ipykernel_launcher.py:40: FutureWarning:\n",
      "\n",
      "'variable' is both an index level and a column label.\n",
      "Defaulting to column, but this will raise an ambiguity error in a future version\n",
      "\n",
      "C:\\Users\\Michael\\Anaconda3\\envs\\learn-env\\lib\\site-packages\\ipykernel_launcher.py:44: FutureWarning:\n",
      "\n",
      "'variable' is both an index level and a column label.\n",
      "Defaulting to column, but this will raise an ambiguity error in a future version\n",
      "\n",
      "INFO:fbprophet:Disabling weekly seasonality. Run prophet with weekly_seasonality=True to override this.\n",
      "INFO:fbprophet:Disabling daily seasonality. Run prophet with daily_seasonality=True to override this.\n"
     ]
    },
    {
     "name": "stdout",
     "output_type": "stream",
     "text": [
      " 64 progress so far\n"
     ]
    },
    {
     "name": "stderr",
     "output_type": "stream",
     "text": [
      "C:\\Users\\Michael\\Anaconda3\\envs\\learn-env\\lib\\site-packages\\ipykernel_launcher.py:40: FutureWarning:\n",
      "\n",
      "'variable' is both an index level and a column label.\n",
      "Defaulting to column, but this will raise an ambiguity error in a future version\n",
      "\n",
      "C:\\Users\\Michael\\Anaconda3\\envs\\learn-env\\lib\\site-packages\\ipykernel_launcher.py:44: FutureWarning:\n",
      "\n",
      "'variable' is both an index level and a column label.\n",
      "Defaulting to column, but this will raise an ambiguity error in a future version\n",
      "\n",
      "INFO:fbprophet:Disabling weekly seasonality. Run prophet with weekly_seasonality=True to override this.\n",
      "INFO:fbprophet:Disabling daily seasonality. Run prophet with daily_seasonality=True to override this.\n"
     ]
    },
    {
     "name": "stdout",
     "output_type": "stream",
     "text": [
      "[160910.11145175478]\n"
     ]
    },
    {
     "name": "stderr",
     "output_type": "stream",
     "text": [
      "C:\\Users\\Michael\\Anaconda3\\envs\\learn-env\\lib\\site-packages\\pystan\\misc.py:399: FutureWarning:\n",
      "\n",
      "Conversion of the second argument of issubdtype from `float` to `np.floating` is deprecated. In future, it will be treated as `np.float64 == np.dtype(float).type`.\n",
      "\n",
      "C:\\Users\\Michael\\Anaconda3\\envs\\learn-env\\lib\\site-packages\\ipykernel_launcher.py:40: FutureWarning:\n",
      "\n",
      "'variable' is both an index level and a column label.\n",
      "Defaulting to column, but this will raise an ambiguity error in a future version\n",
      "\n",
      "C:\\Users\\Michael\\Anaconda3\\envs\\learn-env\\lib\\site-packages\\ipykernel_launcher.py:44: FutureWarning:\n",
      "\n",
      "'variable' is both an index level and a column label.\n",
      "Defaulting to column, but this will raise an ambiguity error in a future version\n",
      "\n",
      "INFO:fbprophet:Disabling weekly seasonality. Run prophet with weekly_seasonality=True to override this.\n",
      "INFO:fbprophet:Disabling daily seasonality. Run prophet with daily_seasonality=True to override this.\n"
     ]
    },
    {
     "name": "stdout",
     "output_type": "stream",
     "text": [
      "[160910.11145175478, 150745.66413395441]\n"
     ]
    },
    {
     "name": "stderr",
     "output_type": "stream",
     "text": [
      "C:\\Users\\Michael\\Anaconda3\\envs\\learn-env\\lib\\site-packages\\pystan\\misc.py:399: FutureWarning:\n",
      "\n",
      "Conversion of the second argument of issubdtype from `float` to `np.floating` is deprecated. In future, it will be treated as `np.float64 == np.dtype(float).type`.\n",
      "\n",
      "C:\\Users\\Michael\\Anaconda3\\envs\\learn-env\\lib\\site-packages\\ipykernel_launcher.py:60: FutureWarning:\n",
      "\n",
      "'variable' is both an index level and a column label.\n",
      "Defaulting to column, but this will raise an ambiguity error in a future version\n",
      "\n",
      "C:\\Users\\Michael\\Anaconda3\\envs\\learn-env\\lib\\site-packages\\ipykernel_launcher.py:63: FutureWarning:\n",
      "\n",
      "'variable' is both an index level and a column label.\n",
      "Defaulting to column, but this will raise an ambiguity error in a future version\n",
      "\n",
      "INFO:fbprophet:Disabling weekly seasonality. Run prophet with weekly_seasonality=True to override this.\n",
      "INFO:fbprophet:Disabling daily seasonality. Run prophet with daily_seasonality=True to override this.\n"
     ]
    },
    {
     "name": "stdout",
     "output_type": "stream",
     "text": [
      "[160910.11145175478, 150745.66413395441, 103875.0732787687]\n",
      "[160910.11145175478, 150745.66413395441, 103875.0732787687]\n"
     ]
    },
    {
     "name": "stderr",
     "output_type": "stream",
     "text": [
      "C:\\Users\\Michael\\Anaconda3\\envs\\learn-env\\lib\\site-packages\\pystan\\misc.py:399: FutureWarning:\n",
      "\n",
      "Conversion of the second argument of issubdtype from `float` to `np.floating` is deprecated. In future, it will be treated as `np.float64 == np.dtype(float).type`.\n",
      "\n",
      "C:\\Users\\Michael\\Anaconda3\\envs\\learn-env\\lib\\site-packages\\ipykernel_launcher.py:40: FutureWarning:\n",
      "\n",
      "'variable' is both an index level and a column label.\n",
      "Defaulting to column, but this will raise an ambiguity error in a future version\n",
      "\n",
      "C:\\Users\\Michael\\Anaconda3\\envs\\learn-env\\lib\\site-packages\\ipykernel_launcher.py:44: FutureWarning:\n",
      "\n",
      "'variable' is both an index level and a column label.\n",
      "Defaulting to column, but this will raise an ambiguity error in a future version\n",
      "\n",
      "INFO:fbprophet:Disabling weekly seasonality. Run prophet with weekly_seasonality=True to override this.\n",
      "INFO:fbprophet:Disabling daily seasonality. Run prophet with daily_seasonality=True to override this.\n"
     ]
    },
    {
     "name": "stdout",
     "output_type": "stream",
     "text": [
      " 65 progress so far\n"
     ]
    },
    {
     "name": "stderr",
     "output_type": "stream",
     "text": [
      "C:\\Users\\Michael\\Anaconda3\\envs\\learn-env\\lib\\site-packages\\ipykernel_launcher.py:40: FutureWarning:\n",
      "\n",
      "'variable' is both an index level and a column label.\n",
      "Defaulting to column, but this will raise an ambiguity error in a future version\n",
      "\n",
      "C:\\Users\\Michael\\Anaconda3\\envs\\learn-env\\lib\\site-packages\\ipykernel_launcher.py:44: FutureWarning:\n",
      "\n",
      "'variable' is both an index level and a column label.\n",
      "Defaulting to column, but this will raise an ambiguity error in a future version\n",
      "\n",
      "INFO:fbprophet:Disabling weekly seasonality. Run prophet with weekly_seasonality=True to override this.\n",
      "INFO:fbprophet:Disabling daily seasonality. Run prophet with daily_seasonality=True to override this.\n"
     ]
    },
    {
     "name": "stdout",
     "output_type": "stream",
     "text": [
      "[112962.58899920447]\n"
     ]
    },
    {
     "name": "stderr",
     "output_type": "stream",
     "text": [
      "C:\\Users\\Michael\\Anaconda3\\envs\\learn-env\\lib\\site-packages\\pystan\\misc.py:399: FutureWarning:\n",
      "\n",
      "Conversion of the second argument of issubdtype from `float` to `np.floating` is deprecated. In future, it will be treated as `np.float64 == np.dtype(float).type`.\n",
      "\n",
      "C:\\Users\\Michael\\Anaconda3\\envs\\learn-env\\lib\\site-packages\\ipykernel_launcher.py:40: FutureWarning:\n",
      "\n",
      "'variable' is both an index level and a column label.\n",
      "Defaulting to column, but this will raise an ambiguity error in a future version\n",
      "\n",
      "C:\\Users\\Michael\\Anaconda3\\envs\\learn-env\\lib\\site-packages\\ipykernel_launcher.py:44: FutureWarning:\n",
      "\n",
      "'variable' is both an index level and a column label.\n",
      "Defaulting to column, but this will raise an ambiguity error in a future version\n",
      "\n",
      "INFO:fbprophet:Disabling weekly seasonality. Run prophet with weekly_seasonality=True to override this.\n",
      "INFO:fbprophet:Disabling daily seasonality. Run prophet with daily_seasonality=True to override this.\n"
     ]
    },
    {
     "name": "stdout",
     "output_type": "stream",
     "text": [
      "[112962.58899920447, 149554.15081303095]\n"
     ]
    },
    {
     "name": "stderr",
     "output_type": "stream",
     "text": [
      "C:\\Users\\Michael\\Anaconda3\\envs\\learn-env\\lib\\site-packages\\pystan\\misc.py:399: FutureWarning:\n",
      "\n",
      "Conversion of the second argument of issubdtype from `float` to `np.floating` is deprecated. In future, it will be treated as `np.float64 == np.dtype(float).type`.\n",
      "\n",
      "C:\\Users\\Michael\\Anaconda3\\envs\\learn-env\\lib\\site-packages\\ipykernel_launcher.py:60: FutureWarning:\n",
      "\n",
      "'variable' is both an index level and a column label.\n",
      "Defaulting to column, but this will raise an ambiguity error in a future version\n",
      "\n",
      "C:\\Users\\Michael\\Anaconda3\\envs\\learn-env\\lib\\site-packages\\ipykernel_launcher.py:63: FutureWarning:\n",
      "\n",
      "'variable' is both an index level and a column label.\n",
      "Defaulting to column, but this will raise an ambiguity error in a future version\n",
      "\n",
      "INFO:fbprophet:Disabling weekly seasonality. Run prophet with weekly_seasonality=True to override this.\n",
      "INFO:fbprophet:Disabling daily seasonality. Run prophet with daily_seasonality=True to override this.\n"
     ]
    },
    {
     "name": "stdout",
     "output_type": "stream",
     "text": [
      "[112962.58899920447, 149554.15081303095, 99862.11702916985]\n",
      "[112962.58899920447, 149554.15081303095, 99862.11702916985]\n"
     ]
    },
    {
     "name": "stderr",
     "output_type": "stream",
     "text": [
      "C:\\Users\\Michael\\Anaconda3\\envs\\learn-env\\lib\\site-packages\\pystan\\misc.py:399: FutureWarning:\n",
      "\n",
      "Conversion of the second argument of issubdtype from `float` to `np.floating` is deprecated. In future, it will be treated as `np.float64 == np.dtype(float).type`.\n",
      "\n",
      "C:\\Users\\Michael\\Anaconda3\\envs\\learn-env\\lib\\site-packages\\ipykernel_launcher.py:40: FutureWarning:\n",
      "\n",
      "'variable' is both an index level and a column label.\n",
      "Defaulting to column, but this will raise an ambiguity error in a future version\n",
      "\n",
      "C:\\Users\\Michael\\Anaconda3\\envs\\learn-env\\lib\\site-packages\\ipykernel_launcher.py:44: FutureWarning:\n",
      "\n",
      "'variable' is both an index level and a column label.\n",
      "Defaulting to column, but this will raise an ambiguity error in a future version\n",
      "\n",
      "INFO:fbprophet:Disabling weekly seasonality. Run prophet with weekly_seasonality=True to override this.\n",
      "INFO:fbprophet:Disabling daily seasonality. Run prophet with daily_seasonality=True to override this.\n"
     ]
    },
    {
     "name": "stdout",
     "output_type": "stream",
     "text": [
      " 66 progress so far\n"
     ]
    },
    {
     "name": "stderr",
     "output_type": "stream",
     "text": [
      "C:\\Users\\Michael\\Anaconda3\\envs\\learn-env\\lib\\site-packages\\ipykernel_launcher.py:40: FutureWarning:\n",
      "\n",
      "'variable' is both an index level and a column label.\n",
      "Defaulting to column, but this will raise an ambiguity error in a future version\n",
      "\n",
      "C:\\Users\\Michael\\Anaconda3\\envs\\learn-env\\lib\\site-packages\\ipykernel_launcher.py:44: FutureWarning:\n",
      "\n",
      "'variable' is both an index level and a column label.\n",
      "Defaulting to column, but this will raise an ambiguity error in a future version\n",
      "\n",
      "INFO:fbprophet:Disabling weekly seasonality. Run prophet with weekly_seasonality=True to override this.\n",
      "INFO:fbprophet:Disabling daily seasonality. Run prophet with daily_seasonality=True to override this.\n"
     ]
    },
    {
     "name": "stdout",
     "output_type": "stream",
     "text": [
      "[33980.78077306267]\n"
     ]
    },
    {
     "name": "stderr",
     "output_type": "stream",
     "text": [
      "C:\\Users\\Michael\\Anaconda3\\envs\\learn-env\\lib\\site-packages\\pystan\\misc.py:399: FutureWarning:\n",
      "\n",
      "Conversion of the second argument of issubdtype from `float` to `np.floating` is deprecated. In future, it will be treated as `np.float64 == np.dtype(float).type`.\n",
      "\n",
      "C:\\Users\\Michael\\Anaconda3\\envs\\learn-env\\lib\\site-packages\\ipykernel_launcher.py:40: FutureWarning:\n",
      "\n",
      "'variable' is both an index level and a column label.\n",
      "Defaulting to column, but this will raise an ambiguity error in a future version\n",
      "\n",
      "C:\\Users\\Michael\\Anaconda3\\envs\\learn-env\\lib\\site-packages\\ipykernel_launcher.py:44: FutureWarning:\n",
      "\n",
      "'variable' is both an index level and a column label.\n",
      "Defaulting to column, but this will raise an ambiguity error in a future version\n",
      "\n",
      "INFO:fbprophet:Disabling weekly seasonality. Run prophet with weekly_seasonality=True to override this.\n",
      "INFO:fbprophet:Disabling daily seasonality. Run prophet with daily_seasonality=True to override this.\n"
     ]
    },
    {
     "name": "stdout",
     "output_type": "stream",
     "text": [
      "[33980.78077306267, 55371.242742748625]\n"
     ]
    },
    {
     "name": "stderr",
     "output_type": "stream",
     "text": [
      "C:\\Users\\Michael\\Anaconda3\\envs\\learn-env\\lib\\site-packages\\pystan\\misc.py:399: FutureWarning:\n",
      "\n",
      "Conversion of the second argument of issubdtype from `float` to `np.floating` is deprecated. In future, it will be treated as `np.float64 == np.dtype(float).type`.\n",
      "\n",
      "C:\\Users\\Michael\\Anaconda3\\envs\\learn-env\\lib\\site-packages\\ipykernel_launcher.py:60: FutureWarning:\n",
      "\n",
      "'variable' is both an index level and a column label.\n",
      "Defaulting to column, but this will raise an ambiguity error in a future version\n",
      "\n",
      "C:\\Users\\Michael\\Anaconda3\\envs\\learn-env\\lib\\site-packages\\ipykernel_launcher.py:63: FutureWarning:\n",
      "\n",
      "'variable' is both an index level and a column label.\n",
      "Defaulting to column, but this will raise an ambiguity error in a future version\n",
      "\n",
      "INFO:fbprophet:Disabling weekly seasonality. Run prophet with weekly_seasonality=True to override this.\n",
      "INFO:fbprophet:Disabling daily seasonality. Run prophet with daily_seasonality=True to override this.\n"
     ]
    },
    {
     "name": "stdout",
     "output_type": "stream",
     "text": [
      "[33980.78077306267, 55371.242742748625, 54710.29417189473]\n",
      "[33980.78077306267, 55371.242742748625, 54710.29417189473]\n"
     ]
    },
    {
     "name": "stderr",
     "output_type": "stream",
     "text": [
      "C:\\Users\\Michael\\Anaconda3\\envs\\learn-env\\lib\\site-packages\\pystan\\misc.py:399: FutureWarning:\n",
      "\n",
      "Conversion of the second argument of issubdtype from `float` to `np.floating` is deprecated. In future, it will be treated as `np.float64 == np.dtype(float).type`.\n",
      "\n",
      "C:\\Users\\Michael\\Anaconda3\\envs\\learn-env\\lib\\site-packages\\ipykernel_launcher.py:40: FutureWarning:\n",
      "\n",
      "'variable' is both an index level and a column label.\n",
      "Defaulting to column, but this will raise an ambiguity error in a future version\n",
      "\n",
      "C:\\Users\\Michael\\Anaconda3\\envs\\learn-env\\lib\\site-packages\\ipykernel_launcher.py:44: FutureWarning:\n",
      "\n",
      "'variable' is both an index level and a column label.\n",
      "Defaulting to column, but this will raise an ambiguity error in a future version\n",
      "\n",
      "INFO:fbprophet:Disabling weekly seasonality. Run prophet with weekly_seasonality=True to override this.\n",
      "INFO:fbprophet:Disabling daily seasonality. Run prophet with daily_seasonality=True to override this.\n"
     ]
    },
    {
     "name": "stdout",
     "output_type": "stream",
     "text": [
      " 67 progress so far\n"
     ]
    },
    {
     "name": "stderr",
     "output_type": "stream",
     "text": [
      "C:\\Users\\Michael\\Anaconda3\\envs\\learn-env\\lib\\site-packages\\ipykernel_launcher.py:40: FutureWarning:\n",
      "\n",
      "'variable' is both an index level and a column label.\n",
      "Defaulting to column, but this will raise an ambiguity error in a future version\n",
      "\n",
      "C:\\Users\\Michael\\Anaconda3\\envs\\learn-env\\lib\\site-packages\\ipykernel_launcher.py:44: FutureWarning:\n",
      "\n",
      "'variable' is both an index level and a column label.\n",
      "Defaulting to column, but this will raise an ambiguity error in a future version\n",
      "\n",
      "INFO:fbprophet:Disabling weekly seasonality. Run prophet with weekly_seasonality=True to override this.\n",
      "INFO:fbprophet:Disabling daily seasonality. Run prophet with daily_seasonality=True to override this.\n"
     ]
    },
    {
     "name": "stdout",
     "output_type": "stream",
     "text": [
      "[147026.7435053906]\n"
     ]
    },
    {
     "name": "stderr",
     "output_type": "stream",
     "text": [
      "C:\\Users\\Michael\\Anaconda3\\envs\\learn-env\\lib\\site-packages\\pystan\\misc.py:399: FutureWarning:\n",
      "\n",
      "Conversion of the second argument of issubdtype from `float` to `np.floating` is deprecated. In future, it will be treated as `np.float64 == np.dtype(float).type`.\n",
      "\n",
      "C:\\Users\\Michael\\Anaconda3\\envs\\learn-env\\lib\\site-packages\\ipykernel_launcher.py:40: FutureWarning:\n",
      "\n",
      "'variable' is both an index level and a column label.\n",
      "Defaulting to column, but this will raise an ambiguity error in a future version\n",
      "\n",
      "C:\\Users\\Michael\\Anaconda3\\envs\\learn-env\\lib\\site-packages\\ipykernel_launcher.py:44: FutureWarning:\n",
      "\n",
      "'variable' is both an index level and a column label.\n",
      "Defaulting to column, but this will raise an ambiguity error in a future version\n",
      "\n",
      "INFO:fbprophet:Disabling weekly seasonality. Run prophet with weekly_seasonality=True to override this.\n",
      "INFO:fbprophet:Disabling daily seasonality. Run prophet with daily_seasonality=True to override this.\n"
     ]
    },
    {
     "name": "stdout",
     "output_type": "stream",
     "text": [
      "[147026.7435053906, 152056.51148837717]\n"
     ]
    },
    {
     "name": "stderr",
     "output_type": "stream",
     "text": [
      "C:\\Users\\Michael\\Anaconda3\\envs\\learn-env\\lib\\site-packages\\pystan\\misc.py:399: FutureWarning:\n",
      "\n",
      "Conversion of the second argument of issubdtype from `float` to `np.floating` is deprecated. In future, it will be treated as `np.float64 == np.dtype(float).type`.\n",
      "\n",
      "C:\\Users\\Michael\\Anaconda3\\envs\\learn-env\\lib\\site-packages\\ipykernel_launcher.py:60: FutureWarning:\n",
      "\n",
      "'variable' is both an index level and a column label.\n",
      "Defaulting to column, but this will raise an ambiguity error in a future version\n",
      "\n",
      "C:\\Users\\Michael\\Anaconda3\\envs\\learn-env\\lib\\site-packages\\ipykernel_launcher.py:63: FutureWarning:\n",
      "\n",
      "'variable' is both an index level and a column label.\n",
      "Defaulting to column, but this will raise an ambiguity error in a future version\n",
      "\n",
      "INFO:fbprophet:Disabling weekly seasonality. Run prophet with weekly_seasonality=True to override this.\n"
     ]
    },
    {
     "name": "stdout",
     "output_type": "stream",
     "text": [
      "[147026.7435053906, 152056.51148837717, 101075.43316096166]\n",
      "[147026.7435053906, 152056.51148837717, 101075.43316096166]\n"
     ]
    },
    {
     "name": "stderr",
     "output_type": "stream",
     "text": [
      "INFO:fbprophet:Disabling daily seasonality. Run prophet with daily_seasonality=True to override this.\n",
      "C:\\Users\\Michael\\Anaconda3\\envs\\learn-env\\lib\\site-packages\\pystan\\misc.py:399: FutureWarning:\n",
      "\n",
      "Conversion of the second argument of issubdtype from `float` to `np.floating` is deprecated. In future, it will be treated as `np.float64 == np.dtype(float).type`.\n",
      "\n",
      "C:\\Users\\Michael\\Anaconda3\\envs\\learn-env\\lib\\site-packages\\ipykernel_launcher.py:40: FutureWarning:\n",
      "\n",
      "'variable' is both an index level and a column label.\n",
      "Defaulting to column, but this will raise an ambiguity error in a future version\n",
      "\n",
      "C:\\Users\\Michael\\Anaconda3\\envs\\learn-env\\lib\\site-packages\\ipykernel_launcher.py:44: FutureWarning:\n",
      "\n",
      "'variable' is both an index level and a column label.\n",
      "Defaulting to column, but this will raise an ambiguity error in a future version\n",
      "\n",
      "INFO:fbprophet:Disabling weekly seasonality. Run prophet with weekly_seasonality=True to override this.\n",
      "INFO:fbprophet:Disabling daily seasonality. Run prophet with daily_seasonality=True to override this.\n"
     ]
    },
    {
     "name": "stdout",
     "output_type": "stream",
     "text": [
      " 68 progress so far\n"
     ]
    },
    {
     "name": "stderr",
     "output_type": "stream",
     "text": [
      "C:\\Users\\Michael\\Anaconda3\\envs\\learn-env\\lib\\site-packages\\ipykernel_launcher.py:40: FutureWarning:\n",
      "\n",
      "'variable' is both an index level and a column label.\n",
      "Defaulting to column, but this will raise an ambiguity error in a future version\n",
      "\n",
      "C:\\Users\\Michael\\Anaconda3\\envs\\learn-env\\lib\\site-packages\\ipykernel_launcher.py:44: FutureWarning:\n",
      "\n",
      "'variable' is both an index level and a column label.\n",
      "Defaulting to column, but this will raise an ambiguity error in a future version\n",
      "\n",
      "INFO:fbprophet:Disabling weekly seasonality. Run prophet with weekly_seasonality=True to override this.\n",
      "INFO:fbprophet:Disabling daily seasonality. Run prophet with daily_seasonality=True to override this.\n"
     ]
    },
    {
     "name": "stdout",
     "output_type": "stream",
     "text": [
      "[23284.41350920092]\n"
     ]
    },
    {
     "name": "stderr",
     "output_type": "stream",
     "text": [
      "C:\\Users\\Michael\\Anaconda3\\envs\\learn-env\\lib\\site-packages\\pystan\\misc.py:399: FutureWarning:\n",
      "\n",
      "Conversion of the second argument of issubdtype from `float` to `np.floating` is deprecated. In future, it will be treated as `np.float64 == np.dtype(float).type`.\n",
      "\n",
      "C:\\Users\\Michael\\Anaconda3\\envs\\learn-env\\lib\\site-packages\\ipykernel_launcher.py:40: FutureWarning:\n",
      "\n",
      "'variable' is both an index level and a column label.\n",
      "Defaulting to column, but this will raise an ambiguity error in a future version\n",
      "\n",
      "C:\\Users\\Michael\\Anaconda3\\envs\\learn-env\\lib\\site-packages\\ipykernel_launcher.py:44: FutureWarning:\n",
      "\n",
      "'variable' is both an index level and a column label.\n",
      "Defaulting to column, but this will raise an ambiguity error in a future version\n",
      "\n",
      "INFO:fbprophet:Disabling weekly seasonality. Run prophet with weekly_seasonality=True to override this.\n",
      "INFO:fbprophet:Disabling daily seasonality. Run prophet with daily_seasonality=True to override this.\n"
     ]
    },
    {
     "name": "stdout",
     "output_type": "stream",
     "text": [
      "[23284.41350920092, 71788.76942308978]\n"
     ]
    },
    {
     "name": "stderr",
     "output_type": "stream",
     "text": [
      "C:\\Users\\Michael\\Anaconda3\\envs\\learn-env\\lib\\site-packages\\pystan\\misc.py:399: FutureWarning:\n",
      "\n",
      "Conversion of the second argument of issubdtype from `float` to `np.floating` is deprecated. In future, it will be treated as `np.float64 == np.dtype(float).type`.\n",
      "\n",
      "C:\\Users\\Michael\\Anaconda3\\envs\\learn-env\\lib\\site-packages\\ipykernel_launcher.py:60: FutureWarning:\n",
      "\n",
      "'variable' is both an index level and a column label.\n",
      "Defaulting to column, but this will raise an ambiguity error in a future version\n",
      "\n",
      "C:\\Users\\Michael\\Anaconda3\\envs\\learn-env\\lib\\site-packages\\ipykernel_launcher.py:63: FutureWarning:\n",
      "\n",
      "'variable' is both an index level and a column label.\n",
      "Defaulting to column, but this will raise an ambiguity error in a future version\n",
      "\n",
      "INFO:fbprophet:Disabling weekly seasonality. Run prophet with weekly_seasonality=True to override this.\n",
      "INFO:fbprophet:Disabling daily seasonality. Run prophet with daily_seasonality=True to override this.\n"
     ]
    },
    {
     "name": "stdout",
     "output_type": "stream",
     "text": [
      "[23284.41350920092, 71788.76942308978, 60739.89166697587]\n",
      "[23284.41350920092, 71788.76942308978, 60739.89166697587]\n"
     ]
    },
    {
     "name": "stderr",
     "output_type": "stream",
     "text": [
      "C:\\Users\\Michael\\Anaconda3\\envs\\learn-env\\lib\\site-packages\\pystan\\misc.py:399: FutureWarning:\n",
      "\n",
      "Conversion of the second argument of issubdtype from `float` to `np.floating` is deprecated. In future, it will be treated as `np.float64 == np.dtype(float).type`.\n",
      "\n"
     ]
    },
    {
     "name": "stdout",
     "output_type": "stream",
     "text": [
      " 69 progress so far\n"
     ]
    },
    {
     "name": "stderr",
     "output_type": "stream",
     "text": [
      "C:\\Users\\Michael\\Anaconda3\\envs\\learn-env\\lib\\site-packages\\ipykernel_launcher.py:40: FutureWarning:\n",
      "\n",
      "'variable' is both an index level and a column label.\n",
      "Defaulting to column, but this will raise an ambiguity error in a future version\n",
      "\n",
      "C:\\Users\\Michael\\Anaconda3\\envs\\learn-env\\lib\\site-packages\\ipykernel_launcher.py:44: FutureWarning:\n",
      "\n",
      "'variable' is both an index level and a column label.\n",
      "Defaulting to column, but this will raise an ambiguity error in a future version\n",
      "\n",
      "INFO:fbprophet:Disabling weekly seasonality. Run prophet with weekly_seasonality=True to override this.\n",
      "INFO:fbprophet:Disabling daily seasonality. Run prophet with daily_seasonality=True to override this.\n",
      "C:\\Users\\Michael\\Anaconda3\\envs\\learn-env\\lib\\site-packages\\ipykernel_launcher.py:40: FutureWarning:\n",
      "\n",
      "'variable' is both an index level and a column label.\n",
      "Defaulting to column, but this will raise an ambiguity error in a future version\n",
      "\n",
      "C:\\Users\\Michael\\Anaconda3\\envs\\learn-env\\lib\\site-packages\\ipykernel_launcher.py:44: FutureWarning:\n",
      "\n",
      "'variable' is both an index level and a column label.\n",
      "Defaulting to column, but this will raise an ambiguity error in a future version\n",
      "\n",
      "INFO:fbprophet:Disabling weekly seasonality. Run prophet with weekly_seasonality=True to override this.\n",
      "INFO:fbprophet:Disabling daily seasonality. Run prophet with daily_seasonality=True to override this.\n"
     ]
    },
    {
     "name": "stdout",
     "output_type": "stream",
     "text": [
      "[78501.45073766976]\n"
     ]
    },
    {
     "name": "stderr",
     "output_type": "stream",
     "text": [
      "C:\\Users\\Michael\\Anaconda3\\envs\\learn-env\\lib\\site-packages\\pystan\\misc.py:399: FutureWarning:\n",
      "\n",
      "Conversion of the second argument of issubdtype from `float` to `np.floating` is deprecated. In future, it will be treated as `np.float64 == np.dtype(float).type`.\n",
      "\n",
      "C:\\Users\\Michael\\Anaconda3\\envs\\learn-env\\lib\\site-packages\\ipykernel_launcher.py:40: FutureWarning:\n",
      "\n",
      "'variable' is both an index level and a column label.\n",
      "Defaulting to column, but this will raise an ambiguity error in a future version\n",
      "\n",
      "C:\\Users\\Michael\\Anaconda3\\envs\\learn-env\\lib\\site-packages\\ipykernel_launcher.py:44: FutureWarning:\n",
      "\n",
      "'variable' is both an index level and a column label.\n",
      "Defaulting to column, but this will raise an ambiguity error in a future version\n",
      "\n",
      "INFO:fbprophet:Disabling weekly seasonality. Run prophet with weekly_seasonality=True to override this.\n",
      "INFO:fbprophet:Disabling daily seasonality. Run prophet with daily_seasonality=True to override this.\n"
     ]
    },
    {
     "name": "stdout",
     "output_type": "stream",
     "text": [
      "[78501.45073766976, 31389.1247476041]\n"
     ]
    },
    {
     "name": "stderr",
     "output_type": "stream",
     "text": [
      "C:\\Users\\Michael\\Anaconda3\\envs\\learn-env\\lib\\site-packages\\pystan\\misc.py:399: FutureWarning:\n",
      "\n",
      "Conversion of the second argument of issubdtype from `float` to `np.floating` is deprecated. In future, it will be treated as `np.float64 == np.dtype(float).type`.\n",
      "\n"
     ]
    },
    {
     "name": "stdout",
     "output_type": "stream",
     "text": [
      "[78501.45073766976, 31389.1247476041, 8589.145208606245]\n",
      "[78501.45073766976, 31389.1247476041, 8589.145208606245]\n"
     ]
    },
    {
     "name": "stderr",
     "output_type": "stream",
     "text": [
      "C:\\Users\\Michael\\Anaconda3\\envs\\learn-env\\lib\\site-packages\\ipykernel_launcher.py:60: FutureWarning:\n",
      "\n",
      "'variable' is both an index level and a column label.\n",
      "Defaulting to column, but this will raise an ambiguity error in a future version\n",
      "\n",
      "C:\\Users\\Michael\\Anaconda3\\envs\\learn-env\\lib\\site-packages\\ipykernel_launcher.py:63: FutureWarning:\n",
      "\n",
      "'variable' is both an index level and a column label.\n",
      "Defaulting to column, but this will raise an ambiguity error in a future version\n",
      "\n",
      "INFO:fbprophet:Disabling weekly seasonality. Run prophet with weekly_seasonality=True to override this.\n",
      "INFO:fbprophet:Disabling daily seasonality. Run prophet with daily_seasonality=True to override this.\n",
      "C:\\Users\\Michael\\Anaconda3\\envs\\learn-env\\lib\\site-packages\\pystan\\misc.py:399: FutureWarning:\n",
      "\n",
      "Conversion of the second argument of issubdtype from `float` to `np.floating` is deprecated. In future, it will be treated as `np.float64 == np.dtype(float).type`.\n",
      "\n"
     ]
    },
    {
     "name": "stdout",
     "output_type": "stream",
     "text": [
      " 70 progress so far\n"
     ]
    },
    {
     "name": "stderr",
     "output_type": "stream",
     "text": [
      "C:\\Users\\Michael\\Anaconda3\\envs\\learn-env\\lib\\site-packages\\ipykernel_launcher.py:40: FutureWarning:\n",
      "\n",
      "'variable' is both an index level and a column label.\n",
      "Defaulting to column, but this will raise an ambiguity error in a future version\n",
      "\n",
      "C:\\Users\\Michael\\Anaconda3\\envs\\learn-env\\lib\\site-packages\\ipykernel_launcher.py:44: FutureWarning:\n",
      "\n",
      "'variable' is both an index level and a column label.\n",
      "Defaulting to column, but this will raise an ambiguity error in a future version\n",
      "\n",
      "INFO:fbprophet:Disabling weekly seasonality. Run prophet with weekly_seasonality=True to override this.\n",
      "INFO:fbprophet:Disabling daily seasonality. Run prophet with daily_seasonality=True to override this.\n",
      "C:\\Users\\Michael\\Anaconda3\\envs\\learn-env\\lib\\site-packages\\ipykernel_launcher.py:40: FutureWarning:\n",
      "\n",
      "'variable' is both an index level and a column label.\n",
      "Defaulting to column, but this will raise an ambiguity error in a future version\n",
      "\n",
      "C:\\Users\\Michael\\Anaconda3\\envs\\learn-env\\lib\\site-packages\\ipykernel_launcher.py:44: FutureWarning:\n",
      "\n",
      "'variable' is both an index level and a column label.\n",
      "Defaulting to column, but this will raise an ambiguity error in a future version\n",
      "\n",
      "INFO:fbprophet:Disabling weekly seasonality. Run prophet with weekly_seasonality=True to override this.\n",
      "INFO:fbprophet:Disabling daily seasonality. Run prophet with daily_seasonality=True to override this.\n"
     ]
    },
    {
     "name": "stdout",
     "output_type": "stream",
     "text": [
      "[24123.505878129545]\n"
     ]
    },
    {
     "name": "stderr",
     "output_type": "stream",
     "text": [
      "C:\\Users\\Michael\\Anaconda3\\envs\\learn-env\\lib\\site-packages\\pystan\\misc.py:399: FutureWarning:\n",
      "\n",
      "Conversion of the second argument of issubdtype from `float` to `np.floating` is deprecated. In future, it will be treated as `np.float64 == np.dtype(float).type`.\n",
      "\n",
      "C:\\Users\\Michael\\Anaconda3\\envs\\learn-env\\lib\\site-packages\\ipykernel_launcher.py:40: FutureWarning:\n",
      "\n",
      "'variable' is both an index level and a column label.\n",
      "Defaulting to column, but this will raise an ambiguity error in a future version\n",
      "\n",
      "C:\\Users\\Michael\\Anaconda3\\envs\\learn-env\\lib\\site-packages\\ipykernel_launcher.py:44: FutureWarning:\n",
      "\n",
      "'variable' is both an index level and a column label.\n",
      "Defaulting to column, but this will raise an ambiguity error in a future version\n",
      "\n",
      "INFO:fbprophet:Disabling weekly seasonality. Run prophet with weekly_seasonality=True to override this.\n",
      "INFO:fbprophet:Disabling daily seasonality. Run prophet with daily_seasonality=True to override this.\n"
     ]
    },
    {
     "name": "stdout",
     "output_type": "stream",
     "text": [
      "[24123.505878129545, 13686.674190514714]\n"
     ]
    },
    {
     "name": "stderr",
     "output_type": "stream",
     "text": [
      "C:\\Users\\Michael\\Anaconda3\\envs\\learn-env\\lib\\site-packages\\pystan\\misc.py:399: FutureWarning:\n",
      "\n",
      "Conversion of the second argument of issubdtype from `float` to `np.floating` is deprecated. In future, it will be treated as `np.float64 == np.dtype(float).type`.\n",
      "\n",
      "C:\\Users\\Michael\\Anaconda3\\envs\\learn-env\\lib\\site-packages\\ipykernel_launcher.py:60: FutureWarning:\n",
      "\n",
      "'variable' is both an index level and a column label.\n",
      "Defaulting to column, but this will raise an ambiguity error in a future version\n",
      "\n",
      "C:\\Users\\Michael\\Anaconda3\\envs\\learn-env\\lib\\site-packages\\ipykernel_launcher.py:63: FutureWarning:\n",
      "\n",
      "'variable' is both an index level and a column label.\n",
      "Defaulting to column, but this will raise an ambiguity error in a future version\n",
      "\n",
      "INFO:fbprophet:Disabling weekly seasonality. Run prophet with weekly_seasonality=True to override this.\n"
     ]
    },
    {
     "name": "stdout",
     "output_type": "stream",
     "text": [
      "[24123.505878129545, 13686.674190514714, 22720.04370024692]\n",
      "[24123.505878129545, 13686.674190514714, 22720.04370024692]\n"
     ]
    },
    {
     "name": "stderr",
     "output_type": "stream",
     "text": [
      "INFO:fbprophet:Disabling daily seasonality. Run prophet with daily_seasonality=True to override this.\n",
      "C:\\Users\\Michael\\Anaconda3\\envs\\learn-env\\lib\\site-packages\\pystan\\misc.py:399: FutureWarning:\n",
      "\n",
      "Conversion of the second argument of issubdtype from `float` to `np.floating` is deprecated. In future, it will be treated as `np.float64 == np.dtype(float).type`.\n",
      "\n",
      "C:\\Users\\Michael\\Anaconda3\\envs\\learn-env\\lib\\site-packages\\ipykernel_launcher.py:40: FutureWarning:\n",
      "\n",
      "'variable' is both an index level and a column label.\n",
      "Defaulting to column, but this will raise an ambiguity error in a future version\n",
      "\n",
      "C:\\Users\\Michael\\Anaconda3\\envs\\learn-env\\lib\\site-packages\\ipykernel_launcher.py:44: FutureWarning:\n",
      "\n",
      "'variable' is both an index level and a column label.\n",
      "Defaulting to column, but this will raise an ambiguity error in a future version\n",
      "\n",
      "INFO:fbprophet:Disabling weekly seasonality. Run prophet with weekly_seasonality=True to override this.\n",
      "INFO:fbprophet:Disabling daily seasonality. Run prophet with daily_seasonality=True to override this.\n"
     ]
    },
    {
     "name": "stdout",
     "output_type": "stream",
     "text": [
      " 71 progress so far\n"
     ]
    },
    {
     "name": "stderr",
     "output_type": "stream",
     "text": [
      "C:\\Users\\Michael\\Anaconda3\\envs\\learn-env\\lib\\site-packages\\ipykernel_launcher.py:40: FutureWarning:\n",
      "\n",
      "'variable' is both an index level and a column label.\n",
      "Defaulting to column, but this will raise an ambiguity error in a future version\n",
      "\n",
      "C:\\Users\\Michael\\Anaconda3\\envs\\learn-env\\lib\\site-packages\\ipykernel_launcher.py:44: FutureWarning:\n",
      "\n",
      "'variable' is both an index level and a column label.\n",
      "Defaulting to column, but this will raise an ambiguity error in a future version\n",
      "\n",
      "INFO:fbprophet:Disabling weekly seasonality. Run prophet with weekly_seasonality=True to override this.\n",
      "INFO:fbprophet:Disabling daily seasonality. Run prophet with daily_seasonality=True to override this.\n"
     ]
    },
    {
     "name": "stdout",
     "output_type": "stream",
     "text": [
      "[17205.454496192546]\n"
     ]
    },
    {
     "name": "stderr",
     "output_type": "stream",
     "text": [
      "C:\\Users\\Michael\\Anaconda3\\envs\\learn-env\\lib\\site-packages\\pystan\\misc.py:399: FutureWarning:\n",
      "\n",
      "Conversion of the second argument of issubdtype from `float` to `np.floating` is deprecated. In future, it will be treated as `np.float64 == np.dtype(float).type`.\n",
      "\n",
      "C:\\Users\\Michael\\Anaconda3\\envs\\learn-env\\lib\\site-packages\\ipykernel_launcher.py:40: FutureWarning:\n",
      "\n",
      "'variable' is both an index level and a column label.\n",
      "Defaulting to column, but this will raise an ambiguity error in a future version\n",
      "\n",
      "C:\\Users\\Michael\\Anaconda3\\envs\\learn-env\\lib\\site-packages\\ipykernel_launcher.py:44: FutureWarning:\n",
      "\n",
      "'variable' is both an index level and a column label.\n",
      "Defaulting to column, but this will raise an ambiguity error in a future version\n",
      "\n",
      "INFO:fbprophet:Disabling weekly seasonality. Run prophet with weekly_seasonality=True to override this.\n",
      "INFO:fbprophet:Disabling daily seasonality. Run prophet with daily_seasonality=True to override this.\n"
     ]
    },
    {
     "name": "stdout",
     "output_type": "stream",
     "text": [
      "[17205.454496192546, 9992.558604160584]\n"
     ]
    },
    {
     "name": "stderr",
     "output_type": "stream",
     "text": [
      "C:\\Users\\Michael\\Anaconda3\\envs\\learn-env\\lib\\site-packages\\pystan\\misc.py:399: FutureWarning:\n",
      "\n",
      "Conversion of the second argument of issubdtype from `float` to `np.floating` is deprecated. In future, it will be treated as `np.float64 == np.dtype(float).type`.\n",
      "\n"
     ]
    },
    {
     "name": "stdout",
     "output_type": "stream",
     "text": [
      "[17205.454496192546, 9992.558604160584, 9291.104836214467]\n",
      "[17205.454496192546, 9992.558604160584, 9291.104836214467]\n"
     ]
    },
    {
     "name": "stderr",
     "output_type": "stream",
     "text": [
      "C:\\Users\\Michael\\Anaconda3\\envs\\learn-env\\lib\\site-packages\\ipykernel_launcher.py:60: FutureWarning:\n",
      "\n",
      "'variable' is both an index level and a column label.\n",
      "Defaulting to column, but this will raise an ambiguity error in a future version\n",
      "\n",
      "C:\\Users\\Michael\\Anaconda3\\envs\\learn-env\\lib\\site-packages\\ipykernel_launcher.py:63: FutureWarning:\n",
      "\n",
      "'variable' is both an index level and a column label.\n",
      "Defaulting to column, but this will raise an ambiguity error in a future version\n",
      "\n",
      "INFO:fbprophet:Disabling weekly seasonality. Run prophet with weekly_seasonality=True to override this.\n",
      "INFO:fbprophet:Disabling daily seasonality. Run prophet with daily_seasonality=True to override this.\n",
      "C:\\Users\\Michael\\Anaconda3\\envs\\learn-env\\lib\\site-packages\\pystan\\misc.py:399: FutureWarning:\n",
      "\n",
      "Conversion of the second argument of issubdtype from `float` to `np.floating` is deprecated. In future, it will be treated as `np.float64 == np.dtype(float).type`.\n",
      "\n",
      "C:\\Users\\Michael\\Anaconda3\\envs\\learn-env\\lib\\site-packages\\ipykernel_launcher.py:40: FutureWarning:\n",
      "\n",
      "'variable' is both an index level and a column label.\n",
      "Defaulting to column, but this will raise an ambiguity error in a future version\n",
      "\n",
      "C:\\Users\\Michael\\Anaconda3\\envs\\learn-env\\lib\\site-packages\\ipykernel_launcher.py:44: FutureWarning:\n",
      "\n",
      "'variable' is both an index level and a column label.\n",
      "Defaulting to column, but this will raise an ambiguity error in a future version\n",
      "\n",
      "INFO:fbprophet:Disabling weekly seasonality. Run prophet with weekly_seasonality=True to override this.\n",
      "INFO:fbprophet:Disabling daily seasonality. Run prophet with daily_seasonality=True to override this.\n"
     ]
    },
    {
     "name": "stdout",
     "output_type": "stream",
     "text": [
      " 72 progress so far\n"
     ]
    },
    {
     "name": "stderr",
     "output_type": "stream",
     "text": [
      "C:\\Users\\Michael\\Anaconda3\\envs\\learn-env\\lib\\site-packages\\ipykernel_launcher.py:40: FutureWarning:\n",
      "\n",
      "'variable' is both an index level and a column label.\n",
      "Defaulting to column, but this will raise an ambiguity error in a future version\n",
      "\n",
      "C:\\Users\\Michael\\Anaconda3\\envs\\learn-env\\lib\\site-packages\\ipykernel_launcher.py:44: FutureWarning:\n",
      "\n",
      "'variable' is both an index level and a column label.\n",
      "Defaulting to column, but this will raise an ambiguity error in a future version\n",
      "\n",
      "INFO:fbprophet:Disabling weekly seasonality. Run prophet with weekly_seasonality=True to override this.\n",
      "INFO:fbprophet:Disabling daily seasonality. Run prophet with daily_seasonality=True to override this.\n"
     ]
    },
    {
     "name": "stdout",
     "output_type": "stream",
     "text": [
      "[4473.709576701325]\n"
     ]
    },
    {
     "name": "stderr",
     "output_type": "stream",
     "text": [
      "C:\\Users\\Michael\\Anaconda3\\envs\\learn-env\\lib\\site-packages\\pystan\\misc.py:399: FutureWarning:\n",
      "\n",
      "Conversion of the second argument of issubdtype from `float` to `np.floating` is deprecated. In future, it will be treated as `np.float64 == np.dtype(float).type`.\n",
      "\n",
      "C:\\Users\\Michael\\Anaconda3\\envs\\learn-env\\lib\\site-packages\\ipykernel_launcher.py:40: FutureWarning:\n",
      "\n",
      "'variable' is both an index level and a column label.\n",
      "Defaulting to column, but this will raise an ambiguity error in a future version\n",
      "\n",
      "C:\\Users\\Michael\\Anaconda3\\envs\\learn-env\\lib\\site-packages\\ipykernel_launcher.py:44: FutureWarning:\n",
      "\n",
      "'variable' is both an index level and a column label.\n",
      "Defaulting to column, but this will raise an ambiguity error in a future version\n",
      "\n",
      "INFO:fbprophet:Disabling weekly seasonality. Run prophet with weekly_seasonality=True to override this.\n",
      "INFO:fbprophet:Disabling daily seasonality. Run prophet with daily_seasonality=True to override this.\n"
     ]
    },
    {
     "name": "stdout",
     "output_type": "stream",
     "text": [
      "[4473.709576701325, 7669.712535862077]\n"
     ]
    },
    {
     "name": "stderr",
     "output_type": "stream",
     "text": [
      "C:\\Users\\Michael\\Anaconda3\\envs\\learn-env\\lib\\site-packages\\pystan\\misc.py:399: FutureWarning:\n",
      "\n",
      "Conversion of the second argument of issubdtype from `float` to `np.floating` is deprecated. In future, it will be treated as `np.float64 == np.dtype(float).type`.\n",
      "\n",
      "C:\\Users\\Michael\\Anaconda3\\envs\\learn-env\\lib\\site-packages\\ipykernel_launcher.py:60: FutureWarning:\n",
      "\n",
      "'variable' is both an index level and a column label.\n",
      "Defaulting to column, but this will raise an ambiguity error in a future version\n",
      "\n",
      "C:\\Users\\Michael\\Anaconda3\\envs\\learn-env\\lib\\site-packages\\ipykernel_launcher.py:63: FutureWarning:\n",
      "\n",
      "'variable' is both an index level and a column label.\n",
      "Defaulting to column, but this will raise an ambiguity error in a future version\n",
      "\n",
      "INFO:fbprophet:Disabling weekly seasonality. Run prophet with weekly_seasonality=True to override this.\n",
      "INFO:fbprophet:Disabling daily seasonality. Run prophet with daily_seasonality=True to override this.\n"
     ]
    },
    {
     "name": "stdout",
     "output_type": "stream",
     "text": [
      "[4473.709576701325, 7669.712535862077, 12424.046978852724]\n",
      "[4473.709576701325, 7669.712535862077, 12424.046978852724]\n"
     ]
    },
    {
     "name": "stderr",
     "output_type": "stream",
     "text": [
      "C:\\Users\\Michael\\Anaconda3\\envs\\learn-env\\lib\\site-packages\\pystan\\misc.py:399: FutureWarning:\n",
      "\n",
      "Conversion of the second argument of issubdtype from `float` to `np.floating` is deprecated. In future, it will be treated as `np.float64 == np.dtype(float).type`.\n",
      "\n",
      "C:\\Users\\Michael\\Anaconda3\\envs\\learn-env\\lib\\site-packages\\ipykernel_launcher.py:40: FutureWarning:\n",
      "\n",
      "'variable' is both an index level and a column label.\n",
      "Defaulting to column, but this will raise an ambiguity error in a future version\n",
      "\n",
      "C:\\Users\\Michael\\Anaconda3\\envs\\learn-env\\lib\\site-packages\\ipykernel_launcher.py:44: FutureWarning:\n",
      "\n",
      "'variable' is both an index level and a column label.\n",
      "Defaulting to column, but this will raise an ambiguity error in a future version\n",
      "\n",
      "INFO:fbprophet:Disabling weekly seasonality. Run prophet with weekly_seasonality=True to override this.\n",
      "INFO:fbprophet:Disabling daily seasonality. Run prophet with daily_seasonality=True to override this.\n"
     ]
    },
    {
     "name": "stdout",
     "output_type": "stream",
     "text": [
      " 73 progress so far\n"
     ]
    },
    {
     "name": "stderr",
     "output_type": "stream",
     "text": [
      "C:\\Users\\Michael\\Anaconda3\\envs\\learn-env\\lib\\site-packages\\ipykernel_launcher.py:40: FutureWarning:\n",
      "\n",
      "'variable' is both an index level and a column label.\n",
      "Defaulting to column, but this will raise an ambiguity error in a future version\n",
      "\n",
      "C:\\Users\\Michael\\Anaconda3\\envs\\learn-env\\lib\\site-packages\\ipykernel_launcher.py:44: FutureWarning:\n",
      "\n",
      "'variable' is both an index level and a column label.\n",
      "Defaulting to column, but this will raise an ambiguity error in a future version\n",
      "\n",
      "INFO:fbprophet:Disabling weekly seasonality. Run prophet with weekly_seasonality=True to override this.\n",
      "INFO:fbprophet:Disabling daily seasonality. Run prophet with daily_seasonality=True to override this.\n"
     ]
    },
    {
     "name": "stdout",
     "output_type": "stream",
     "text": [
      "[28848.311980192328]\n"
     ]
    },
    {
     "name": "stderr",
     "output_type": "stream",
     "text": [
      "C:\\Users\\Michael\\Anaconda3\\envs\\learn-env\\lib\\site-packages\\pystan\\misc.py:399: FutureWarning:\n",
      "\n",
      "Conversion of the second argument of issubdtype from `float` to `np.floating` is deprecated. In future, it will be treated as `np.float64 == np.dtype(float).type`.\n",
      "\n",
      "C:\\Users\\Michael\\Anaconda3\\envs\\learn-env\\lib\\site-packages\\ipykernel_launcher.py:40: FutureWarning:\n",
      "\n",
      "'variable' is both an index level and a column label.\n",
      "Defaulting to column, but this will raise an ambiguity error in a future version\n",
      "\n",
      "C:\\Users\\Michael\\Anaconda3\\envs\\learn-env\\lib\\site-packages\\ipykernel_launcher.py:44: FutureWarning:\n",
      "\n",
      "'variable' is both an index level and a column label.\n",
      "Defaulting to column, but this will raise an ambiguity error in a future version\n",
      "\n",
      "INFO:fbprophet:Disabling weekly seasonality. Run prophet with weekly_seasonality=True to override this.\n",
      "INFO:fbprophet:Disabling daily seasonality. Run prophet with daily_seasonality=True to override this.\n"
     ]
    },
    {
     "name": "stdout",
     "output_type": "stream",
     "text": [
      "[28848.311980192328, 16661.04337950568]\n"
     ]
    },
    {
     "name": "stderr",
     "output_type": "stream",
     "text": [
      "C:\\Users\\Michael\\Anaconda3\\envs\\learn-env\\lib\\site-packages\\pystan\\misc.py:399: FutureWarning:\n",
      "\n",
      "Conversion of the second argument of issubdtype from `float` to `np.floating` is deprecated. In future, it will be treated as `np.float64 == np.dtype(float).type`.\n",
      "\n"
     ]
    },
    {
     "name": "stdout",
     "output_type": "stream",
     "text": [
      "[28848.311980192328, 16661.04337950568, 22998.807606401304]\n",
      "[28848.311980192328, 16661.04337950568, 22998.807606401304]\n"
     ]
    },
    {
     "name": "stderr",
     "output_type": "stream",
     "text": [
      "C:\\Users\\Michael\\Anaconda3\\envs\\learn-env\\lib\\site-packages\\ipykernel_launcher.py:60: FutureWarning:\n",
      "\n",
      "'variable' is both an index level and a column label.\n",
      "Defaulting to column, but this will raise an ambiguity error in a future version\n",
      "\n",
      "C:\\Users\\Michael\\Anaconda3\\envs\\learn-env\\lib\\site-packages\\ipykernel_launcher.py:63: FutureWarning:\n",
      "\n",
      "'variable' is both an index level and a column label.\n",
      "Defaulting to column, but this will raise an ambiguity error in a future version\n",
      "\n",
      "INFO:fbprophet:Disabling weekly seasonality. Run prophet with weekly_seasonality=True to override this.\n",
      "INFO:fbprophet:Disabling daily seasonality. Run prophet with daily_seasonality=True to override this.\n",
      "C:\\Users\\Michael\\Anaconda3\\envs\\learn-env\\lib\\site-packages\\pystan\\misc.py:399: FutureWarning:\n",
      "\n",
      "Conversion of the second argument of issubdtype from `float` to `np.floating` is deprecated. In future, it will be treated as `np.float64 == np.dtype(float).type`.\n",
      "\n",
      "C:\\Users\\Michael\\Anaconda3\\envs\\learn-env\\lib\\site-packages\\ipykernel_launcher.py:40: FutureWarning:\n",
      "\n",
      "'variable' is both an index level and a column label.\n",
      "Defaulting to column, but this will raise an ambiguity error in a future version\n",
      "\n",
      "C:\\Users\\Michael\\Anaconda3\\envs\\learn-env\\lib\\site-packages\\ipykernel_launcher.py:44: FutureWarning:\n",
      "\n",
      "'variable' is both an index level and a column label.\n",
      "Defaulting to column, but this will raise an ambiguity error in a future version\n",
      "\n",
      "INFO:fbprophet:Disabling weekly seasonality. Run prophet with weekly_seasonality=True to override this.\n",
      "INFO:fbprophet:Disabling daily seasonality. Run prophet with daily_seasonality=True to override this.\n"
     ]
    },
    {
     "name": "stdout",
     "output_type": "stream",
     "text": [
      " 74 progress so far\n"
     ]
    },
    {
     "name": "stderr",
     "output_type": "stream",
     "text": [
      "C:\\Users\\Michael\\Anaconda3\\envs\\learn-env\\lib\\site-packages\\ipykernel_launcher.py:40: FutureWarning:\n",
      "\n",
      "'variable' is both an index level and a column label.\n",
      "Defaulting to column, but this will raise an ambiguity error in a future version\n",
      "\n",
      "C:\\Users\\Michael\\Anaconda3\\envs\\learn-env\\lib\\site-packages\\ipykernel_launcher.py:44: FutureWarning:\n",
      "\n",
      "'variable' is both an index level and a column label.\n",
      "Defaulting to column, but this will raise an ambiguity error in a future version\n",
      "\n",
      "INFO:fbprophet:Disabling weekly seasonality. Run prophet with weekly_seasonality=True to override this.\n",
      "INFO:fbprophet:Disabling daily seasonality. Run prophet with daily_seasonality=True to override this.\n"
     ]
    },
    {
     "name": "stdout",
     "output_type": "stream",
     "text": [
      "[25797.733291794648]\n"
     ]
    },
    {
     "name": "stderr",
     "output_type": "stream",
     "text": [
      "C:\\Users\\Michael\\Anaconda3\\envs\\learn-env\\lib\\site-packages\\pystan\\misc.py:399: FutureWarning:\n",
      "\n",
      "Conversion of the second argument of issubdtype from `float` to `np.floating` is deprecated. In future, it will be treated as `np.float64 == np.dtype(float).type`.\n",
      "\n",
      "C:\\Users\\Michael\\Anaconda3\\envs\\learn-env\\lib\\site-packages\\ipykernel_launcher.py:40: FutureWarning:\n",
      "\n",
      "'variable' is both an index level and a column label.\n",
      "Defaulting to column, but this will raise an ambiguity error in a future version\n",
      "\n",
      "C:\\Users\\Michael\\Anaconda3\\envs\\learn-env\\lib\\site-packages\\ipykernel_launcher.py:44: FutureWarning:\n",
      "\n",
      "'variable' is both an index level and a column label.\n",
      "Defaulting to column, but this will raise an ambiguity error in a future version\n",
      "\n",
      "INFO:fbprophet:Disabling weekly seasonality. Run prophet with weekly_seasonality=True to override this.\n",
      "INFO:fbprophet:Disabling daily seasonality. Run prophet with daily_seasonality=True to override this.\n"
     ]
    },
    {
     "name": "stdout",
     "output_type": "stream",
     "text": [
      "[25797.733291794648, 89159.19624381511]\n"
     ]
    },
    {
     "name": "stderr",
     "output_type": "stream",
     "text": [
      "C:\\Users\\Michael\\Anaconda3\\envs\\learn-env\\lib\\site-packages\\pystan\\misc.py:399: FutureWarning:\n",
      "\n",
      "Conversion of the second argument of issubdtype from `float` to `np.floating` is deprecated. In future, it will be treated as `np.float64 == np.dtype(float).type`.\n",
      "\n",
      "C:\\Users\\Michael\\Anaconda3\\envs\\learn-env\\lib\\site-packages\\ipykernel_launcher.py:60: FutureWarning:\n",
      "\n",
      "'variable' is both an index level and a column label.\n",
      "Defaulting to column, but this will raise an ambiguity error in a future version\n",
      "\n",
      "C:\\Users\\Michael\\Anaconda3\\envs\\learn-env\\lib\\site-packages\\ipykernel_launcher.py:63: FutureWarning:\n",
      "\n",
      "'variable' is both an index level and a column label.\n",
      "Defaulting to column, but this will raise an ambiguity error in a future version\n",
      "\n",
      "INFO:fbprophet:Disabling weekly seasonality. Run prophet with weekly_seasonality=True to override this.\n"
     ]
    },
    {
     "name": "stdout",
     "output_type": "stream",
     "text": [
      "[25797.733291794648, 89159.19624381511, 50561.08521528329]\n",
      "[25797.733291794648, 89159.19624381511, 50561.08521528329]\n"
     ]
    },
    {
     "name": "stderr",
     "output_type": "stream",
     "text": [
      "INFO:fbprophet:Disabling daily seasonality. Run prophet with daily_seasonality=True to override this.\n",
      "C:\\Users\\Michael\\Anaconda3\\envs\\learn-env\\lib\\site-packages\\pystan\\misc.py:399: FutureWarning:\n",
      "\n",
      "Conversion of the second argument of issubdtype from `float` to `np.floating` is deprecated. In future, it will be treated as `np.float64 == np.dtype(float).type`.\n",
      "\n",
      "C:\\Users\\Michael\\Anaconda3\\envs\\learn-env\\lib\\site-packages\\ipykernel_launcher.py:40: FutureWarning:\n",
      "\n",
      "'variable' is both an index level and a column label.\n",
      "Defaulting to column, but this will raise an ambiguity error in a future version\n",
      "\n",
      "C:\\Users\\Michael\\Anaconda3\\envs\\learn-env\\lib\\site-packages\\ipykernel_launcher.py:44: FutureWarning:\n",
      "\n",
      "'variable' is both an index level and a column label.\n",
      "Defaulting to column, but this will raise an ambiguity error in a future version\n",
      "\n",
      "INFO:fbprophet:Disabling weekly seasonality. Run prophet with weekly_seasonality=True to override this.\n",
      "INFO:fbprophet:Disabling daily seasonality. Run prophet with daily_seasonality=True to override this.\n"
     ]
    },
    {
     "name": "stdout",
     "output_type": "stream",
     "text": [
      " 75 progress so far\n"
     ]
    },
    {
     "name": "stderr",
     "output_type": "stream",
     "text": [
      "C:\\Users\\Michael\\Anaconda3\\envs\\learn-env\\lib\\site-packages\\ipykernel_launcher.py:40: FutureWarning:\n",
      "\n",
      "'variable' is both an index level and a column label.\n",
      "Defaulting to column, but this will raise an ambiguity error in a future version\n",
      "\n",
      "C:\\Users\\Michael\\Anaconda3\\envs\\learn-env\\lib\\site-packages\\ipykernel_launcher.py:44: FutureWarning:\n",
      "\n",
      "'variable' is both an index level and a column label.\n",
      "Defaulting to column, but this will raise an ambiguity error in a future version\n",
      "\n",
      "INFO:fbprophet:Disabling weekly seasonality. Run prophet with weekly_seasonality=True to override this.\n",
      "INFO:fbprophet:Disabling daily seasonality. Run prophet with daily_seasonality=True to override this.\n"
     ]
    },
    {
     "name": "stdout",
     "output_type": "stream",
     "text": [
      "[15874.968122665841]\n"
     ]
    },
    {
     "name": "stderr",
     "output_type": "stream",
     "text": [
      "C:\\Users\\Michael\\Anaconda3\\envs\\learn-env\\lib\\site-packages\\pystan\\misc.py:399: FutureWarning:\n",
      "\n",
      "Conversion of the second argument of issubdtype from `float` to `np.floating` is deprecated. In future, it will be treated as `np.float64 == np.dtype(float).type`.\n",
      "\n",
      "C:\\Users\\Michael\\Anaconda3\\envs\\learn-env\\lib\\site-packages\\ipykernel_launcher.py:40: FutureWarning:\n",
      "\n",
      "'variable' is both an index level and a column label.\n",
      "Defaulting to column, but this will raise an ambiguity error in a future version\n",
      "\n",
      "C:\\Users\\Michael\\Anaconda3\\envs\\learn-env\\lib\\site-packages\\ipykernel_launcher.py:44: FutureWarning:\n",
      "\n",
      "'variable' is both an index level and a column label.\n",
      "Defaulting to column, but this will raise an ambiguity error in a future version\n",
      "\n",
      "INFO:fbprophet:Disabling weekly seasonality. Run prophet with weekly_seasonality=True to override this.\n",
      "INFO:fbprophet:Disabling daily seasonality. Run prophet with daily_seasonality=True to override this.\n"
     ]
    },
    {
     "name": "stdout",
     "output_type": "stream",
     "text": [
      "[15874.968122665841, 48075.88180070602]\n"
     ]
    },
    {
     "name": "stderr",
     "output_type": "stream",
     "text": [
      "C:\\Users\\Michael\\Anaconda3\\envs\\learn-env\\lib\\site-packages\\pystan\\misc.py:399: FutureWarning:\n",
      "\n",
      "Conversion of the second argument of issubdtype from `float` to `np.floating` is deprecated. In future, it will be treated as `np.float64 == np.dtype(float).type`.\n",
      "\n"
     ]
    },
    {
     "name": "stdout",
     "output_type": "stream",
     "text": [
      "[15874.968122665841, 48075.88180070602, 41337.97898453814]\n",
      "[15874.968122665841, 48075.88180070602, 41337.97898453814]\n"
     ]
    },
    {
     "name": "stderr",
     "output_type": "stream",
     "text": [
      "C:\\Users\\Michael\\Anaconda3\\envs\\learn-env\\lib\\site-packages\\ipykernel_launcher.py:60: FutureWarning:\n",
      "\n",
      "'variable' is both an index level and a column label.\n",
      "Defaulting to column, but this will raise an ambiguity error in a future version\n",
      "\n",
      "C:\\Users\\Michael\\Anaconda3\\envs\\learn-env\\lib\\site-packages\\ipykernel_launcher.py:63: FutureWarning:\n",
      "\n",
      "'variable' is both an index level and a column label.\n",
      "Defaulting to column, but this will raise an ambiguity error in a future version\n",
      "\n",
      "INFO:fbprophet:Disabling weekly seasonality. Run prophet with weekly_seasonality=True to override this.\n",
      "INFO:fbprophet:Disabling daily seasonality. Run prophet with daily_seasonality=True to override this.\n",
      "C:\\Users\\Michael\\Anaconda3\\envs\\learn-env\\lib\\site-packages\\pystan\\misc.py:399: FutureWarning:\n",
      "\n",
      "Conversion of the second argument of issubdtype from `float` to `np.floating` is deprecated. In future, it will be treated as `np.float64 == np.dtype(float).type`.\n",
      "\n",
      "C:\\Users\\Michael\\Anaconda3\\envs\\learn-env\\lib\\site-packages\\ipykernel_launcher.py:40: FutureWarning:\n",
      "\n",
      "'variable' is both an index level and a column label.\n",
      "Defaulting to column, but this will raise an ambiguity error in a future version\n",
      "\n",
      "C:\\Users\\Michael\\Anaconda3\\envs\\learn-env\\lib\\site-packages\\ipykernel_launcher.py:44: FutureWarning:\n",
      "\n",
      "'variable' is both an index level and a column label.\n",
      "Defaulting to column, but this will raise an ambiguity error in a future version\n",
      "\n",
      "INFO:fbprophet:Disabling weekly seasonality. Run prophet with weekly_seasonality=True to override this.\n",
      "INFO:fbprophet:Disabling daily seasonality. Run prophet with daily_seasonality=True to override this.\n"
     ]
    },
    {
     "name": "stdout",
     "output_type": "stream",
     "text": [
      " 76 progress so far\n"
     ]
    },
    {
     "name": "stderr",
     "output_type": "stream",
     "text": [
      "C:\\Users\\Michael\\Anaconda3\\envs\\learn-env\\lib\\site-packages\\ipykernel_launcher.py:40: FutureWarning:\n",
      "\n",
      "'variable' is both an index level and a column label.\n",
      "Defaulting to column, but this will raise an ambiguity error in a future version\n",
      "\n",
      "C:\\Users\\Michael\\Anaconda3\\envs\\learn-env\\lib\\site-packages\\ipykernel_launcher.py:44: FutureWarning:\n",
      "\n",
      "'variable' is both an index level and a column label.\n",
      "Defaulting to column, but this will raise an ambiguity error in a future version\n",
      "\n",
      "INFO:fbprophet:Disabling weekly seasonality. Run prophet with weekly_seasonality=True to override this.\n",
      "INFO:fbprophet:Disabling daily seasonality. Run prophet with daily_seasonality=True to override this.\n"
     ]
    },
    {
     "name": "stdout",
     "output_type": "stream",
     "text": [
      "[23228.952949669463]\n"
     ]
    },
    {
     "name": "stderr",
     "output_type": "stream",
     "text": [
      "C:\\Users\\Michael\\Anaconda3\\envs\\learn-env\\lib\\site-packages\\pystan\\misc.py:399: FutureWarning:\n",
      "\n",
      "Conversion of the second argument of issubdtype from `float` to `np.floating` is deprecated. In future, it will be treated as `np.float64 == np.dtype(float).type`.\n",
      "\n",
      "C:\\Users\\Michael\\Anaconda3\\envs\\learn-env\\lib\\site-packages\\ipykernel_launcher.py:40: FutureWarning:\n",
      "\n",
      "'variable' is both an index level and a column label.\n",
      "Defaulting to column, but this will raise an ambiguity error in a future version\n",
      "\n",
      "C:\\Users\\Michael\\Anaconda3\\envs\\learn-env\\lib\\site-packages\\ipykernel_launcher.py:44: FutureWarning:\n",
      "\n",
      "'variable' is both an index level and a column label.\n",
      "Defaulting to column, but this will raise an ambiguity error in a future version\n",
      "\n",
      "INFO:fbprophet:Disabling weekly seasonality. Run prophet with weekly_seasonality=True to override this.\n",
      "INFO:fbprophet:Disabling daily seasonality. Run prophet with daily_seasonality=True to override this.\n"
     ]
    },
    {
     "name": "stdout",
     "output_type": "stream",
     "text": [
      "[23228.952949669463, 79660.95293717198]\n"
     ]
    },
    {
     "name": "stderr",
     "output_type": "stream",
     "text": [
      "C:\\Users\\Michael\\Anaconda3\\envs\\learn-env\\lib\\site-packages\\pystan\\misc.py:399: FutureWarning:\n",
      "\n",
      "Conversion of the second argument of issubdtype from `float` to `np.floating` is deprecated. In future, it will be treated as `np.float64 == np.dtype(float).type`.\n",
      "\n"
     ]
    },
    {
     "name": "stdout",
     "output_type": "stream",
     "text": [
      "[23228.952949669463, 79660.95293717198, 48140.9940319796]\n",
      "[23228.952949669463, 79660.95293717198, 48140.9940319796]\n"
     ]
    },
    {
     "name": "stderr",
     "output_type": "stream",
     "text": [
      "C:\\Users\\Michael\\Anaconda3\\envs\\learn-env\\lib\\site-packages\\ipykernel_launcher.py:60: FutureWarning:\n",
      "\n",
      "'variable' is both an index level and a column label.\n",
      "Defaulting to column, but this will raise an ambiguity error in a future version\n",
      "\n",
      "C:\\Users\\Michael\\Anaconda3\\envs\\learn-env\\lib\\site-packages\\ipykernel_launcher.py:63: FutureWarning:\n",
      "\n",
      "'variable' is both an index level and a column label.\n",
      "Defaulting to column, but this will raise an ambiguity error in a future version\n",
      "\n",
      "INFO:fbprophet:Disabling weekly seasonality. Run prophet with weekly_seasonality=True to override this.\n",
      "INFO:fbprophet:Disabling daily seasonality. Run prophet with daily_seasonality=True to override this.\n",
      "C:\\Users\\Michael\\Anaconda3\\envs\\learn-env\\lib\\site-packages\\pystan\\misc.py:399: FutureWarning:\n",
      "\n",
      "Conversion of the second argument of issubdtype from `float` to `np.floating` is deprecated. In future, it will be treated as `np.float64 == np.dtype(float).type`.\n",
      "\n",
      "C:\\Users\\Michael\\Anaconda3\\envs\\learn-env\\lib\\site-packages\\ipykernel_launcher.py:40: FutureWarning:\n",
      "\n",
      "'variable' is both an index level and a column label.\n",
      "Defaulting to column, but this will raise an ambiguity error in a future version\n",
      "\n",
      "C:\\Users\\Michael\\Anaconda3\\envs\\learn-env\\lib\\site-packages\\ipykernel_launcher.py:44: FutureWarning:\n",
      "\n",
      "'variable' is both an index level and a column label.\n",
      "Defaulting to column, but this will raise an ambiguity error in a future version\n",
      "\n",
      "INFO:fbprophet:Disabling weekly seasonality. Run prophet with weekly_seasonality=True to override this.\n",
      "INFO:fbprophet:Disabling daily seasonality. Run prophet with daily_seasonality=True to override this.\n"
     ]
    },
    {
     "name": "stdout",
     "output_type": "stream",
     "text": [
      " 77 progress so far\n"
     ]
    },
    {
     "name": "stderr",
     "output_type": "stream",
     "text": [
      "C:\\Users\\Michael\\Anaconda3\\envs\\learn-env\\lib\\site-packages\\ipykernel_launcher.py:40: FutureWarning:\n",
      "\n",
      "'variable' is both an index level and a column label.\n",
      "Defaulting to column, but this will raise an ambiguity error in a future version\n",
      "\n",
      "C:\\Users\\Michael\\Anaconda3\\envs\\learn-env\\lib\\site-packages\\ipykernel_launcher.py:44: FutureWarning:\n",
      "\n",
      "'variable' is both an index level and a column label.\n",
      "Defaulting to column, but this will raise an ambiguity error in a future version\n",
      "\n",
      "INFO:fbprophet:Disabling weekly seasonality. Run prophet with weekly_seasonality=True to override this.\n",
      "INFO:fbprophet:Disabling daily seasonality. Run prophet with daily_seasonality=True to override this.\n"
     ]
    },
    {
     "name": "stdout",
     "output_type": "stream",
     "text": [
      "[234717.05288611766]\n"
     ]
    },
    {
     "name": "stderr",
     "output_type": "stream",
     "text": [
      "C:\\Users\\Michael\\Anaconda3\\envs\\learn-env\\lib\\site-packages\\pystan\\misc.py:399: FutureWarning:\n",
      "\n",
      "Conversion of the second argument of issubdtype from `float` to `np.floating` is deprecated. In future, it will be treated as `np.float64 == np.dtype(float).type`.\n",
      "\n"
     ]
    },
    {
     "name": "stdout",
     "output_type": "stream",
     "text": [
      "[234717.05288611766, 239569.47121214043]\n"
     ]
    },
    {
     "name": "stderr",
     "output_type": "stream",
     "text": [
      "C:\\Users\\Michael\\Anaconda3\\envs\\learn-env\\lib\\site-packages\\ipykernel_launcher.py:40: FutureWarning:\n",
      "\n",
      "'variable' is both an index level and a column label.\n",
      "Defaulting to column, but this will raise an ambiguity error in a future version\n",
      "\n",
      "C:\\Users\\Michael\\Anaconda3\\envs\\learn-env\\lib\\site-packages\\ipykernel_launcher.py:44: FutureWarning:\n",
      "\n",
      "'variable' is both an index level and a column label.\n",
      "Defaulting to column, but this will raise an ambiguity error in a future version\n",
      "\n",
      "INFO:fbprophet:Disabling weekly seasonality. Run prophet with weekly_seasonality=True to override this.\n",
      "INFO:fbprophet:Disabling daily seasonality. Run prophet with daily_seasonality=True to override this.\n",
      "C:\\Users\\Michael\\Anaconda3\\envs\\learn-env\\lib\\site-packages\\pystan\\misc.py:399: FutureWarning:\n",
      "\n",
      "Conversion of the second argument of issubdtype from `float` to `np.floating` is deprecated. In future, it will be treated as `np.float64 == np.dtype(float).type`.\n",
      "\n",
      "C:\\Users\\Michael\\Anaconda3\\envs\\learn-env\\lib\\site-packages\\ipykernel_launcher.py:60: FutureWarning:\n",
      "\n",
      "'variable' is both an index level and a column label.\n",
      "Defaulting to column, but this will raise an ambiguity error in a future version\n",
      "\n",
      "C:\\Users\\Michael\\Anaconda3\\envs\\learn-env\\lib\\site-packages\\ipykernel_launcher.py:63: FutureWarning:\n",
      "\n",
      "'variable' is both an index level and a column label.\n",
      "Defaulting to column, but this will raise an ambiguity error in a future version\n",
      "\n",
      "INFO:fbprophet:Disabling weekly seasonality. Run prophet with weekly_seasonality=True to override this.\n",
      "INFO:fbprophet:Disabling daily seasonality. Run prophet with daily_seasonality=True to override this.\n"
     ]
    },
    {
     "name": "stdout",
     "output_type": "stream",
     "text": [
      "[234717.05288611766, 239569.47121214043, 182881.74333475548]\n",
      "[234717.05288611766, 239569.47121214043, 182881.74333475548]\n"
     ]
    },
    {
     "name": "stderr",
     "output_type": "stream",
     "text": [
      "C:\\Users\\Michael\\Anaconda3\\envs\\learn-env\\lib\\site-packages\\pystan\\misc.py:399: FutureWarning:\n",
      "\n",
      "Conversion of the second argument of issubdtype from `float` to `np.floating` is deprecated. In future, it will be treated as `np.float64 == np.dtype(float).type`.\n",
      "\n",
      "C:\\Users\\Michael\\Anaconda3\\envs\\learn-env\\lib\\site-packages\\ipykernel_launcher.py:40: FutureWarning:\n",
      "\n",
      "'variable' is both an index level and a column label.\n",
      "Defaulting to column, but this will raise an ambiguity error in a future version\n",
      "\n",
      "C:\\Users\\Michael\\Anaconda3\\envs\\learn-env\\lib\\site-packages\\ipykernel_launcher.py:44: FutureWarning:\n",
      "\n",
      "'variable' is both an index level and a column label.\n",
      "Defaulting to column, but this will raise an ambiguity error in a future version\n",
      "\n",
      "INFO:fbprophet:Disabling weekly seasonality. Run prophet with weekly_seasonality=True to override this.\n",
      "INFO:fbprophet:Disabling daily seasonality. Run prophet with daily_seasonality=True to override this.\n"
     ]
    },
    {
     "name": "stdout",
     "output_type": "stream",
     "text": [
      " 78 progress so far\n"
     ]
    },
    {
     "name": "stderr",
     "output_type": "stream",
     "text": [
      "C:\\Users\\Michael\\Anaconda3\\envs\\learn-env\\lib\\site-packages\\ipykernel_launcher.py:40: FutureWarning:\n",
      "\n",
      "'variable' is both an index level and a column label.\n",
      "Defaulting to column, but this will raise an ambiguity error in a future version\n",
      "\n",
      "C:\\Users\\Michael\\Anaconda3\\envs\\learn-env\\lib\\site-packages\\ipykernel_launcher.py:44: FutureWarning:\n",
      "\n",
      "'variable' is both an index level and a column label.\n",
      "Defaulting to column, but this will raise an ambiguity error in a future version\n",
      "\n",
      "INFO:fbprophet:Disabling weekly seasonality. Run prophet with weekly_seasonality=True to override this.\n",
      "INFO:fbprophet:Disabling daily seasonality. Run prophet with daily_seasonality=True to override this.\n"
     ]
    },
    {
     "name": "stdout",
     "output_type": "stream",
     "text": [
      "[72712.50837381493]\n"
     ]
    },
    {
     "name": "stderr",
     "output_type": "stream",
     "text": [
      "C:\\Users\\Michael\\Anaconda3\\envs\\learn-env\\lib\\site-packages\\pystan\\misc.py:399: FutureWarning:\n",
      "\n",
      "Conversion of the second argument of issubdtype from `float` to `np.floating` is deprecated. In future, it will be treated as `np.float64 == np.dtype(float).type`.\n",
      "\n",
      "C:\\Users\\Michael\\Anaconda3\\envs\\learn-env\\lib\\site-packages\\ipykernel_launcher.py:40: FutureWarning:\n",
      "\n",
      "'variable' is both an index level and a column label.\n",
      "Defaulting to column, but this will raise an ambiguity error in a future version\n",
      "\n",
      "C:\\Users\\Michael\\Anaconda3\\envs\\learn-env\\lib\\site-packages\\ipykernel_launcher.py:44: FutureWarning:\n",
      "\n",
      "'variable' is both an index level and a column label.\n",
      "Defaulting to column, but this will raise an ambiguity error in a future version\n",
      "\n",
      "INFO:fbprophet:Disabling weekly seasonality. Run prophet with weekly_seasonality=True to override this.\n",
      "INFO:fbprophet:Disabling daily seasonality. Run prophet with daily_seasonality=True to override this.\n"
     ]
    },
    {
     "name": "stdout",
     "output_type": "stream",
     "text": [
      "[72712.50837381493, 148952.23603249624]\n"
     ]
    },
    {
     "name": "stderr",
     "output_type": "stream",
     "text": [
      "C:\\Users\\Michael\\Anaconda3\\envs\\learn-env\\lib\\site-packages\\pystan\\misc.py:399: FutureWarning:\n",
      "\n",
      "Conversion of the second argument of issubdtype from `float` to `np.floating` is deprecated. In future, it will be treated as `np.float64 == np.dtype(float).type`.\n",
      "\n",
      "C:\\Users\\Michael\\Anaconda3\\envs\\learn-env\\lib\\site-packages\\ipykernel_launcher.py:60: FutureWarning:\n",
      "\n",
      "'variable' is both an index level and a column label.\n",
      "Defaulting to column, but this will raise an ambiguity error in a future version\n",
      "\n",
      "C:\\Users\\Michael\\Anaconda3\\envs\\learn-env\\lib\\site-packages\\ipykernel_launcher.py:63: FutureWarning:\n",
      "\n",
      "'variable' is both an index level and a column label.\n",
      "Defaulting to column, but this will raise an ambiguity error in a future version\n",
      "\n",
      "INFO:fbprophet:Disabling weekly seasonality. Run prophet with weekly_seasonality=True to override this.\n",
      "INFO:fbprophet:Disabling daily seasonality. Run prophet with daily_seasonality=True to override this.\n"
     ]
    },
    {
     "name": "stdout",
     "output_type": "stream",
     "text": [
      "[72712.50837381493, 148952.23603249624, 87325.23126847908]\n",
      "[72712.50837381493, 148952.23603249624, 87325.23126847908]\n"
     ]
    },
    {
     "name": "stderr",
     "output_type": "stream",
     "text": [
      "C:\\Users\\Michael\\Anaconda3\\envs\\learn-env\\lib\\site-packages\\pystan\\misc.py:399: FutureWarning:\n",
      "\n",
      "Conversion of the second argument of issubdtype from `float` to `np.floating` is deprecated. In future, it will be treated as `np.float64 == np.dtype(float).type`.\n",
      "\n",
      "C:\\Users\\Michael\\Anaconda3\\envs\\learn-env\\lib\\site-packages\\ipykernel_launcher.py:40: FutureWarning:\n",
      "\n",
      "'variable' is both an index level and a column label.\n",
      "Defaulting to column, but this will raise an ambiguity error in a future version\n",
      "\n",
      "C:\\Users\\Michael\\Anaconda3\\envs\\learn-env\\lib\\site-packages\\ipykernel_launcher.py:44: FutureWarning:\n",
      "\n",
      "'variable' is both an index level and a column label.\n",
      "Defaulting to column, but this will raise an ambiguity error in a future version\n",
      "\n",
      "INFO:fbprophet:Disabling weekly seasonality. Run prophet with weekly_seasonality=True to override this.\n",
      "INFO:fbprophet:Disabling daily seasonality. Run prophet with daily_seasonality=True to override this.\n"
     ]
    },
    {
     "name": "stdout",
     "output_type": "stream",
     "text": [
      " 79 progress so far\n"
     ]
    },
    {
     "name": "stderr",
     "output_type": "stream",
     "text": [
      "C:\\Users\\Michael\\Anaconda3\\envs\\learn-env\\lib\\site-packages\\ipykernel_launcher.py:40: FutureWarning:\n",
      "\n",
      "'variable' is both an index level and a column label.\n",
      "Defaulting to column, but this will raise an ambiguity error in a future version\n",
      "\n",
      "C:\\Users\\Michael\\Anaconda3\\envs\\learn-env\\lib\\site-packages\\ipykernel_launcher.py:44: FutureWarning:\n",
      "\n",
      "'variable' is both an index level and a column label.\n",
      "Defaulting to column, but this will raise an ambiguity error in a future version\n",
      "\n",
      "INFO:fbprophet:Disabling weekly seasonality. Run prophet with weekly_seasonality=True to override this.\n",
      "INFO:fbprophet:Disabling daily seasonality. Run prophet with daily_seasonality=True to override this.\n"
     ]
    },
    {
     "name": "stdout",
     "output_type": "stream",
     "text": [
      "[279414.6373837951]\n"
     ]
    },
    {
     "name": "stderr",
     "output_type": "stream",
     "text": [
      "C:\\Users\\Michael\\Anaconda3\\envs\\learn-env\\lib\\site-packages\\pystan\\misc.py:399: FutureWarning:\n",
      "\n",
      "Conversion of the second argument of issubdtype from `float` to `np.floating` is deprecated. In future, it will be treated as `np.float64 == np.dtype(float).type`.\n",
      "\n",
      "C:\\Users\\Michael\\Anaconda3\\envs\\learn-env\\lib\\site-packages\\ipykernel_launcher.py:40: FutureWarning:\n",
      "\n",
      "'variable' is both an index level and a column label.\n",
      "Defaulting to column, but this will raise an ambiguity error in a future version\n",
      "\n",
      "C:\\Users\\Michael\\Anaconda3\\envs\\learn-env\\lib\\site-packages\\ipykernel_launcher.py:44: FutureWarning:\n",
      "\n",
      "'variable' is both an index level and a column label.\n",
      "Defaulting to column, but this will raise an ambiguity error in a future version\n",
      "\n",
      "INFO:fbprophet:Disabling weekly seasonality. Run prophet with weekly_seasonality=True to override this.\n",
      "INFO:fbprophet:Disabling daily seasonality. Run prophet with daily_seasonality=True to override this.\n"
     ]
    },
    {
     "name": "stdout",
     "output_type": "stream",
     "text": [
      "[279414.6373837951, 232855.31354803403]\n"
     ]
    },
    {
     "name": "stderr",
     "output_type": "stream",
     "text": [
      "C:\\Users\\Michael\\Anaconda3\\envs\\learn-env\\lib\\site-packages\\pystan\\misc.py:399: FutureWarning:\n",
      "\n",
      "Conversion of the second argument of issubdtype from `float` to `np.floating` is deprecated. In future, it will be treated as `np.float64 == np.dtype(float).type`.\n",
      "\n"
     ]
    },
    {
     "name": "stdout",
     "output_type": "stream",
     "text": [
      "[279414.6373837951, 232855.31354803403, 145247.7886874954]\n",
      "[279414.6373837951, 232855.31354803403, 145247.7886874954]\n"
     ]
    },
    {
     "name": "stderr",
     "output_type": "stream",
     "text": [
      "C:\\Users\\Michael\\Anaconda3\\envs\\learn-env\\lib\\site-packages\\ipykernel_launcher.py:60: FutureWarning:\n",
      "\n",
      "'variable' is both an index level and a column label.\n",
      "Defaulting to column, but this will raise an ambiguity error in a future version\n",
      "\n",
      "C:\\Users\\Michael\\Anaconda3\\envs\\learn-env\\lib\\site-packages\\ipykernel_launcher.py:63: FutureWarning:\n",
      "\n",
      "'variable' is both an index level and a column label.\n",
      "Defaulting to column, but this will raise an ambiguity error in a future version\n",
      "\n",
      "INFO:fbprophet:Disabling weekly seasonality. Run prophet with weekly_seasonality=True to override this.\n",
      "INFO:fbprophet:Disabling daily seasonality. Run prophet with daily_seasonality=True to override this.\n",
      "C:\\Users\\Michael\\Anaconda3\\envs\\learn-env\\lib\\site-packages\\pystan\\misc.py:399: FutureWarning:\n",
      "\n",
      "Conversion of the second argument of issubdtype from `float` to `np.floating` is deprecated. In future, it will be treated as `np.float64 == np.dtype(float).type`.\n",
      "\n",
      "C:\\Users\\Michael\\Anaconda3\\envs\\learn-env\\lib\\site-packages\\ipykernel_launcher.py:40: FutureWarning:\n",
      "\n",
      "'variable' is both an index level and a column label.\n",
      "Defaulting to column, but this will raise an ambiguity error in a future version\n",
      "\n",
      "C:\\Users\\Michael\\Anaconda3\\envs\\learn-env\\lib\\site-packages\\ipykernel_launcher.py:44: FutureWarning:\n",
      "\n",
      "'variable' is both an index level and a column label.\n",
      "Defaulting to column, but this will raise an ambiguity error in a future version\n",
      "\n",
      "INFO:fbprophet:Disabling weekly seasonality. Run prophet with weekly_seasonality=True to override this.\n",
      "INFO:fbprophet:Disabling daily seasonality. Run prophet with daily_seasonality=True to override this.\n"
     ]
    },
    {
     "name": "stdout",
     "output_type": "stream",
     "text": [
      " 80 progress so far\n"
     ]
    },
    {
     "name": "stderr",
     "output_type": "stream",
     "text": [
      "C:\\Users\\Michael\\Anaconda3\\envs\\learn-env\\lib\\site-packages\\ipykernel_launcher.py:40: FutureWarning:\n",
      "\n",
      "'variable' is both an index level and a column label.\n",
      "Defaulting to column, but this will raise an ambiguity error in a future version\n",
      "\n",
      "C:\\Users\\Michael\\Anaconda3\\envs\\learn-env\\lib\\site-packages\\ipykernel_launcher.py:44: FutureWarning:\n",
      "\n",
      "'variable' is both an index level and a column label.\n",
      "Defaulting to column, but this will raise an ambiguity error in a future version\n",
      "\n",
      "INFO:fbprophet:Disabling weekly seasonality. Run prophet with weekly_seasonality=True to override this.\n",
      "INFO:fbprophet:Disabling daily seasonality. Run prophet with daily_seasonality=True to override this.\n"
     ]
    },
    {
     "name": "stdout",
     "output_type": "stream",
     "text": [
      "[189020.92240870665]\n"
     ]
    },
    {
     "name": "stderr",
     "output_type": "stream",
     "text": [
      "C:\\Users\\Michael\\Anaconda3\\envs\\learn-env\\lib\\site-packages\\pystan\\misc.py:399: FutureWarning:\n",
      "\n",
      "Conversion of the second argument of issubdtype from `float` to `np.floating` is deprecated. In future, it will be treated as `np.float64 == np.dtype(float).type`.\n",
      "\n",
      "C:\\Users\\Michael\\Anaconda3\\envs\\learn-env\\lib\\site-packages\\ipykernel_launcher.py:40: FutureWarning:\n",
      "\n",
      "'variable' is both an index level and a column label.\n",
      "Defaulting to column, but this will raise an ambiguity error in a future version\n",
      "\n",
      "C:\\Users\\Michael\\Anaconda3\\envs\\learn-env\\lib\\site-packages\\ipykernel_launcher.py:44: FutureWarning:\n",
      "\n",
      "'variable' is both an index level and a column label.\n",
      "Defaulting to column, but this will raise an ambiguity error in a future version\n",
      "\n",
      "INFO:fbprophet:Disabling weekly seasonality. Run prophet with weekly_seasonality=True to override this.\n",
      "INFO:fbprophet:Disabling daily seasonality. Run prophet with daily_seasonality=True to override this.\n"
     ]
    },
    {
     "name": "stdout",
     "output_type": "stream",
     "text": [
      "[189020.92240870665, 208001.07219833738]\n"
     ]
    },
    {
     "name": "stderr",
     "output_type": "stream",
     "text": [
      "C:\\Users\\Michael\\Anaconda3\\envs\\learn-env\\lib\\site-packages\\pystan\\misc.py:399: FutureWarning:\n",
      "\n",
      "Conversion of the second argument of issubdtype from `float` to `np.floating` is deprecated. In future, it will be treated as `np.float64 == np.dtype(float).type`.\n",
      "\n",
      "C:\\Users\\Michael\\Anaconda3\\envs\\learn-env\\lib\\site-packages\\ipykernel_launcher.py:60: FutureWarning:\n",
      "\n",
      "'variable' is both an index level and a column label.\n",
      "Defaulting to column, but this will raise an ambiguity error in a future version\n",
      "\n",
      "C:\\Users\\Michael\\Anaconda3\\envs\\learn-env\\lib\\site-packages\\ipykernel_launcher.py:63: FutureWarning:\n",
      "\n",
      "'variable' is both an index level and a column label.\n",
      "Defaulting to column, but this will raise an ambiguity error in a future version\n",
      "\n",
      "INFO:fbprophet:Disabling weekly seasonality. Run prophet with weekly_seasonality=True to override this.\n"
     ]
    },
    {
     "name": "stdout",
     "output_type": "stream",
     "text": [
      "[189020.92240870665, 208001.07219833738, 128798.07951758799]\n",
      "[189020.92240870665, 208001.07219833738, 128798.07951758799]\n"
     ]
    },
    {
     "name": "stderr",
     "output_type": "stream",
     "text": [
      "INFO:fbprophet:Disabling daily seasonality. Run prophet with daily_seasonality=True to override this.\n",
      "C:\\Users\\Michael\\Anaconda3\\envs\\learn-env\\lib\\site-packages\\pystan\\misc.py:399: FutureWarning:\n",
      "\n",
      "Conversion of the second argument of issubdtype from `float` to `np.floating` is deprecated. In future, it will be treated as `np.float64 == np.dtype(float).type`.\n",
      "\n",
      "C:\\Users\\Michael\\Anaconda3\\envs\\learn-env\\lib\\site-packages\\ipykernel_launcher.py:40: FutureWarning:\n",
      "\n",
      "'variable' is both an index level and a column label.\n",
      "Defaulting to column, but this will raise an ambiguity error in a future version\n",
      "\n",
      "C:\\Users\\Michael\\Anaconda3\\envs\\learn-env\\lib\\site-packages\\ipykernel_launcher.py:44: FutureWarning:\n",
      "\n",
      "'variable' is both an index level and a column label.\n",
      "Defaulting to column, but this will raise an ambiguity error in a future version\n",
      "\n",
      "INFO:fbprophet:Disabling weekly seasonality. Run prophet with weekly_seasonality=True to override this.\n",
      "INFO:fbprophet:Disabling daily seasonality. Run prophet with daily_seasonality=True to override this.\n"
     ]
    },
    {
     "name": "stdout",
     "output_type": "stream",
     "text": [
      " 81 progress so far\n"
     ]
    },
    {
     "name": "stderr",
     "output_type": "stream",
     "text": [
      "C:\\Users\\Michael\\Anaconda3\\envs\\learn-env\\lib\\site-packages\\ipykernel_launcher.py:40: FutureWarning:\n",
      "\n",
      "'variable' is both an index level and a column label.\n",
      "Defaulting to column, but this will raise an ambiguity error in a future version\n",
      "\n",
      "C:\\Users\\Michael\\Anaconda3\\envs\\learn-env\\lib\\site-packages\\ipykernel_launcher.py:44: FutureWarning:\n",
      "\n",
      "'variable' is both an index level and a column label.\n",
      "Defaulting to column, but this will raise an ambiguity error in a future version\n",
      "\n",
      "INFO:fbprophet:Disabling weekly seasonality. Run prophet with weekly_seasonality=True to override this.\n",
      "INFO:fbprophet:Disabling daily seasonality. Run prophet with daily_seasonality=True to override this.\n"
     ]
    },
    {
     "name": "stdout",
     "output_type": "stream",
     "text": [
      "[84731.44909836884]\n"
     ]
    },
    {
     "name": "stderr",
     "output_type": "stream",
     "text": [
      "C:\\Users\\Michael\\Anaconda3\\envs\\learn-env\\lib\\site-packages\\pystan\\misc.py:399: FutureWarning:\n",
      "\n",
      "Conversion of the second argument of issubdtype from `float` to `np.floating` is deprecated. In future, it will be treated as `np.float64 == np.dtype(float).type`.\n",
      "\n",
      "C:\\Users\\Michael\\Anaconda3\\envs\\learn-env\\lib\\site-packages\\ipykernel_launcher.py:40: FutureWarning:\n",
      "\n",
      "'variable' is both an index level and a column label.\n",
      "Defaulting to column, but this will raise an ambiguity error in a future version\n",
      "\n",
      "C:\\Users\\Michael\\Anaconda3\\envs\\learn-env\\lib\\site-packages\\ipykernel_launcher.py:44: FutureWarning:\n",
      "\n",
      "'variable' is both an index level and a column label.\n",
      "Defaulting to column, but this will raise an ambiguity error in a future version\n",
      "\n",
      "INFO:fbprophet:Disabling weekly seasonality. Run prophet with weekly_seasonality=True to override this.\n",
      "INFO:fbprophet:Disabling daily seasonality. Run prophet with daily_seasonality=True to override this.\n"
     ]
    },
    {
     "name": "stdout",
     "output_type": "stream",
     "text": [
      "[84731.44909836884, 125366.55065520183]\n"
     ]
    },
    {
     "name": "stderr",
     "output_type": "stream",
     "text": [
      "C:\\Users\\Michael\\Anaconda3\\envs\\learn-env\\lib\\site-packages\\pystan\\misc.py:399: FutureWarning:\n",
      "\n",
      "Conversion of the second argument of issubdtype from `float` to `np.floating` is deprecated. In future, it will be treated as `np.float64 == np.dtype(float).type`.\n",
      "\n",
      "C:\\Users\\Michael\\Anaconda3\\envs\\learn-env\\lib\\site-packages\\ipykernel_launcher.py:60: FutureWarning:\n",
      "\n",
      "'variable' is both an index level and a column label.\n",
      "Defaulting to column, but this will raise an ambiguity error in a future version\n",
      "\n",
      "C:\\Users\\Michael\\Anaconda3\\envs\\learn-env\\lib\\site-packages\\ipykernel_launcher.py:63: FutureWarning:\n",
      "\n",
      "'variable' is both an index level and a column label.\n",
      "Defaulting to column, but this will raise an ambiguity error in a future version\n",
      "\n",
      "INFO:fbprophet:Disabling weekly seasonality. Run prophet with weekly_seasonality=True to override this.\n",
      "INFO:fbprophet:Disabling daily seasonality. Run prophet with daily_seasonality=True to override this.\n"
     ]
    },
    {
     "name": "stdout",
     "output_type": "stream",
     "text": [
      "[84731.44909836884, 125366.55065520183, 94437.06291223886]\n",
      "[84731.44909836884, 125366.55065520183, 94437.06291223886]\n"
     ]
    },
    {
     "name": "stderr",
     "output_type": "stream",
     "text": [
      "C:\\Users\\Michael\\Anaconda3\\envs\\learn-env\\lib\\site-packages\\pystan\\misc.py:399: FutureWarning:\n",
      "\n",
      "Conversion of the second argument of issubdtype from `float` to `np.floating` is deprecated. In future, it will be treated as `np.float64 == np.dtype(float).type`.\n",
      "\n",
      "C:\\Users\\Michael\\Anaconda3\\envs\\learn-env\\lib\\site-packages\\ipykernel_launcher.py:40: FutureWarning:\n",
      "\n",
      "'variable' is both an index level and a column label.\n",
      "Defaulting to column, but this will raise an ambiguity error in a future version\n",
      "\n",
      "C:\\Users\\Michael\\Anaconda3\\envs\\learn-env\\lib\\site-packages\\ipykernel_launcher.py:44: FutureWarning:\n",
      "\n",
      "'variable' is both an index level and a column label.\n",
      "Defaulting to column, but this will raise an ambiguity error in a future version\n",
      "\n",
      "INFO:fbprophet:Disabling weekly seasonality. Run prophet with weekly_seasonality=True to override this.\n",
      "INFO:fbprophet:Disabling daily seasonality. Run prophet with daily_seasonality=True to override this.\n"
     ]
    },
    {
     "name": "stdout",
     "output_type": "stream",
     "text": [
      " 82 progress so far\n"
     ]
    },
    {
     "name": "stderr",
     "output_type": "stream",
     "text": [
      "C:\\Users\\Michael\\Anaconda3\\envs\\learn-env\\lib\\site-packages\\ipykernel_launcher.py:40: FutureWarning:\n",
      "\n",
      "'variable' is both an index level and a column label.\n",
      "Defaulting to column, but this will raise an ambiguity error in a future version\n",
      "\n",
      "C:\\Users\\Michael\\Anaconda3\\envs\\learn-env\\lib\\site-packages\\ipykernel_launcher.py:44: FutureWarning:\n",
      "\n",
      "'variable' is both an index level and a column label.\n",
      "Defaulting to column, but this will raise an ambiguity error in a future version\n",
      "\n",
      "INFO:fbprophet:Disabling weekly seasonality. Run prophet with weekly_seasonality=True to override this.\n",
      "INFO:fbprophet:Disabling daily seasonality. Run prophet with daily_seasonality=True to override this.\n"
     ]
    },
    {
     "name": "stdout",
     "output_type": "stream",
     "text": [
      "[37495.1005127472]\n"
     ]
    },
    {
     "name": "stderr",
     "output_type": "stream",
     "text": [
      "C:\\Users\\Michael\\Anaconda3\\envs\\learn-env\\lib\\site-packages\\pystan\\misc.py:399: FutureWarning:\n",
      "\n",
      "Conversion of the second argument of issubdtype from `float` to `np.floating` is deprecated. In future, it will be treated as `np.float64 == np.dtype(float).type`.\n",
      "\n",
      "C:\\Users\\Michael\\Anaconda3\\envs\\learn-env\\lib\\site-packages\\ipykernel_launcher.py:40: FutureWarning:\n",
      "\n",
      "'variable' is both an index level and a column label.\n",
      "Defaulting to column, but this will raise an ambiguity error in a future version\n",
      "\n",
      "C:\\Users\\Michael\\Anaconda3\\envs\\learn-env\\lib\\site-packages\\ipykernel_launcher.py:44: FutureWarning:\n",
      "\n",
      "'variable' is both an index level and a column label.\n",
      "Defaulting to column, but this will raise an ambiguity error in a future version\n",
      "\n",
      "INFO:fbprophet:Disabling weekly seasonality. Run prophet with weekly_seasonality=True to override this.\n",
      "INFO:fbprophet:Disabling daily seasonality. Run prophet with daily_seasonality=True to override this.\n"
     ]
    },
    {
     "name": "stdout",
     "output_type": "stream",
     "text": [
      "[37495.1005127472, 75908.08156477149]\n"
     ]
    },
    {
     "name": "stderr",
     "output_type": "stream",
     "text": [
      "C:\\Users\\Michael\\Anaconda3\\envs\\learn-env\\lib\\site-packages\\pystan\\misc.py:399: FutureWarning:\n",
      "\n",
      "Conversion of the second argument of issubdtype from `float` to `np.floating` is deprecated. In future, it will be treated as `np.float64 == np.dtype(float).type`.\n",
      "\n",
      "C:\\Users\\Michael\\Anaconda3\\envs\\learn-env\\lib\\site-packages\\ipykernel_launcher.py:60: FutureWarning:\n",
      "\n",
      "'variable' is both an index level and a column label.\n",
      "Defaulting to column, but this will raise an ambiguity error in a future version\n",
      "\n",
      "C:\\Users\\Michael\\Anaconda3\\envs\\learn-env\\lib\\site-packages\\ipykernel_launcher.py:63: FutureWarning:\n",
      "\n",
      "'variable' is both an index level and a column label.\n",
      "Defaulting to column, but this will raise an ambiguity error in a future version\n",
      "\n",
      "INFO:fbprophet:Disabling weekly seasonality. Run prophet with weekly_seasonality=True to override this.\n",
      "INFO:fbprophet:Disabling daily seasonality. Run prophet with daily_seasonality=True to override this.\n"
     ]
    },
    {
     "name": "stdout",
     "output_type": "stream",
     "text": [
      "[37495.1005127472, 75908.08156477149, 72831.02527343623]\n",
      "[37495.1005127472, 75908.08156477149, 72831.02527343623]\n"
     ]
    },
    {
     "name": "stderr",
     "output_type": "stream",
     "text": [
      "C:\\Users\\Michael\\Anaconda3\\envs\\learn-env\\lib\\site-packages\\pystan\\misc.py:399: FutureWarning:\n",
      "\n",
      "Conversion of the second argument of issubdtype from `float` to `np.floating` is deprecated. In future, it will be treated as `np.float64 == np.dtype(float).type`.\n",
      "\n",
      "C:\\Users\\Michael\\Anaconda3\\envs\\learn-env\\lib\\site-packages\\ipykernel_launcher.py:40: FutureWarning:\n",
      "\n",
      "'variable' is both an index level and a column label.\n",
      "Defaulting to column, but this will raise an ambiguity error in a future version\n",
      "\n",
      "C:\\Users\\Michael\\Anaconda3\\envs\\learn-env\\lib\\site-packages\\ipykernel_launcher.py:44: FutureWarning:\n",
      "\n",
      "'variable' is both an index level and a column label.\n",
      "Defaulting to column, but this will raise an ambiguity error in a future version\n",
      "\n",
      "INFO:fbprophet:Disabling weekly seasonality. Run prophet with weekly_seasonality=True to override this.\n",
      "INFO:fbprophet:Disabling daily seasonality. Run prophet with daily_seasonality=True to override this.\n"
     ]
    },
    {
     "name": "stdout",
     "output_type": "stream",
     "text": [
      " 83 progress so far\n",
      "[150615.91013441578]\n"
     ]
    },
    {
     "name": "stderr",
     "output_type": "stream",
     "text": [
      "C:\\Users\\Michael\\Anaconda3\\envs\\learn-env\\lib\\site-packages\\ipykernel_launcher.py:40: FutureWarning:\n",
      "\n",
      "'variable' is both an index level and a column label.\n",
      "Defaulting to column, but this will raise an ambiguity error in a future version\n",
      "\n",
      "C:\\Users\\Michael\\Anaconda3\\envs\\learn-env\\lib\\site-packages\\ipykernel_launcher.py:44: FutureWarning:\n",
      "\n",
      "'variable' is both an index level and a column label.\n",
      "Defaulting to column, but this will raise an ambiguity error in a future version\n",
      "\n",
      "INFO:fbprophet:Disabling weekly seasonality. Run prophet with weekly_seasonality=True to override this.\n",
      "INFO:fbprophet:Disabling daily seasonality. Run prophet with daily_seasonality=True to override this.\n",
      "C:\\Users\\Michael\\Anaconda3\\envs\\learn-env\\lib\\site-packages\\pystan\\misc.py:399: FutureWarning:\n",
      "\n",
      "Conversion of the second argument of issubdtype from `float` to `np.floating` is deprecated. In future, it will be treated as `np.float64 == np.dtype(float).type`.\n",
      "\n",
      "C:\\Users\\Michael\\Anaconda3\\envs\\learn-env\\lib\\site-packages\\ipykernel_launcher.py:40: FutureWarning:\n",
      "\n",
      "'variable' is both an index level and a column label.\n",
      "Defaulting to column, but this will raise an ambiguity error in a future version\n",
      "\n",
      "C:\\Users\\Michael\\Anaconda3\\envs\\learn-env\\lib\\site-packages\\ipykernel_launcher.py:44: FutureWarning:\n",
      "\n",
      "'variable' is both an index level and a column label.\n",
      "Defaulting to column, but this will raise an ambiguity error in a future version\n",
      "\n",
      "INFO:fbprophet:Disabling weekly seasonality. Run prophet with weekly_seasonality=True to override this.\n",
      "INFO:fbprophet:Disabling daily seasonality. Run prophet with daily_seasonality=True to override this.\n"
     ]
    },
    {
     "name": "stdout",
     "output_type": "stream",
     "text": [
      "[150615.91013441578, 536906.7112849032]\n"
     ]
    },
    {
     "name": "stderr",
     "output_type": "stream",
     "text": [
      "C:\\Users\\Michael\\Anaconda3\\envs\\learn-env\\lib\\site-packages\\pystan\\misc.py:399: FutureWarning:\n",
      "\n",
      "Conversion of the second argument of issubdtype from `float` to `np.floating` is deprecated. In future, it will be treated as `np.float64 == np.dtype(float).type`.\n",
      "\n"
     ]
    },
    {
     "name": "stdout",
     "output_type": "stream",
     "text": [
      "[150615.91013441578, 536906.7112849032, 247170.69252593414]\n",
      "[150615.91013441578, 536906.7112849032, 247170.69252593414]\n"
     ]
    },
    {
     "name": "stderr",
     "output_type": "stream",
     "text": [
      "C:\\Users\\Michael\\Anaconda3\\envs\\learn-env\\lib\\site-packages\\ipykernel_launcher.py:60: FutureWarning:\n",
      "\n",
      "'variable' is both an index level and a column label.\n",
      "Defaulting to column, but this will raise an ambiguity error in a future version\n",
      "\n",
      "C:\\Users\\Michael\\Anaconda3\\envs\\learn-env\\lib\\site-packages\\ipykernel_launcher.py:63: FutureWarning:\n",
      "\n",
      "'variable' is both an index level and a column label.\n",
      "Defaulting to column, but this will raise an ambiguity error in a future version\n",
      "\n",
      "INFO:fbprophet:Disabling weekly seasonality. Run prophet with weekly_seasonality=True to override this.\n",
      "INFO:fbprophet:Disabling daily seasonality. Run prophet with daily_seasonality=True to override this.\n",
      "C:\\Users\\Michael\\Anaconda3\\envs\\learn-env\\lib\\site-packages\\pystan\\misc.py:399: FutureWarning:\n",
      "\n",
      "Conversion of the second argument of issubdtype from `float` to `np.floating` is deprecated. In future, it will be treated as `np.float64 == np.dtype(float).type`.\n",
      "\n",
      "C:\\Users\\Michael\\Anaconda3\\envs\\learn-env\\lib\\site-packages\\ipykernel_launcher.py:40: FutureWarning:\n",
      "\n",
      "'variable' is both an index level and a column label.\n",
      "Defaulting to column, but this will raise an ambiguity error in a future version\n",
      "\n",
      "C:\\Users\\Michael\\Anaconda3\\envs\\learn-env\\lib\\site-packages\\ipykernel_launcher.py:44: FutureWarning:\n",
      "\n",
      "'variable' is both an index level and a column label.\n",
      "Defaulting to column, but this will raise an ambiguity error in a future version\n",
      "\n",
      "INFO:fbprophet:Disabling weekly seasonality. Run prophet with weekly_seasonality=True to override this.\n",
      "INFO:fbprophet:Disabling daily seasonality. Run prophet with daily_seasonality=True to override this.\n"
     ]
    },
    {
     "name": "stdout",
     "output_type": "stream",
     "text": [
      " 84 progress so far\n"
     ]
    },
    {
     "name": "stderr",
     "output_type": "stream",
     "text": [
      "C:\\Users\\Michael\\Anaconda3\\envs\\learn-env\\lib\\site-packages\\ipykernel_launcher.py:40: FutureWarning:\n",
      "\n",
      "'variable' is both an index level and a column label.\n",
      "Defaulting to column, but this will raise an ambiguity error in a future version\n",
      "\n",
      "C:\\Users\\Michael\\Anaconda3\\envs\\learn-env\\lib\\site-packages\\ipykernel_launcher.py:44: FutureWarning:\n",
      "\n",
      "'variable' is both an index level and a column label.\n",
      "Defaulting to column, but this will raise an ambiguity error in a future version\n",
      "\n",
      "INFO:fbprophet:Disabling weekly seasonality. Run prophet with weekly_seasonality=True to override this.\n",
      "INFO:fbprophet:Disabling daily seasonality. Run prophet with daily_seasonality=True to override this.\n"
     ]
    },
    {
     "name": "stdout",
     "output_type": "stream",
     "text": [
      "[275832.7092602092]\n"
     ]
    },
    {
     "name": "stderr",
     "output_type": "stream",
     "text": [
      "C:\\Users\\Michael\\Anaconda3\\envs\\learn-env\\lib\\site-packages\\pystan\\misc.py:399: FutureWarning:\n",
      "\n",
      "Conversion of the second argument of issubdtype from `float` to `np.floating` is deprecated. In future, it will be treated as `np.float64 == np.dtype(float).type`.\n",
      "\n",
      "C:\\Users\\Michael\\Anaconda3\\envs\\learn-env\\lib\\site-packages\\ipykernel_launcher.py:40: FutureWarning:\n",
      "\n",
      "'variable' is both an index level and a column label.\n",
      "Defaulting to column, but this will raise an ambiguity error in a future version\n",
      "\n",
      "C:\\Users\\Michael\\Anaconda3\\envs\\learn-env\\lib\\site-packages\\ipykernel_launcher.py:44: FutureWarning:\n",
      "\n",
      "'variable' is both an index level and a column label.\n",
      "Defaulting to column, but this will raise an ambiguity error in a future version\n",
      "\n",
      "INFO:fbprophet:Disabling weekly seasonality. Run prophet with weekly_seasonality=True to override this.\n",
      "INFO:fbprophet:Disabling daily seasonality. Run prophet with daily_seasonality=True to override this.\n"
     ]
    },
    {
     "name": "stdout",
     "output_type": "stream",
     "text": [
      "[275832.7092602092, 280528.7092263288]\n"
     ]
    },
    {
     "name": "stderr",
     "output_type": "stream",
     "text": [
      "C:\\Users\\Michael\\Anaconda3\\envs\\learn-env\\lib\\site-packages\\pystan\\misc.py:399: FutureWarning:\n",
      "\n",
      "Conversion of the second argument of issubdtype from `float` to `np.floating` is deprecated. In future, it will be treated as `np.float64 == np.dtype(float).type`.\n",
      "\n",
      "C:\\Users\\Michael\\Anaconda3\\envs\\learn-env\\lib\\site-packages\\ipykernel_launcher.py:60: FutureWarning:\n",
      "\n",
      "'variable' is both an index level and a column label.\n",
      "Defaulting to column, but this will raise an ambiguity error in a future version\n",
      "\n",
      "C:\\Users\\Michael\\Anaconda3\\envs\\learn-env\\lib\\site-packages\\ipykernel_launcher.py:63: FutureWarning:\n",
      "\n",
      "'variable' is both an index level and a column label.\n",
      "Defaulting to column, but this will raise an ambiguity error in a future version\n",
      "\n",
      "INFO:fbprophet:Disabling weekly seasonality. Run prophet with weekly_seasonality=True to override this.\n"
     ]
    },
    {
     "name": "stdout",
     "output_type": "stream",
     "text": [
      "[275832.7092602092, 280528.7092263288, 163236.2205750022]\n",
      "[275832.7092602092, 280528.7092263288, 163236.2205750022]\n"
     ]
    },
    {
     "name": "stderr",
     "output_type": "stream",
     "text": [
      "INFO:fbprophet:Disabling daily seasonality. Run prophet with daily_seasonality=True to override this.\n",
      "C:\\Users\\Michael\\Anaconda3\\envs\\learn-env\\lib\\site-packages\\pystan\\misc.py:399: FutureWarning:\n",
      "\n",
      "Conversion of the second argument of issubdtype from `float` to `np.floating` is deprecated. In future, it will be treated as `np.float64 == np.dtype(float).type`.\n",
      "\n",
      "C:\\Users\\Michael\\Anaconda3\\envs\\learn-env\\lib\\site-packages\\ipykernel_launcher.py:40: FutureWarning:\n",
      "\n",
      "'variable' is both an index level and a column label.\n",
      "Defaulting to column, but this will raise an ambiguity error in a future version\n",
      "\n",
      "C:\\Users\\Michael\\Anaconda3\\envs\\learn-env\\lib\\site-packages\\ipykernel_launcher.py:44: FutureWarning:\n",
      "\n",
      "'variable' is both an index level and a column label.\n",
      "Defaulting to column, but this will raise an ambiguity error in a future version\n",
      "\n",
      "INFO:fbprophet:Disabling weekly seasonality. Run prophet with weekly_seasonality=True to override this.\n",
      "INFO:fbprophet:Disabling daily seasonality. Run prophet with daily_seasonality=True to override this.\n"
     ]
    },
    {
     "name": "stdout",
     "output_type": "stream",
     "text": [
      " 85 progress so far\n"
     ]
    },
    {
     "name": "stderr",
     "output_type": "stream",
     "text": [
      "C:\\Users\\Michael\\Anaconda3\\envs\\learn-env\\lib\\site-packages\\ipykernel_launcher.py:40: FutureWarning:\n",
      "\n",
      "'variable' is both an index level and a column label.\n",
      "Defaulting to column, but this will raise an ambiguity error in a future version\n",
      "\n",
      "C:\\Users\\Michael\\Anaconda3\\envs\\learn-env\\lib\\site-packages\\ipykernel_launcher.py:44: FutureWarning:\n",
      "\n",
      "'variable' is both an index level and a column label.\n",
      "Defaulting to column, but this will raise an ambiguity error in a future version\n",
      "\n",
      "INFO:fbprophet:Disabling weekly seasonality. Run prophet with weekly_seasonality=True to override this.\n",
      "INFO:fbprophet:Disabling daily seasonality. Run prophet with daily_seasonality=True to override this.\n"
     ]
    },
    {
     "name": "stdout",
     "output_type": "stream",
     "text": [
      "[364027.4241638328]\n"
     ]
    },
    {
     "name": "stderr",
     "output_type": "stream",
     "text": [
      "C:\\Users\\Michael\\Anaconda3\\envs\\learn-env\\lib\\site-packages\\pystan\\misc.py:399: FutureWarning:\n",
      "\n",
      "Conversion of the second argument of issubdtype from `float` to `np.floating` is deprecated. In future, it will be treated as `np.float64 == np.dtype(float).type`.\n",
      "\n",
      "C:\\Users\\Michael\\Anaconda3\\envs\\learn-env\\lib\\site-packages\\ipykernel_launcher.py:40: FutureWarning:\n",
      "\n",
      "'variable' is both an index level and a column label.\n",
      "Defaulting to column, but this will raise an ambiguity error in a future version\n",
      "\n",
      "C:\\Users\\Michael\\Anaconda3\\envs\\learn-env\\lib\\site-packages\\ipykernel_launcher.py:44: FutureWarning:\n",
      "\n",
      "'variable' is both an index level and a column label.\n",
      "Defaulting to column, but this will raise an ambiguity error in a future version\n",
      "\n",
      "INFO:fbprophet:Disabling weekly seasonality. Run prophet with weekly_seasonality=True to override this.\n",
      "INFO:fbprophet:Disabling daily seasonality. Run prophet with daily_seasonality=True to override this.\n"
     ]
    },
    {
     "name": "stdout",
     "output_type": "stream",
     "text": [
      "[364027.4241638328, 363171.173388493]\n"
     ]
    },
    {
     "name": "stderr",
     "output_type": "stream",
     "text": [
      "C:\\Users\\Michael\\Anaconda3\\envs\\learn-env\\lib\\site-packages\\pystan\\misc.py:399: FutureWarning:\n",
      "\n",
      "Conversion of the second argument of issubdtype from `float` to `np.floating` is deprecated. In future, it will be treated as `np.float64 == np.dtype(float).type`.\n",
      "\n",
      "C:\\Users\\Michael\\Anaconda3\\envs\\learn-env\\lib\\site-packages\\ipykernel_launcher.py:60: FutureWarning:\n",
      "\n",
      "'variable' is both an index level and a column label.\n",
      "Defaulting to column, but this will raise an ambiguity error in a future version\n",
      "\n",
      "C:\\Users\\Michael\\Anaconda3\\envs\\learn-env\\lib\\site-packages\\ipykernel_launcher.py:63: FutureWarning:\n",
      "\n",
      "'variable' is both an index level and a column label.\n",
      "Defaulting to column, but this will raise an ambiguity error in a future version\n",
      "\n",
      "INFO:fbprophet:Disabling weekly seasonality. Run prophet with weekly_seasonality=True to override this.\n",
      "INFO:fbprophet:Disabling daily seasonality. Run prophet with daily_seasonality=True to override this.\n"
     ]
    },
    {
     "name": "stdout",
     "output_type": "stream",
     "text": [
      "[364027.4241638328, 363171.173388493, 195882.541344964]\n",
      "[364027.4241638328, 363171.173388493, 195882.541344964]\n"
     ]
    },
    {
     "name": "stderr",
     "output_type": "stream",
     "text": [
      "C:\\Users\\Michael\\Anaconda3\\envs\\learn-env\\lib\\site-packages\\pystan\\misc.py:399: FutureWarning:\n",
      "\n",
      "Conversion of the second argument of issubdtype from `float` to `np.floating` is deprecated. In future, it will be treated as `np.float64 == np.dtype(float).type`.\n",
      "\n",
      "C:\\Users\\Michael\\Anaconda3\\envs\\learn-env\\lib\\site-packages\\ipykernel_launcher.py:40: FutureWarning:\n",
      "\n",
      "'variable' is both an index level and a column label.\n",
      "Defaulting to column, but this will raise an ambiguity error in a future version\n",
      "\n",
      "C:\\Users\\Michael\\Anaconda3\\envs\\learn-env\\lib\\site-packages\\ipykernel_launcher.py:44: FutureWarning:\n",
      "\n",
      "'variable' is both an index level and a column label.\n",
      "Defaulting to column, but this will raise an ambiguity error in a future version\n",
      "\n",
      "INFO:fbprophet:Disabling weekly seasonality. Run prophet with weekly_seasonality=True to override this.\n",
      "INFO:fbprophet:Disabling daily seasonality. Run prophet with daily_seasonality=True to override this.\n"
     ]
    },
    {
     "name": "stdout",
     "output_type": "stream",
     "text": [
      " 86 progress so far\n"
     ]
    },
    {
     "name": "stderr",
     "output_type": "stream",
     "text": [
      "C:\\Users\\Michael\\Anaconda3\\envs\\learn-env\\lib\\site-packages\\ipykernel_launcher.py:40: FutureWarning:\n",
      "\n",
      "'variable' is both an index level and a column label.\n",
      "Defaulting to column, but this will raise an ambiguity error in a future version\n",
      "\n",
      "C:\\Users\\Michael\\Anaconda3\\envs\\learn-env\\lib\\site-packages\\ipykernel_launcher.py:44: FutureWarning:\n",
      "\n",
      "'variable' is both an index level and a column label.\n",
      "Defaulting to column, but this will raise an ambiguity error in a future version\n",
      "\n",
      "INFO:fbprophet:Disabling weekly seasonality. Run prophet with weekly_seasonality=True to override this.\n",
      "INFO:fbprophet:Disabling daily seasonality. Run prophet with daily_seasonality=True to override this.\n"
     ]
    },
    {
     "name": "stdout",
     "output_type": "stream",
     "text": [
      "[171156.0475194445]\n"
     ]
    },
    {
     "name": "stderr",
     "output_type": "stream",
     "text": [
      "C:\\Users\\Michael\\Anaconda3\\envs\\learn-env\\lib\\site-packages\\pystan\\misc.py:399: FutureWarning:\n",
      "\n",
      "Conversion of the second argument of issubdtype from `float` to `np.floating` is deprecated. In future, it will be treated as `np.float64 == np.dtype(float).type`.\n",
      "\n",
      "C:\\Users\\Michael\\Anaconda3\\envs\\learn-env\\lib\\site-packages\\ipykernel_launcher.py:40: FutureWarning:\n",
      "\n",
      "'variable' is both an index level and a column label.\n",
      "Defaulting to column, but this will raise an ambiguity error in a future version\n",
      "\n",
      "C:\\Users\\Michael\\Anaconda3\\envs\\learn-env\\lib\\site-packages\\ipykernel_launcher.py:44: FutureWarning:\n",
      "\n",
      "'variable' is both an index level and a column label.\n",
      "Defaulting to column, but this will raise an ambiguity error in a future version\n",
      "\n",
      "INFO:fbprophet:Disabling weekly seasonality. Run prophet with weekly_seasonality=True to override this.\n",
      "INFO:fbprophet:Disabling daily seasonality. Run prophet with daily_seasonality=True to override this.\n"
     ]
    },
    {
     "name": "stdout",
     "output_type": "stream",
     "text": [
      "[171156.0475194445, 243038.35831441975]\n"
     ]
    },
    {
     "name": "stderr",
     "output_type": "stream",
     "text": [
      "C:\\Users\\Michael\\Anaconda3\\envs\\learn-env\\lib\\site-packages\\pystan\\misc.py:399: FutureWarning:\n",
      "\n",
      "Conversion of the second argument of issubdtype from `float` to `np.floating` is deprecated. In future, it will be treated as `np.float64 == np.dtype(float).type`.\n",
      "\n",
      "C:\\Users\\Michael\\Anaconda3\\envs\\learn-env\\lib\\site-packages\\ipykernel_launcher.py:60: FutureWarning:\n",
      "\n",
      "'variable' is both an index level and a column label.\n",
      "Defaulting to column, but this will raise an ambiguity error in a future version\n",
      "\n",
      "C:\\Users\\Michael\\Anaconda3\\envs\\learn-env\\lib\\site-packages\\ipykernel_launcher.py:63: FutureWarning:\n",
      "\n",
      "'variable' is both an index level and a column label.\n",
      "Defaulting to column, but this will raise an ambiguity error in a future version\n",
      "\n",
      "INFO:fbprophet:Disabling weekly seasonality. Run prophet with weekly_seasonality=True to override this.\n",
      "INFO:fbprophet:Disabling daily seasonality. Run prophet with daily_seasonality=True to override this.\n"
     ]
    },
    {
     "name": "stdout",
     "output_type": "stream",
     "text": [
      "[171156.0475194445, 243038.35831441975, 61789.01870963181]\n",
      "[171156.0475194445, 243038.35831441975, 61789.01870963181]\n"
     ]
    },
    {
     "name": "stderr",
     "output_type": "stream",
     "text": [
      "C:\\Users\\Michael\\Anaconda3\\envs\\learn-env\\lib\\site-packages\\pystan\\misc.py:399: FutureWarning:\n",
      "\n",
      "Conversion of the second argument of issubdtype from `float` to `np.floating` is deprecated. In future, it will be treated as `np.float64 == np.dtype(float).type`.\n",
      "\n",
      "C:\\Users\\Michael\\Anaconda3\\envs\\learn-env\\lib\\site-packages\\ipykernel_launcher.py:40: FutureWarning:\n",
      "\n",
      "'variable' is both an index level and a column label.\n",
      "Defaulting to column, but this will raise an ambiguity error in a future version\n",
      "\n",
      "C:\\Users\\Michael\\Anaconda3\\envs\\learn-env\\lib\\site-packages\\ipykernel_launcher.py:44: FutureWarning:\n",
      "\n",
      "'variable' is both an index level and a column label.\n",
      "Defaulting to column, but this will raise an ambiguity error in a future version\n",
      "\n",
      "INFO:fbprophet:Disabling weekly seasonality. Run prophet with weekly_seasonality=True to override this.\n",
      "INFO:fbprophet:Disabling daily seasonality. Run prophet with daily_seasonality=True to override this.\n"
     ]
    },
    {
     "name": "stdout",
     "output_type": "stream",
     "text": [
      " 87 progress so far\n"
     ]
    },
    {
     "name": "stderr",
     "output_type": "stream",
     "text": [
      "C:\\Users\\Michael\\Anaconda3\\envs\\learn-env\\lib\\site-packages\\ipykernel_launcher.py:40: FutureWarning:\n",
      "\n",
      "'variable' is both an index level and a column label.\n",
      "Defaulting to column, but this will raise an ambiguity error in a future version\n",
      "\n",
      "C:\\Users\\Michael\\Anaconda3\\envs\\learn-env\\lib\\site-packages\\ipykernel_launcher.py:44: FutureWarning:\n",
      "\n",
      "'variable' is both an index level and a column label.\n",
      "Defaulting to column, but this will raise an ambiguity error in a future version\n",
      "\n",
      "INFO:fbprophet:Disabling weekly seasonality. Run prophet with weekly_seasonality=True to override this.\n",
      "INFO:fbprophet:Disabling daily seasonality. Run prophet with daily_seasonality=True to override this.\n"
     ]
    },
    {
     "name": "stdout",
     "output_type": "stream",
     "text": [
      "[326916.40301867155]\n"
     ]
    },
    {
     "name": "stderr",
     "output_type": "stream",
     "text": [
      "C:\\Users\\Michael\\Anaconda3\\envs\\learn-env\\lib\\site-packages\\pystan\\misc.py:399: FutureWarning:\n",
      "\n",
      "Conversion of the second argument of issubdtype from `float` to `np.floating` is deprecated. In future, it will be treated as `np.float64 == np.dtype(float).type`.\n",
      "\n",
      "C:\\Users\\Michael\\Anaconda3\\envs\\learn-env\\lib\\site-packages\\ipykernel_launcher.py:40: FutureWarning:\n",
      "\n",
      "'variable' is both an index level and a column label.\n",
      "Defaulting to column, but this will raise an ambiguity error in a future version\n",
      "\n",
      "C:\\Users\\Michael\\Anaconda3\\envs\\learn-env\\lib\\site-packages\\ipykernel_launcher.py:44: FutureWarning:\n",
      "\n",
      "'variable' is both an index level and a column label.\n",
      "Defaulting to column, but this will raise an ambiguity error in a future version\n",
      "\n",
      "INFO:fbprophet:Disabling weekly seasonality. Run prophet with weekly_seasonality=True to override this.\n",
      "INFO:fbprophet:Disabling daily seasonality. Run prophet with daily_seasonality=True to override this.\n"
     ]
    },
    {
     "name": "stdout",
     "output_type": "stream",
     "text": [
      "[326916.40301867155, 432935.1571174577]\n"
     ]
    },
    {
     "name": "stderr",
     "output_type": "stream",
     "text": [
      "C:\\Users\\Michael\\Anaconda3\\envs\\learn-env\\lib\\site-packages\\pystan\\misc.py:399: FutureWarning:\n",
      "\n",
      "Conversion of the second argument of issubdtype from `float` to `np.floating` is deprecated. In future, it will be treated as `np.float64 == np.dtype(float).type`.\n",
      "\n",
      "C:\\Users\\Michael\\Anaconda3\\envs\\learn-env\\lib\\site-packages\\ipykernel_launcher.py:60: FutureWarning:\n",
      "\n",
      "'variable' is both an index level and a column label.\n",
      "Defaulting to column, but this will raise an ambiguity error in a future version\n",
      "\n",
      "C:\\Users\\Michael\\Anaconda3\\envs\\learn-env\\lib\\site-packages\\ipykernel_launcher.py:63: FutureWarning:\n",
      "\n",
      "'variable' is both an index level and a column label.\n",
      "Defaulting to column, but this will raise an ambiguity error in a future version\n",
      "\n",
      "INFO:fbprophet:Disabling weekly seasonality. Run prophet with weekly_seasonality=True to override this.\n"
     ]
    },
    {
     "name": "stdout",
     "output_type": "stream",
     "text": [
      "[326916.40301867155, 432935.1571174577, 250663.5255757523]\n",
      "[326916.40301867155, 432935.1571174577, 250663.5255757523]\n"
     ]
    },
    {
     "name": "stderr",
     "output_type": "stream",
     "text": [
      "INFO:fbprophet:Disabling daily seasonality. Run prophet with daily_seasonality=True to override this.\n",
      "C:\\Users\\Michael\\Anaconda3\\envs\\learn-env\\lib\\site-packages\\pystan\\misc.py:399: FutureWarning:\n",
      "\n",
      "Conversion of the second argument of issubdtype from `float` to `np.floating` is deprecated. In future, it will be treated as `np.float64 == np.dtype(float).type`.\n",
      "\n",
      "C:\\Users\\Michael\\Anaconda3\\envs\\learn-env\\lib\\site-packages\\ipykernel_launcher.py:40: FutureWarning:\n",
      "\n",
      "'variable' is both an index level and a column label.\n",
      "Defaulting to column, but this will raise an ambiguity error in a future version\n",
      "\n",
      "C:\\Users\\Michael\\Anaconda3\\envs\\learn-env\\lib\\site-packages\\ipykernel_launcher.py:44: FutureWarning:\n",
      "\n",
      "'variable' is both an index level and a column label.\n",
      "Defaulting to column, but this will raise an ambiguity error in a future version\n",
      "\n",
      "INFO:fbprophet:Disabling weekly seasonality. Run prophet with weekly_seasonality=True to override this.\n",
      "INFO:fbprophet:Disabling daily seasonality. Run prophet with daily_seasonality=True to override this.\n"
     ]
    },
    {
     "name": "stdout",
     "output_type": "stream",
     "text": [
      " 88 progress so far\n"
     ]
    },
    {
     "name": "stderr",
     "output_type": "stream",
     "text": [
      "C:\\Users\\Michael\\Anaconda3\\envs\\learn-env\\lib\\site-packages\\ipykernel_launcher.py:40: FutureWarning:\n",
      "\n",
      "'variable' is both an index level and a column label.\n",
      "Defaulting to column, but this will raise an ambiguity error in a future version\n",
      "\n",
      "C:\\Users\\Michael\\Anaconda3\\envs\\learn-env\\lib\\site-packages\\ipykernel_launcher.py:44: FutureWarning:\n",
      "\n",
      "'variable' is both an index level and a column label.\n",
      "Defaulting to column, but this will raise an ambiguity error in a future version\n",
      "\n",
      "INFO:fbprophet:Disabling weekly seasonality. Run prophet with weekly_seasonality=True to override this.\n",
      "INFO:fbprophet:Disabling daily seasonality. Run prophet with daily_seasonality=True to override this.\n"
     ]
    },
    {
     "name": "stdout",
     "output_type": "stream",
     "text": [
      "[88065.7143398593]\n"
     ]
    },
    {
     "name": "stderr",
     "output_type": "stream",
     "text": [
      "C:\\Users\\Michael\\Anaconda3\\envs\\learn-env\\lib\\site-packages\\pystan\\misc.py:399: FutureWarning:\n",
      "\n",
      "Conversion of the second argument of issubdtype from `float` to `np.floating` is deprecated. In future, it will be treated as `np.float64 == np.dtype(float).type`.\n",
      "\n",
      "C:\\Users\\Michael\\Anaconda3\\envs\\learn-env\\lib\\site-packages\\ipykernel_launcher.py:40: FutureWarning:\n",
      "\n",
      "'variable' is both an index level and a column label.\n",
      "Defaulting to column, but this will raise an ambiguity error in a future version\n",
      "\n",
      "C:\\Users\\Michael\\Anaconda3\\envs\\learn-env\\lib\\site-packages\\ipykernel_launcher.py:44: FutureWarning:\n",
      "\n",
      "'variable' is both an index level and a column label.\n",
      "Defaulting to column, but this will raise an ambiguity error in a future version\n",
      "\n",
      "INFO:fbprophet:Disabling weekly seasonality. Run prophet with weekly_seasonality=True to override this.\n",
      "INFO:fbprophet:Disabling daily seasonality. Run prophet with daily_seasonality=True to override this.\n"
     ]
    },
    {
     "name": "stdout",
     "output_type": "stream",
     "text": [
      "[88065.7143398593, 232295.2917284932]\n"
     ]
    },
    {
     "name": "stderr",
     "output_type": "stream",
     "text": [
      "C:\\Users\\Michael\\Anaconda3\\envs\\learn-env\\lib\\site-packages\\pystan\\misc.py:399: FutureWarning:\n",
      "\n",
      "Conversion of the second argument of issubdtype from `float` to `np.floating` is deprecated. In future, it will be treated as `np.float64 == np.dtype(float).type`.\n",
      "\n",
      "C:\\Users\\Michael\\Anaconda3\\envs\\learn-env\\lib\\site-packages\\ipykernel_launcher.py:60: FutureWarning:\n",
      "\n",
      "'variable' is both an index level and a column label.\n",
      "Defaulting to column, but this will raise an ambiguity error in a future version\n",
      "\n",
      "C:\\Users\\Michael\\Anaconda3\\envs\\learn-env\\lib\\site-packages\\ipykernel_launcher.py:63: FutureWarning:\n",
      "\n",
      "'variable' is both an index level and a column label.\n",
      "Defaulting to column, but this will raise an ambiguity error in a future version\n",
      "\n",
      "INFO:fbprophet:Disabling weekly seasonality. Run prophet with weekly_seasonality=True to override this.\n"
     ]
    },
    {
     "name": "stdout",
     "output_type": "stream",
     "text": [
      "[88065.7143398593, 232295.2917284932, 141795.9524265052]\n",
      "[88065.7143398593, 232295.2917284932, 141795.9524265052]\n"
     ]
    },
    {
     "name": "stderr",
     "output_type": "stream",
     "text": [
      "INFO:fbprophet:Disabling daily seasonality. Run prophet with daily_seasonality=True to override this.\n",
      "C:\\Users\\Michael\\Anaconda3\\envs\\learn-env\\lib\\site-packages\\pystan\\misc.py:399: FutureWarning:\n",
      "\n",
      "Conversion of the second argument of issubdtype from `float` to `np.floating` is deprecated. In future, it will be treated as `np.float64 == np.dtype(float).type`.\n",
      "\n",
      "C:\\Users\\Michael\\Anaconda3\\envs\\learn-env\\lib\\site-packages\\ipykernel_launcher.py:40: FutureWarning:\n",
      "\n",
      "'variable' is both an index level and a column label.\n",
      "Defaulting to column, but this will raise an ambiguity error in a future version\n",
      "\n",
      "C:\\Users\\Michael\\Anaconda3\\envs\\learn-env\\lib\\site-packages\\ipykernel_launcher.py:44: FutureWarning:\n",
      "\n",
      "'variable' is both an index level and a column label.\n",
      "Defaulting to column, but this will raise an ambiguity error in a future version\n",
      "\n",
      "INFO:fbprophet:Disabling weekly seasonality. Run prophet with weekly_seasonality=True to override this.\n",
      "INFO:fbprophet:Disabling daily seasonality. Run prophet with daily_seasonality=True to override this.\n"
     ]
    },
    {
     "name": "stdout",
     "output_type": "stream",
     "text": [
      " 89 progress so far\n"
     ]
    },
    {
     "name": "stderr",
     "output_type": "stream",
     "text": [
      "C:\\Users\\Michael\\Anaconda3\\envs\\learn-env\\lib\\site-packages\\ipykernel_launcher.py:40: FutureWarning:\n",
      "\n",
      "'variable' is both an index level and a column label.\n",
      "Defaulting to column, but this will raise an ambiguity error in a future version\n",
      "\n",
      "C:\\Users\\Michael\\Anaconda3\\envs\\learn-env\\lib\\site-packages\\ipykernel_launcher.py:44: FutureWarning:\n",
      "\n",
      "'variable' is both an index level and a column label.\n",
      "Defaulting to column, but this will raise an ambiguity error in a future version\n",
      "\n",
      "INFO:fbprophet:Disabling weekly seasonality. Run prophet with weekly_seasonality=True to override this.\n",
      "INFO:fbprophet:Disabling daily seasonality. Run prophet with daily_seasonality=True to override this.\n"
     ]
    },
    {
     "name": "stdout",
     "output_type": "stream",
     "text": [
      "[41530.19606475972]\n"
     ]
    },
    {
     "name": "stderr",
     "output_type": "stream",
     "text": [
      "C:\\Users\\Michael\\Anaconda3\\envs\\learn-env\\lib\\site-packages\\pystan\\misc.py:399: FutureWarning:\n",
      "\n",
      "Conversion of the second argument of issubdtype from `float` to `np.floating` is deprecated. In future, it will be treated as `np.float64 == np.dtype(float).type`.\n",
      "\n",
      "C:\\Users\\Michael\\Anaconda3\\envs\\learn-env\\lib\\site-packages\\ipykernel_launcher.py:40: FutureWarning:\n",
      "\n",
      "'variable' is both an index level and a column label.\n",
      "Defaulting to column, but this will raise an ambiguity error in a future version\n",
      "\n",
      "C:\\Users\\Michael\\Anaconda3\\envs\\learn-env\\lib\\site-packages\\ipykernel_launcher.py:44: FutureWarning:\n",
      "\n",
      "'variable' is both an index level and a column label.\n",
      "Defaulting to column, but this will raise an ambiguity error in a future version\n",
      "\n",
      "INFO:fbprophet:Disabling weekly seasonality. Run prophet with weekly_seasonality=True to override this.\n",
      "INFO:fbprophet:Disabling daily seasonality. Run prophet with daily_seasonality=True to override this.\n"
     ]
    },
    {
     "name": "stdout",
     "output_type": "stream",
     "text": [
      "[41530.19606475972, 101025.92361349626]\n"
     ]
    },
    {
     "name": "stderr",
     "output_type": "stream",
     "text": [
      "C:\\Users\\Michael\\Anaconda3\\envs\\learn-env\\lib\\site-packages\\pystan\\misc.py:399: FutureWarning:\n",
      "\n",
      "Conversion of the second argument of issubdtype from `float` to `np.floating` is deprecated. In future, it will be treated as `np.float64 == np.dtype(float).type`.\n",
      "\n",
      "C:\\Users\\Michael\\Anaconda3\\envs\\learn-env\\lib\\site-packages\\ipykernel_launcher.py:60: FutureWarning:\n",
      "\n",
      "'variable' is both an index level and a column label.\n",
      "Defaulting to column, but this will raise an ambiguity error in a future version\n",
      "\n",
      "C:\\Users\\Michael\\Anaconda3\\envs\\learn-env\\lib\\site-packages\\ipykernel_launcher.py:63: FutureWarning:\n",
      "\n",
      "'variable' is both an index level and a column label.\n",
      "Defaulting to column, but this will raise an ambiguity error in a future version\n",
      "\n",
      "INFO:fbprophet:Disabling weekly seasonality. Run prophet with weekly_seasonality=True to override this.\n"
     ]
    },
    {
     "name": "stdout",
     "output_type": "stream",
     "text": [
      "[41530.19606475972, 101025.92361349626, 59586.050095551975]\n",
      "[41530.19606475972, 101025.92361349626, 59586.050095551975]\n"
     ]
    },
    {
     "name": "stderr",
     "output_type": "stream",
     "text": [
      "INFO:fbprophet:Disabling daily seasonality. Run prophet with daily_seasonality=True to override this.\n",
      "C:\\Users\\Michael\\Anaconda3\\envs\\learn-env\\lib\\site-packages\\pystan\\misc.py:399: FutureWarning:\n",
      "\n",
      "Conversion of the second argument of issubdtype from `float` to `np.floating` is deprecated. In future, it will be treated as `np.float64 == np.dtype(float).type`.\n",
      "\n",
      "C:\\Users\\Michael\\Anaconda3\\envs\\learn-env\\lib\\site-packages\\ipykernel_launcher.py:40: FutureWarning:\n",
      "\n",
      "'variable' is both an index level and a column label.\n",
      "Defaulting to column, but this will raise an ambiguity error in a future version\n",
      "\n",
      "C:\\Users\\Michael\\Anaconda3\\envs\\learn-env\\lib\\site-packages\\ipykernel_launcher.py:44: FutureWarning:\n",
      "\n",
      "'variable' is both an index level and a column label.\n",
      "Defaulting to column, but this will raise an ambiguity error in a future version\n",
      "\n",
      "INFO:fbprophet:Disabling weekly seasonality. Run prophet with weekly_seasonality=True to override this.\n",
      "INFO:fbprophet:Disabling daily seasonality. Run prophet with daily_seasonality=True to override this.\n"
     ]
    },
    {
     "name": "stdout",
     "output_type": "stream",
     "text": [
      " 90 progress so far\n"
     ]
    },
    {
     "name": "stderr",
     "output_type": "stream",
     "text": [
      "C:\\Users\\Michael\\Anaconda3\\envs\\learn-env\\lib\\site-packages\\ipykernel_launcher.py:40: FutureWarning:\n",
      "\n",
      "'variable' is both an index level and a column label.\n",
      "Defaulting to column, but this will raise an ambiguity error in a future version\n",
      "\n",
      "C:\\Users\\Michael\\Anaconda3\\envs\\learn-env\\lib\\site-packages\\ipykernel_launcher.py:44: FutureWarning:\n",
      "\n",
      "'variable' is both an index level and a column label.\n",
      "Defaulting to column, but this will raise an ambiguity error in a future version\n",
      "\n",
      "INFO:fbprophet:Disabling weekly seasonality. Run prophet with weekly_seasonality=True to override this.\n",
      "INFO:fbprophet:Disabling daily seasonality. Run prophet with daily_seasonality=True to override this.\n"
     ]
    },
    {
     "name": "stdout",
     "output_type": "stream",
     "text": [
      "[51086.99992915322]\n"
     ]
    },
    {
     "name": "stderr",
     "output_type": "stream",
     "text": [
      "C:\\Users\\Michael\\Anaconda3\\envs\\learn-env\\lib\\site-packages\\pystan\\misc.py:399: FutureWarning:\n",
      "\n",
      "Conversion of the second argument of issubdtype from `float` to `np.floating` is deprecated. In future, it will be treated as `np.float64 == np.dtype(float).type`.\n",
      "\n",
      "C:\\Users\\Michael\\Anaconda3\\envs\\learn-env\\lib\\site-packages\\ipykernel_launcher.py:40: FutureWarning:\n",
      "\n",
      "'variable' is both an index level and a column label.\n",
      "Defaulting to column, but this will raise an ambiguity error in a future version\n",
      "\n",
      "C:\\Users\\Michael\\Anaconda3\\envs\\learn-env\\lib\\site-packages\\ipykernel_launcher.py:44: FutureWarning:\n",
      "\n",
      "'variable' is both an index level and a column label.\n",
      "Defaulting to column, but this will raise an ambiguity error in a future version\n",
      "\n",
      "INFO:fbprophet:Disabling weekly seasonality. Run prophet with weekly_seasonality=True to override this.\n",
      "INFO:fbprophet:Disabling daily seasonality. Run prophet with daily_seasonality=True to override this.\n"
     ]
    },
    {
     "name": "stdout",
     "output_type": "stream",
     "text": [
      "[51086.99992915322, 94665.22465190479]\n"
     ]
    },
    {
     "name": "stderr",
     "output_type": "stream",
     "text": [
      "C:\\Users\\Michael\\Anaconda3\\envs\\learn-env\\lib\\site-packages\\pystan\\misc.py:399: FutureWarning:\n",
      "\n",
      "Conversion of the second argument of issubdtype from `float` to `np.floating` is deprecated. In future, it will be treated as `np.float64 == np.dtype(float).type`.\n",
      "\n",
      "C:\\Users\\Michael\\Anaconda3\\envs\\learn-env\\lib\\site-packages\\ipykernel_launcher.py:60: FutureWarning:\n",
      "\n",
      "'variable' is both an index level and a column label.\n",
      "Defaulting to column, but this will raise an ambiguity error in a future version\n",
      "\n",
      "C:\\Users\\Michael\\Anaconda3\\envs\\learn-env\\lib\\site-packages\\ipykernel_launcher.py:63: FutureWarning:\n",
      "\n",
      "'variable' is both an index level and a column label.\n",
      "Defaulting to column, but this will raise an ambiguity error in a future version\n",
      "\n",
      "INFO:fbprophet:Disabling weekly seasonality. Run prophet with weekly_seasonality=True to override this.\n",
      "INFO:fbprophet:Disabling daily seasonality. Run prophet with daily_seasonality=True to override this.\n"
     ]
    },
    {
     "name": "stdout",
     "output_type": "stream",
     "text": [
      "[51086.99992915322, 94665.22465190479, 87389.70892134616]\n",
      "[51086.99992915322, 94665.22465190479, 87389.70892134616]\n"
     ]
    },
    {
     "name": "stderr",
     "output_type": "stream",
     "text": [
      "C:\\Users\\Michael\\Anaconda3\\envs\\learn-env\\lib\\site-packages\\pystan\\misc.py:399: FutureWarning:\n",
      "\n",
      "Conversion of the second argument of issubdtype from `float` to `np.floating` is deprecated. In future, it will be treated as `np.float64 == np.dtype(float).type`.\n",
      "\n",
      "C:\\Users\\Michael\\Anaconda3\\envs\\learn-env\\lib\\site-packages\\ipykernel_launcher.py:40: FutureWarning:\n",
      "\n",
      "'variable' is both an index level and a column label.\n",
      "Defaulting to column, but this will raise an ambiguity error in a future version\n",
      "\n",
      "C:\\Users\\Michael\\Anaconda3\\envs\\learn-env\\lib\\site-packages\\ipykernel_launcher.py:44: FutureWarning:\n",
      "\n",
      "'variable' is both an index level and a column label.\n",
      "Defaulting to column, but this will raise an ambiguity error in a future version\n",
      "\n",
      "INFO:fbprophet:Disabling weekly seasonality. Run prophet with weekly_seasonality=True to override this.\n",
      "INFO:fbprophet:Disabling daily seasonality. Run prophet with daily_seasonality=True to override this.\n"
     ]
    },
    {
     "name": "stdout",
     "output_type": "stream",
     "text": [
      " 91 progress so far\n"
     ]
    },
    {
     "name": "stderr",
     "output_type": "stream",
     "text": [
      "C:\\Users\\Michael\\Anaconda3\\envs\\learn-env\\lib\\site-packages\\ipykernel_launcher.py:40: FutureWarning:\n",
      "\n",
      "'variable' is both an index level and a column label.\n",
      "Defaulting to column, but this will raise an ambiguity error in a future version\n",
      "\n",
      "C:\\Users\\Michael\\Anaconda3\\envs\\learn-env\\lib\\site-packages\\ipykernel_launcher.py:44: FutureWarning:\n",
      "\n",
      "'variable' is both an index level and a column label.\n",
      "Defaulting to column, but this will raise an ambiguity error in a future version\n",
      "\n",
      "INFO:fbprophet:Disabling weekly seasonality. Run prophet with weekly_seasonality=True to override this.\n",
      "INFO:fbprophet:Disabling daily seasonality. Run prophet with daily_seasonality=True to override this.\n"
     ]
    },
    {
     "name": "stdout",
     "output_type": "stream",
     "text": [
      "[102594.28458022802]\n"
     ]
    },
    {
     "name": "stderr",
     "output_type": "stream",
     "text": [
      "C:\\Users\\Michael\\Anaconda3\\envs\\learn-env\\lib\\site-packages\\pystan\\misc.py:399: FutureWarning:\n",
      "\n",
      "Conversion of the second argument of issubdtype from `float` to `np.floating` is deprecated. In future, it will be treated as `np.float64 == np.dtype(float).type`.\n",
      "\n",
      "C:\\Users\\Michael\\Anaconda3\\envs\\learn-env\\lib\\site-packages\\ipykernel_launcher.py:40: FutureWarning:\n",
      "\n",
      "'variable' is both an index level and a column label.\n",
      "Defaulting to column, but this will raise an ambiguity error in a future version\n",
      "\n",
      "C:\\Users\\Michael\\Anaconda3\\envs\\learn-env\\lib\\site-packages\\ipykernel_launcher.py:44: FutureWarning:\n",
      "\n",
      "'variable' is both an index level and a column label.\n",
      "Defaulting to column, but this will raise an ambiguity error in a future version\n",
      "\n",
      "INFO:fbprophet:Disabling weekly seasonality. Run prophet with weekly_seasonality=True to override this.\n",
      "INFO:fbprophet:Disabling daily seasonality. Run prophet with daily_seasonality=True to override this.\n"
     ]
    },
    {
     "name": "stdout",
     "output_type": "stream",
     "text": [
      "[102594.28458022802, 116166.00377479746]\n"
     ]
    },
    {
     "name": "stderr",
     "output_type": "stream",
     "text": [
      "C:\\Users\\Michael\\Anaconda3\\envs\\learn-env\\lib\\site-packages\\pystan\\misc.py:399: FutureWarning:\n",
      "\n",
      "Conversion of the second argument of issubdtype from `float` to `np.floating` is deprecated. In future, it will be treated as `np.float64 == np.dtype(float).type`.\n",
      "\n",
      "C:\\Users\\Michael\\Anaconda3\\envs\\learn-env\\lib\\site-packages\\ipykernel_launcher.py:60: FutureWarning:\n",
      "\n",
      "'variable' is both an index level and a column label.\n",
      "Defaulting to column, but this will raise an ambiguity error in a future version\n",
      "\n",
      "C:\\Users\\Michael\\Anaconda3\\envs\\learn-env\\lib\\site-packages\\ipykernel_launcher.py:63: FutureWarning:\n",
      "\n",
      "'variable' is both an index level and a column label.\n",
      "Defaulting to column, but this will raise an ambiguity error in a future version\n",
      "\n",
      "INFO:fbprophet:Disabling weekly seasonality. Run prophet with weekly_seasonality=True to override this.\n",
      "INFO:fbprophet:Disabling daily seasonality. Run prophet with daily_seasonality=True to override this.\n"
     ]
    },
    {
     "name": "stdout",
     "output_type": "stream",
     "text": [
      "[102594.28458022802, 116166.00377479746, 141714.78643784797]\n",
      "[102594.28458022802, 116166.00377479746, 141714.78643784797]\n"
     ]
    },
    {
     "name": "stderr",
     "output_type": "stream",
     "text": [
      "C:\\Users\\Michael\\Anaconda3\\envs\\learn-env\\lib\\site-packages\\pystan\\misc.py:399: FutureWarning:\n",
      "\n",
      "Conversion of the second argument of issubdtype from `float` to `np.floating` is deprecated. In future, it will be treated as `np.float64 == np.dtype(float).type`.\n",
      "\n",
      "C:\\Users\\Michael\\Anaconda3\\envs\\learn-env\\lib\\site-packages\\ipykernel_launcher.py:40: FutureWarning:\n",
      "\n",
      "'variable' is both an index level and a column label.\n",
      "Defaulting to column, but this will raise an ambiguity error in a future version\n",
      "\n",
      "C:\\Users\\Michael\\Anaconda3\\envs\\learn-env\\lib\\site-packages\\ipykernel_launcher.py:44: FutureWarning:\n",
      "\n",
      "'variable' is both an index level and a column label.\n",
      "Defaulting to column, but this will raise an ambiguity error in a future version\n",
      "\n",
      "INFO:fbprophet:Disabling weekly seasonality. Run prophet with weekly_seasonality=True to override this.\n",
      "INFO:fbprophet:Disabling daily seasonality. Run prophet with daily_seasonality=True to override this.\n"
     ]
    },
    {
     "name": "stdout",
     "output_type": "stream",
     "text": [
      " 92 progress so far\n"
     ]
    },
    {
     "name": "stderr",
     "output_type": "stream",
     "text": [
      "C:\\Users\\Michael\\Anaconda3\\envs\\learn-env\\lib\\site-packages\\ipykernel_launcher.py:40: FutureWarning:\n",
      "\n",
      "'variable' is both an index level and a column label.\n",
      "Defaulting to column, but this will raise an ambiguity error in a future version\n",
      "\n",
      "C:\\Users\\Michael\\Anaconda3\\envs\\learn-env\\lib\\site-packages\\ipykernel_launcher.py:44: FutureWarning:\n",
      "\n",
      "'variable' is both an index level and a column label.\n",
      "Defaulting to column, but this will raise an ambiguity error in a future version\n",
      "\n",
      "INFO:fbprophet:Disabling weekly seasonality. Run prophet with weekly_seasonality=True to override this.\n",
      "INFO:fbprophet:Disabling daily seasonality. Run prophet with daily_seasonality=True to override this.\n"
     ]
    },
    {
     "name": "stdout",
     "output_type": "stream",
     "text": [
      "[89848.8660817052]\n"
     ]
    },
    {
     "name": "stderr",
     "output_type": "stream",
     "text": [
      "C:\\Users\\Michael\\Anaconda3\\envs\\learn-env\\lib\\site-packages\\pystan\\misc.py:399: FutureWarning:\n",
      "\n",
      "Conversion of the second argument of issubdtype from `float` to `np.floating` is deprecated. In future, it will be treated as `np.float64 == np.dtype(float).type`.\n",
      "\n",
      "C:\\Users\\Michael\\Anaconda3\\envs\\learn-env\\lib\\site-packages\\ipykernel_launcher.py:40: FutureWarning:\n",
      "\n",
      "'variable' is both an index level and a column label.\n",
      "Defaulting to column, but this will raise an ambiguity error in a future version\n",
      "\n",
      "C:\\Users\\Michael\\Anaconda3\\envs\\learn-env\\lib\\site-packages\\ipykernel_launcher.py:44: FutureWarning:\n",
      "\n",
      "'variable' is both an index level and a column label.\n",
      "Defaulting to column, but this will raise an ambiguity error in a future version\n",
      "\n",
      "INFO:fbprophet:Disabling weekly seasonality. Run prophet with weekly_seasonality=True to override this.\n",
      "INFO:fbprophet:Disabling daily seasonality. Run prophet with daily_seasonality=True to override this.\n"
     ]
    },
    {
     "name": "stdout",
     "output_type": "stream",
     "text": [
      "[89848.8660817052, 111706.07838828204]\n"
     ]
    },
    {
     "name": "stderr",
     "output_type": "stream",
     "text": [
      "C:\\Users\\Michael\\Anaconda3\\envs\\learn-env\\lib\\site-packages\\pystan\\misc.py:399: FutureWarning:\n",
      "\n",
      "Conversion of the second argument of issubdtype from `float` to `np.floating` is deprecated. In future, it will be treated as `np.float64 == np.dtype(float).type`.\n",
      "\n",
      "C:\\Users\\Michael\\Anaconda3\\envs\\learn-env\\lib\\site-packages\\ipykernel_launcher.py:60: FutureWarning:\n",
      "\n",
      "'variable' is both an index level and a column label.\n",
      "Defaulting to column, but this will raise an ambiguity error in a future version\n",
      "\n",
      "C:\\Users\\Michael\\Anaconda3\\envs\\learn-env\\lib\\site-packages\\ipykernel_launcher.py:63: FutureWarning:\n",
      "\n",
      "'variable' is both an index level and a column label.\n",
      "Defaulting to column, but this will raise an ambiguity error in a future version\n",
      "\n",
      "INFO:fbprophet:Disabling weekly seasonality. Run prophet with weekly_seasonality=True to override this.\n"
     ]
    },
    {
     "name": "stdout",
     "output_type": "stream",
     "text": [
      "[89848.8660817052, 111706.07838828204, 137955.4716203525]\n",
      "[89848.8660817052, 111706.07838828204, 137955.4716203525]\n"
     ]
    },
    {
     "name": "stderr",
     "output_type": "stream",
     "text": [
      "INFO:fbprophet:Disabling daily seasonality. Run prophet with daily_seasonality=True to override this.\n",
      "C:\\Users\\Michael\\Anaconda3\\envs\\learn-env\\lib\\site-packages\\pystan\\misc.py:399: FutureWarning:\n",
      "\n",
      "Conversion of the second argument of issubdtype from `float` to `np.floating` is deprecated. In future, it will be treated as `np.float64 == np.dtype(float).type`.\n",
      "\n"
     ]
    },
    {
     "name": "stdout",
     "output_type": "stream",
     "text": [
      " 93 progress so far\n"
     ]
    },
    {
     "name": "stderr",
     "output_type": "stream",
     "text": [
      "C:\\Users\\Michael\\Anaconda3\\envs\\learn-env\\lib\\site-packages\\ipykernel_launcher.py:40: FutureWarning:\n",
      "\n",
      "'variable' is both an index level and a column label.\n",
      "Defaulting to column, but this will raise an ambiguity error in a future version\n",
      "\n",
      "C:\\Users\\Michael\\Anaconda3\\envs\\learn-env\\lib\\site-packages\\ipykernel_launcher.py:44: FutureWarning:\n",
      "\n",
      "'variable' is both an index level and a column label.\n",
      "Defaulting to column, but this will raise an ambiguity error in a future version\n",
      "\n",
      "INFO:fbprophet:Disabling weekly seasonality. Run prophet with weekly_seasonality=True to override this.\n",
      "INFO:fbprophet:Disabling daily seasonality. Run prophet with daily_seasonality=True to override this.\n",
      "C:\\Users\\Michael\\Anaconda3\\envs\\learn-env\\lib\\site-packages\\ipykernel_launcher.py:40: FutureWarning:\n",
      "\n",
      "'variable' is both an index level and a column label.\n",
      "Defaulting to column, but this will raise an ambiguity error in a future version\n",
      "\n",
      "C:\\Users\\Michael\\Anaconda3\\envs\\learn-env\\lib\\site-packages\\ipykernel_launcher.py:44: FutureWarning:\n",
      "\n",
      "'variable' is both an index level and a column label.\n",
      "Defaulting to column, but this will raise an ambiguity error in a future version\n",
      "\n",
      "INFO:fbprophet:Disabling weekly seasonality. Run prophet with weekly_seasonality=True to override this.\n",
      "INFO:fbprophet:Disabling daily seasonality. Run prophet with daily_seasonality=True to override this.\n"
     ]
    },
    {
     "name": "stdout",
     "output_type": "stream",
     "text": [
      "[177026.07696999135]\n"
     ]
    },
    {
     "name": "stderr",
     "output_type": "stream",
     "text": [
      "C:\\Users\\Michael\\Anaconda3\\envs\\learn-env\\lib\\site-packages\\pystan\\misc.py:399: FutureWarning:\n",
      "\n",
      "Conversion of the second argument of issubdtype from `float` to `np.floating` is deprecated. In future, it will be treated as `np.float64 == np.dtype(float).type`.\n",
      "\n",
      "C:\\Users\\Michael\\Anaconda3\\envs\\learn-env\\lib\\site-packages\\ipykernel_launcher.py:40: FutureWarning:\n",
      "\n",
      "'variable' is both an index level and a column label.\n",
      "Defaulting to column, but this will raise an ambiguity error in a future version\n",
      "\n",
      "C:\\Users\\Michael\\Anaconda3\\envs\\learn-env\\lib\\site-packages\\ipykernel_launcher.py:44: FutureWarning:\n",
      "\n",
      "'variable' is both an index level and a column label.\n",
      "Defaulting to column, but this will raise an ambiguity error in a future version\n",
      "\n",
      "INFO:fbprophet:Disabling weekly seasonality. Run prophet with weekly_seasonality=True to override this.\n",
      "INFO:fbprophet:Disabling daily seasonality. Run prophet with daily_seasonality=True to override this.\n"
     ]
    },
    {
     "name": "stdout",
     "output_type": "stream",
     "text": [
      "[177026.07696999135, 228701.8722084115]\n"
     ]
    },
    {
     "name": "stderr",
     "output_type": "stream",
     "text": [
      "C:\\Users\\Michael\\Anaconda3\\envs\\learn-env\\lib\\site-packages\\pystan\\misc.py:399: FutureWarning:\n",
      "\n",
      "Conversion of the second argument of issubdtype from `float` to `np.floating` is deprecated. In future, it will be treated as `np.float64 == np.dtype(float).type`.\n",
      "\n",
      "C:\\Users\\Michael\\Anaconda3\\envs\\learn-env\\lib\\site-packages\\ipykernel_launcher.py:60: FutureWarning:\n",
      "\n",
      "'variable' is both an index level and a column label.\n",
      "Defaulting to column, but this will raise an ambiguity error in a future version\n",
      "\n",
      "C:\\Users\\Michael\\Anaconda3\\envs\\learn-env\\lib\\site-packages\\ipykernel_launcher.py:63: FutureWarning:\n",
      "\n",
      "'variable' is both an index level and a column label.\n",
      "Defaulting to column, but this will raise an ambiguity error in a future version\n",
      "\n",
      "INFO:fbprophet:Disabling weekly seasonality. Run prophet with weekly_seasonality=True to override this.\n",
      "INFO:fbprophet:Disabling daily seasonality. Run prophet with daily_seasonality=True to override this.\n"
     ]
    },
    {
     "name": "stdout",
     "output_type": "stream",
     "text": [
      "[177026.07696999135, 228701.8722084115, 267205.11385087384]\n",
      "[177026.07696999135, 228701.8722084115, 267205.11385087384]\n"
     ]
    },
    {
     "name": "stderr",
     "output_type": "stream",
     "text": [
      "C:\\Users\\Michael\\Anaconda3\\envs\\learn-env\\lib\\site-packages\\pystan\\misc.py:399: FutureWarning:\n",
      "\n",
      "Conversion of the second argument of issubdtype from `float` to `np.floating` is deprecated. In future, it will be treated as `np.float64 == np.dtype(float).type`.\n",
      "\n",
      "C:\\Users\\Michael\\Anaconda3\\envs\\learn-env\\lib\\site-packages\\ipykernel_launcher.py:40: FutureWarning:\n",
      "\n",
      "'variable' is both an index level and a column label.\n",
      "Defaulting to column, but this will raise an ambiguity error in a future version\n",
      "\n",
      "C:\\Users\\Michael\\Anaconda3\\envs\\learn-env\\lib\\site-packages\\ipykernel_launcher.py:44: FutureWarning:\n",
      "\n",
      "'variable' is both an index level and a column label.\n",
      "Defaulting to column, but this will raise an ambiguity error in a future version\n",
      "\n",
      "INFO:fbprophet:Disabling weekly seasonality. Run prophet with weekly_seasonality=True to override this.\n",
      "INFO:fbprophet:Disabling daily seasonality. Run prophet with daily_seasonality=True to override this.\n"
     ]
    },
    {
     "name": "stdout",
     "output_type": "stream",
     "text": [
      " 94 progress so far\n"
     ]
    },
    {
     "name": "stderr",
     "output_type": "stream",
     "text": [
      "C:\\Users\\Michael\\Anaconda3\\envs\\learn-env\\lib\\site-packages\\ipykernel_launcher.py:40: FutureWarning:\n",
      "\n",
      "'variable' is both an index level and a column label.\n",
      "Defaulting to column, but this will raise an ambiguity error in a future version\n",
      "\n",
      "C:\\Users\\Michael\\Anaconda3\\envs\\learn-env\\lib\\site-packages\\ipykernel_launcher.py:44: FutureWarning:\n",
      "\n",
      "'variable' is both an index level and a column label.\n",
      "Defaulting to column, but this will raise an ambiguity error in a future version\n",
      "\n",
      "INFO:fbprophet:Disabling weekly seasonality. Run prophet with weekly_seasonality=True to override this.\n",
      "INFO:fbprophet:Disabling daily seasonality. Run prophet with daily_seasonality=True to override this.\n"
     ]
    },
    {
     "name": "stdout",
     "output_type": "stream",
     "text": [
      "[359791.622848301]\n"
     ]
    },
    {
     "name": "stderr",
     "output_type": "stream",
     "text": [
      "C:\\Users\\Michael\\Anaconda3\\envs\\learn-env\\lib\\site-packages\\pystan\\misc.py:399: FutureWarning:\n",
      "\n",
      "Conversion of the second argument of issubdtype from `float` to `np.floating` is deprecated. In future, it will be treated as `np.float64 == np.dtype(float).type`.\n",
      "\n",
      "C:\\Users\\Michael\\Anaconda3\\envs\\learn-env\\lib\\site-packages\\ipykernel_launcher.py:40: FutureWarning:\n",
      "\n",
      "'variable' is both an index level and a column label.\n",
      "Defaulting to column, but this will raise an ambiguity error in a future version\n",
      "\n",
      "C:\\Users\\Michael\\Anaconda3\\envs\\learn-env\\lib\\site-packages\\ipykernel_launcher.py:44: FutureWarning:\n",
      "\n",
      "'variable' is both an index level and a column label.\n",
      "Defaulting to column, but this will raise an ambiguity error in a future version\n",
      "\n",
      "INFO:fbprophet:Disabling weekly seasonality. Run prophet with weekly_seasonality=True to override this.\n",
      "INFO:fbprophet:Disabling daily seasonality. Run prophet with daily_seasonality=True to override this.\n"
     ]
    },
    {
     "name": "stdout",
     "output_type": "stream",
     "text": [
      "[359791.622848301, 264435.1711835946]\n"
     ]
    },
    {
     "name": "stderr",
     "output_type": "stream",
     "text": [
      "C:\\Users\\Michael\\Anaconda3\\envs\\learn-env\\lib\\site-packages\\pystan\\misc.py:399: FutureWarning:\n",
      "\n",
      "Conversion of the second argument of issubdtype from `float` to `np.floating` is deprecated. In future, it will be treated as `np.float64 == np.dtype(float).type`.\n",
      "\n",
      "C:\\Users\\Michael\\Anaconda3\\envs\\learn-env\\lib\\site-packages\\ipykernel_launcher.py:60: FutureWarning:\n",
      "\n",
      "'variable' is both an index level and a column label.\n",
      "Defaulting to column, but this will raise an ambiguity error in a future version\n",
      "\n",
      "C:\\Users\\Michael\\Anaconda3\\envs\\learn-env\\lib\\site-packages\\ipykernel_launcher.py:63: FutureWarning:\n",
      "\n",
      "'variable' is both an index level and a column label.\n",
      "Defaulting to column, but this will raise an ambiguity error in a future version\n",
      "\n",
      "INFO:fbprophet:Disabling weekly seasonality. Run prophet with weekly_seasonality=True to override this.\n"
     ]
    },
    {
     "name": "stdout",
     "output_type": "stream",
     "text": [
      "[359791.622848301, 264435.1711835946, 140620.53466074888]\n",
      "[359791.622848301, 264435.1711835946, 140620.53466074888]\n"
     ]
    },
    {
     "name": "stderr",
     "output_type": "stream",
     "text": [
      "INFO:fbprophet:Disabling daily seasonality. Run prophet with daily_seasonality=True to override this.\n",
      "C:\\Users\\Michael\\Anaconda3\\envs\\learn-env\\lib\\site-packages\\pystan\\misc.py:399: FutureWarning:\n",
      "\n",
      "Conversion of the second argument of issubdtype from `float` to `np.floating` is deprecated. In future, it will be treated as `np.float64 == np.dtype(float).type`.\n",
      "\n",
      "C:\\Users\\Michael\\Anaconda3\\envs\\learn-env\\lib\\site-packages\\ipykernel_launcher.py:40: FutureWarning:\n",
      "\n",
      "'variable' is both an index level and a column label.\n",
      "Defaulting to column, but this will raise an ambiguity error in a future version\n",
      "\n",
      "C:\\Users\\Michael\\Anaconda3\\envs\\learn-env\\lib\\site-packages\\ipykernel_launcher.py:44: FutureWarning:\n",
      "\n",
      "'variable' is both an index level and a column label.\n",
      "Defaulting to column, but this will raise an ambiguity error in a future version\n",
      "\n",
      "INFO:fbprophet:Disabling weekly seasonality. Run prophet with weekly_seasonality=True to override this.\n",
      "INFO:fbprophet:Disabling daily seasonality. Run prophet with daily_seasonality=True to override this.\n"
     ]
    },
    {
     "name": "stdout",
     "output_type": "stream",
     "text": [
      " 95 progress so far\n"
     ]
    },
    {
     "name": "stderr",
     "output_type": "stream",
     "text": [
      "C:\\Users\\Michael\\Anaconda3\\envs\\learn-env\\lib\\site-packages\\ipykernel_launcher.py:40: FutureWarning:\n",
      "\n",
      "'variable' is both an index level and a column label.\n",
      "Defaulting to column, but this will raise an ambiguity error in a future version\n",
      "\n",
      "C:\\Users\\Michael\\Anaconda3\\envs\\learn-env\\lib\\site-packages\\ipykernel_launcher.py:44: FutureWarning:\n",
      "\n",
      "'variable' is both an index level and a column label.\n",
      "Defaulting to column, but this will raise an ambiguity error in a future version\n",
      "\n",
      "INFO:fbprophet:Disabling weekly seasonality. Run prophet with weekly_seasonality=True to override this.\n",
      "INFO:fbprophet:Disabling daily seasonality. Run prophet with daily_seasonality=True to override this.\n"
     ]
    },
    {
     "name": "stdout",
     "output_type": "stream",
     "text": [
      "[264909.37246959517]\n"
     ]
    },
    {
     "name": "stderr",
     "output_type": "stream",
     "text": [
      "C:\\Users\\Michael\\Anaconda3\\envs\\learn-env\\lib\\site-packages\\pystan\\misc.py:399: FutureWarning:\n",
      "\n",
      "Conversion of the second argument of issubdtype from `float` to `np.floating` is deprecated. In future, it will be treated as `np.float64 == np.dtype(float).type`.\n",
      "\n",
      "C:\\Users\\Michael\\Anaconda3\\envs\\learn-env\\lib\\site-packages\\ipykernel_launcher.py:40: FutureWarning:\n",
      "\n",
      "'variable' is both an index level and a column label.\n",
      "Defaulting to column, but this will raise an ambiguity error in a future version\n",
      "\n",
      "C:\\Users\\Michael\\Anaconda3\\envs\\learn-env\\lib\\site-packages\\ipykernel_launcher.py:44: FutureWarning:\n",
      "\n",
      "'variable' is both an index level and a column label.\n",
      "Defaulting to column, but this will raise an ambiguity error in a future version\n",
      "\n",
      "INFO:fbprophet:Disabling weekly seasonality. Run prophet with weekly_seasonality=True to override this.\n",
      "INFO:fbprophet:Disabling daily seasonality. Run prophet with daily_seasonality=True to override this.\n"
     ]
    },
    {
     "name": "stdout",
     "output_type": "stream",
     "text": [
      "[264909.37246959517, 263824.24297399947]\n"
     ]
    },
    {
     "name": "stderr",
     "output_type": "stream",
     "text": [
      "C:\\Users\\Michael\\Anaconda3\\envs\\learn-env\\lib\\site-packages\\pystan\\misc.py:399: FutureWarning:\n",
      "\n",
      "Conversion of the second argument of issubdtype from `float` to `np.floating` is deprecated. In future, it will be treated as `np.float64 == np.dtype(float).type`.\n",
      "\n"
     ]
    },
    {
     "name": "stdout",
     "output_type": "stream",
     "text": [
      "[264909.37246959517, 263824.24297399947, 197007.85495473683]\n",
      "[264909.37246959517, 263824.24297399947, 197007.85495473683]\n"
     ]
    },
    {
     "name": "stderr",
     "output_type": "stream",
     "text": [
      "C:\\Users\\Michael\\Anaconda3\\envs\\learn-env\\lib\\site-packages\\ipykernel_launcher.py:60: FutureWarning:\n",
      "\n",
      "'variable' is both an index level and a column label.\n",
      "Defaulting to column, but this will raise an ambiguity error in a future version\n",
      "\n",
      "C:\\Users\\Michael\\Anaconda3\\envs\\learn-env\\lib\\site-packages\\ipykernel_launcher.py:63: FutureWarning:\n",
      "\n",
      "'variable' is both an index level and a column label.\n",
      "Defaulting to column, but this will raise an ambiguity error in a future version\n",
      "\n",
      "INFO:fbprophet:Disabling weekly seasonality. Run prophet with weekly_seasonality=True to override this.\n",
      "INFO:fbprophet:Disabling daily seasonality. Run prophet with daily_seasonality=True to override this.\n",
      "C:\\Users\\Michael\\Anaconda3\\envs\\learn-env\\lib\\site-packages\\pystan\\misc.py:399: FutureWarning:\n",
      "\n",
      "Conversion of the second argument of issubdtype from `float` to `np.floating` is deprecated. In future, it will be treated as `np.float64 == np.dtype(float).type`.\n",
      "\n",
      "C:\\Users\\Michael\\Anaconda3\\envs\\learn-env\\lib\\site-packages\\ipykernel_launcher.py:40: FutureWarning:\n",
      "\n",
      "'variable' is both an index level and a column label.\n",
      "Defaulting to column, but this will raise an ambiguity error in a future version\n",
      "\n",
      "C:\\Users\\Michael\\Anaconda3\\envs\\learn-env\\lib\\site-packages\\ipykernel_launcher.py:44: FutureWarning:\n",
      "\n",
      "'variable' is both an index level and a column label.\n",
      "Defaulting to column, but this will raise an ambiguity error in a future version\n",
      "\n",
      "INFO:fbprophet:Disabling weekly seasonality. Run prophet with weekly_seasonality=True to override this.\n",
      "INFO:fbprophet:Disabling daily seasonality. Run prophet with daily_seasonality=True to override this.\n"
     ]
    },
    {
     "name": "stdout",
     "output_type": "stream",
     "text": [
      " 96 progress so far\n"
     ]
    },
    {
     "name": "stderr",
     "output_type": "stream",
     "text": [
      "C:\\Users\\Michael\\Anaconda3\\envs\\learn-env\\lib\\site-packages\\ipykernel_launcher.py:40: FutureWarning:\n",
      "\n",
      "'variable' is both an index level and a column label.\n",
      "Defaulting to column, but this will raise an ambiguity error in a future version\n",
      "\n",
      "C:\\Users\\Michael\\Anaconda3\\envs\\learn-env\\lib\\site-packages\\ipykernel_launcher.py:44: FutureWarning:\n",
      "\n",
      "'variable' is both an index level and a column label.\n",
      "Defaulting to column, but this will raise an ambiguity error in a future version\n",
      "\n",
      "INFO:fbprophet:Disabling weekly seasonality. Run prophet with weekly_seasonality=True to override this.\n",
      "INFO:fbprophet:Disabling daily seasonality. Run prophet with daily_seasonality=True to override this.\n"
     ]
    },
    {
     "name": "stdout",
     "output_type": "stream",
     "text": [
      "[547486.4440143387]\n"
     ]
    },
    {
     "name": "stderr",
     "output_type": "stream",
     "text": [
      "C:\\Users\\Michael\\Anaconda3\\envs\\learn-env\\lib\\site-packages\\pystan\\misc.py:399: FutureWarning:\n",
      "\n",
      "Conversion of the second argument of issubdtype from `float` to `np.floating` is deprecated. In future, it will be treated as `np.float64 == np.dtype(float).type`.\n",
      "\n",
      "C:\\Users\\Michael\\Anaconda3\\envs\\learn-env\\lib\\site-packages\\ipykernel_launcher.py:40: FutureWarning:\n",
      "\n",
      "'variable' is both an index level and a column label.\n",
      "Defaulting to column, but this will raise an ambiguity error in a future version\n",
      "\n",
      "C:\\Users\\Michael\\Anaconda3\\envs\\learn-env\\lib\\site-packages\\ipykernel_launcher.py:44: FutureWarning:\n",
      "\n",
      "'variable' is both an index level and a column label.\n",
      "Defaulting to column, but this will raise an ambiguity error in a future version\n",
      "\n",
      "INFO:fbprophet:Disabling weekly seasonality. Run prophet with weekly_seasonality=True to override this.\n",
      "INFO:fbprophet:Disabling daily seasonality. Run prophet with daily_seasonality=True to override this.\n"
     ]
    },
    {
     "name": "stdout",
     "output_type": "stream",
     "text": [
      "[547486.4440143387, 379745.49918178865]\n"
     ]
    },
    {
     "name": "stderr",
     "output_type": "stream",
     "text": [
      "C:\\Users\\Michael\\Anaconda3\\envs\\learn-env\\lib\\site-packages\\pystan\\misc.py:399: FutureWarning:\n",
      "\n",
      "Conversion of the second argument of issubdtype from `float` to `np.floating` is deprecated. In future, it will be treated as `np.float64 == np.dtype(float).type`.\n",
      "\n"
     ]
    },
    {
     "name": "stdout",
     "output_type": "stream",
     "text": [
      "[547486.4440143387, 379745.49918178865, 133695.050845353]\n",
      "[547486.4440143387, 379745.49918178865, 133695.050845353]\n"
     ]
    },
    {
     "name": "stderr",
     "output_type": "stream",
     "text": [
      "C:\\Users\\Michael\\Anaconda3\\envs\\learn-env\\lib\\site-packages\\ipykernel_launcher.py:60: FutureWarning:\n",
      "\n",
      "'variable' is both an index level and a column label.\n",
      "Defaulting to column, but this will raise an ambiguity error in a future version\n",
      "\n",
      "C:\\Users\\Michael\\Anaconda3\\envs\\learn-env\\lib\\site-packages\\ipykernel_launcher.py:63: FutureWarning:\n",
      "\n",
      "'variable' is both an index level and a column label.\n",
      "Defaulting to column, but this will raise an ambiguity error in a future version\n",
      "\n",
      "INFO:fbprophet:Disabling weekly seasonality. Run prophet with weekly_seasonality=True to override this.\n",
      "INFO:fbprophet:Disabling daily seasonality. Run prophet with daily_seasonality=True to override this.\n",
      "C:\\Users\\Michael\\Anaconda3\\envs\\learn-env\\lib\\site-packages\\pystan\\misc.py:399: FutureWarning:\n",
      "\n",
      "Conversion of the second argument of issubdtype from `float` to `np.floating` is deprecated. In future, it will be treated as `np.float64 == np.dtype(float).type`.\n",
      "\n",
      "C:\\Users\\Michael\\Anaconda3\\envs\\learn-env\\lib\\site-packages\\ipykernel_launcher.py:40: FutureWarning:\n",
      "\n",
      "'variable' is both an index level and a column label.\n",
      "Defaulting to column, but this will raise an ambiguity error in a future version\n",
      "\n",
      "C:\\Users\\Michael\\Anaconda3\\envs\\learn-env\\lib\\site-packages\\ipykernel_launcher.py:44: FutureWarning:\n",
      "\n",
      "'variable' is both an index level and a column label.\n",
      "Defaulting to column, but this will raise an ambiguity error in a future version\n",
      "\n",
      "INFO:fbprophet:Disabling weekly seasonality. Run prophet with weekly_seasonality=True to override this.\n",
      "INFO:fbprophet:Disabling daily seasonality. Run prophet with daily_seasonality=True to override this.\n"
     ]
    },
    {
     "name": "stdout",
     "output_type": "stream",
     "text": [
      " 97 progress so far\n"
     ]
    },
    {
     "name": "stderr",
     "output_type": "stream",
     "text": [
      "C:\\Users\\Michael\\Anaconda3\\envs\\learn-env\\lib\\site-packages\\ipykernel_launcher.py:40: FutureWarning:\n",
      "\n",
      "'variable' is both an index level and a column label.\n",
      "Defaulting to column, but this will raise an ambiguity error in a future version\n",
      "\n",
      "C:\\Users\\Michael\\Anaconda3\\envs\\learn-env\\lib\\site-packages\\ipykernel_launcher.py:44: FutureWarning:\n",
      "\n",
      "'variable' is both an index level and a column label.\n",
      "Defaulting to column, but this will raise an ambiguity error in a future version\n",
      "\n",
      "INFO:fbprophet:Disabling weekly seasonality. Run prophet with weekly_seasonality=True to override this.\n",
      "INFO:fbprophet:Disabling daily seasonality. Run prophet with daily_seasonality=True to override this.\n"
     ]
    },
    {
     "name": "stdout",
     "output_type": "stream",
     "text": [
      "[178471.7179177524]\n"
     ]
    },
    {
     "name": "stderr",
     "output_type": "stream",
     "text": [
      "C:\\Users\\Michael\\Anaconda3\\envs\\learn-env\\lib\\site-packages\\pystan\\misc.py:399: FutureWarning:\n",
      "\n",
      "Conversion of the second argument of issubdtype from `float` to `np.floating` is deprecated. In future, it will be treated as `np.float64 == np.dtype(float).type`.\n",
      "\n",
      "C:\\Users\\Michael\\Anaconda3\\envs\\learn-env\\lib\\site-packages\\ipykernel_launcher.py:40: FutureWarning:\n",
      "\n",
      "'variable' is both an index level and a column label.\n",
      "Defaulting to column, but this will raise an ambiguity error in a future version\n",
      "\n",
      "C:\\Users\\Michael\\Anaconda3\\envs\\learn-env\\lib\\site-packages\\ipykernel_launcher.py:44: FutureWarning:\n",
      "\n",
      "'variable' is both an index level and a column label.\n",
      "Defaulting to column, but this will raise an ambiguity error in a future version\n",
      "\n",
      "INFO:fbprophet:Disabling weekly seasonality. Run prophet with weekly_seasonality=True to override this.\n",
      "INFO:fbprophet:Disabling daily seasonality. Run prophet with daily_seasonality=True to override this.\n"
     ]
    },
    {
     "name": "stdout",
     "output_type": "stream",
     "text": [
      "[178471.7179177524, 303693.4165272836]\n"
     ]
    },
    {
     "name": "stderr",
     "output_type": "stream",
     "text": [
      "C:\\Users\\Michael\\Anaconda3\\envs\\learn-env\\lib\\site-packages\\pystan\\misc.py:399: FutureWarning:\n",
      "\n",
      "Conversion of the second argument of issubdtype from `float` to `np.floating` is deprecated. In future, it will be treated as `np.float64 == np.dtype(float).type`.\n",
      "\n",
      "C:\\Users\\Michael\\Anaconda3\\envs\\learn-env\\lib\\site-packages\\ipykernel_launcher.py:60: FutureWarning:\n",
      "\n",
      "'variable' is both an index level and a column label.\n",
      "Defaulting to column, but this will raise an ambiguity error in a future version\n",
      "\n",
      "C:\\Users\\Michael\\Anaconda3\\envs\\learn-env\\lib\\site-packages\\ipykernel_launcher.py:63: FutureWarning:\n",
      "\n",
      "'variable' is both an index level and a column label.\n",
      "Defaulting to column, but this will raise an ambiguity error in a future version\n",
      "\n",
      "INFO:fbprophet:Disabling weekly seasonality. Run prophet with weekly_seasonality=True to override this.\n",
      "INFO:fbprophet:Disabling daily seasonality. Run prophet with daily_seasonality=True to override this.\n"
     ]
    },
    {
     "name": "stdout",
     "output_type": "stream",
     "text": [
      "[178471.7179177524, 303693.4165272836, 189944.19309090334]\n",
      "[178471.7179177524, 303693.4165272836, 189944.19309090334]\n"
     ]
    },
    {
     "name": "stderr",
     "output_type": "stream",
     "text": [
      "C:\\Users\\Michael\\Anaconda3\\envs\\learn-env\\lib\\site-packages\\pystan\\misc.py:399: FutureWarning:\n",
      "\n",
      "Conversion of the second argument of issubdtype from `float` to `np.floating` is deprecated. In future, it will be treated as `np.float64 == np.dtype(float).type`.\n",
      "\n",
      "C:\\Users\\Michael\\Anaconda3\\envs\\learn-env\\lib\\site-packages\\ipykernel_launcher.py:40: FutureWarning:\n",
      "\n",
      "'variable' is both an index level and a column label.\n",
      "Defaulting to column, but this will raise an ambiguity error in a future version\n",
      "\n",
      "C:\\Users\\Michael\\Anaconda3\\envs\\learn-env\\lib\\site-packages\\ipykernel_launcher.py:44: FutureWarning:\n",
      "\n",
      "'variable' is both an index level and a column label.\n",
      "Defaulting to column, but this will raise an ambiguity error in a future version\n",
      "\n",
      "INFO:fbprophet:Disabling weekly seasonality. Run prophet with weekly_seasonality=True to override this.\n",
      "INFO:fbprophet:Disabling daily seasonality. Run prophet with daily_seasonality=True to override this.\n"
     ]
    },
    {
     "name": "stdout",
     "output_type": "stream",
     "text": [
      " 98 progress so far\n"
     ]
    },
    {
     "name": "stderr",
     "output_type": "stream",
     "text": [
      "C:\\Users\\Michael\\Anaconda3\\envs\\learn-env\\lib\\site-packages\\ipykernel_launcher.py:40: FutureWarning:\n",
      "\n",
      "'variable' is both an index level and a column label.\n",
      "Defaulting to column, but this will raise an ambiguity error in a future version\n",
      "\n",
      "C:\\Users\\Michael\\Anaconda3\\envs\\learn-env\\lib\\site-packages\\ipykernel_launcher.py:44: FutureWarning:\n",
      "\n",
      "'variable' is both an index level and a column label.\n",
      "Defaulting to column, but this will raise an ambiguity error in a future version\n",
      "\n",
      "INFO:fbprophet:Disabling weekly seasonality. Run prophet with weekly_seasonality=True to override this.\n",
      "INFO:fbprophet:Disabling daily seasonality. Run prophet with daily_seasonality=True to override this.\n"
     ]
    },
    {
     "name": "stdout",
     "output_type": "stream",
     "text": [
      "[1508362.1695479637]\n"
     ]
    },
    {
     "name": "stderr",
     "output_type": "stream",
     "text": [
      "C:\\Users\\Michael\\Anaconda3\\envs\\learn-env\\lib\\site-packages\\pystan\\misc.py:399: FutureWarning:\n",
      "\n",
      "Conversion of the second argument of issubdtype from `float` to `np.floating` is deprecated. In future, it will be treated as `np.float64 == np.dtype(float).type`.\n",
      "\n",
      "C:\\Users\\Michael\\Anaconda3\\envs\\learn-env\\lib\\site-packages\\ipykernel_launcher.py:40: FutureWarning:\n",
      "\n",
      "'variable' is both an index level and a column label.\n",
      "Defaulting to column, but this will raise an ambiguity error in a future version\n",
      "\n",
      "C:\\Users\\Michael\\Anaconda3\\envs\\learn-env\\lib\\site-packages\\ipykernel_launcher.py:44: FutureWarning:\n",
      "\n",
      "'variable' is both an index level and a column label.\n",
      "Defaulting to column, but this will raise an ambiguity error in a future version\n",
      "\n",
      "INFO:fbprophet:Disabling weekly seasonality. Run prophet with weekly_seasonality=True to override this.\n",
      "INFO:fbprophet:Disabling daily seasonality. Run prophet with daily_seasonality=True to override this.\n"
     ]
    },
    {
     "name": "stdout",
     "output_type": "stream",
     "text": [
      "[1508362.1695479637, 1289328.546471973]\n"
     ]
    },
    {
     "name": "stderr",
     "output_type": "stream",
     "text": [
      "C:\\Users\\Michael\\Anaconda3\\envs\\learn-env\\lib\\site-packages\\pystan\\misc.py:399: FutureWarning:\n",
      "\n",
      "Conversion of the second argument of issubdtype from `float` to `np.floating` is deprecated. In future, it will be treated as `np.float64 == np.dtype(float).type`.\n",
      "\n",
      "C:\\Users\\Michael\\Anaconda3\\envs\\learn-env\\lib\\site-packages\\ipykernel_launcher.py:60: FutureWarning:\n",
      "\n",
      "'variable' is both an index level and a column label.\n",
      "Defaulting to column, but this will raise an ambiguity error in a future version\n",
      "\n",
      "C:\\Users\\Michael\\Anaconda3\\envs\\learn-env\\lib\\site-packages\\ipykernel_launcher.py:63: FutureWarning:\n",
      "\n",
      "'variable' is both an index level and a column label.\n",
      "Defaulting to column, but this will raise an ambiguity error in a future version\n",
      "\n",
      "INFO:fbprophet:Disabling weekly seasonality. Run prophet with weekly_seasonality=True to override this.\n"
     ]
    },
    {
     "name": "stdout",
     "output_type": "stream",
     "text": [
      "[1508362.1695479637, 1289328.546471973, 689469.085636556]\n",
      "[1508362.1695479637, 1289328.546471973, 689469.085636556]\n"
     ]
    },
    {
     "name": "stderr",
     "output_type": "stream",
     "text": [
      "INFO:fbprophet:Disabling daily seasonality. Run prophet with daily_seasonality=True to override this.\n",
      "C:\\Users\\Michael\\Anaconda3\\envs\\learn-env\\lib\\site-packages\\pystan\\misc.py:399: FutureWarning:\n",
      "\n",
      "Conversion of the second argument of issubdtype from `float` to `np.floating` is deprecated. In future, it will be treated as `np.float64 == np.dtype(float).type`.\n",
      "\n",
      "C:\\Users\\Michael\\Anaconda3\\envs\\learn-env\\lib\\site-packages\\ipykernel_launcher.py:40: FutureWarning:\n",
      "\n",
      "'variable' is both an index level and a column label.\n",
      "Defaulting to column, but this will raise an ambiguity error in a future version\n",
      "\n",
      "C:\\Users\\Michael\\Anaconda3\\envs\\learn-env\\lib\\site-packages\\ipykernel_launcher.py:44: FutureWarning:\n",
      "\n",
      "'variable' is both an index level and a column label.\n",
      "Defaulting to column, but this will raise an ambiguity error in a future version\n",
      "\n",
      "INFO:fbprophet:Disabling weekly seasonality. Run prophet with weekly_seasonality=True to override this.\n",
      "INFO:fbprophet:Disabling daily seasonality. Run prophet with daily_seasonality=True to override this.\n"
     ]
    },
    {
     "name": "stdout",
     "output_type": "stream",
     "text": [
      " 99 progress so far\n"
     ]
    },
    {
     "name": "stderr",
     "output_type": "stream",
     "text": [
      "C:\\Users\\Michael\\Anaconda3\\envs\\learn-env\\lib\\site-packages\\ipykernel_launcher.py:40: FutureWarning:\n",
      "\n",
      "'variable' is both an index level and a column label.\n",
      "Defaulting to column, but this will raise an ambiguity error in a future version\n",
      "\n",
      "C:\\Users\\Michael\\Anaconda3\\envs\\learn-env\\lib\\site-packages\\ipykernel_launcher.py:44: FutureWarning:\n",
      "\n",
      "'variable' is both an index level and a column label.\n",
      "Defaulting to column, but this will raise an ambiguity error in a future version\n",
      "\n",
      "INFO:fbprophet:Disabling weekly seasonality. Run prophet with weekly_seasonality=True to override this.\n",
      "INFO:fbprophet:Disabling daily seasonality. Run prophet with daily_seasonality=True to override this.\n"
     ]
    },
    {
     "name": "stdout",
     "output_type": "stream",
     "text": [
      "[475180.94419885095]\n"
     ]
    },
    {
     "name": "stderr",
     "output_type": "stream",
     "text": [
      "C:\\Users\\Michael\\Anaconda3\\envs\\learn-env\\lib\\site-packages\\pystan\\misc.py:399: FutureWarning:\n",
      "\n",
      "Conversion of the second argument of issubdtype from `float` to `np.floating` is deprecated. In future, it will be treated as `np.float64 == np.dtype(float).type`.\n",
      "\n",
      "C:\\Users\\Michael\\Anaconda3\\envs\\learn-env\\lib\\site-packages\\ipykernel_launcher.py:40: FutureWarning:\n",
      "\n",
      "'variable' is both an index level and a column label.\n",
      "Defaulting to column, but this will raise an ambiguity error in a future version\n",
      "\n",
      "C:\\Users\\Michael\\Anaconda3\\envs\\learn-env\\lib\\site-packages\\ipykernel_launcher.py:44: FutureWarning:\n",
      "\n",
      "'variable' is both an index level and a column label.\n",
      "Defaulting to column, but this will raise an ambiguity error in a future version\n",
      "\n",
      "INFO:fbprophet:Disabling weekly seasonality. Run prophet with weekly_seasonality=True to override this.\n",
      "INFO:fbprophet:Disabling daily seasonality. Run prophet with daily_seasonality=True to override this.\n"
     ]
    },
    {
     "name": "stdout",
     "output_type": "stream",
     "text": [
      "[475180.94419885095, 489465.25336789724]\n"
     ]
    },
    {
     "name": "stderr",
     "output_type": "stream",
     "text": [
      "C:\\Users\\Michael\\Anaconda3\\envs\\learn-env\\lib\\site-packages\\pystan\\misc.py:399: FutureWarning:\n",
      "\n",
      "Conversion of the second argument of issubdtype from `float` to `np.floating` is deprecated. In future, it will be treated as `np.float64 == np.dtype(float).type`.\n",
      "\n",
      "C:\\Users\\Michael\\Anaconda3\\envs\\learn-env\\lib\\site-packages\\ipykernel_launcher.py:60: FutureWarning:\n",
      "\n",
      "'variable' is both an index level and a column label.\n",
      "Defaulting to column, but this will raise an ambiguity error in a future version\n",
      "\n",
      "C:\\Users\\Michael\\Anaconda3\\envs\\learn-env\\lib\\site-packages\\ipykernel_launcher.py:63: FutureWarning:\n",
      "\n",
      "'variable' is both an index level and a column label.\n",
      "Defaulting to column, but this will raise an ambiguity error in a future version\n",
      "\n",
      "INFO:fbprophet:Disabling weekly seasonality. Run prophet with weekly_seasonality=True to override this.\n"
     ]
    },
    {
     "name": "stdout",
     "output_type": "stream",
     "text": [
      "[475180.94419885095, 489465.25336789724, 291237.11308953253]\n",
      "[475180.94419885095, 489465.25336789724, 291237.11308953253]\n"
     ]
    },
    {
     "name": "stderr",
     "output_type": "stream",
     "text": [
      "INFO:fbprophet:Disabling daily seasonality. Run prophet with daily_seasonality=True to override this.\n",
      "C:\\Users\\Michael\\Anaconda3\\envs\\learn-env\\lib\\site-packages\\pystan\\misc.py:399: FutureWarning:\n",
      "\n",
      "Conversion of the second argument of issubdtype from `float` to `np.floating` is deprecated. In future, it will be treated as `np.float64 == np.dtype(float).type`.\n",
      "\n",
      "C:\\Users\\Michael\\Anaconda3\\envs\\learn-env\\lib\\site-packages\\ipykernel_launcher.py:40: FutureWarning:\n",
      "\n",
      "'variable' is both an index level and a column label.\n",
      "Defaulting to column, but this will raise an ambiguity error in a future version\n",
      "\n",
      "C:\\Users\\Michael\\Anaconda3\\envs\\learn-env\\lib\\site-packages\\ipykernel_launcher.py:44: FutureWarning:\n",
      "\n",
      "'variable' is both an index level and a column label.\n",
      "Defaulting to column, but this will raise an ambiguity error in a future version\n",
      "\n",
      "INFO:fbprophet:Disabling weekly seasonality. Run prophet with weekly_seasonality=True to override this.\n",
      "INFO:fbprophet:Disabling daily seasonality. Run prophet with daily_seasonality=True to override this.\n"
     ]
    },
    {
     "name": "stdout",
     "output_type": "stream",
     "text": [
      " 100 progress so far\n"
     ]
    },
    {
     "name": "stderr",
     "output_type": "stream",
     "text": [
      "C:\\Users\\Michael\\Anaconda3\\envs\\learn-env\\lib\\site-packages\\ipykernel_launcher.py:40: FutureWarning:\n",
      "\n",
      "'variable' is both an index level and a column label.\n",
      "Defaulting to column, but this will raise an ambiguity error in a future version\n",
      "\n",
      "C:\\Users\\Michael\\Anaconda3\\envs\\learn-env\\lib\\site-packages\\ipykernel_launcher.py:44: FutureWarning:\n",
      "\n",
      "'variable' is both an index level and a column label.\n",
      "Defaulting to column, but this will raise an ambiguity error in a future version\n",
      "\n",
      "INFO:fbprophet:Disabling weekly seasonality. Run prophet with weekly_seasonality=True to override this.\n",
      "INFO:fbprophet:Disabling daily seasonality. Run prophet with daily_seasonality=True to override this.\n"
     ]
    },
    {
     "name": "stdout",
     "output_type": "stream",
     "text": [
      "[666106.9264236743]\n"
     ]
    },
    {
     "name": "stderr",
     "output_type": "stream",
     "text": [
      "C:\\Users\\Michael\\Anaconda3\\envs\\learn-env\\lib\\site-packages\\pystan\\misc.py:399: FutureWarning:\n",
      "\n",
      "Conversion of the second argument of issubdtype from `float` to `np.floating` is deprecated. In future, it will be treated as `np.float64 == np.dtype(float).type`.\n",
      "\n",
      "C:\\Users\\Michael\\Anaconda3\\envs\\learn-env\\lib\\site-packages\\ipykernel_launcher.py:40: FutureWarning:\n",
      "\n",
      "'variable' is both an index level and a column label.\n",
      "Defaulting to column, but this will raise an ambiguity error in a future version\n",
      "\n",
      "C:\\Users\\Michael\\Anaconda3\\envs\\learn-env\\lib\\site-packages\\ipykernel_launcher.py:44: FutureWarning:\n",
      "\n",
      "'variable' is both an index level and a column label.\n",
      "Defaulting to column, but this will raise an ambiguity error in a future version\n",
      "\n",
      "INFO:fbprophet:Disabling weekly seasonality. Run prophet with weekly_seasonality=True to override this.\n",
      "INFO:fbprophet:Disabling daily seasonality. Run prophet with daily_seasonality=True to override this.\n"
     ]
    },
    {
     "name": "stdout",
     "output_type": "stream",
     "text": [
      "[666106.9264236743, 1150240.0242789767]\n"
     ]
    },
    {
     "name": "stderr",
     "output_type": "stream",
     "text": [
      "C:\\Users\\Michael\\Anaconda3\\envs\\learn-env\\lib\\site-packages\\pystan\\misc.py:399: FutureWarning:\n",
      "\n",
      "Conversion of the second argument of issubdtype from `float` to `np.floating` is deprecated. In future, it will be treated as `np.float64 == np.dtype(float).type`.\n",
      "\n"
     ]
    },
    {
     "name": "stdout",
     "output_type": "stream",
     "text": [
      "[666106.9264236743, 1150240.0242789767, 494566.61245586566]\n",
      "[666106.9264236743, 1150240.0242789767, 494566.61245586566]\n"
     ]
    },
    {
     "name": "stderr",
     "output_type": "stream",
     "text": [
      "C:\\Users\\Michael\\Anaconda3\\envs\\learn-env\\lib\\site-packages\\ipykernel_launcher.py:60: FutureWarning:\n",
      "\n",
      "'variable' is both an index level and a column label.\n",
      "Defaulting to column, but this will raise an ambiguity error in a future version\n",
      "\n",
      "C:\\Users\\Michael\\Anaconda3\\envs\\learn-env\\lib\\site-packages\\ipykernel_launcher.py:63: FutureWarning:\n",
      "\n",
      "'variable' is both an index level and a column label.\n",
      "Defaulting to column, but this will raise an ambiguity error in a future version\n",
      "\n",
      "INFO:fbprophet:Disabling weekly seasonality. Run prophet with weekly_seasonality=True to override this.\n",
      "INFO:fbprophet:Disabling daily seasonality. Run prophet with daily_seasonality=True to override this.\n",
      "C:\\Users\\Michael\\Anaconda3\\envs\\learn-env\\lib\\site-packages\\pystan\\misc.py:399: FutureWarning:\n",
      "\n",
      "Conversion of the second argument of issubdtype from `float` to `np.floating` is deprecated. In future, it will be treated as `np.float64 == np.dtype(float).type`.\n",
      "\n",
      "C:\\Users\\Michael\\Anaconda3\\envs\\learn-env\\lib\\site-packages\\ipykernel_launcher.py:40: FutureWarning:\n",
      "\n",
      "'variable' is both an index level and a column label.\n",
      "Defaulting to column, but this will raise an ambiguity error in a future version\n",
      "\n",
      "C:\\Users\\Michael\\Anaconda3\\envs\\learn-env\\lib\\site-packages\\ipykernel_launcher.py:44: FutureWarning:\n",
      "\n",
      "'variable' is both an index level and a column label.\n",
      "Defaulting to column, but this will raise an ambiguity error in a future version\n",
      "\n",
      "INFO:fbprophet:Disabling weekly seasonality. Run prophet with weekly_seasonality=True to override this.\n",
      "INFO:fbprophet:Disabling daily seasonality. Run prophet with daily_seasonality=True to override this.\n"
     ]
    },
    {
     "name": "stdout",
     "output_type": "stream",
     "text": [
      " 101 progress so far\n"
     ]
    },
    {
     "name": "stderr",
     "output_type": "stream",
     "text": [
      "C:\\Users\\Michael\\Anaconda3\\envs\\learn-env\\lib\\site-packages\\ipykernel_launcher.py:40: FutureWarning:\n",
      "\n",
      "'variable' is both an index level and a column label.\n",
      "Defaulting to column, but this will raise an ambiguity error in a future version\n",
      "\n",
      "C:\\Users\\Michael\\Anaconda3\\envs\\learn-env\\lib\\site-packages\\ipykernel_launcher.py:44: FutureWarning:\n",
      "\n",
      "'variable' is both an index level and a column label.\n",
      "Defaulting to column, but this will raise an ambiguity error in a future version\n",
      "\n",
      "INFO:fbprophet:Disabling weekly seasonality. Run prophet with weekly_seasonality=True to override this.\n",
      "INFO:fbprophet:Disabling daily seasonality. Run prophet with daily_seasonality=True to override this.\n"
     ]
    },
    {
     "name": "stdout",
     "output_type": "stream",
     "text": [
      "[527627.8031206982]\n"
     ]
    },
    {
     "name": "stderr",
     "output_type": "stream",
     "text": [
      "C:\\Users\\Michael\\Anaconda3\\envs\\learn-env\\lib\\site-packages\\pystan\\misc.py:399: FutureWarning:\n",
      "\n",
      "Conversion of the second argument of issubdtype from `float` to `np.floating` is deprecated. In future, it will be treated as `np.float64 == np.dtype(float).type`.\n",
      "\n",
      "C:\\Users\\Michael\\Anaconda3\\envs\\learn-env\\lib\\site-packages\\ipykernel_launcher.py:40: FutureWarning:\n",
      "\n",
      "'variable' is both an index level and a column label.\n",
      "Defaulting to column, but this will raise an ambiguity error in a future version\n",
      "\n",
      "C:\\Users\\Michael\\Anaconda3\\envs\\learn-env\\lib\\site-packages\\ipykernel_launcher.py:44: FutureWarning:\n",
      "\n",
      "'variable' is both an index level and a column label.\n",
      "Defaulting to column, but this will raise an ambiguity error in a future version\n",
      "\n",
      "INFO:fbprophet:Disabling weekly seasonality. Run prophet with weekly_seasonality=True to override this.\n",
      "INFO:fbprophet:Disabling daily seasonality. Run prophet with daily_seasonality=True to override this.\n"
     ]
    },
    {
     "name": "stdout",
     "output_type": "stream",
     "text": [
      "[527627.8031206982, 626307.8222248908]\n"
     ]
    },
    {
     "name": "stderr",
     "output_type": "stream",
     "text": [
      "C:\\Users\\Michael\\Anaconda3\\envs\\learn-env\\lib\\site-packages\\pystan\\misc.py:399: FutureWarning:\n",
      "\n",
      "Conversion of the second argument of issubdtype from `float` to `np.floating` is deprecated. In future, it will be treated as `np.float64 == np.dtype(float).type`.\n",
      "\n",
      "C:\\Users\\Michael\\Anaconda3\\envs\\learn-env\\lib\\site-packages\\ipykernel_launcher.py:60: FutureWarning:\n",
      "\n",
      "'variable' is both an index level and a column label.\n",
      "Defaulting to column, but this will raise an ambiguity error in a future version\n",
      "\n",
      "C:\\Users\\Michael\\Anaconda3\\envs\\learn-env\\lib\\site-packages\\ipykernel_launcher.py:63: FutureWarning:\n",
      "\n",
      "'variable' is both an index level and a column label.\n",
      "Defaulting to column, but this will raise an ambiguity error in a future version\n",
      "\n",
      "INFO:fbprophet:Disabling weekly seasonality. Run prophet with weekly_seasonality=True to override this.\n"
     ]
    },
    {
     "name": "stdout",
     "output_type": "stream",
     "text": [
      "[527627.8031206982, 626307.8222248908, 400815.2581499414]\n",
      "[527627.8031206982, 626307.8222248908, 400815.2581499414]\n"
     ]
    },
    {
     "name": "stderr",
     "output_type": "stream",
     "text": [
      "INFO:fbprophet:Disabling daily seasonality. Run prophet with daily_seasonality=True to override this.\n",
      "C:\\Users\\Michael\\Anaconda3\\envs\\learn-env\\lib\\site-packages\\pystan\\misc.py:399: FutureWarning:\n",
      "\n",
      "Conversion of the second argument of issubdtype from `float` to `np.floating` is deprecated. In future, it will be treated as `np.float64 == np.dtype(float).type`.\n",
      "\n",
      "C:\\Users\\Michael\\Anaconda3\\envs\\learn-env\\lib\\site-packages\\ipykernel_launcher.py:40: FutureWarning:\n",
      "\n",
      "'variable' is both an index level and a column label.\n",
      "Defaulting to column, but this will raise an ambiguity error in a future version\n",
      "\n",
      "C:\\Users\\Michael\\Anaconda3\\envs\\learn-env\\lib\\site-packages\\ipykernel_launcher.py:44: FutureWarning:\n",
      "\n",
      "'variable' is both an index level and a column label.\n",
      "Defaulting to column, but this will raise an ambiguity error in a future version\n",
      "\n",
      "INFO:fbprophet:Disabling weekly seasonality. Run prophet with weekly_seasonality=True to override this.\n",
      "INFO:fbprophet:Disabling daily seasonality. Run prophet with daily_seasonality=True to override this.\n"
     ]
    },
    {
     "name": "stdout",
     "output_type": "stream",
     "text": [
      " 102 progress so far\n"
     ]
    },
    {
     "name": "stderr",
     "output_type": "stream",
     "text": [
      "C:\\Users\\Michael\\Anaconda3\\envs\\learn-env\\lib\\site-packages\\ipykernel_launcher.py:40: FutureWarning:\n",
      "\n",
      "'variable' is both an index level and a column label.\n",
      "Defaulting to column, but this will raise an ambiguity error in a future version\n",
      "\n",
      "C:\\Users\\Michael\\Anaconda3\\envs\\learn-env\\lib\\site-packages\\ipykernel_launcher.py:44: FutureWarning:\n",
      "\n",
      "'variable' is both an index level and a column label.\n",
      "Defaulting to column, but this will raise an ambiguity error in a future version\n",
      "\n",
      "INFO:fbprophet:Disabling weekly seasonality. Run prophet with weekly_seasonality=True to override this.\n",
      "INFO:fbprophet:Disabling daily seasonality. Run prophet with daily_seasonality=True to override this.\n"
     ]
    },
    {
     "name": "stdout",
     "output_type": "stream",
     "text": [
      "[706696.7905745909]\n"
     ]
    },
    {
     "name": "stderr",
     "output_type": "stream",
     "text": [
      "C:\\Users\\Michael\\Anaconda3\\envs\\learn-env\\lib\\site-packages\\pystan\\misc.py:399: FutureWarning:\n",
      "\n",
      "Conversion of the second argument of issubdtype from `float` to `np.floating` is deprecated. In future, it will be treated as `np.float64 == np.dtype(float).type`.\n",
      "\n",
      "C:\\Users\\Michael\\Anaconda3\\envs\\learn-env\\lib\\site-packages\\ipykernel_launcher.py:40: FutureWarning:\n",
      "\n",
      "'variable' is both an index level and a column label.\n",
      "Defaulting to column, but this will raise an ambiguity error in a future version\n",
      "\n",
      "C:\\Users\\Michael\\Anaconda3\\envs\\learn-env\\lib\\site-packages\\ipykernel_launcher.py:44: FutureWarning:\n",
      "\n",
      "'variable' is both an index level and a column label.\n",
      "Defaulting to column, but this will raise an ambiguity error in a future version\n",
      "\n",
      "INFO:fbprophet:Disabling weekly seasonality. Run prophet with weekly_seasonality=True to override this.\n",
      "INFO:fbprophet:Disabling daily seasonality. Run prophet with daily_seasonality=True to override this.\n"
     ]
    },
    {
     "name": "stdout",
     "output_type": "stream",
     "text": [
      "[706696.7905745909, 1232234.2849902352]\n"
     ]
    },
    {
     "name": "stderr",
     "output_type": "stream",
     "text": [
      "C:\\Users\\Michael\\Anaconda3\\envs\\learn-env\\lib\\site-packages\\pystan\\misc.py:399: FutureWarning:\n",
      "\n",
      "Conversion of the second argument of issubdtype from `float` to `np.floating` is deprecated. In future, it will be treated as `np.float64 == np.dtype(float).type`.\n",
      "\n",
      "C:\\Users\\Michael\\Anaconda3\\envs\\learn-env\\lib\\site-packages\\ipykernel_launcher.py:60: FutureWarning:\n",
      "\n",
      "'variable' is both an index level and a column label.\n",
      "Defaulting to column, but this will raise an ambiguity error in a future version\n",
      "\n",
      "C:\\Users\\Michael\\Anaconda3\\envs\\learn-env\\lib\\site-packages\\ipykernel_launcher.py:63: FutureWarning:\n",
      "\n",
      "'variable' is both an index level and a column label.\n",
      "Defaulting to column, but this will raise an ambiguity error in a future version\n",
      "\n",
      "INFO:fbprophet:Disabling weekly seasonality. Run prophet with weekly_seasonality=True to override this.\n"
     ]
    },
    {
     "name": "stdout",
     "output_type": "stream",
     "text": [
      "[706696.7905745909, 1232234.2849902352, 714951.1831104016]\n",
      "[706696.7905745909, 1232234.2849902352, 714951.1831104016]\n"
     ]
    },
    {
     "name": "stderr",
     "output_type": "stream",
     "text": [
      "INFO:fbprophet:Disabling daily seasonality. Run prophet with daily_seasonality=True to override this.\n",
      "C:\\Users\\Michael\\Anaconda3\\envs\\learn-env\\lib\\site-packages\\pystan\\misc.py:399: FutureWarning:\n",
      "\n",
      "Conversion of the second argument of issubdtype from `float` to `np.floating` is deprecated. In future, it will be treated as `np.float64 == np.dtype(float).type`.\n",
      "\n",
      "C:\\Users\\Michael\\Anaconda3\\envs\\learn-env\\lib\\site-packages\\ipykernel_launcher.py:40: FutureWarning:\n",
      "\n",
      "'variable' is both an index level and a column label.\n",
      "Defaulting to column, but this will raise an ambiguity error in a future version\n",
      "\n",
      "C:\\Users\\Michael\\Anaconda3\\envs\\learn-env\\lib\\site-packages\\ipykernel_launcher.py:44: FutureWarning:\n",
      "\n",
      "'variable' is both an index level and a column label.\n",
      "Defaulting to column, but this will raise an ambiguity error in a future version\n",
      "\n",
      "INFO:fbprophet:Disabling weekly seasonality. Run prophet with weekly_seasonality=True to override this.\n",
      "INFO:fbprophet:Disabling daily seasonality. Run prophet with daily_seasonality=True to override this.\n"
     ]
    },
    {
     "name": "stdout",
     "output_type": "stream",
     "text": [
      " 103 progress so far\n"
     ]
    },
    {
     "name": "stderr",
     "output_type": "stream",
     "text": [
      "C:\\Users\\Michael\\Anaconda3\\envs\\learn-env\\lib\\site-packages\\ipykernel_launcher.py:40: FutureWarning:\n",
      "\n",
      "'variable' is both an index level and a column label.\n",
      "Defaulting to column, but this will raise an ambiguity error in a future version\n",
      "\n",
      "C:\\Users\\Michael\\Anaconda3\\envs\\learn-env\\lib\\site-packages\\ipykernel_launcher.py:44: FutureWarning:\n",
      "\n",
      "'variable' is both an index level and a column label.\n",
      "Defaulting to column, but this will raise an ambiguity error in a future version\n",
      "\n",
      "INFO:fbprophet:Disabling weekly seasonality. Run prophet with weekly_seasonality=True to override this.\n",
      "INFO:fbprophet:Disabling daily seasonality. Run prophet with daily_seasonality=True to override this.\n"
     ]
    },
    {
     "name": "stdout",
     "output_type": "stream",
     "text": [
      "[845260.8122184875]\n"
     ]
    },
    {
     "name": "stderr",
     "output_type": "stream",
     "text": [
      "C:\\Users\\Michael\\Anaconda3\\envs\\learn-env\\lib\\site-packages\\pystan\\misc.py:399: FutureWarning:\n",
      "\n",
      "Conversion of the second argument of issubdtype from `float` to `np.floating` is deprecated. In future, it will be treated as `np.float64 == np.dtype(float).type`.\n",
      "\n",
      "C:\\Users\\Michael\\Anaconda3\\envs\\learn-env\\lib\\site-packages\\ipykernel_launcher.py:40: FutureWarning:\n",
      "\n",
      "'variable' is both an index level and a column label.\n",
      "Defaulting to column, but this will raise an ambiguity error in a future version\n",
      "\n",
      "C:\\Users\\Michael\\Anaconda3\\envs\\learn-env\\lib\\site-packages\\ipykernel_launcher.py:44: FutureWarning:\n",
      "\n",
      "'variable' is both an index level and a column label.\n",
      "Defaulting to column, but this will raise an ambiguity error in a future version\n",
      "\n",
      "INFO:fbprophet:Disabling weekly seasonality. Run prophet with weekly_seasonality=True to override this.\n",
      "INFO:fbprophet:Disabling daily seasonality. Run prophet with daily_seasonality=True to override this.\n"
     ]
    },
    {
     "name": "stdout",
     "output_type": "stream",
     "text": [
      "[845260.8122184875, 1057810.3807270129]\n"
     ]
    },
    {
     "name": "stderr",
     "output_type": "stream",
     "text": [
      "C:\\Users\\Michael\\Anaconda3\\envs\\learn-env\\lib\\site-packages\\pystan\\misc.py:399: FutureWarning:\n",
      "\n",
      "Conversion of the second argument of issubdtype from `float` to `np.floating` is deprecated. In future, it will be treated as `np.float64 == np.dtype(float).type`.\n",
      "\n",
      "C:\\Users\\Michael\\Anaconda3\\envs\\learn-env\\lib\\site-packages\\ipykernel_launcher.py:60: FutureWarning:\n",
      "\n",
      "'variable' is both an index level and a column label.\n",
      "Defaulting to column, but this will raise an ambiguity error in a future version\n",
      "\n",
      "C:\\Users\\Michael\\Anaconda3\\envs\\learn-env\\lib\\site-packages\\ipykernel_launcher.py:63: FutureWarning:\n",
      "\n",
      "'variable' is both an index level and a column label.\n",
      "Defaulting to column, but this will raise an ambiguity error in a future version\n",
      "\n",
      "INFO:fbprophet:Disabling weekly seasonality. Run prophet with weekly_seasonality=True to override this.\n"
     ]
    },
    {
     "name": "stdout",
     "output_type": "stream",
     "text": [
      "[845260.8122184875, 1057810.3807270129, 709667.6879423618]\n",
      "[845260.8122184875, 1057810.3807270129, 709667.6879423618]\n"
     ]
    },
    {
     "name": "stderr",
     "output_type": "stream",
     "text": [
      "INFO:fbprophet:Disabling daily seasonality. Run prophet with daily_seasonality=True to override this.\n",
      "C:\\Users\\Michael\\Anaconda3\\envs\\learn-env\\lib\\site-packages\\pystan\\misc.py:399: FutureWarning:\n",
      "\n",
      "Conversion of the second argument of issubdtype from `float` to `np.floating` is deprecated. In future, it will be treated as `np.float64 == np.dtype(float).type`.\n",
      "\n",
      "C:\\Users\\Michael\\Anaconda3\\envs\\learn-env\\lib\\site-packages\\ipykernel_launcher.py:40: FutureWarning:\n",
      "\n",
      "'variable' is both an index level and a column label.\n",
      "Defaulting to column, but this will raise an ambiguity error in a future version\n",
      "\n",
      "C:\\Users\\Michael\\Anaconda3\\envs\\learn-env\\lib\\site-packages\\ipykernel_launcher.py:44: FutureWarning:\n",
      "\n",
      "'variable' is both an index level and a column label.\n",
      "Defaulting to column, but this will raise an ambiguity error in a future version\n",
      "\n",
      "INFO:fbprophet:Disabling weekly seasonality. Run prophet with weekly_seasonality=True to override this.\n",
      "INFO:fbprophet:Disabling daily seasonality. Run prophet with daily_seasonality=True to override this.\n"
     ]
    },
    {
     "name": "stdout",
     "output_type": "stream",
     "text": [
      " 104 progress so far\n"
     ]
    },
    {
     "name": "stderr",
     "output_type": "stream",
     "text": [
      "C:\\Users\\Michael\\Anaconda3\\envs\\learn-env\\lib\\site-packages\\ipykernel_launcher.py:40: FutureWarning:\n",
      "\n",
      "'variable' is both an index level and a column label.\n",
      "Defaulting to column, but this will raise an ambiguity error in a future version\n",
      "\n",
      "C:\\Users\\Michael\\Anaconda3\\envs\\learn-env\\lib\\site-packages\\ipykernel_launcher.py:44: FutureWarning:\n",
      "\n",
      "'variable' is both an index level and a column label.\n",
      "Defaulting to column, but this will raise an ambiguity error in a future version\n",
      "\n",
      "INFO:fbprophet:Disabling weekly seasonality. Run prophet with weekly_seasonality=True to override this.\n",
      "INFO:fbprophet:Disabling daily seasonality. Run prophet with daily_seasonality=True to override this.\n"
     ]
    },
    {
     "name": "stdout",
     "output_type": "stream",
     "text": [
      "[72956.76183013071]\n"
     ]
    },
    {
     "name": "stderr",
     "output_type": "stream",
     "text": [
      "C:\\Users\\Michael\\Anaconda3\\envs\\learn-env\\lib\\site-packages\\pystan\\misc.py:399: FutureWarning:\n",
      "\n",
      "Conversion of the second argument of issubdtype from `float` to `np.floating` is deprecated. In future, it will be treated as `np.float64 == np.dtype(float).type`.\n",
      "\n",
      "C:\\Users\\Michael\\Anaconda3\\envs\\learn-env\\lib\\site-packages\\ipykernel_launcher.py:40: FutureWarning:\n",
      "\n",
      "'variable' is both an index level and a column label.\n",
      "Defaulting to column, but this will raise an ambiguity error in a future version\n",
      "\n",
      "C:\\Users\\Michael\\Anaconda3\\envs\\learn-env\\lib\\site-packages\\ipykernel_launcher.py:44: FutureWarning:\n",
      "\n",
      "'variable' is both an index level and a column label.\n",
      "Defaulting to column, but this will raise an ambiguity error in a future version\n",
      "\n",
      "INFO:fbprophet:Disabling weekly seasonality. Run prophet with weekly_seasonality=True to override this.\n",
      "INFO:fbprophet:Disabling daily seasonality. Run prophet with daily_seasonality=True to override this.\n"
     ]
    },
    {
     "name": "stdout",
     "output_type": "stream",
     "text": [
      "[72956.76183013071, 162406.46237103714]\n"
     ]
    },
    {
     "name": "stderr",
     "output_type": "stream",
     "text": [
      "C:\\Users\\Michael\\Anaconda3\\envs\\learn-env\\lib\\site-packages\\pystan\\misc.py:399: FutureWarning:\n",
      "\n",
      "Conversion of the second argument of issubdtype from `float` to `np.floating` is deprecated. In future, it will be treated as `np.float64 == np.dtype(float).type`.\n",
      "\n",
      "C:\\Users\\Michael\\Anaconda3\\envs\\learn-env\\lib\\site-packages\\ipykernel_launcher.py:60: FutureWarning:\n",
      "\n",
      "'variable' is both an index level and a column label.\n",
      "Defaulting to column, but this will raise an ambiguity error in a future version\n",
      "\n",
      "C:\\Users\\Michael\\Anaconda3\\envs\\learn-env\\lib\\site-packages\\ipykernel_launcher.py:63: FutureWarning:\n",
      "\n",
      "'variable' is both an index level and a column label.\n",
      "Defaulting to column, but this will raise an ambiguity error in a future version\n",
      "\n",
      "INFO:fbprophet:Disabling weekly seasonality. Run prophet with weekly_seasonality=True to override this.\n"
     ]
    },
    {
     "name": "stdout",
     "output_type": "stream",
     "text": [
      "[72956.76183013071, 162406.46237103714, 82630.94743061542]\n",
      "[72956.76183013071, 162406.46237103714, 82630.94743061542]\n"
     ]
    },
    {
     "name": "stderr",
     "output_type": "stream",
     "text": [
      "INFO:fbprophet:Disabling daily seasonality. Run prophet with daily_seasonality=True to override this.\n",
      "C:\\Users\\Michael\\Anaconda3\\envs\\learn-env\\lib\\site-packages\\pystan\\misc.py:399: FutureWarning:\n",
      "\n",
      "Conversion of the second argument of issubdtype from `float` to `np.floating` is deprecated. In future, it will be treated as `np.float64 == np.dtype(float).type`.\n",
      "\n",
      "C:\\Users\\Michael\\Anaconda3\\envs\\learn-env\\lib\\site-packages\\ipykernel_launcher.py:40: FutureWarning:\n",
      "\n",
      "'variable' is both an index level and a column label.\n",
      "Defaulting to column, but this will raise an ambiguity error in a future version\n",
      "\n",
      "C:\\Users\\Michael\\Anaconda3\\envs\\learn-env\\lib\\site-packages\\ipykernel_launcher.py:44: FutureWarning:\n",
      "\n",
      "'variable' is both an index level and a column label.\n",
      "Defaulting to column, but this will raise an ambiguity error in a future version\n",
      "\n",
      "INFO:fbprophet:Disabling weekly seasonality. Run prophet with weekly_seasonality=True to override this.\n",
      "INFO:fbprophet:Disabling daily seasonality. Run prophet with daily_seasonality=True to override this.\n"
     ]
    },
    {
     "name": "stdout",
     "output_type": "stream",
     "text": [
      " 105 progress so far\n"
     ]
    },
    {
     "name": "stderr",
     "output_type": "stream",
     "text": [
      "C:\\Users\\Michael\\Anaconda3\\envs\\learn-env\\lib\\site-packages\\ipykernel_launcher.py:40: FutureWarning:\n",
      "\n",
      "'variable' is both an index level and a column label.\n",
      "Defaulting to column, but this will raise an ambiguity error in a future version\n",
      "\n",
      "C:\\Users\\Michael\\Anaconda3\\envs\\learn-env\\lib\\site-packages\\ipykernel_launcher.py:44: FutureWarning:\n",
      "\n",
      "'variable' is both an index level and a column label.\n",
      "Defaulting to column, but this will raise an ambiguity error in a future version\n",
      "\n",
      "INFO:fbprophet:Disabling weekly seasonality. Run prophet with weekly_seasonality=True to override this.\n",
      "INFO:fbprophet:Disabling daily seasonality. Run prophet with daily_seasonality=True to override this.\n"
     ]
    },
    {
     "name": "stdout",
     "output_type": "stream",
     "text": [
      "[609416.2614558471]\n"
     ]
    },
    {
     "name": "stderr",
     "output_type": "stream",
     "text": [
      "C:\\Users\\Michael\\Anaconda3\\envs\\learn-env\\lib\\site-packages\\pystan\\misc.py:399: FutureWarning:\n",
      "\n",
      "Conversion of the second argument of issubdtype from `float` to `np.floating` is deprecated. In future, it will be treated as `np.float64 == np.dtype(float).type`.\n",
      "\n",
      "C:\\Users\\Michael\\Anaconda3\\envs\\learn-env\\lib\\site-packages\\ipykernel_launcher.py:40: FutureWarning:\n",
      "\n",
      "'variable' is both an index level and a column label.\n",
      "Defaulting to column, but this will raise an ambiguity error in a future version\n",
      "\n",
      "C:\\Users\\Michael\\Anaconda3\\envs\\learn-env\\lib\\site-packages\\ipykernel_launcher.py:44: FutureWarning:\n",
      "\n",
      "'variable' is both an index level and a column label.\n",
      "Defaulting to column, but this will raise an ambiguity error in a future version\n",
      "\n",
      "INFO:fbprophet:Disabling weekly seasonality. Run prophet with weekly_seasonality=True to override this.\n",
      "INFO:fbprophet:Disabling daily seasonality. Run prophet with daily_seasonality=True to override this.\n"
     ]
    },
    {
     "name": "stdout",
     "output_type": "stream",
     "text": [
      "[609416.2614558471, 575954.2211864309]\n"
     ]
    },
    {
     "name": "stderr",
     "output_type": "stream",
     "text": [
      "C:\\Users\\Michael\\Anaconda3\\envs\\learn-env\\lib\\site-packages\\pystan\\misc.py:399: FutureWarning:\n",
      "\n",
      "Conversion of the second argument of issubdtype from `float` to `np.floating` is deprecated. In future, it will be treated as `np.float64 == np.dtype(float).type`.\n",
      "\n",
      "C:\\Users\\Michael\\Anaconda3\\envs\\learn-env\\lib\\site-packages\\ipykernel_launcher.py:60: FutureWarning:\n",
      "\n",
      "'variable' is both an index level and a column label.\n",
      "Defaulting to column, but this will raise an ambiguity error in a future version\n",
      "\n",
      "C:\\Users\\Michael\\Anaconda3\\envs\\learn-env\\lib\\site-packages\\ipykernel_launcher.py:63: FutureWarning:\n",
      "\n",
      "'variable' is both an index level and a column label.\n",
      "Defaulting to column, but this will raise an ambiguity error in a future version\n",
      "\n",
      "INFO:fbprophet:Disabling weekly seasonality. Run prophet with weekly_seasonality=True to override this.\n",
      "INFO:fbprophet:Disabling daily seasonality. Run prophet with daily_seasonality=True to override this.\n"
     ]
    },
    {
     "name": "stdout",
     "output_type": "stream",
     "text": [
      "[609416.2614558471, 575954.2211864309, 168478.52194737305]\n",
      "[609416.2614558471, 575954.2211864309, 168478.52194737305]\n"
     ]
    },
    {
     "name": "stderr",
     "output_type": "stream",
     "text": [
      "C:\\Users\\Michael\\Anaconda3\\envs\\learn-env\\lib\\site-packages\\pystan\\misc.py:399: FutureWarning:\n",
      "\n",
      "Conversion of the second argument of issubdtype from `float` to `np.floating` is deprecated. In future, it will be treated as `np.float64 == np.dtype(float).type`.\n",
      "\n",
      "C:\\Users\\Michael\\Anaconda3\\envs\\learn-env\\lib\\site-packages\\ipykernel_launcher.py:40: FutureWarning:\n",
      "\n",
      "'variable' is both an index level and a column label.\n",
      "Defaulting to column, but this will raise an ambiguity error in a future version\n",
      "\n",
      "C:\\Users\\Michael\\Anaconda3\\envs\\learn-env\\lib\\site-packages\\ipykernel_launcher.py:44: FutureWarning:\n",
      "\n",
      "'variable' is both an index level and a column label.\n",
      "Defaulting to column, but this will raise an ambiguity error in a future version\n",
      "\n",
      "INFO:fbprophet:Disabling weekly seasonality. Run prophet with weekly_seasonality=True to override this.\n",
      "INFO:fbprophet:Disabling daily seasonality. Run prophet with daily_seasonality=True to override this.\n"
     ]
    },
    {
     "name": "stdout",
     "output_type": "stream",
     "text": [
      " 106 progress so far\n"
     ]
    },
    {
     "name": "stderr",
     "output_type": "stream",
     "text": [
      "C:\\Users\\Michael\\Anaconda3\\envs\\learn-env\\lib\\site-packages\\ipykernel_launcher.py:40: FutureWarning:\n",
      "\n",
      "'variable' is both an index level and a column label.\n",
      "Defaulting to column, but this will raise an ambiguity error in a future version\n",
      "\n",
      "C:\\Users\\Michael\\Anaconda3\\envs\\learn-env\\lib\\site-packages\\ipykernel_launcher.py:44: FutureWarning:\n",
      "\n",
      "'variable' is both an index level and a column label.\n",
      "Defaulting to column, but this will raise an ambiguity error in a future version\n",
      "\n",
      "INFO:fbprophet:Disabling weekly seasonality. Run prophet with weekly_seasonality=True to override this.\n",
      "INFO:fbprophet:Disabling daily seasonality. Run prophet with daily_seasonality=True to override this.\n"
     ]
    },
    {
     "name": "stdout",
     "output_type": "stream",
     "text": [
      "[265888.97032184404]\n"
     ]
    },
    {
     "name": "stderr",
     "output_type": "stream",
     "text": [
      "C:\\Users\\Michael\\Anaconda3\\envs\\learn-env\\lib\\site-packages\\pystan\\misc.py:399: FutureWarning:\n",
      "\n",
      "Conversion of the second argument of issubdtype from `float` to `np.floating` is deprecated. In future, it will be treated as `np.float64 == np.dtype(float).type`.\n",
      "\n",
      "C:\\Users\\Michael\\Anaconda3\\envs\\learn-env\\lib\\site-packages\\ipykernel_launcher.py:40: FutureWarning:\n",
      "\n",
      "'variable' is both an index level and a column label.\n",
      "Defaulting to column, but this will raise an ambiguity error in a future version\n",
      "\n",
      "C:\\Users\\Michael\\Anaconda3\\envs\\learn-env\\lib\\site-packages\\ipykernel_launcher.py:44: FutureWarning:\n",
      "\n",
      "'variable' is both an index level and a column label.\n",
      "Defaulting to column, but this will raise an ambiguity error in a future version\n",
      "\n",
      "INFO:fbprophet:Disabling weekly seasonality. Run prophet with weekly_seasonality=True to override this.\n",
      "INFO:fbprophet:Disabling daily seasonality. Run prophet with daily_seasonality=True to override this.\n"
     ]
    },
    {
     "name": "stdout",
     "output_type": "stream",
     "text": [
      "[265888.97032184404, 830839.4391514383]\n"
     ]
    },
    {
     "name": "stderr",
     "output_type": "stream",
     "text": [
      "C:\\Users\\Michael\\Anaconda3\\envs\\learn-env\\lib\\site-packages\\pystan\\misc.py:399: FutureWarning:\n",
      "\n",
      "Conversion of the second argument of issubdtype from `float` to `np.floating` is deprecated. In future, it will be treated as `np.float64 == np.dtype(float).type`.\n",
      "\n"
     ]
    },
    {
     "name": "stdout",
     "output_type": "stream",
     "text": [
      "[265888.97032184404, 830839.4391514383, 317396.89489744086]\n",
      "[265888.97032184404, 830839.4391514383, 317396.89489744086]\n"
     ]
    },
    {
     "name": "stderr",
     "output_type": "stream",
     "text": [
      "C:\\Users\\Michael\\Anaconda3\\envs\\learn-env\\lib\\site-packages\\ipykernel_launcher.py:60: FutureWarning:\n",
      "\n",
      "'variable' is both an index level and a column label.\n",
      "Defaulting to column, but this will raise an ambiguity error in a future version\n",
      "\n",
      "C:\\Users\\Michael\\Anaconda3\\envs\\learn-env\\lib\\site-packages\\ipykernel_launcher.py:63: FutureWarning:\n",
      "\n",
      "'variable' is both an index level and a column label.\n",
      "Defaulting to column, but this will raise an ambiguity error in a future version\n",
      "\n",
      "INFO:fbprophet:Disabling weekly seasonality. Run prophet with weekly_seasonality=True to override this.\n",
      "INFO:fbprophet:Disabling daily seasonality. Run prophet with daily_seasonality=True to override this.\n",
      "C:\\Users\\Michael\\Anaconda3\\envs\\learn-env\\lib\\site-packages\\pystan\\misc.py:399: FutureWarning:\n",
      "\n",
      "Conversion of the second argument of issubdtype from `float` to `np.floating` is deprecated. In future, it will be treated as `np.float64 == np.dtype(float).type`.\n",
      "\n",
      "C:\\Users\\Michael\\Anaconda3\\envs\\learn-env\\lib\\site-packages\\ipykernel_launcher.py:40: FutureWarning:\n",
      "\n",
      "'variable' is both an index level and a column label.\n",
      "Defaulting to column, but this will raise an ambiguity error in a future version\n",
      "\n",
      "C:\\Users\\Michael\\Anaconda3\\envs\\learn-env\\lib\\site-packages\\ipykernel_launcher.py:44: FutureWarning:\n",
      "\n",
      "'variable' is both an index level and a column label.\n",
      "Defaulting to column, but this will raise an ambiguity error in a future version\n",
      "\n",
      "INFO:fbprophet:Disabling weekly seasonality. Run prophet with weekly_seasonality=True to override this.\n",
      "INFO:fbprophet:Disabling daily seasonality. Run prophet with daily_seasonality=True to override this.\n"
     ]
    },
    {
     "name": "stdout",
     "output_type": "stream",
     "text": [
      " 107 progress so far\n"
     ]
    },
    {
     "name": "stderr",
     "output_type": "stream",
     "text": [
      "C:\\Users\\Michael\\Anaconda3\\envs\\learn-env\\lib\\site-packages\\ipykernel_launcher.py:40: FutureWarning:\n",
      "\n",
      "'variable' is both an index level and a column label.\n",
      "Defaulting to column, but this will raise an ambiguity error in a future version\n",
      "\n",
      "C:\\Users\\Michael\\Anaconda3\\envs\\learn-env\\lib\\site-packages\\ipykernel_launcher.py:44: FutureWarning:\n",
      "\n",
      "'variable' is both an index level and a column label.\n",
      "Defaulting to column, but this will raise an ambiguity error in a future version\n",
      "\n",
      "INFO:fbprophet:Disabling weekly seasonality. Run prophet with weekly_seasonality=True to override this.\n",
      "INFO:fbprophet:Disabling daily seasonality. Run prophet with daily_seasonality=True to override this.\n"
     ]
    },
    {
     "name": "stdout",
     "output_type": "stream",
     "text": [
      "[422503.9072336046]\n"
     ]
    },
    {
     "name": "stderr",
     "output_type": "stream",
     "text": [
      "C:\\Users\\Michael\\Anaconda3\\envs\\learn-env\\lib\\site-packages\\pystan\\misc.py:399: FutureWarning:\n",
      "\n",
      "Conversion of the second argument of issubdtype from `float` to `np.floating` is deprecated. In future, it will be treated as `np.float64 == np.dtype(float).type`.\n",
      "\n",
      "C:\\Users\\Michael\\Anaconda3\\envs\\learn-env\\lib\\site-packages\\ipykernel_launcher.py:40: FutureWarning:\n",
      "\n",
      "'variable' is both an index level and a column label.\n",
      "Defaulting to column, but this will raise an ambiguity error in a future version\n",
      "\n",
      "C:\\Users\\Michael\\Anaconda3\\envs\\learn-env\\lib\\site-packages\\ipykernel_launcher.py:44: FutureWarning:\n",
      "\n",
      "'variable' is both an index level and a column label.\n",
      "Defaulting to column, but this will raise an ambiguity error in a future version\n",
      "\n",
      "INFO:fbprophet:Disabling weekly seasonality. Run prophet with weekly_seasonality=True to override this.\n",
      "INFO:fbprophet:Disabling daily seasonality. Run prophet with daily_seasonality=True to override this.\n"
     ]
    },
    {
     "name": "stdout",
     "output_type": "stream",
     "text": [
      "[422503.9072336046, 421197.7314705214]\n"
     ]
    },
    {
     "name": "stderr",
     "output_type": "stream",
     "text": [
      "C:\\Users\\Michael\\Anaconda3\\envs\\learn-env\\lib\\site-packages\\pystan\\misc.py:399: FutureWarning:\n",
      "\n",
      "Conversion of the second argument of issubdtype from `float` to `np.floating` is deprecated. In future, it will be treated as `np.float64 == np.dtype(float).type`.\n",
      "\n"
     ]
    },
    {
     "name": "stdout",
     "output_type": "stream",
     "text": [
      "[422503.9072336046, 421197.7314705214, 49856.70450636427]\n",
      "[422503.9072336046, 421197.7314705214, 49856.70450636427]\n"
     ]
    },
    {
     "name": "stderr",
     "output_type": "stream",
     "text": [
      "C:\\Users\\Michael\\Anaconda3\\envs\\learn-env\\lib\\site-packages\\ipykernel_launcher.py:60: FutureWarning:\n",
      "\n",
      "'variable' is both an index level and a column label.\n",
      "Defaulting to column, but this will raise an ambiguity error in a future version\n",
      "\n",
      "C:\\Users\\Michael\\Anaconda3\\envs\\learn-env\\lib\\site-packages\\ipykernel_launcher.py:63: FutureWarning:\n",
      "\n",
      "'variable' is both an index level and a column label.\n",
      "Defaulting to column, but this will raise an ambiguity error in a future version\n",
      "\n",
      "INFO:fbprophet:Disabling weekly seasonality. Run prophet with weekly_seasonality=True to override this.\n",
      "INFO:fbprophet:Disabling daily seasonality. Run prophet with daily_seasonality=True to override this.\n",
      "C:\\Users\\Michael\\Anaconda3\\envs\\learn-env\\lib\\site-packages\\pystan\\misc.py:399: FutureWarning:\n",
      "\n",
      "Conversion of the second argument of issubdtype from `float` to `np.floating` is deprecated. In future, it will be treated as `np.float64 == np.dtype(float).type`.\n",
      "\n",
      "C:\\Users\\Michael\\Anaconda3\\envs\\learn-env\\lib\\site-packages\\ipykernel_launcher.py:40: FutureWarning:\n",
      "\n",
      "'variable' is both an index level and a column label.\n",
      "Defaulting to column, but this will raise an ambiguity error in a future version\n",
      "\n",
      "C:\\Users\\Michael\\Anaconda3\\envs\\learn-env\\lib\\site-packages\\ipykernel_launcher.py:44: FutureWarning:\n",
      "\n",
      "'variable' is both an index level and a column label.\n",
      "Defaulting to column, but this will raise an ambiguity error in a future version\n",
      "\n",
      "INFO:fbprophet:Disabling weekly seasonality. Run prophet with weekly_seasonality=True to override this.\n",
      "INFO:fbprophet:Disabling daily seasonality. Run prophet with daily_seasonality=True to override this.\n"
     ]
    },
    {
     "name": "stdout",
     "output_type": "stream",
     "text": [
      " 108 progress so far\n"
     ]
    },
    {
     "name": "stderr",
     "output_type": "stream",
     "text": [
      "C:\\Users\\Michael\\Anaconda3\\envs\\learn-env\\lib\\site-packages\\ipykernel_launcher.py:40: FutureWarning:\n",
      "\n",
      "'variable' is both an index level and a column label.\n",
      "Defaulting to column, but this will raise an ambiguity error in a future version\n",
      "\n",
      "C:\\Users\\Michael\\Anaconda3\\envs\\learn-env\\lib\\site-packages\\ipykernel_launcher.py:44: FutureWarning:\n",
      "\n",
      "'variable' is both an index level and a column label.\n",
      "Defaulting to column, but this will raise an ambiguity error in a future version\n",
      "\n",
      "INFO:fbprophet:Disabling weekly seasonality. Run prophet with weekly_seasonality=True to override this.\n",
      "INFO:fbprophet:Disabling daily seasonality. Run prophet with daily_seasonality=True to override this.\n"
     ]
    },
    {
     "name": "stdout",
     "output_type": "stream",
     "text": [
      "[256948.51344465028]\n"
     ]
    },
    {
     "name": "stderr",
     "output_type": "stream",
     "text": [
      "C:\\Users\\Michael\\Anaconda3\\envs\\learn-env\\lib\\site-packages\\pystan\\misc.py:399: FutureWarning:\n",
      "\n",
      "Conversion of the second argument of issubdtype from `float` to `np.floating` is deprecated. In future, it will be treated as `np.float64 == np.dtype(float).type`.\n",
      "\n",
      "C:\\Users\\Michael\\Anaconda3\\envs\\learn-env\\lib\\site-packages\\ipykernel_launcher.py:40: FutureWarning:\n",
      "\n",
      "'variable' is both an index level and a column label.\n",
      "Defaulting to column, but this will raise an ambiguity error in a future version\n",
      "\n",
      "C:\\Users\\Michael\\Anaconda3\\envs\\learn-env\\lib\\site-packages\\ipykernel_launcher.py:44: FutureWarning:\n",
      "\n",
      "'variable' is both an index level and a column label.\n",
      "Defaulting to column, but this will raise an ambiguity error in a future version\n",
      "\n",
      "INFO:fbprophet:Disabling weekly seasonality. Run prophet with weekly_seasonality=True to override this.\n",
      "INFO:fbprophet:Disabling daily seasonality. Run prophet with daily_seasonality=True to override this.\n"
     ]
    },
    {
     "name": "stdout",
     "output_type": "stream",
     "text": [
      "[256948.51344465028, 357911.56704754644]\n"
     ]
    },
    {
     "name": "stderr",
     "output_type": "stream",
     "text": [
      "C:\\Users\\Michael\\Anaconda3\\envs\\learn-env\\lib\\site-packages\\pystan\\misc.py:399: FutureWarning:\n",
      "\n",
      "Conversion of the second argument of issubdtype from `float` to `np.floating` is deprecated. In future, it will be treated as `np.float64 == np.dtype(float).type`.\n",
      "\n",
      "C:\\Users\\Michael\\Anaconda3\\envs\\learn-env\\lib\\site-packages\\ipykernel_launcher.py:60: FutureWarning:\n",
      "\n",
      "'variable' is both an index level and a column label.\n",
      "Defaulting to column, but this will raise an ambiguity error in a future version\n",
      "\n",
      "C:\\Users\\Michael\\Anaconda3\\envs\\learn-env\\lib\\site-packages\\ipykernel_launcher.py:63: FutureWarning:\n",
      "\n",
      "'variable' is both an index level and a column label.\n",
      "Defaulting to column, but this will raise an ambiguity error in a future version\n",
      "\n",
      "INFO:fbprophet:Disabling weekly seasonality. Run prophet with weekly_seasonality=True to override this.\n"
     ]
    },
    {
     "name": "stdout",
     "output_type": "stream",
     "text": [
      "[256948.51344465028, 357911.56704754644, 141306.6574851375]\n",
      "[256948.51344465028, 357911.56704754644, 141306.6574851375]\n"
     ]
    },
    {
     "name": "stderr",
     "output_type": "stream",
     "text": [
      "INFO:fbprophet:Disabling daily seasonality. Run prophet with daily_seasonality=True to override this.\n",
      "C:\\Users\\Michael\\Anaconda3\\envs\\learn-env\\lib\\site-packages\\pystan\\misc.py:399: FutureWarning:\n",
      "\n",
      "Conversion of the second argument of issubdtype from `float` to `np.floating` is deprecated. In future, it will be treated as `np.float64 == np.dtype(float).type`.\n",
      "\n",
      "C:\\Users\\Michael\\Anaconda3\\envs\\learn-env\\lib\\site-packages\\ipykernel_launcher.py:40: FutureWarning:\n",
      "\n",
      "'variable' is both an index level and a column label.\n",
      "Defaulting to column, but this will raise an ambiguity error in a future version\n",
      "\n",
      "C:\\Users\\Michael\\Anaconda3\\envs\\learn-env\\lib\\site-packages\\ipykernel_launcher.py:44: FutureWarning:\n",
      "\n",
      "'variable' is both an index level and a column label.\n",
      "Defaulting to column, but this will raise an ambiguity error in a future version\n",
      "\n",
      "INFO:fbprophet:Disabling weekly seasonality. Run prophet with weekly_seasonality=True to override this.\n",
      "INFO:fbprophet:Disabling daily seasonality. Run prophet with daily_seasonality=True to override this.\n"
     ]
    },
    {
     "name": "stdout",
     "output_type": "stream",
     "text": [
      " 109 progress so far\n"
     ]
    },
    {
     "name": "stderr",
     "output_type": "stream",
     "text": [
      "C:\\Users\\Michael\\Anaconda3\\envs\\learn-env\\lib\\site-packages\\ipykernel_launcher.py:40: FutureWarning:\n",
      "\n",
      "'variable' is both an index level and a column label.\n",
      "Defaulting to column, but this will raise an ambiguity error in a future version\n",
      "\n",
      "C:\\Users\\Michael\\Anaconda3\\envs\\learn-env\\lib\\site-packages\\ipykernel_launcher.py:44: FutureWarning:\n",
      "\n",
      "'variable' is both an index level and a column label.\n",
      "Defaulting to column, but this will raise an ambiguity error in a future version\n",
      "\n",
      "INFO:fbprophet:Disabling weekly seasonality. Run prophet with weekly_seasonality=True to override this.\n",
      "INFO:fbprophet:Disabling daily seasonality. Run prophet with daily_seasonality=True to override this.\n"
     ]
    },
    {
     "name": "stdout",
     "output_type": "stream",
     "text": [
      "[31703.971227607097]\n"
     ]
    },
    {
     "name": "stderr",
     "output_type": "stream",
     "text": [
      "C:\\Users\\Michael\\Anaconda3\\envs\\learn-env\\lib\\site-packages\\pystan\\misc.py:399: FutureWarning:\n",
      "\n",
      "Conversion of the second argument of issubdtype from `float` to `np.floating` is deprecated. In future, it will be treated as `np.float64 == np.dtype(float).type`.\n",
      "\n",
      "C:\\Users\\Michael\\Anaconda3\\envs\\learn-env\\lib\\site-packages\\ipykernel_launcher.py:40: FutureWarning:\n",
      "\n",
      "'variable' is both an index level and a column label.\n",
      "Defaulting to column, but this will raise an ambiguity error in a future version\n",
      "\n",
      "C:\\Users\\Michael\\Anaconda3\\envs\\learn-env\\lib\\site-packages\\ipykernel_launcher.py:44: FutureWarning:\n",
      "\n",
      "'variable' is both an index level and a column label.\n",
      "Defaulting to column, but this will raise an ambiguity error in a future version\n",
      "\n",
      "INFO:fbprophet:Disabling weekly seasonality. Run prophet with weekly_seasonality=True to override this.\n",
      "INFO:fbprophet:Disabling daily seasonality. Run prophet with daily_seasonality=True to override this.\n"
     ]
    },
    {
     "name": "stdout",
     "output_type": "stream",
     "text": [
      "[31703.971227607097, 91517.6792159804]\n"
     ]
    },
    {
     "name": "stderr",
     "output_type": "stream",
     "text": [
      "C:\\Users\\Michael\\Anaconda3\\envs\\learn-env\\lib\\site-packages\\pystan\\misc.py:399: FutureWarning:\n",
      "\n",
      "Conversion of the second argument of issubdtype from `float` to `np.floating` is deprecated. In future, it will be treated as `np.float64 == np.dtype(float).type`.\n",
      "\n",
      "C:\\Users\\Michael\\Anaconda3\\envs\\learn-env\\lib\\site-packages\\ipykernel_launcher.py:60: FutureWarning:\n",
      "\n",
      "'variable' is both an index level and a column label.\n",
      "Defaulting to column, but this will raise an ambiguity error in a future version\n",
      "\n",
      "C:\\Users\\Michael\\Anaconda3\\envs\\learn-env\\lib\\site-packages\\ipykernel_launcher.py:63: FutureWarning:\n",
      "\n",
      "'variable' is both an index level and a column label.\n",
      "Defaulting to column, but this will raise an ambiguity error in a future version\n",
      "\n",
      "INFO:fbprophet:Disabling weekly seasonality. Run prophet with weekly_seasonality=True to override this.\n",
      "INFO:fbprophet:Disabling daily seasonality. Run prophet with daily_seasonality=True to override this.\n"
     ]
    },
    {
     "name": "stdout",
     "output_type": "stream",
     "text": [
      "[31703.971227607097, 91517.6792159804, 59324.33306955846]\n",
      "[31703.971227607097, 91517.6792159804, 59324.33306955846]\n"
     ]
    },
    {
     "name": "stderr",
     "output_type": "stream",
     "text": [
      "C:\\Users\\Michael\\Anaconda3\\envs\\learn-env\\lib\\site-packages\\pystan\\misc.py:399: FutureWarning:\n",
      "\n",
      "Conversion of the second argument of issubdtype from `float` to `np.floating` is deprecated. In future, it will be treated as `np.float64 == np.dtype(float).type`.\n",
      "\n",
      "C:\\Users\\Michael\\Anaconda3\\envs\\learn-env\\lib\\site-packages\\ipykernel_launcher.py:40: FutureWarning:\n",
      "\n",
      "'variable' is both an index level and a column label.\n",
      "Defaulting to column, but this will raise an ambiguity error in a future version\n",
      "\n",
      "C:\\Users\\Michael\\Anaconda3\\envs\\learn-env\\lib\\site-packages\\ipykernel_launcher.py:44: FutureWarning:\n",
      "\n",
      "'variable' is both an index level and a column label.\n",
      "Defaulting to column, but this will raise an ambiguity error in a future version\n",
      "\n",
      "INFO:fbprophet:Disabling weekly seasonality. Run prophet with weekly_seasonality=True to override this.\n",
      "INFO:fbprophet:Disabling daily seasonality. Run prophet with daily_seasonality=True to override this.\n"
     ]
    },
    {
     "name": "stdout",
     "output_type": "stream",
     "text": [
      " 110 progress so far\n"
     ]
    },
    {
     "name": "stderr",
     "output_type": "stream",
     "text": [
      "C:\\Users\\Michael\\Anaconda3\\envs\\learn-env\\lib\\site-packages\\ipykernel_launcher.py:40: FutureWarning:\n",
      "\n",
      "'variable' is both an index level and a column label.\n",
      "Defaulting to column, but this will raise an ambiguity error in a future version\n",
      "\n",
      "C:\\Users\\Michael\\Anaconda3\\envs\\learn-env\\lib\\site-packages\\ipykernel_launcher.py:44: FutureWarning:\n",
      "\n",
      "'variable' is both an index level and a column label.\n",
      "Defaulting to column, but this will raise an ambiguity error in a future version\n",
      "\n",
      "INFO:fbprophet:Disabling weekly seasonality. Run prophet with weekly_seasonality=True to override this.\n",
      "INFO:fbprophet:Disabling daily seasonality. Run prophet with daily_seasonality=True to override this.\n"
     ]
    },
    {
     "name": "stdout",
     "output_type": "stream",
     "text": [
      "[93365.09806676928]\n"
     ]
    },
    {
     "name": "stderr",
     "output_type": "stream",
     "text": [
      "C:\\Users\\Michael\\Anaconda3\\envs\\learn-env\\lib\\site-packages\\pystan\\misc.py:399: FutureWarning:\n",
      "\n",
      "Conversion of the second argument of issubdtype from `float` to `np.floating` is deprecated. In future, it will be treated as `np.float64 == np.dtype(float).type`.\n",
      "\n",
      "C:\\Users\\Michael\\Anaconda3\\envs\\learn-env\\lib\\site-packages\\ipykernel_launcher.py:40: FutureWarning:\n",
      "\n",
      "'variable' is both an index level and a column label.\n",
      "Defaulting to column, but this will raise an ambiguity error in a future version\n",
      "\n",
      "C:\\Users\\Michael\\Anaconda3\\envs\\learn-env\\lib\\site-packages\\ipykernel_launcher.py:44: FutureWarning:\n",
      "\n",
      "'variable' is both an index level and a column label.\n",
      "Defaulting to column, but this will raise an ambiguity error in a future version\n",
      "\n",
      "INFO:fbprophet:Disabling weekly seasonality. Run prophet with weekly_seasonality=True to override this.\n",
      "INFO:fbprophet:Disabling daily seasonality. Run prophet with daily_seasonality=True to override this.\n"
     ]
    },
    {
     "name": "stdout",
     "output_type": "stream",
     "text": [
      "[93365.09806676928, 181902.07280004842]\n"
     ]
    },
    {
     "name": "stderr",
     "output_type": "stream",
     "text": [
      "C:\\Users\\Michael\\Anaconda3\\envs\\learn-env\\lib\\site-packages\\pystan\\misc.py:399: FutureWarning:\n",
      "\n",
      "Conversion of the second argument of issubdtype from `float` to `np.floating` is deprecated. In future, it will be treated as `np.float64 == np.dtype(float).type`.\n",
      "\n",
      "C:\\Users\\Michael\\Anaconda3\\envs\\learn-env\\lib\\site-packages\\ipykernel_launcher.py:60: FutureWarning:\n",
      "\n",
      "'variable' is both an index level and a column label.\n",
      "Defaulting to column, but this will raise an ambiguity error in a future version\n",
      "\n",
      "C:\\Users\\Michael\\Anaconda3\\envs\\learn-env\\lib\\site-packages\\ipykernel_launcher.py:63: FutureWarning:\n",
      "\n",
      "'variable' is both an index level and a column label.\n",
      "Defaulting to column, but this will raise an ambiguity error in a future version\n",
      "\n",
      "INFO:fbprophet:Disabling weekly seasonality. Run prophet with weekly_seasonality=True to override this.\n"
     ]
    },
    {
     "name": "stdout",
     "output_type": "stream",
     "text": [
      "[93365.09806676928, 181902.07280004842, 122502.60646739438]\n",
      "[93365.09806676928, 181902.07280004842, 122502.60646739438]\n"
     ]
    },
    {
     "name": "stderr",
     "output_type": "stream",
     "text": [
      "INFO:fbprophet:Disabling daily seasonality. Run prophet with daily_seasonality=True to override this.\n",
      "C:\\Users\\Michael\\Anaconda3\\envs\\learn-env\\lib\\site-packages\\pystan\\misc.py:399: FutureWarning:\n",
      "\n",
      "Conversion of the second argument of issubdtype from `float` to `np.floating` is deprecated. In future, it will be treated as `np.float64 == np.dtype(float).type`.\n",
      "\n",
      "C:\\Users\\Michael\\Anaconda3\\envs\\learn-env\\lib\\site-packages\\ipykernel_launcher.py:40: FutureWarning:\n",
      "\n",
      "'variable' is both an index level and a column label.\n",
      "Defaulting to column, but this will raise an ambiguity error in a future version\n",
      "\n",
      "C:\\Users\\Michael\\Anaconda3\\envs\\learn-env\\lib\\site-packages\\ipykernel_launcher.py:44: FutureWarning:\n",
      "\n",
      "'variable' is both an index level and a column label.\n",
      "Defaulting to column, but this will raise an ambiguity error in a future version\n",
      "\n",
      "INFO:fbprophet:Disabling weekly seasonality. Run prophet with weekly_seasonality=True to override this.\n",
      "INFO:fbprophet:Disabling daily seasonality. Run prophet with daily_seasonality=True to override this.\n"
     ]
    },
    {
     "name": "stdout",
     "output_type": "stream",
     "text": [
      " 111 progress so far\n"
     ]
    },
    {
     "name": "stderr",
     "output_type": "stream",
     "text": [
      "C:\\Users\\Michael\\Anaconda3\\envs\\learn-env\\lib\\site-packages\\ipykernel_launcher.py:40: FutureWarning:\n",
      "\n",
      "'variable' is both an index level and a column label.\n",
      "Defaulting to column, but this will raise an ambiguity error in a future version\n",
      "\n",
      "C:\\Users\\Michael\\Anaconda3\\envs\\learn-env\\lib\\site-packages\\ipykernel_launcher.py:44: FutureWarning:\n",
      "\n",
      "'variable' is both an index level and a column label.\n",
      "Defaulting to column, but this will raise an ambiguity error in a future version\n",
      "\n",
      "INFO:fbprophet:Disabling weekly seasonality. Run prophet with weekly_seasonality=True to override this.\n",
      "INFO:fbprophet:Disabling daily seasonality. Run prophet with daily_seasonality=True to override this.\n"
     ]
    },
    {
     "name": "stdout",
     "output_type": "stream",
     "text": [
      "[49437.89634989857]\n"
     ]
    },
    {
     "name": "stderr",
     "output_type": "stream",
     "text": [
      "C:\\Users\\Michael\\Anaconda3\\envs\\learn-env\\lib\\site-packages\\pystan\\misc.py:399: FutureWarning:\n",
      "\n",
      "Conversion of the second argument of issubdtype from `float` to `np.floating` is deprecated. In future, it will be treated as `np.float64 == np.dtype(float).type`.\n",
      "\n",
      "C:\\Users\\Michael\\Anaconda3\\envs\\learn-env\\lib\\site-packages\\ipykernel_launcher.py:40: FutureWarning:\n",
      "\n",
      "'variable' is both an index level and a column label.\n",
      "Defaulting to column, but this will raise an ambiguity error in a future version\n",
      "\n",
      "C:\\Users\\Michael\\Anaconda3\\envs\\learn-env\\lib\\site-packages\\ipykernel_launcher.py:44: FutureWarning:\n",
      "\n",
      "'variable' is both an index level and a column label.\n",
      "Defaulting to column, but this will raise an ambiguity error in a future version\n",
      "\n",
      "INFO:fbprophet:Disabling weekly seasonality. Run prophet with weekly_seasonality=True to override this.\n",
      "INFO:fbprophet:Disabling daily seasonality. Run prophet with daily_seasonality=True to override this.\n"
     ]
    },
    {
     "name": "stdout",
     "output_type": "stream",
     "text": [
      "[49437.89634989857, 98355.69606880496]\n"
     ]
    },
    {
     "name": "stderr",
     "output_type": "stream",
     "text": [
      "C:\\Users\\Michael\\Anaconda3\\envs\\learn-env\\lib\\site-packages\\pystan\\misc.py:399: FutureWarning:\n",
      "\n",
      "Conversion of the second argument of issubdtype from `float` to `np.floating` is deprecated. In future, it will be treated as `np.float64 == np.dtype(float).type`.\n",
      "\n",
      "C:\\Users\\Michael\\Anaconda3\\envs\\learn-env\\lib\\site-packages\\ipykernel_launcher.py:60: FutureWarning:\n",
      "\n",
      "'variable' is both an index level and a column label.\n",
      "Defaulting to column, but this will raise an ambiguity error in a future version\n",
      "\n",
      "C:\\Users\\Michael\\Anaconda3\\envs\\learn-env\\lib\\site-packages\\ipykernel_launcher.py:63: FutureWarning:\n",
      "\n",
      "'variable' is both an index level and a column label.\n",
      "Defaulting to column, but this will raise an ambiguity error in a future version\n",
      "\n",
      "INFO:fbprophet:Disabling weekly seasonality. Run prophet with weekly_seasonality=True to override this.\n",
      "INFO:fbprophet:Disabling daily seasonality. Run prophet with daily_seasonality=True to override this.\n"
     ]
    },
    {
     "name": "stdout",
     "output_type": "stream",
     "text": [
      "[49437.89634989857, 98355.69606880496, 63697.18681565647]\n",
      "[49437.89634989857, 98355.69606880496, 63697.18681565647]\n"
     ]
    },
    {
     "name": "stderr",
     "output_type": "stream",
     "text": [
      "C:\\Users\\Michael\\Anaconda3\\envs\\learn-env\\lib\\site-packages\\pystan\\misc.py:399: FutureWarning:\n",
      "\n",
      "Conversion of the second argument of issubdtype from `float` to `np.floating` is deprecated. In future, it will be treated as `np.float64 == np.dtype(float).type`.\n",
      "\n",
      "C:\\Users\\Michael\\Anaconda3\\envs\\learn-env\\lib\\site-packages\\ipykernel_launcher.py:40: FutureWarning:\n",
      "\n",
      "'variable' is both an index level and a column label.\n",
      "Defaulting to column, but this will raise an ambiguity error in a future version\n",
      "\n",
      "C:\\Users\\Michael\\Anaconda3\\envs\\learn-env\\lib\\site-packages\\ipykernel_launcher.py:44: FutureWarning:\n",
      "\n",
      "'variable' is both an index level and a column label.\n",
      "Defaulting to column, but this will raise an ambiguity error in a future version\n",
      "\n",
      "INFO:fbprophet:Disabling weekly seasonality. Run prophet with weekly_seasonality=True to override this.\n",
      "INFO:fbprophet:Disabling daily seasonality. Run prophet with daily_seasonality=True to override this.\n"
     ]
    },
    {
     "name": "stdout",
     "output_type": "stream",
     "text": [
      " 112 progress so far\n"
     ]
    },
    {
     "name": "stderr",
     "output_type": "stream",
     "text": [
      "C:\\Users\\Michael\\Anaconda3\\envs\\learn-env\\lib\\site-packages\\ipykernel_launcher.py:40: FutureWarning:\n",
      "\n",
      "'variable' is both an index level and a column label.\n",
      "Defaulting to column, but this will raise an ambiguity error in a future version\n",
      "\n",
      "C:\\Users\\Michael\\Anaconda3\\envs\\learn-env\\lib\\site-packages\\ipykernel_launcher.py:44: FutureWarning:\n",
      "\n",
      "'variable' is both an index level and a column label.\n",
      "Defaulting to column, but this will raise an ambiguity error in a future version\n",
      "\n",
      "INFO:fbprophet:Disabling weekly seasonality. Run prophet with weekly_seasonality=True to override this.\n",
      "INFO:fbprophet:Disabling daily seasonality. Run prophet with daily_seasonality=True to override this.\n"
     ]
    },
    {
     "name": "stdout",
     "output_type": "stream",
     "text": [
      "[91879.43419234635]\n"
     ]
    },
    {
     "name": "stderr",
     "output_type": "stream",
     "text": [
      "C:\\Users\\Michael\\Anaconda3\\envs\\learn-env\\lib\\site-packages\\pystan\\misc.py:399: FutureWarning:\n",
      "\n",
      "Conversion of the second argument of issubdtype from `float` to `np.floating` is deprecated. In future, it will be treated as `np.float64 == np.dtype(float).type`.\n",
      "\n",
      "C:\\Users\\Michael\\Anaconda3\\envs\\learn-env\\lib\\site-packages\\ipykernel_launcher.py:40: FutureWarning:\n",
      "\n",
      "'variable' is both an index level and a column label.\n",
      "Defaulting to column, but this will raise an ambiguity error in a future version\n",
      "\n",
      "C:\\Users\\Michael\\Anaconda3\\envs\\learn-env\\lib\\site-packages\\ipykernel_launcher.py:44: FutureWarning:\n",
      "\n",
      "'variable' is both an index level and a column label.\n",
      "Defaulting to column, but this will raise an ambiguity error in a future version\n",
      "\n",
      "INFO:fbprophet:Disabling weekly seasonality. Run prophet with weekly_seasonality=True to override this.\n",
      "INFO:fbprophet:Disabling daily seasonality. Run prophet with daily_seasonality=True to override this.\n"
     ]
    },
    {
     "name": "stdout",
     "output_type": "stream",
     "text": [
      "[91879.43419234635, 189362.00011894296]\n"
     ]
    },
    {
     "name": "stderr",
     "output_type": "stream",
     "text": [
      "C:\\Users\\Michael\\Anaconda3\\envs\\learn-env\\lib\\site-packages\\pystan\\misc.py:399: FutureWarning:\n",
      "\n",
      "Conversion of the second argument of issubdtype from `float` to `np.floating` is deprecated. In future, it will be treated as `np.float64 == np.dtype(float).type`.\n",
      "\n",
      "C:\\Users\\Michael\\Anaconda3\\envs\\learn-env\\lib\\site-packages\\ipykernel_launcher.py:60: FutureWarning:\n",
      "\n",
      "'variable' is both an index level and a column label.\n",
      "Defaulting to column, but this will raise an ambiguity error in a future version\n",
      "\n",
      "C:\\Users\\Michael\\Anaconda3\\envs\\learn-env\\lib\\site-packages\\ipykernel_launcher.py:63: FutureWarning:\n",
      "\n",
      "'variable' is both an index level and a column label.\n",
      "Defaulting to column, but this will raise an ambiguity error in a future version\n",
      "\n",
      "INFO:fbprophet:Disabling weekly seasonality. Run prophet with weekly_seasonality=True to override this.\n",
      "INFO:fbprophet:Disabling daily seasonality. Run prophet with daily_seasonality=True to override this.\n"
     ]
    },
    {
     "name": "stdout",
     "output_type": "stream",
     "text": [
      "[91879.43419234635, 189362.00011894296, 108623.73149631346]\n",
      "[91879.43419234635, 189362.00011894296, 108623.73149631346]\n"
     ]
    },
    {
     "name": "stderr",
     "output_type": "stream",
     "text": [
      "C:\\Users\\Michael\\Anaconda3\\envs\\learn-env\\lib\\site-packages\\pystan\\misc.py:399: FutureWarning:\n",
      "\n",
      "Conversion of the second argument of issubdtype from `float` to `np.floating` is deprecated. In future, it will be treated as `np.float64 == np.dtype(float).type`.\n",
      "\n",
      "C:\\Users\\Michael\\Anaconda3\\envs\\learn-env\\lib\\site-packages\\ipykernel_launcher.py:40: FutureWarning:\n",
      "\n",
      "'variable' is both an index level and a column label.\n",
      "Defaulting to column, but this will raise an ambiguity error in a future version\n",
      "\n",
      "C:\\Users\\Michael\\Anaconda3\\envs\\learn-env\\lib\\site-packages\\ipykernel_launcher.py:44: FutureWarning:\n",
      "\n",
      "'variable' is both an index level and a column label.\n",
      "Defaulting to column, but this will raise an ambiguity error in a future version\n",
      "\n",
      "INFO:fbprophet:Disabling weekly seasonality. Run prophet with weekly_seasonality=True to override this.\n",
      "INFO:fbprophet:Disabling daily seasonality. Run prophet with daily_seasonality=True to override this.\n"
     ]
    },
    {
     "name": "stdout",
     "output_type": "stream",
     "text": [
      " 113 progress so far\n"
     ]
    },
    {
     "name": "stderr",
     "output_type": "stream",
     "text": [
      "C:\\Users\\Michael\\Anaconda3\\envs\\learn-env\\lib\\site-packages\\ipykernel_launcher.py:40: FutureWarning:\n",
      "\n",
      "'variable' is both an index level and a column label.\n",
      "Defaulting to column, but this will raise an ambiguity error in a future version\n",
      "\n",
      "C:\\Users\\Michael\\Anaconda3\\envs\\learn-env\\lib\\site-packages\\ipykernel_launcher.py:44: FutureWarning:\n",
      "\n",
      "'variable' is both an index level and a column label.\n",
      "Defaulting to column, but this will raise an ambiguity error in a future version\n",
      "\n",
      "INFO:fbprophet:Disabling weekly seasonality. Run prophet with weekly_seasonality=True to override this.\n",
      "INFO:fbprophet:Disabling daily seasonality. Run prophet with daily_seasonality=True to override this.\n"
     ]
    },
    {
     "name": "stdout",
     "output_type": "stream",
     "text": [
      "[86822.77506177992]\n"
     ]
    },
    {
     "name": "stderr",
     "output_type": "stream",
     "text": [
      "C:\\Users\\Michael\\Anaconda3\\envs\\learn-env\\lib\\site-packages\\pystan\\misc.py:399: FutureWarning:\n",
      "\n",
      "Conversion of the second argument of issubdtype from `float` to `np.floating` is deprecated. In future, it will be treated as `np.float64 == np.dtype(float).type`.\n",
      "\n",
      "C:\\Users\\Michael\\Anaconda3\\envs\\learn-env\\lib\\site-packages\\ipykernel_launcher.py:40: FutureWarning:\n",
      "\n",
      "'variable' is both an index level and a column label.\n",
      "Defaulting to column, but this will raise an ambiguity error in a future version\n",
      "\n",
      "C:\\Users\\Michael\\Anaconda3\\envs\\learn-env\\lib\\site-packages\\ipykernel_launcher.py:44: FutureWarning:\n",
      "\n",
      "'variable' is both an index level and a column label.\n",
      "Defaulting to column, but this will raise an ambiguity error in a future version\n",
      "\n",
      "INFO:fbprophet:Disabling weekly seasonality. Run prophet with weekly_seasonality=True to override this.\n",
      "INFO:fbprophet:Disabling daily seasonality. Run prophet with daily_seasonality=True to override this.\n"
     ]
    },
    {
     "name": "stdout",
     "output_type": "stream",
     "text": [
      "[86822.77506177992, 214352.89024109315]\n"
     ]
    },
    {
     "name": "stderr",
     "output_type": "stream",
     "text": [
      "C:\\Users\\Michael\\Anaconda3\\envs\\learn-env\\lib\\site-packages\\pystan\\misc.py:399: FutureWarning:\n",
      "\n",
      "Conversion of the second argument of issubdtype from `float` to `np.floating` is deprecated. In future, it will be treated as `np.float64 == np.dtype(float).type`.\n",
      "\n",
      "C:\\Users\\Michael\\Anaconda3\\envs\\learn-env\\lib\\site-packages\\ipykernel_launcher.py:60: FutureWarning:\n",
      "\n",
      "'variable' is both an index level and a column label.\n",
      "Defaulting to column, but this will raise an ambiguity error in a future version\n",
      "\n",
      "C:\\Users\\Michael\\Anaconda3\\envs\\learn-env\\lib\\site-packages\\ipykernel_launcher.py:63: FutureWarning:\n",
      "\n",
      "'variable' is both an index level and a column label.\n",
      "Defaulting to column, but this will raise an ambiguity error in a future version\n",
      "\n",
      "INFO:fbprophet:Disabling weekly seasonality. Run prophet with weekly_seasonality=True to override this.\n"
     ]
    },
    {
     "name": "stdout",
     "output_type": "stream",
     "text": [
      "[86822.77506177992, 214352.89024109315, 110502.36401176301]\n",
      "[86822.77506177992, 214352.89024109315, 110502.36401176301]\n"
     ]
    },
    {
     "name": "stderr",
     "output_type": "stream",
     "text": [
      "INFO:fbprophet:Disabling daily seasonality. Run prophet with daily_seasonality=True to override this.\n",
      "C:\\Users\\Michael\\Anaconda3\\envs\\learn-env\\lib\\site-packages\\pystan\\misc.py:399: FutureWarning:\n",
      "\n",
      "Conversion of the second argument of issubdtype from `float` to `np.floating` is deprecated. In future, it will be treated as `np.float64 == np.dtype(float).type`.\n",
      "\n",
      "C:\\Users\\Michael\\Anaconda3\\envs\\learn-env\\lib\\site-packages\\ipykernel_launcher.py:40: FutureWarning:\n",
      "\n",
      "'variable' is both an index level and a column label.\n",
      "Defaulting to column, but this will raise an ambiguity error in a future version\n",
      "\n",
      "C:\\Users\\Michael\\Anaconda3\\envs\\learn-env\\lib\\site-packages\\ipykernel_launcher.py:44: FutureWarning:\n",
      "\n",
      "'variable' is both an index level and a column label.\n",
      "Defaulting to column, but this will raise an ambiguity error in a future version\n",
      "\n",
      "INFO:fbprophet:Disabling weekly seasonality. Run prophet with weekly_seasonality=True to override this.\n",
      "INFO:fbprophet:Disabling daily seasonality. Run prophet with daily_seasonality=True to override this.\n"
     ]
    },
    {
     "name": "stdout",
     "output_type": "stream",
     "text": [
      " 114 progress so far\n"
     ]
    },
    {
     "name": "stderr",
     "output_type": "stream",
     "text": [
      "C:\\Users\\Michael\\Anaconda3\\envs\\learn-env\\lib\\site-packages\\ipykernel_launcher.py:40: FutureWarning:\n",
      "\n",
      "'variable' is both an index level and a column label.\n",
      "Defaulting to column, but this will raise an ambiguity error in a future version\n",
      "\n",
      "C:\\Users\\Michael\\Anaconda3\\envs\\learn-env\\lib\\site-packages\\ipykernel_launcher.py:44: FutureWarning:\n",
      "\n",
      "'variable' is both an index level and a column label.\n",
      "Defaulting to column, but this will raise an ambiguity error in a future version\n",
      "\n",
      "INFO:fbprophet:Disabling weekly seasonality. Run prophet with weekly_seasonality=True to override this.\n",
      "INFO:fbprophet:Disabling daily seasonality. Run prophet with daily_seasonality=True to override this.\n"
     ]
    },
    {
     "name": "stdout",
     "output_type": "stream",
     "text": [
      "[256254.19674776267]\n"
     ]
    },
    {
     "name": "stderr",
     "output_type": "stream",
     "text": [
      "C:\\Users\\Michael\\Anaconda3\\envs\\learn-env\\lib\\site-packages\\pystan\\misc.py:399: FutureWarning:\n",
      "\n",
      "Conversion of the second argument of issubdtype from `float` to `np.floating` is deprecated. In future, it will be treated as `np.float64 == np.dtype(float).type`.\n",
      "\n",
      "C:\\Users\\Michael\\Anaconda3\\envs\\learn-env\\lib\\site-packages\\ipykernel_launcher.py:40: FutureWarning:\n",
      "\n",
      "'variable' is both an index level and a column label.\n",
      "Defaulting to column, but this will raise an ambiguity error in a future version\n",
      "\n",
      "C:\\Users\\Michael\\Anaconda3\\envs\\learn-env\\lib\\site-packages\\ipykernel_launcher.py:44: FutureWarning:\n",
      "\n",
      "'variable' is both an index level and a column label.\n",
      "Defaulting to column, but this will raise an ambiguity error in a future version\n",
      "\n",
      "INFO:fbprophet:Disabling weekly seasonality. Run prophet with weekly_seasonality=True to override this.\n",
      "INFO:fbprophet:Disabling daily seasonality. Run prophet with daily_seasonality=True to override this.\n"
     ]
    },
    {
     "name": "stdout",
     "output_type": "stream",
     "text": [
      "[256254.19674776267, 369244.2764484087]\n"
     ]
    },
    {
     "name": "stderr",
     "output_type": "stream",
     "text": [
      "C:\\Users\\Michael\\Anaconda3\\envs\\learn-env\\lib\\site-packages\\pystan\\misc.py:399: FutureWarning:\n",
      "\n",
      "Conversion of the second argument of issubdtype from `float` to `np.floating` is deprecated. In future, it will be treated as `np.float64 == np.dtype(float).type`.\n",
      "\n",
      "C:\\Users\\Michael\\Anaconda3\\envs\\learn-env\\lib\\site-packages\\ipykernel_launcher.py:60: FutureWarning:\n",
      "\n",
      "'variable' is both an index level and a column label.\n",
      "Defaulting to column, but this will raise an ambiguity error in a future version\n",
      "\n",
      "C:\\Users\\Michael\\Anaconda3\\envs\\learn-env\\lib\\site-packages\\ipykernel_launcher.py:63: FutureWarning:\n",
      "\n",
      "'variable' is both an index level and a column label.\n",
      "Defaulting to column, but this will raise an ambiguity error in a future version\n",
      "\n",
      "INFO:fbprophet:Disabling weekly seasonality. Run prophet with weekly_seasonality=True to override this.\n"
     ]
    },
    {
     "name": "stdout",
     "output_type": "stream",
     "text": [
      "[256254.19674776267, 369244.2764484087, 185466.69637191453]\n",
      "[256254.19674776267, 369244.2764484087, 185466.69637191453]\n"
     ]
    },
    {
     "name": "stderr",
     "output_type": "stream",
     "text": [
      "INFO:fbprophet:Disabling daily seasonality. Run prophet with daily_seasonality=True to override this.\n",
      "C:\\Users\\Michael\\Anaconda3\\envs\\learn-env\\lib\\site-packages\\pystan\\misc.py:399: FutureWarning:\n",
      "\n",
      "Conversion of the second argument of issubdtype from `float` to `np.floating` is deprecated. In future, it will be treated as `np.float64 == np.dtype(float).type`.\n",
      "\n",
      "C:\\Users\\Michael\\Anaconda3\\envs\\learn-env\\lib\\site-packages\\ipykernel_launcher.py:40: FutureWarning:\n",
      "\n",
      "'variable' is both an index level and a column label.\n",
      "Defaulting to column, but this will raise an ambiguity error in a future version\n",
      "\n",
      "C:\\Users\\Michael\\Anaconda3\\envs\\learn-env\\lib\\site-packages\\ipykernel_launcher.py:44: FutureWarning:\n",
      "\n",
      "'variable' is both an index level and a column label.\n",
      "Defaulting to column, but this will raise an ambiguity error in a future version\n",
      "\n",
      "INFO:fbprophet:Disabling weekly seasonality. Run prophet with weekly_seasonality=True to override this.\n",
      "INFO:fbprophet:Disabling daily seasonality. Run prophet with daily_seasonality=True to override this.\n"
     ]
    },
    {
     "name": "stdout",
     "output_type": "stream",
     "text": [
      " 115 progress so far\n"
     ]
    },
    {
     "name": "stderr",
     "output_type": "stream",
     "text": [
      "C:\\Users\\Michael\\Anaconda3\\envs\\learn-env\\lib\\site-packages\\ipykernel_launcher.py:40: FutureWarning:\n",
      "\n",
      "'variable' is both an index level and a column label.\n",
      "Defaulting to column, but this will raise an ambiguity error in a future version\n",
      "\n",
      "C:\\Users\\Michael\\Anaconda3\\envs\\learn-env\\lib\\site-packages\\ipykernel_launcher.py:44: FutureWarning:\n",
      "\n",
      "'variable' is both an index level and a column label.\n",
      "Defaulting to column, but this will raise an ambiguity error in a future version\n",
      "\n",
      "INFO:fbprophet:Disabling weekly seasonality. Run prophet with weekly_seasonality=True to override this.\n",
      "INFO:fbprophet:Disabling daily seasonality. Run prophet with daily_seasonality=True to override this.\n"
     ]
    },
    {
     "name": "stdout",
     "output_type": "stream",
     "text": [
      "[266611.9073180175]\n"
     ]
    },
    {
     "name": "stderr",
     "output_type": "stream",
     "text": [
      "C:\\Users\\Michael\\Anaconda3\\envs\\learn-env\\lib\\site-packages\\pystan\\misc.py:399: FutureWarning:\n",
      "\n",
      "Conversion of the second argument of issubdtype from `float` to `np.floating` is deprecated. In future, it will be treated as `np.float64 == np.dtype(float).type`.\n",
      "\n",
      "C:\\Users\\Michael\\Anaconda3\\envs\\learn-env\\lib\\site-packages\\ipykernel_launcher.py:40: FutureWarning:\n",
      "\n",
      "'variable' is both an index level and a column label.\n",
      "Defaulting to column, but this will raise an ambiguity error in a future version\n",
      "\n",
      "C:\\Users\\Michael\\Anaconda3\\envs\\learn-env\\lib\\site-packages\\ipykernel_launcher.py:44: FutureWarning:\n",
      "\n",
      "'variable' is both an index level and a column label.\n",
      "Defaulting to column, but this will raise an ambiguity error in a future version\n",
      "\n",
      "INFO:fbprophet:Disabling weekly seasonality. Run prophet with weekly_seasonality=True to override this.\n",
      "INFO:fbprophet:Disabling daily seasonality. Run prophet with daily_seasonality=True to override this.\n"
     ]
    },
    {
     "name": "stdout",
     "output_type": "stream",
     "text": [
      "[266611.9073180175, 372175.1948478514]\n"
     ]
    },
    {
     "name": "stderr",
     "output_type": "stream",
     "text": [
      "C:\\Users\\Michael\\Anaconda3\\envs\\learn-env\\lib\\site-packages\\pystan\\misc.py:399: FutureWarning:\n",
      "\n",
      "Conversion of the second argument of issubdtype from `float` to `np.floating` is deprecated. In future, it will be treated as `np.float64 == np.dtype(float).type`.\n",
      "\n"
     ]
    },
    {
     "name": "stdout",
     "output_type": "stream",
     "text": [
      "[266611.9073180175, 372175.1948478514, 198938.16461775708]\n",
      "[266611.9073180175, 372175.1948478514, 198938.16461775708]\n"
     ]
    },
    {
     "name": "stderr",
     "output_type": "stream",
     "text": [
      "C:\\Users\\Michael\\Anaconda3\\envs\\learn-env\\lib\\site-packages\\ipykernel_launcher.py:60: FutureWarning:\n",
      "\n",
      "'variable' is both an index level and a column label.\n",
      "Defaulting to column, but this will raise an ambiguity error in a future version\n",
      "\n",
      "C:\\Users\\Michael\\Anaconda3\\envs\\learn-env\\lib\\site-packages\\ipykernel_launcher.py:63: FutureWarning:\n",
      "\n",
      "'variable' is both an index level and a column label.\n",
      "Defaulting to column, but this will raise an ambiguity error in a future version\n",
      "\n",
      "INFO:fbprophet:Disabling weekly seasonality. Run prophet with weekly_seasonality=True to override this.\n",
      "INFO:fbprophet:Disabling daily seasonality. Run prophet with daily_seasonality=True to override this.\n",
      "C:\\Users\\Michael\\Anaconda3\\envs\\learn-env\\lib\\site-packages\\pystan\\misc.py:399: FutureWarning:\n",
      "\n",
      "Conversion of the second argument of issubdtype from `float` to `np.floating` is deprecated. In future, it will be treated as `np.float64 == np.dtype(float).type`.\n",
      "\n",
      "C:\\Users\\Michael\\Anaconda3\\envs\\learn-env\\lib\\site-packages\\ipykernel_launcher.py:40: FutureWarning:\n",
      "\n",
      "'variable' is both an index level and a column label.\n",
      "Defaulting to column, but this will raise an ambiguity error in a future version\n",
      "\n",
      "C:\\Users\\Michael\\Anaconda3\\envs\\learn-env\\lib\\site-packages\\ipykernel_launcher.py:44: FutureWarning:\n",
      "\n",
      "'variable' is both an index level and a column label.\n",
      "Defaulting to column, but this will raise an ambiguity error in a future version\n",
      "\n",
      "INFO:fbprophet:Disabling weekly seasonality. Run prophet with weekly_seasonality=True to override this.\n",
      "INFO:fbprophet:Disabling daily seasonality. Run prophet with daily_seasonality=True to override this.\n"
     ]
    },
    {
     "name": "stdout",
     "output_type": "stream",
     "text": [
      " 116 progress so far\n"
     ]
    },
    {
     "name": "stderr",
     "output_type": "stream",
     "text": [
      "C:\\Users\\Michael\\Anaconda3\\envs\\learn-env\\lib\\site-packages\\ipykernel_launcher.py:40: FutureWarning:\n",
      "\n",
      "'variable' is both an index level and a column label.\n",
      "Defaulting to column, but this will raise an ambiguity error in a future version\n",
      "\n",
      "C:\\Users\\Michael\\Anaconda3\\envs\\learn-env\\lib\\site-packages\\ipykernel_launcher.py:44: FutureWarning:\n",
      "\n",
      "'variable' is both an index level and a column label.\n",
      "Defaulting to column, but this will raise an ambiguity error in a future version\n",
      "\n",
      "INFO:fbprophet:Disabling weekly seasonality. Run prophet with weekly_seasonality=True to override this.\n",
      "INFO:fbprophet:Disabling daily seasonality. Run prophet with daily_seasonality=True to override this.\n"
     ]
    },
    {
     "name": "stdout",
     "output_type": "stream",
     "text": [
      "[223713.2539242419]\n"
     ]
    },
    {
     "name": "stderr",
     "output_type": "stream",
     "text": [
      "C:\\Users\\Michael\\Anaconda3\\envs\\learn-env\\lib\\site-packages\\pystan\\misc.py:399: FutureWarning:\n",
      "\n",
      "Conversion of the second argument of issubdtype from `float` to `np.floating` is deprecated. In future, it will be treated as `np.float64 == np.dtype(float).type`.\n",
      "\n",
      "C:\\Users\\Michael\\Anaconda3\\envs\\learn-env\\lib\\site-packages\\ipykernel_launcher.py:40: FutureWarning:\n",
      "\n",
      "'variable' is both an index level and a column label.\n",
      "Defaulting to column, but this will raise an ambiguity error in a future version\n",
      "\n",
      "C:\\Users\\Michael\\Anaconda3\\envs\\learn-env\\lib\\site-packages\\ipykernel_launcher.py:44: FutureWarning:\n",
      "\n",
      "'variable' is both an index level and a column label.\n",
      "Defaulting to column, but this will raise an ambiguity error in a future version\n",
      "\n",
      "INFO:fbprophet:Disabling weekly seasonality. Run prophet with weekly_seasonality=True to override this.\n",
      "INFO:fbprophet:Disabling daily seasonality. Run prophet with daily_seasonality=True to override this.\n"
     ]
    },
    {
     "name": "stdout",
     "output_type": "stream",
     "text": [
      "[223713.2539242419, 320577.23432861484]\n"
     ]
    },
    {
     "name": "stderr",
     "output_type": "stream",
     "text": [
      "C:\\Users\\Michael\\Anaconda3\\envs\\learn-env\\lib\\site-packages\\pystan\\misc.py:399: FutureWarning:\n",
      "\n",
      "Conversion of the second argument of issubdtype from `float` to `np.floating` is deprecated. In future, it will be treated as `np.float64 == np.dtype(float).type`.\n",
      "\n"
     ]
    },
    {
     "name": "stdout",
     "output_type": "stream",
     "text": [
      "[223713.2539242419, 320577.23432861484, 206591.75796377164]\n",
      "[223713.2539242419, 320577.23432861484, 206591.75796377164]\n"
     ]
    },
    {
     "name": "stderr",
     "output_type": "stream",
     "text": [
      "C:\\Users\\Michael\\Anaconda3\\envs\\learn-env\\lib\\site-packages\\ipykernel_launcher.py:60: FutureWarning:\n",
      "\n",
      "'variable' is both an index level and a column label.\n",
      "Defaulting to column, but this will raise an ambiguity error in a future version\n",
      "\n",
      "C:\\Users\\Michael\\Anaconda3\\envs\\learn-env\\lib\\site-packages\\ipykernel_launcher.py:63: FutureWarning:\n",
      "\n",
      "'variable' is both an index level and a column label.\n",
      "Defaulting to column, but this will raise an ambiguity error in a future version\n",
      "\n",
      "INFO:fbprophet:Disabling weekly seasonality. Run prophet with weekly_seasonality=True to override this.\n",
      "INFO:fbprophet:Disabling daily seasonality. Run prophet with daily_seasonality=True to override this.\n",
      "C:\\Users\\Michael\\Anaconda3\\envs\\learn-env\\lib\\site-packages\\pystan\\misc.py:399: FutureWarning:\n",
      "\n",
      "Conversion of the second argument of issubdtype from `float` to `np.floating` is deprecated. In future, it will be treated as `np.float64 == np.dtype(float).type`.\n",
      "\n",
      "C:\\Users\\Michael\\Anaconda3\\envs\\learn-env\\lib\\site-packages\\ipykernel_launcher.py:40: FutureWarning:\n",
      "\n",
      "'variable' is both an index level and a column label.\n",
      "Defaulting to column, but this will raise an ambiguity error in a future version\n",
      "\n",
      "C:\\Users\\Michael\\Anaconda3\\envs\\learn-env\\lib\\site-packages\\ipykernel_launcher.py:44: FutureWarning:\n",
      "\n",
      "'variable' is both an index level and a column label.\n",
      "Defaulting to column, but this will raise an ambiguity error in a future version\n",
      "\n",
      "INFO:fbprophet:Disabling weekly seasonality. Run prophet with weekly_seasonality=True to override this.\n",
      "INFO:fbprophet:Disabling daily seasonality. Run prophet with daily_seasonality=True to override this.\n"
     ]
    },
    {
     "name": "stdout",
     "output_type": "stream",
     "text": [
      " 117 progress so far\n"
     ]
    },
    {
     "name": "stderr",
     "output_type": "stream",
     "text": [
      "C:\\Users\\Michael\\Anaconda3\\envs\\learn-env\\lib\\site-packages\\ipykernel_launcher.py:40: FutureWarning:\n",
      "\n",
      "'variable' is both an index level and a column label.\n",
      "Defaulting to column, but this will raise an ambiguity error in a future version\n",
      "\n",
      "C:\\Users\\Michael\\Anaconda3\\envs\\learn-env\\lib\\site-packages\\ipykernel_launcher.py:44: FutureWarning:\n",
      "\n",
      "'variable' is both an index level and a column label.\n",
      "Defaulting to column, but this will raise an ambiguity error in a future version\n",
      "\n",
      "INFO:fbprophet:Disabling weekly seasonality. Run prophet with weekly_seasonality=True to override this.\n",
      "INFO:fbprophet:Disabling daily seasonality. Run prophet with daily_seasonality=True to override this.\n"
     ]
    },
    {
     "name": "stdout",
     "output_type": "stream",
     "text": [
      "[287006.18398741033]\n"
     ]
    },
    {
     "name": "stderr",
     "output_type": "stream",
     "text": [
      "C:\\Users\\Michael\\Anaconda3\\envs\\learn-env\\lib\\site-packages\\pystan\\misc.py:399: FutureWarning:\n",
      "\n",
      "Conversion of the second argument of issubdtype from `float` to `np.floating` is deprecated. In future, it will be treated as `np.float64 == np.dtype(float).type`.\n",
      "\n",
      "C:\\Users\\Michael\\Anaconda3\\envs\\learn-env\\lib\\site-packages\\ipykernel_launcher.py:40: FutureWarning:\n",
      "\n",
      "'variable' is both an index level and a column label.\n",
      "Defaulting to column, but this will raise an ambiguity error in a future version\n",
      "\n",
      "C:\\Users\\Michael\\Anaconda3\\envs\\learn-env\\lib\\site-packages\\ipykernel_launcher.py:44: FutureWarning:\n",
      "\n",
      "'variable' is both an index level and a column label.\n",
      "Defaulting to column, but this will raise an ambiguity error in a future version\n",
      "\n",
      "INFO:fbprophet:Disabling weekly seasonality. Run prophet with weekly_seasonality=True to override this.\n",
      "INFO:fbprophet:Disabling daily seasonality. Run prophet with daily_seasonality=True to override this.\n"
     ]
    },
    {
     "name": "stdout",
     "output_type": "stream",
     "text": [
      "[287006.18398741033, 361775.4539261029]\n"
     ]
    },
    {
     "name": "stderr",
     "output_type": "stream",
     "text": [
      "C:\\Users\\Michael\\Anaconda3\\envs\\learn-env\\lib\\site-packages\\pystan\\misc.py:399: FutureWarning:\n",
      "\n",
      "Conversion of the second argument of issubdtype from `float` to `np.floating` is deprecated. In future, it will be treated as `np.float64 == np.dtype(float).type`.\n",
      "\n",
      "C:\\Users\\Michael\\Anaconda3\\envs\\learn-env\\lib\\site-packages\\ipykernel_launcher.py:60: FutureWarning:\n",
      "\n",
      "'variable' is both an index level and a column label.\n",
      "Defaulting to column, but this will raise an ambiguity error in a future version\n",
      "\n",
      "C:\\Users\\Michael\\Anaconda3\\envs\\learn-env\\lib\\site-packages\\ipykernel_launcher.py:63: FutureWarning:\n",
      "\n",
      "'variable' is both an index level and a column label.\n",
      "Defaulting to column, but this will raise an ambiguity error in a future version\n",
      "\n",
      "INFO:fbprophet:Disabling weekly seasonality. Run prophet with weekly_seasonality=True to override this.\n",
      "INFO:fbprophet:Disabling daily seasonality. Run prophet with daily_seasonality=True to override this.\n"
     ]
    },
    {
     "name": "stdout",
     "output_type": "stream",
     "text": [
      "[287006.18398741033, 361775.4539261029, 194533.61956699105]\n",
      "[287006.18398741033, 361775.4539261029, 194533.61956699105]\n"
     ]
    },
    {
     "name": "stderr",
     "output_type": "stream",
     "text": [
      "C:\\Users\\Michael\\Anaconda3\\envs\\learn-env\\lib\\site-packages\\pystan\\misc.py:399: FutureWarning:\n",
      "\n",
      "Conversion of the second argument of issubdtype from `float` to `np.floating` is deprecated. In future, it will be treated as `np.float64 == np.dtype(float).type`.\n",
      "\n",
      "C:\\Users\\Michael\\Anaconda3\\envs\\learn-env\\lib\\site-packages\\ipykernel_launcher.py:40: FutureWarning:\n",
      "\n",
      "'variable' is both an index level and a column label.\n",
      "Defaulting to column, but this will raise an ambiguity error in a future version\n",
      "\n",
      "C:\\Users\\Michael\\Anaconda3\\envs\\learn-env\\lib\\site-packages\\ipykernel_launcher.py:44: FutureWarning:\n",
      "\n",
      "'variable' is both an index level and a column label.\n",
      "Defaulting to column, but this will raise an ambiguity error in a future version\n",
      "\n",
      "INFO:fbprophet:Disabling weekly seasonality. Run prophet with weekly_seasonality=True to override this.\n",
      "INFO:fbprophet:Disabling daily seasonality. Run prophet with daily_seasonality=True to override this.\n"
     ]
    },
    {
     "name": "stdout",
     "output_type": "stream",
     "text": [
      " 118 progress so far\n"
     ]
    },
    {
     "name": "stderr",
     "output_type": "stream",
     "text": [
      "C:\\Users\\Michael\\Anaconda3\\envs\\learn-env\\lib\\site-packages\\ipykernel_launcher.py:40: FutureWarning:\n",
      "\n",
      "'variable' is both an index level and a column label.\n",
      "Defaulting to column, but this will raise an ambiguity error in a future version\n",
      "\n",
      "C:\\Users\\Michael\\Anaconda3\\envs\\learn-env\\lib\\site-packages\\ipykernel_launcher.py:44: FutureWarning:\n",
      "\n",
      "'variable' is both an index level and a column label.\n",
      "Defaulting to column, but this will raise an ambiguity error in a future version\n",
      "\n",
      "INFO:fbprophet:Disabling weekly seasonality. Run prophet with weekly_seasonality=True to override this.\n",
      "INFO:fbprophet:Disabling daily seasonality. Run prophet with daily_seasonality=True to override this.\n"
     ]
    },
    {
     "name": "stdout",
     "output_type": "stream",
     "text": [
      "[381196.5613625822]\n"
     ]
    },
    {
     "name": "stderr",
     "output_type": "stream",
     "text": [
      "C:\\Users\\Michael\\Anaconda3\\envs\\learn-env\\lib\\site-packages\\pystan\\misc.py:399: FutureWarning:\n",
      "\n",
      "Conversion of the second argument of issubdtype from `float` to `np.floating` is deprecated. In future, it will be treated as `np.float64 == np.dtype(float).type`.\n",
      "\n",
      "C:\\Users\\Michael\\Anaconda3\\envs\\learn-env\\lib\\site-packages\\ipykernel_launcher.py:40: FutureWarning:\n",
      "\n",
      "'variable' is both an index level and a column label.\n",
      "Defaulting to column, but this will raise an ambiguity error in a future version\n",
      "\n",
      "C:\\Users\\Michael\\Anaconda3\\envs\\learn-env\\lib\\site-packages\\ipykernel_launcher.py:44: FutureWarning:\n",
      "\n",
      "'variable' is both an index level and a column label.\n",
      "Defaulting to column, but this will raise an ambiguity error in a future version\n",
      "\n",
      "INFO:fbprophet:Disabling weekly seasonality. Run prophet with weekly_seasonality=True to override this.\n",
      "INFO:fbprophet:Disabling daily seasonality. Run prophet with daily_seasonality=True to override this.\n"
     ]
    },
    {
     "name": "stdout",
     "output_type": "stream",
     "text": [
      "[381196.5613625822, 944154.0872824916]\n"
     ]
    },
    {
     "name": "stderr",
     "output_type": "stream",
     "text": [
      "C:\\Users\\Michael\\Anaconda3\\envs\\learn-env\\lib\\site-packages\\pystan\\misc.py:399: FutureWarning:\n",
      "\n",
      "Conversion of the second argument of issubdtype from `float` to `np.floating` is deprecated. In future, it will be treated as `np.float64 == np.dtype(float).type`.\n",
      "\n"
     ]
    },
    {
     "name": "stdout",
     "output_type": "stream",
     "text": [
      "[381196.5613625822, 944154.0872824916, 611743.4756410506]\n",
      "[381196.5613625822, 944154.0872824916, 611743.4756410506]\n"
     ]
    },
    {
     "name": "stderr",
     "output_type": "stream",
     "text": [
      "C:\\Users\\Michael\\Anaconda3\\envs\\learn-env\\lib\\site-packages\\ipykernel_launcher.py:60: FutureWarning:\n",
      "\n",
      "'variable' is both an index level and a column label.\n",
      "Defaulting to column, but this will raise an ambiguity error in a future version\n",
      "\n",
      "C:\\Users\\Michael\\Anaconda3\\envs\\learn-env\\lib\\site-packages\\ipykernel_launcher.py:63: FutureWarning:\n",
      "\n",
      "'variable' is both an index level and a column label.\n",
      "Defaulting to column, but this will raise an ambiguity error in a future version\n",
      "\n",
      "INFO:fbprophet:Disabling weekly seasonality. Run prophet with weekly_seasonality=True to override this.\n",
      "INFO:fbprophet:Disabling daily seasonality. Run prophet with daily_seasonality=True to override this.\n",
      "C:\\Users\\Michael\\Anaconda3\\envs\\learn-env\\lib\\site-packages\\pystan\\misc.py:399: FutureWarning:\n",
      "\n",
      "Conversion of the second argument of issubdtype from `float` to `np.floating` is deprecated. In future, it will be treated as `np.float64 == np.dtype(float).type`.\n",
      "\n",
      "C:\\Users\\Michael\\Anaconda3\\envs\\learn-env\\lib\\site-packages\\ipykernel_launcher.py:40: FutureWarning:\n",
      "\n",
      "'variable' is both an index level and a column label.\n",
      "Defaulting to column, but this will raise an ambiguity error in a future version\n",
      "\n",
      "C:\\Users\\Michael\\Anaconda3\\envs\\learn-env\\lib\\site-packages\\ipykernel_launcher.py:44: FutureWarning:\n",
      "\n",
      "'variable' is both an index level and a column label.\n",
      "Defaulting to column, but this will raise an ambiguity error in a future version\n",
      "\n",
      "INFO:fbprophet:Disabling weekly seasonality. Run prophet with weekly_seasonality=True to override this.\n",
      "INFO:fbprophet:Disabling daily seasonality. Run prophet with daily_seasonality=True to override this.\n"
     ]
    },
    {
     "name": "stdout",
     "output_type": "stream",
     "text": [
      " 119 progress so far\n"
     ]
    },
    {
     "name": "stderr",
     "output_type": "stream",
     "text": [
      "C:\\Users\\Michael\\Anaconda3\\envs\\learn-env\\lib\\site-packages\\ipykernel_launcher.py:40: FutureWarning:\n",
      "\n",
      "'variable' is both an index level and a column label.\n",
      "Defaulting to column, but this will raise an ambiguity error in a future version\n",
      "\n",
      "C:\\Users\\Michael\\Anaconda3\\envs\\learn-env\\lib\\site-packages\\ipykernel_launcher.py:44: FutureWarning:\n",
      "\n",
      "'variable' is both an index level and a column label.\n",
      "Defaulting to column, but this will raise an ambiguity error in a future version\n",
      "\n",
      "INFO:fbprophet:Disabling weekly seasonality. Run prophet with weekly_seasonality=True to override this.\n",
      "INFO:fbprophet:Disabling daily seasonality. Run prophet with daily_seasonality=True to override this.\n"
     ]
    },
    {
     "name": "stdout",
     "output_type": "stream",
     "text": [
      "[53655.12546973411]\n"
     ]
    },
    {
     "name": "stderr",
     "output_type": "stream",
     "text": [
      "C:\\Users\\Michael\\Anaconda3\\envs\\learn-env\\lib\\site-packages\\pystan\\misc.py:399: FutureWarning:\n",
      "\n",
      "Conversion of the second argument of issubdtype from `float` to `np.floating` is deprecated. In future, it will be treated as `np.float64 == np.dtype(float).type`.\n",
      "\n",
      "C:\\Users\\Michael\\Anaconda3\\envs\\learn-env\\lib\\site-packages\\ipykernel_launcher.py:40: FutureWarning:\n",
      "\n",
      "'variable' is both an index level and a column label.\n",
      "Defaulting to column, but this will raise an ambiguity error in a future version\n",
      "\n",
      "C:\\Users\\Michael\\Anaconda3\\envs\\learn-env\\lib\\site-packages\\ipykernel_launcher.py:44: FutureWarning:\n",
      "\n",
      "'variable' is both an index level and a column label.\n",
      "Defaulting to column, but this will raise an ambiguity error in a future version\n",
      "\n",
      "INFO:fbprophet:Disabling weekly seasonality. Run prophet with weekly_seasonality=True to override this.\n",
      "INFO:fbprophet:Disabling daily seasonality. Run prophet with daily_seasonality=True to override this.\n"
     ]
    },
    {
     "name": "stdout",
     "output_type": "stream",
     "text": [
      "[53655.12546973411, 12891.928470668276]\n"
     ]
    },
    {
     "name": "stderr",
     "output_type": "stream",
     "text": [
      "C:\\Users\\Michael\\Anaconda3\\envs\\learn-env\\lib\\site-packages\\pystan\\misc.py:399: FutureWarning:\n",
      "\n",
      "Conversion of the second argument of issubdtype from `float` to `np.floating` is deprecated. In future, it will be treated as `np.float64 == np.dtype(float).type`.\n",
      "\n"
     ]
    },
    {
     "name": "stdout",
     "output_type": "stream",
     "text": [
      "[53655.12546973411, 12891.928470668276, 13191.833703708391]\n",
      "[53655.12546973411, 12891.928470668276, 13191.833703708391]\n"
     ]
    },
    {
     "name": "stderr",
     "output_type": "stream",
     "text": [
      "C:\\Users\\Michael\\Anaconda3\\envs\\learn-env\\lib\\site-packages\\ipykernel_launcher.py:60: FutureWarning:\n",
      "\n",
      "'variable' is both an index level and a column label.\n",
      "Defaulting to column, but this will raise an ambiguity error in a future version\n",
      "\n",
      "C:\\Users\\Michael\\Anaconda3\\envs\\learn-env\\lib\\site-packages\\ipykernel_launcher.py:63: FutureWarning:\n",
      "\n",
      "'variable' is both an index level and a column label.\n",
      "Defaulting to column, but this will raise an ambiguity error in a future version\n",
      "\n",
      "INFO:fbprophet:Disabling weekly seasonality. Run prophet with weekly_seasonality=True to override this.\n",
      "INFO:fbprophet:Disabling daily seasonality. Run prophet with daily_seasonality=True to override this.\n",
      "C:\\Users\\Michael\\Anaconda3\\envs\\learn-env\\lib\\site-packages\\pystan\\misc.py:399: FutureWarning:\n",
      "\n",
      "Conversion of the second argument of issubdtype from `float` to `np.floating` is deprecated. In future, it will be treated as `np.float64 == np.dtype(float).type`.\n",
      "\n",
      "C:\\Users\\Michael\\Anaconda3\\envs\\learn-env\\lib\\site-packages\\ipykernel_launcher.py:40: FutureWarning:\n",
      "\n",
      "'variable' is both an index level and a column label.\n",
      "Defaulting to column, but this will raise an ambiguity error in a future version\n",
      "\n",
      "C:\\Users\\Michael\\Anaconda3\\envs\\learn-env\\lib\\site-packages\\ipykernel_launcher.py:44: FutureWarning:\n",
      "\n",
      "'variable' is both an index level and a column label.\n",
      "Defaulting to column, but this will raise an ambiguity error in a future version\n",
      "\n",
      "INFO:fbprophet:Disabling weekly seasonality. Run prophet with weekly_seasonality=True to override this.\n",
      "INFO:fbprophet:Disabling daily seasonality. Run prophet with daily_seasonality=True to override this.\n"
     ]
    },
    {
     "name": "stdout",
     "output_type": "stream",
     "text": [
      " 120 progress so far\n"
     ]
    },
    {
     "name": "stderr",
     "output_type": "stream",
     "text": [
      "C:\\Users\\Michael\\Anaconda3\\envs\\learn-env\\lib\\site-packages\\ipykernel_launcher.py:40: FutureWarning:\n",
      "\n",
      "'variable' is both an index level and a column label.\n",
      "Defaulting to column, but this will raise an ambiguity error in a future version\n",
      "\n",
      "C:\\Users\\Michael\\Anaconda3\\envs\\learn-env\\lib\\site-packages\\ipykernel_launcher.py:44: FutureWarning:\n",
      "\n",
      "'variable' is both an index level and a column label.\n",
      "Defaulting to column, but this will raise an ambiguity error in a future version\n",
      "\n",
      "INFO:fbprophet:Disabling weekly seasonality. Run prophet with weekly_seasonality=True to override this.\n",
      "INFO:fbprophet:Disabling daily seasonality. Run prophet with daily_seasonality=True to override this.\n"
     ]
    },
    {
     "name": "stdout",
     "output_type": "stream",
     "text": [
      "[43215.71770198804]\n"
     ]
    },
    {
     "name": "stderr",
     "output_type": "stream",
     "text": [
      "C:\\Users\\Michael\\Anaconda3\\envs\\learn-env\\lib\\site-packages\\pystan\\misc.py:399: FutureWarning:\n",
      "\n",
      "Conversion of the second argument of issubdtype from `float` to `np.floating` is deprecated. In future, it will be treated as `np.float64 == np.dtype(float).type`.\n",
      "\n",
      "C:\\Users\\Michael\\Anaconda3\\envs\\learn-env\\lib\\site-packages\\ipykernel_launcher.py:40: FutureWarning:\n",
      "\n",
      "'variable' is both an index level and a column label.\n",
      "Defaulting to column, but this will raise an ambiguity error in a future version\n",
      "\n",
      "C:\\Users\\Michael\\Anaconda3\\envs\\learn-env\\lib\\site-packages\\ipykernel_launcher.py:44: FutureWarning:\n",
      "\n",
      "'variable' is both an index level and a column label.\n",
      "Defaulting to column, but this will raise an ambiguity error in a future version\n",
      "\n",
      "INFO:fbprophet:Disabling weekly seasonality. Run prophet with weekly_seasonality=True to override this.\n",
      "INFO:fbprophet:Disabling daily seasonality. Run prophet with daily_seasonality=True to override this.\n"
     ]
    },
    {
     "name": "stdout",
     "output_type": "stream",
     "text": [
      "[43215.71770198804, 26655.598733844836]\n"
     ]
    },
    {
     "name": "stderr",
     "output_type": "stream",
     "text": [
      "C:\\Users\\Michael\\Anaconda3\\envs\\learn-env\\lib\\site-packages\\pystan\\misc.py:399: FutureWarning:\n",
      "\n",
      "Conversion of the second argument of issubdtype from `float` to `np.floating` is deprecated. In future, it will be treated as `np.float64 == np.dtype(float).type`.\n",
      "\n",
      "C:\\Users\\Michael\\Anaconda3\\envs\\learn-env\\lib\\site-packages\\ipykernel_launcher.py:60: FutureWarning:\n",
      "\n",
      "'variable' is both an index level and a column label.\n",
      "Defaulting to column, but this will raise an ambiguity error in a future version\n",
      "\n",
      "C:\\Users\\Michael\\Anaconda3\\envs\\learn-env\\lib\\site-packages\\ipykernel_launcher.py:63: FutureWarning:\n",
      "\n",
      "'variable' is both an index level and a column label.\n",
      "Defaulting to column, but this will raise an ambiguity error in a future version\n",
      "\n",
      "INFO:fbprophet:Disabling weekly seasonality. Run prophet with weekly_seasonality=True to override this.\n"
     ]
    },
    {
     "name": "stdout",
     "output_type": "stream",
     "text": [
      "[43215.71770198804, 26655.598733844836, 20982.149763288788]\n",
      "[43215.71770198804, 26655.598733844836, 20982.149763288788]\n"
     ]
    },
    {
     "name": "stderr",
     "output_type": "stream",
     "text": [
      "INFO:fbprophet:Disabling daily seasonality. Run prophet with daily_seasonality=True to override this.\n",
      "C:\\Users\\Michael\\Anaconda3\\envs\\learn-env\\lib\\site-packages\\pystan\\misc.py:399: FutureWarning:\n",
      "\n",
      "Conversion of the second argument of issubdtype from `float` to `np.floating` is deprecated. In future, it will be treated as `np.float64 == np.dtype(float).type`.\n",
      "\n",
      "C:\\Users\\Michael\\Anaconda3\\envs\\learn-env\\lib\\site-packages\\ipykernel_launcher.py:40: FutureWarning:\n",
      "\n",
      "'variable' is both an index level and a column label.\n",
      "Defaulting to column, but this will raise an ambiguity error in a future version\n",
      "\n",
      "C:\\Users\\Michael\\Anaconda3\\envs\\learn-env\\lib\\site-packages\\ipykernel_launcher.py:44: FutureWarning:\n",
      "\n",
      "'variable' is both an index level and a column label.\n",
      "Defaulting to column, but this will raise an ambiguity error in a future version\n",
      "\n",
      "INFO:fbprophet:Disabling weekly seasonality. Run prophet with weekly_seasonality=True to override this.\n",
      "INFO:fbprophet:Disabling daily seasonality. Run prophet with daily_seasonality=True to override this.\n"
     ]
    },
    {
     "name": "stdout",
     "output_type": "stream",
     "text": [
      " 121 progress so far\n"
     ]
    },
    {
     "name": "stderr",
     "output_type": "stream",
     "text": [
      "C:\\Users\\Michael\\Anaconda3\\envs\\learn-env\\lib\\site-packages\\ipykernel_launcher.py:40: FutureWarning:\n",
      "\n",
      "'variable' is both an index level and a column label.\n",
      "Defaulting to column, but this will raise an ambiguity error in a future version\n",
      "\n",
      "C:\\Users\\Michael\\Anaconda3\\envs\\learn-env\\lib\\site-packages\\ipykernel_launcher.py:44: FutureWarning:\n",
      "\n",
      "'variable' is both an index level and a column label.\n",
      "Defaulting to column, but this will raise an ambiguity error in a future version\n",
      "\n",
      "INFO:fbprophet:Disabling weekly seasonality. Run prophet with weekly_seasonality=True to override this.\n",
      "INFO:fbprophet:Disabling daily seasonality. Run prophet with daily_seasonality=True to override this.\n"
     ]
    },
    {
     "name": "stdout",
     "output_type": "stream",
     "text": [
      "[36557.99450627661]\n"
     ]
    },
    {
     "name": "stderr",
     "output_type": "stream",
     "text": [
      "C:\\Users\\Michael\\Anaconda3\\envs\\learn-env\\lib\\site-packages\\pystan\\misc.py:399: FutureWarning:\n",
      "\n",
      "Conversion of the second argument of issubdtype from `float` to `np.floating` is deprecated. In future, it will be treated as `np.float64 == np.dtype(float).type`.\n",
      "\n",
      "C:\\Users\\Michael\\Anaconda3\\envs\\learn-env\\lib\\site-packages\\ipykernel_launcher.py:40: FutureWarning:\n",
      "\n",
      "'variable' is both an index level and a column label.\n",
      "Defaulting to column, but this will raise an ambiguity error in a future version\n",
      "\n",
      "C:\\Users\\Michael\\Anaconda3\\envs\\learn-env\\lib\\site-packages\\ipykernel_launcher.py:44: FutureWarning:\n",
      "\n",
      "'variable' is both an index level and a column label.\n",
      "Defaulting to column, but this will raise an ambiguity error in a future version\n",
      "\n",
      "INFO:fbprophet:Disabling weekly seasonality. Run prophet with weekly_seasonality=True to override this.\n",
      "INFO:fbprophet:Disabling daily seasonality. Run prophet with daily_seasonality=True to override this.\n"
     ]
    },
    {
     "name": "stdout",
     "output_type": "stream",
     "text": [
      "[36557.99450627661, 14167.148520311586]\n"
     ]
    },
    {
     "name": "stderr",
     "output_type": "stream",
     "text": [
      "C:\\Users\\Michael\\Anaconda3\\envs\\learn-env\\lib\\site-packages\\pystan\\misc.py:399: FutureWarning:\n",
      "\n",
      "Conversion of the second argument of issubdtype from `float` to `np.floating` is deprecated. In future, it will be treated as `np.float64 == np.dtype(float).type`.\n",
      "\n"
     ]
    },
    {
     "name": "stdout",
     "output_type": "stream",
     "text": [
      "[36557.99450627661, 14167.148520311586, 16366.022219527082]\n",
      "[36557.99450627661, 14167.148520311586, 16366.022219527082]\n"
     ]
    },
    {
     "name": "stderr",
     "output_type": "stream",
     "text": [
      "C:\\Users\\Michael\\Anaconda3\\envs\\learn-env\\lib\\site-packages\\ipykernel_launcher.py:60: FutureWarning:\n",
      "\n",
      "'variable' is both an index level and a column label.\n",
      "Defaulting to column, but this will raise an ambiguity error in a future version\n",
      "\n",
      "C:\\Users\\Michael\\Anaconda3\\envs\\learn-env\\lib\\site-packages\\ipykernel_launcher.py:63: FutureWarning:\n",
      "\n",
      "'variable' is both an index level and a column label.\n",
      "Defaulting to column, but this will raise an ambiguity error in a future version\n",
      "\n",
      "INFO:fbprophet:Disabling weekly seasonality. Run prophet with weekly_seasonality=True to override this.\n",
      "INFO:fbprophet:Disabling daily seasonality. Run prophet with daily_seasonality=True to override this.\n",
      "C:\\Users\\Michael\\Anaconda3\\envs\\learn-env\\lib\\site-packages\\pystan\\misc.py:399: FutureWarning:\n",
      "\n",
      "Conversion of the second argument of issubdtype from `float` to `np.floating` is deprecated. In future, it will be treated as `np.float64 == np.dtype(float).type`.\n",
      "\n",
      "C:\\Users\\Michael\\Anaconda3\\envs\\learn-env\\lib\\site-packages\\ipykernel_launcher.py:40: FutureWarning:\n",
      "\n",
      "'variable' is both an index level and a column label.\n",
      "Defaulting to column, but this will raise an ambiguity error in a future version\n",
      "\n",
      "C:\\Users\\Michael\\Anaconda3\\envs\\learn-env\\lib\\site-packages\\ipykernel_launcher.py:44: FutureWarning:\n",
      "\n",
      "'variable' is both an index level and a column label.\n",
      "Defaulting to column, but this will raise an ambiguity error in a future version\n",
      "\n",
      "INFO:fbprophet:Disabling weekly seasonality. Run prophet with weekly_seasonality=True to override this.\n",
      "INFO:fbprophet:Disabling daily seasonality. Run prophet with daily_seasonality=True to override this.\n"
     ]
    },
    {
     "name": "stdout",
     "output_type": "stream",
     "text": [
      " 122 progress so far\n"
     ]
    },
    {
     "name": "stderr",
     "output_type": "stream",
     "text": [
      "C:\\Users\\Michael\\Anaconda3\\envs\\learn-env\\lib\\site-packages\\ipykernel_launcher.py:40: FutureWarning:\n",
      "\n",
      "'variable' is both an index level and a column label.\n",
      "Defaulting to column, but this will raise an ambiguity error in a future version\n",
      "\n",
      "C:\\Users\\Michael\\Anaconda3\\envs\\learn-env\\lib\\site-packages\\ipykernel_launcher.py:44: FutureWarning:\n",
      "\n",
      "'variable' is both an index level and a column label.\n",
      "Defaulting to column, but this will raise an ambiguity error in a future version\n",
      "\n",
      "INFO:fbprophet:Disabling weekly seasonality. Run prophet with weekly_seasonality=True to override this.\n",
      "INFO:fbprophet:Disabling daily seasonality. Run prophet with daily_seasonality=True to override this.\n"
     ]
    },
    {
     "name": "stdout",
     "output_type": "stream",
     "text": [
      "[10032.635461540336]\n"
     ]
    },
    {
     "name": "stderr",
     "output_type": "stream",
     "text": [
      "C:\\Users\\Michael\\Anaconda3\\envs\\learn-env\\lib\\site-packages\\pystan\\misc.py:399: FutureWarning:\n",
      "\n",
      "Conversion of the second argument of issubdtype from `float` to `np.floating` is deprecated. In future, it will be treated as `np.float64 == np.dtype(float).type`.\n",
      "\n",
      "C:\\Users\\Michael\\Anaconda3\\envs\\learn-env\\lib\\site-packages\\ipykernel_launcher.py:40: FutureWarning:\n",
      "\n",
      "'variable' is both an index level and a column label.\n",
      "Defaulting to column, but this will raise an ambiguity error in a future version\n",
      "\n",
      "C:\\Users\\Michael\\Anaconda3\\envs\\learn-env\\lib\\site-packages\\ipykernel_launcher.py:44: FutureWarning:\n",
      "\n",
      "'variable' is both an index level and a column label.\n",
      "Defaulting to column, but this will raise an ambiguity error in a future version\n",
      "\n",
      "INFO:fbprophet:Disabling weekly seasonality. Run prophet with weekly_seasonality=True to override this.\n",
      "INFO:fbprophet:Disabling daily seasonality. Run prophet with daily_seasonality=True to override this.\n"
     ]
    },
    {
     "name": "stdout",
     "output_type": "stream",
     "text": [
      "[10032.635461540336, 14310.871587037258]\n"
     ]
    },
    {
     "name": "stderr",
     "output_type": "stream",
     "text": [
      "C:\\Users\\Michael\\Anaconda3\\envs\\learn-env\\lib\\site-packages\\pystan\\misc.py:399: FutureWarning:\n",
      "\n",
      "Conversion of the second argument of issubdtype from `float` to `np.floating` is deprecated. In future, it will be treated as `np.float64 == np.dtype(float).type`.\n",
      "\n",
      "C:\\Users\\Michael\\Anaconda3\\envs\\learn-env\\lib\\site-packages\\ipykernel_launcher.py:60: FutureWarning:\n",
      "\n",
      "'variable' is both an index level and a column label.\n",
      "Defaulting to column, but this will raise an ambiguity error in a future version\n",
      "\n",
      "C:\\Users\\Michael\\Anaconda3\\envs\\learn-env\\lib\\site-packages\\ipykernel_launcher.py:63: FutureWarning:\n",
      "\n",
      "'variable' is both an index level and a column label.\n",
      "Defaulting to column, but this will raise an ambiguity error in a future version\n",
      "\n",
      "INFO:fbprophet:Disabling weekly seasonality. Run prophet with weekly_seasonality=True to override this.\n",
      "INFO:fbprophet:Disabling daily seasonality. Run prophet with daily_seasonality=True to override this.\n"
     ]
    },
    {
     "name": "stdout",
     "output_type": "stream",
     "text": [
      "[10032.635461540336, 14310.871587037258, 9235.341967738354]\n",
      "[10032.635461540336, 14310.871587037258, 9235.341967738354]\n"
     ]
    },
    {
     "name": "stderr",
     "output_type": "stream",
     "text": [
      "C:\\Users\\Michael\\Anaconda3\\envs\\learn-env\\lib\\site-packages\\pystan\\misc.py:399: FutureWarning:\n",
      "\n",
      "Conversion of the second argument of issubdtype from `float` to `np.floating` is deprecated. In future, it will be treated as `np.float64 == np.dtype(float).type`.\n",
      "\n",
      "C:\\Users\\Michael\\Anaconda3\\envs\\learn-env\\lib\\site-packages\\ipykernel_launcher.py:40: FutureWarning:\n",
      "\n",
      "'variable' is both an index level and a column label.\n",
      "Defaulting to column, but this will raise an ambiguity error in a future version\n",
      "\n",
      "C:\\Users\\Michael\\Anaconda3\\envs\\learn-env\\lib\\site-packages\\ipykernel_launcher.py:44: FutureWarning:\n",
      "\n",
      "'variable' is both an index level and a column label.\n",
      "Defaulting to column, but this will raise an ambiguity error in a future version\n",
      "\n",
      "INFO:fbprophet:Disabling weekly seasonality. Run prophet with weekly_seasonality=True to override this.\n",
      "INFO:fbprophet:Disabling daily seasonality. Run prophet with daily_seasonality=True to override this.\n"
     ]
    },
    {
     "name": "stdout",
     "output_type": "stream",
     "text": [
      " 123 progress so far\n"
     ]
    },
    {
     "name": "stderr",
     "output_type": "stream",
     "text": [
      "C:\\Users\\Michael\\Anaconda3\\envs\\learn-env\\lib\\site-packages\\ipykernel_launcher.py:40: FutureWarning:\n",
      "\n",
      "'variable' is both an index level and a column label.\n",
      "Defaulting to column, but this will raise an ambiguity error in a future version\n",
      "\n",
      "C:\\Users\\Michael\\Anaconda3\\envs\\learn-env\\lib\\site-packages\\ipykernel_launcher.py:44: FutureWarning:\n",
      "\n",
      "'variable' is both an index level and a column label.\n",
      "Defaulting to column, but this will raise an ambiguity error in a future version\n",
      "\n",
      "INFO:fbprophet:Disabling weekly seasonality. Run prophet with weekly_seasonality=True to override this.\n",
      "INFO:fbprophet:Disabling daily seasonality. Run prophet with daily_seasonality=True to override this.\n"
     ]
    },
    {
     "name": "stdout",
     "output_type": "stream",
     "text": [
      "[60227.73404970796]\n"
     ]
    },
    {
     "name": "stderr",
     "output_type": "stream",
     "text": [
      "C:\\Users\\Michael\\Anaconda3\\envs\\learn-env\\lib\\site-packages\\pystan\\misc.py:399: FutureWarning:\n",
      "\n",
      "Conversion of the second argument of issubdtype from `float` to `np.floating` is deprecated. In future, it will be treated as `np.float64 == np.dtype(float).type`.\n",
      "\n",
      "C:\\Users\\Michael\\Anaconda3\\envs\\learn-env\\lib\\site-packages\\ipykernel_launcher.py:40: FutureWarning:\n",
      "\n",
      "'variable' is both an index level and a column label.\n",
      "Defaulting to column, but this will raise an ambiguity error in a future version\n",
      "\n",
      "C:\\Users\\Michael\\Anaconda3\\envs\\learn-env\\lib\\site-packages\\ipykernel_launcher.py:44: FutureWarning:\n",
      "\n",
      "'variable' is both an index level and a column label.\n",
      "Defaulting to column, but this will raise an ambiguity error in a future version\n",
      "\n",
      "INFO:fbprophet:Disabling weekly seasonality. Run prophet with weekly_seasonality=True to override this.\n",
      "INFO:fbprophet:Disabling daily seasonality. Run prophet with daily_seasonality=True to override this.\n"
     ]
    },
    {
     "name": "stdout",
     "output_type": "stream",
     "text": [
      "[60227.73404970796, 20919.191962821198]\n"
     ]
    },
    {
     "name": "stderr",
     "output_type": "stream",
     "text": [
      "C:\\Users\\Michael\\Anaconda3\\envs\\learn-env\\lib\\site-packages\\pystan\\misc.py:399: FutureWarning:\n",
      "\n",
      "Conversion of the second argument of issubdtype from `float` to `np.floating` is deprecated. In future, it will be treated as `np.float64 == np.dtype(float).type`.\n",
      "\n",
      "C:\\Users\\Michael\\Anaconda3\\envs\\learn-env\\lib\\site-packages\\ipykernel_launcher.py:60: FutureWarning:\n",
      "\n",
      "'variable' is both an index level and a column label.\n",
      "Defaulting to column, but this will raise an ambiguity error in a future version\n",
      "\n",
      "C:\\Users\\Michael\\Anaconda3\\envs\\learn-env\\lib\\site-packages\\ipykernel_launcher.py:63: FutureWarning:\n",
      "\n",
      "'variable' is both an index level and a column label.\n",
      "Defaulting to column, but this will raise an ambiguity error in a future version\n",
      "\n",
      "INFO:fbprophet:Disabling weekly seasonality. Run prophet with weekly_seasonality=True to override this.\n",
      "INFO:fbprophet:Disabling daily seasonality. Run prophet with daily_seasonality=True to override this.\n"
     ]
    },
    {
     "name": "stdout",
     "output_type": "stream",
     "text": [
      "[60227.73404970796, 20919.191962821198, 44252.41437850837]\n",
      "[60227.73404970796, 20919.191962821198, 44252.41437850837]\n"
     ]
    },
    {
     "name": "stderr",
     "output_type": "stream",
     "text": [
      "C:\\Users\\Michael\\Anaconda3\\envs\\learn-env\\lib\\site-packages\\pystan\\misc.py:399: FutureWarning:\n",
      "\n",
      "Conversion of the second argument of issubdtype from `float` to `np.floating` is deprecated. In future, it will be treated as `np.float64 == np.dtype(float).type`.\n",
      "\n"
     ]
    },
    {
     "name": "stdout",
     "output_type": "stream",
     "text": [
      " 124 progress so far\n"
     ]
    },
    {
     "data": {
      "text/plain": [
       "{58653: {'mse': 290915.3574926204,\n",
       "  '1yr': 1216926.9358590818,\n",
       "  '2yr': 1275535.3770578457,\n",
       "  '4yr': 1285001.7608451268,\n",
       "  'current': 1384400.0},\n",
       " 58635: {'mse': 236792.5372223365,\n",
       "  '1yr': 445917.66247127426,\n",
       "  '2yr': 448616.40042015276,\n",
       "  '4yr': 462724.73747492017,\n",
       "  'current': 452700.0},\n",
       " 58655: {'mse': 224408.29469894423,\n",
       "  '1yr': 884351.5762070054,\n",
       "  '2yr': 912250.7722128821,\n",
       "  '4yr': 921793.06041976,\n",
       "  'current': 989200.0},\n",
       " 58633: {'mse': 234367.54783550405,\n",
       "  '1yr': 514544.9998209429,\n",
       "  '2yr': 507368.8614805281,\n",
       "  '4yr': 521862.31913556287,\n",
       "  'current': 512600.0},\n",
       " 58634: {'mse': 198707.4448054675,\n",
       "  '1yr': 730636.619176388,\n",
       "  '2yr': 717770.6484545254,\n",
       "  '4yr': 742926.0772443248,\n",
       "  'current': 706600.0},\n",
       " 58959: {'mse': 93445.82929073636,\n",
       "  '1yr': 340222.07231806807,\n",
       "  '2yr': 348142.8937748447,\n",
       "  '4yr': 354495.9232538688,\n",
       "  'current': 374100.0},\n",
       " 58962: {'mse': 114330.5551234255,\n",
       "  '1yr': 428945.2109849389,\n",
       "  '2yr': 429109.14521352114,\n",
       "  '4yr': 443430.37604143645,\n",
       "  'current': 447900.0},\n",
       " 58981: {'mse': 122093.49287522695,\n",
       "  '1yr': 477263.9571157345,\n",
       "  '2yr': 513762.46102634695,\n",
       "  '4yr': 520176.5323537474,\n",
       "  'current': 588600.0},\n",
       " 58937: {'mse': 119908.836314998,\n",
       "  '1yr': 429802.3203437655,\n",
       "  '2yr': 441573.1483361166,\n",
       "  '4yr': 447144.20139774925,\n",
       "  'current': 482000.0},\n",
       " 58910: {'mse': 250037.360804418,\n",
       "  '1yr': 1340267.3569471843,\n",
       "  '2yr': 1244635.1164750173,\n",
       "  '4yr': 1309310.5787083325,\n",
       "  'current': 1190600.0},\n",
       " 59208: {'mse': 82824.02231637406,\n",
       "  '1yr': 342281.5893061617,\n",
       "  '2yr': 336103.1451334819,\n",
       "  '4yr': 348622.282445982,\n",
       "  'current': 359600.0},\n",
       " 59248: {'mse': 193937.52625862477,\n",
       "  '1yr': 1098311.6165925171,\n",
       "  '2yr': 1130992.997584107,\n",
       "  '4yr': 1155255.7067796644,\n",
       "  'current': 1209700.0},\n",
       " 59262: {'mse': 170576.25669711604,\n",
       "  '1yr': 742661.1568756918,\n",
       "  '2yr': 764183.7083043794,\n",
       "  '4yr': 754723.9114155739,\n",
       "  'current': 762800.0},\n",
       " 59202: {'mse': 95435.52725692034,\n",
       "  '1yr': 451685.979333014,\n",
       "  '2yr': 455897.3065911396,\n",
       "  '4yr': 458652.2626782486,\n",
       "  'current': 484200.0},\n",
       " 59276: {'mse': 58095.85257271726,\n",
       "  '1yr': 314458.54206736136,\n",
       "  '2yr': 316721.1440785639,\n",
       "  '4yr': 321203.3533767483,\n",
       "  'current': 333100.0},\n",
       " 59375: {'mse': 101865.50401994721,\n",
       "  '1yr': 438307.46111251385,\n",
       "  '2yr': 432659.49079455907,\n",
       "  '4yr': 435965.32904982293,\n",
       "  'current': 411700.0},\n",
       " 59460: {'mse': 32320.096429535013,\n",
       "  '1yr': 143532.12019414434,\n",
       "  '2yr': 157820.06953185255,\n",
       "  '4yr': 147638.130884102,\n",
       "  'current': 178700.0},\n",
       " 59401: {'mse': 49908.44195795422,\n",
       "  '1yr': 170926.3729592283,\n",
       "  '2yr': 167539.90457504135,\n",
       "  '4yr': 176602.97509918007,\n",
       "  'current': 179600.0},\n",
       " 59285: {'mse': 125531.75001819587,\n",
       "  '1yr': 509816.45693626825,\n",
       "  '2yr': 529794.1097033124,\n",
       "  '4yr': 542656.7391348501,\n",
       "  'current': 588200.0},\n",
       " 59368: {'mse': 109200.40029732359,\n",
       "  '1yr': 372283.5234106727,\n",
       "  '2yr': 371804.8519476897,\n",
       "  '4yr': 377731.7576876757,\n",
       "  'current': 384700.0},\n",
       " 59973: {'mse': 16462.20919004579,\n",
       "  '1yr': 251930.47033350597,\n",
       "  '2yr': 254725.42294594806,\n",
       "  '4yr': 251466.50060912117,\n",
       "  'current': 251300.0},\n",
       " 59901: {'mse': 18420.708226091287,\n",
       "  '1yr': 161814.73464236147,\n",
       "  '2yr': 155595.92623568053,\n",
       "  '4yr': 160343.24868658304,\n",
       "  'current': 158900.0},\n",
       " 59958: {'mse': 7856.02274277183,\n",
       "  '1yr': 271740.98088383756,\n",
       "  '2yr': 270202.3519241716,\n",
       "  '4yr': 267787.4768962417,\n",
       "  'current': 263200.0},\n",
       " 59970: {'mse': 22099.970360534742,\n",
       "  '1yr': 317692.4343306626,\n",
       "  '2yr': 321806.2157075,\n",
       "  '4yr': 315760.2695817864,\n",
       "  'current': 318800.0},\n",
       " 59894: {'mse': 18808.41893338968,\n",
       "  '1yr': 176891.85547618615,\n",
       "  '2yr': 170677.40528779489,\n",
       "  '4yr': 176657.66845882375,\n",
       "  'current': 167300.0},\n",
       " 60334: {'mse': 71056.92847199459,\n",
       "  '1yr': 353732.5068346498,\n",
       "  '2yr': 354559.44232971274,\n",
       "  '4yr': 360102.52456409193,\n",
       "  'current': 359600.0},\n",
       " 60104: {'mse': 130536.68183103758,\n",
       "  '1yr': 465146.90555416,\n",
       "  '2yr': 471151.6628444098,\n",
       "  '4yr': 471535.27083679335,\n",
       "  'current': 480000.0},\n",
       " 60446: {'mse': 98162.05569660205,\n",
       "  '1yr': 530283.880842457,\n",
       "  '2yr': 560584.1325641826,\n",
       "  '4yr': 598610.4777281826,\n",
       "  'current': 664400.0},\n",
       " 60125: {'mse': 123046.41124298405,\n",
       "  '1yr': 492746.80923963146,\n",
       "  '2yr': 471169.23873068043,\n",
       "  '4yr': 495926.10746091,\n",
       "  'current': 474500.0},\n",
       " 60461: {'mse': 227269.60292732037,\n",
       "  '1yr': 1421879.8401614903,\n",
       "  '2yr': 1399017.1931407314,\n",
       "  '4yr': 1422808.3840799518,\n",
       "  'current': 1388100.0},\n",
       " 60593: {'mse': 226361.60499922288,\n",
       "  '1yr': 643478.9857662043,\n",
       "  '2yr': 672243.069971549,\n",
       "  '4yr': 705175.6728970292,\n",
       "  'current': 836100.0},\n",
       " 60769: {'mse': 134246.85959186722,\n",
       "  '1yr': 542005.6299687637,\n",
       "  '2yr': 565007.9408553448,\n",
       "  '4yr': 562066.2227810667,\n",
       "  'current': 618800.0},\n",
       " 60796: {'mse': 104436.13398438164,\n",
       "  '1yr': 455724.9098402746,\n",
       "  '2yr': 479161.02722277,\n",
       "  '4yr': 479190.02840715693,\n",
       "  'current': 533700.0},\n",
       " 60545: {'mse': 540081.673499588,\n",
       "  '1yr': 1831465.110102136,\n",
       "  '2yr': 1842243.7692839585,\n",
       "  '4yr': 1838201.715584413,\n",
       "  'current': 1854300.0},\n",
       " 60639: {'mse': 500221.6608230935,\n",
       "  '1yr': 1376470.2677402664,\n",
       "  '2yr': 1378995.8864645462,\n",
       "  '4yr': 1418121.680619368,\n",
       "  'current': 1427300.0},\n",
       " 62320: {'mse': 813693.0273198186,\n",
       "  '1yr': 3313095.501244138,\n",
       "  '2yr': 3349183.9711187957,\n",
       "  '4yr': 3422409.508252138,\n",
       "  'current': 3467800.0},\n",
       " 62026: {'mse': 496395.11128462665,\n",
       "  '1yr': 2589383.408227096,\n",
       "  '2yr': 2492317.110255531,\n",
       "  '4yr': 2524981.016503039,\n",
       "  'current': 2243900.0},\n",
       " 62027: {'mse': 643378.2615795274,\n",
       "  '1yr': 1664690.2440109048,\n",
       "  '2yr': 1665563.3267763762,\n",
       "  '4yr': 1671841.1342344538,\n",
       "  'current': 1598700.0},\n",
       " 62033: {'mse': 601973.3314158488,\n",
       "  '1yr': 1947059.4360605727,\n",
       "  '2yr': 1851937.1846959402,\n",
       "  '4yr': 1947906.5246548052,\n",
       "  'current': 1721100.0},\n",
       " 62022: {'mse': 474093.40211262373,\n",
       "  '1yr': 1622401.8478821788,\n",
       "  '2yr': 1564429.774964014,\n",
       "  '4yr': 1665053.21218907,\n",
       "  'current': 1623700.0},\n",
       " 65797: {'mse': 73306.20115169753,\n",
       "  '1yr': 384991.1709053953,\n",
       "  '2yr': 405570.09038222,\n",
       "  '4yr': 396032.2890940428,\n",
       "  'current': 428700.0},\n",
       " 64647: {'mse': 11606.95242027438,\n",
       "  '1yr': 121464.48803301039,\n",
       "  '2yr': 124689.45283103347,\n",
       "  '4yr': 120888.33333943471,\n",
       "  'current': 128700.0},\n",
       " 65790: {'mse': 102164.90586149968,\n",
       "  '1yr': 393491.1798136655,\n",
       "  '2yr': 402386.25905702985,\n",
       "  '4yr': 396633.37288574956,\n",
       "  'current': 409300.0},\n",
       " 65814: {'mse': 75668.21022854575,\n",
       "  '1yr': 359843.6788004888,\n",
       "  '2yr': 373439.7704134858,\n",
       "  '4yr': 366571.1696259192,\n",
       "  'current': 389400.0},\n",
       " 65792: {'mse': 70750.66960792577,\n",
       "  '1yr': 245085.33118971522,\n",
       "  '2yr': 257697.957229147,\n",
       "  '4yr': 252223.1070886747,\n",
       "  'current': 262300.0},\n",
       " 66116: {'mse': 93872.08440299373,\n",
       "  '1yr': 262238.33661555604,\n",
       "  '2yr': 280609.5064611963,\n",
       "  '4yr': 261401.71861800004,\n",
       "  'current': 287100.0},\n",
       " 66121: {'mse': 137742.98453798864,\n",
       "  '1yr': 331714.60210794205,\n",
       "  '2yr': 333692.5614480924,\n",
       "  '4yr': 345040.64995907963,\n",
       "  'current': 345300.0},\n",
       " 66097: {'mse': 266015.4583929462,\n",
       "  '1yr': 889037.0708176414,\n",
       "  '2yr': 954469.6799323154,\n",
       "  '4yr': 953482.5528284113,\n",
       "  'current': 1057400.0},\n",
       " 66114: {'mse': 93028.75783523753,\n",
       "  '1yr': 200978.03504633415,\n",
       "  '2yr': 222040.3697094837,\n",
       "  '4yr': 201555.61346336437,\n",
       "  'current': 234300.0},\n",
       " 66102: {'mse': 72005.90535115144,\n",
       "  '1yr': 266283.913930905,\n",
       "  '2yr': 272958.8575144427,\n",
       "  '4yr': 264022.25545461685,\n",
       "  'current': 276900.0},\n",
       " 66133: {'mse': 183815.35994965257,\n",
       "  '1yr': 1068869.9067412072,\n",
       "  '2yr': 1063935.766537795,\n",
       "  '4yr': 1080787.8410123384,\n",
       "  'current': 1078200.0},\n",
       " 66127: {'mse': 125306.28939125901,\n",
       "  '1yr': 828736.861831937,\n",
       "  '2yr': 831948.1780831073,\n",
       "  '4yr': 833260.2894182403,\n",
       "  'current': 820200.0},\n",
       " 66134: {'mse': 205176.59922813167,\n",
       "  '1yr': 823322.8549292926,\n",
       "  '2yr': 806234.5334349293,\n",
       "  '4yr': 814595.5603268329,\n",
       "  'current': 778200.0},\n",
       " 66126: {'mse': 187099.74976960183,\n",
       "  '1yr': 709902.0224598347,\n",
       "  '2yr': 711071.9782378686,\n",
       "  '4yr': 708013.4339770252,\n",
       "  'current': 691300.0},\n",
       " 66125: {'mse': 232760.31492992837,\n",
       "  '1yr': 852006.0694590894,\n",
       "  '2yr': 833753.9804520395,\n",
       "  '4yr': 840389.5692430545,\n",
       "  'current': 793300.0},\n",
       " 67188: {'mse': 75895.33110522445,\n",
       "  '1yr': 777508.3048664278,\n",
       "  '2yr': 771895.0114316557,\n",
       "  '4yr': 784433.6514457138,\n",
       "  'current': 781500.0},\n",
       " 67190: {'mse': 63727.990979487666,\n",
       "  '1yr': 784422.771855506,\n",
       "  '2yr': 799370.7420288762,\n",
       "  '4yr': 801109.5977757119,\n",
       "  'current': 836300.0},\n",
       " 67186: {'mse': 131935.47090020965,\n",
       "  '1yr': 929449.2153601671,\n",
       "  '2yr': 951957.1058468578,\n",
       "  '4yr': 950986.7348304681,\n",
       "  'current': 1017400.0},\n",
       " 67197: {'mse': 99032.93903088018,\n",
       "  '1yr': 817584.3143387897,\n",
       "  '2yr': 839974.3151860898,\n",
       "  '4yr': 838810.601026135,\n",
       "  'current': 908700.0},\n",
       " 67445: {'mse': 60678.16226622509,\n",
       "  '1yr': 196381.73373905703,\n",
       "  '2yr': 198766.22932791268,\n",
       "  '4yr': 196272.01175407672,\n",
       "  'current': 196700.0},\n",
       " 66572: {'mse': 188008.95833475303,\n",
       "  '1yr': 380228.90409071336,\n",
       "  '2yr': 367518.2444224111,\n",
       "  '4yr': 382195.06412286434,\n",
       "  'current': 368300.0},\n",
       " 66834: {'mse': 66809.62231057149,\n",
       "  '1yr': 136237.33564546928,\n",
       "  '2yr': 150517.5655238772,\n",
       "  '4yr': 150409.99726218713,\n",
       "  'current': 176600.0},\n",
       " 66840: {'mse': 84834.0444929633,\n",
       "  '1yr': 248096.0468471046,\n",
       "  '2yr': 241155.2988752397,\n",
       "  '4yr': 246013.26998065895,\n",
       "  'current': 235900.0},\n",
       " 66821: {'mse': 76104.37642752094,\n",
       "  '1yr': 212046.50686634018,\n",
       "  '2yr': 209292.68996348442,\n",
       "  '4yr': 215955.59812819347,\n",
       "  'current': 213800.0},\n",
       " 66841: {'mse': 101971.71357857126,\n",
       "  '1yr': 269993.7492686074,\n",
       "  '2yr': 257660.8822691166,\n",
       "  '4yr': 267337.63606774464,\n",
       "  'current': 247100.0},\n",
       " 69081: {'mse': 9098.358714289112,\n",
       "  '1yr': 93680.72195073887,\n",
       "  '2yr': 89425.53319991703,\n",
       "  '4yr': 89822.83545522756,\n",
       "  'current': 84600.0},\n",
       " 69037: {'mse': 9223.663305038834,\n",
       "  '1yr': 154442.0271795396,\n",
       "  '2yr': 155900.54526781957,\n",
       "  '4yr': 155139.5701583497,\n",
       "  'current': 154800.0},\n",
       " 69043: {'mse': 20346.81889544349,\n",
       "  '1yr': 221208.39863292585,\n",
       "  '2yr': 223810.81597055987,\n",
       "  '4yr': 220193.58037359745,\n",
       "  'current': 221000.0},\n",
       " 69069: {'mse': 16016.727876059891,\n",
       "  '1yr': 95497.25319706426,\n",
       "  '2yr': 97836.239288687,\n",
       "  '4yr': 93862.86060075725,\n",
       "  'current': 92500.0},\n",
       " 69054: {'mse': 11914.538658932643,\n",
       "  '1yr': 119673.16568109738,\n",
       "  '2yr': 128006.8590928987,\n",
       "  '4yr': 128754.5852707184,\n",
       "  'current': 132900.0},\n",
       " 70204: {'mse': 32942.90272434756,\n",
       "  '1yr': 138671.08973551012,\n",
       "  '2yr': 141888.05792768084,\n",
       "  '4yr': 142404.82676184844,\n",
       "  'current': 151200.0},\n",
       " 69937: {'mse': 53221.59127749307,\n",
       "  '1yr': 207118.79065522994,\n",
       "  '2yr': 220244.06503650313,\n",
       "  '4yr': 223110.49057727357,\n",
       "  'current': 254900.0},\n",
       " 70196: {'mse': 25497.938494105387,\n",
       "  '1yr': 111594.99549604062,\n",
       "  '2yr': 114131.8472779019,\n",
       "  '4yr': 114119.74201212158,\n",
       "  'current': 119200.0},\n",
       " 69428: {'mse': 19951.04153350398,\n",
       "  '1yr': 196032.15785986884,\n",
       "  '2yr': 195854.70302715397,\n",
       "  '4yr': 195807.26801089765,\n",
       "  'current': 193900.0},\n",
       " 70205: {'mse': 27732.60913880025,\n",
       "  '1yr': 130826.18339044091,\n",
       "  '2yr': 135370.74786267732,\n",
       "  '4yr': 134369.9527767334,\n",
       "  'current': 143000.0},\n",
       " 70446: {'mse': 429436.06003070466,\n",
       "  '1yr': 1125838.7716929906,\n",
       "  '2yr': 1304703.5710891387,\n",
       "  '4yr': 1218683.078149525,\n",
       "  'current': 1472300.0},\n",
       " 70471: {'mse': 37750.65074067474,\n",
       "  '1yr': 149540.90729090283,\n",
       "  '2yr': 154382.34617055315,\n",
       "  '4yr': 146163.6238386069,\n",
       "  'current': 152600.0},\n",
       " 70510: {'mse': 488777.1235024583,\n",
       "  '1yr': 1529332.4982073882,\n",
       "  '2yr': 1637124.0908433523,\n",
       "  '4yr': 1605128.0274420518,\n",
       "  'current': 1837000.0},\n",
       " 70662: {'mse': 160601.34288681878,\n",
       "  '1yr': 576101.223191744,\n",
       "  '2yr': 559223.1235916085,\n",
       "  '4yr': 582245.318775232,\n",
       "  'current': 620100.0},\n",
       " 70448: {'mse': 135810.82710998456,\n",
       "  '1yr': 347295.3951323648,\n",
       "  '2yr': 394196.387227222,\n",
       "  '4yr': 379656.00837543246,\n",
       "  'current': 462700.0},\n",
       " 71197: {'mse': 63354.22395833741,\n",
       "  '1yr': 210723.09687771092,\n",
       "  '2yr': 207509.14419260327,\n",
       "  '4yr': 209332.55070083195,\n",
       "  'current': 204500.0},\n",
       " 71516: {'mse': 93155.70811826749,\n",
       "  '1yr': 193408.92570157564,\n",
       "  '2yr': 205502.97957862576,\n",
       "  '4yr': 209851.57308511148,\n",
       "  'current': 227300.0},\n",
       " 71178: {'mse': 58208.12230938006,\n",
       "  '1yr': 157527.4210880151,\n",
       "  '2yr': 160445.86187672502,\n",
       "  '4yr': 159756.17817637918,\n",
       "  'current': 163700.0},\n",
       " 71194: {'mse': 49873.748675748626,\n",
       "  '1yr': 160664.04116311437,\n",
       "  '2yr': 165312.52742153459,\n",
       "  '4yr': 167649.02653477804,\n",
       "  'current': 175100.0},\n",
       " 71037: {'mse': 161094.50254192596,\n",
       "  '1yr': 405608.04127356753,\n",
       "  '2yr': 401214.5392331353,\n",
       "  '4yr': 408071.32646151475,\n",
       "  'current': 391600.0},\n",
       " 72764: {'mse': 189669.86201153393,\n",
       "  '1yr': 288441.1417545918,\n",
       "  '2yr': 301049.91130310786,\n",
       "  '4yr': 295191.3364046093,\n",
       "  'current': 312400.0},\n",
       " 72443: {'mse': 975707.4855223302,\n",
       "  '1yr': 1976127.108975899,\n",
       "  '2yr': 1936201.7915064543,\n",
       "  '4yr': 1895415.2371613127,\n",
       "  'current': 1725600.0},\n",
       " 72442: {'mse': 1630775.3754343828,\n",
       "  '1yr': 3362731.9398705442,\n",
       "  '2yr': 3260985.183348415,\n",
       "  '4yr': 3252676.176867246,\n",
       "  'current': 2914100.0},\n",
       " 72440: {'mse': 630590.8264660416,\n",
       "  '1yr': 923555.7795901006,\n",
       "  '2yr': 901493.4939048949,\n",
       "  '4yr': 874564.5390954841,\n",
       "  'current': 794000.0},\n",
       " 72928: {'mse': 168423.07000591917,\n",
       "  '1yr': 253853.07531120075,\n",
       "  '2yr': 259272.92864549253,\n",
       "  '4yr': 259016.57204856066,\n",
       "  'current': 255700.0},\n",
       " 73379: {'mse': 80082.42338783502,\n",
       "  '1yr': 336853.45481649856,\n",
       "  '2yr': 346755.76761400327,\n",
       "  '4yr': 346634.8229097357,\n",
       "  'current': 358900.0},\n",
       " 73898: {'mse': 29938.43351380825,\n",
       "  '1yr': 137252.45885397293,\n",
       "  '2yr': 131859.8751014492,\n",
       "  '4yr': 137214.47852503753,\n",
       "  'current': 131200.0},\n",
       " 74070: {'mse': 46600.43237196593,\n",
       "  '1yr': 303911.7614578746,\n",
       "  '2yr': 293094.47720570065,\n",
       "  '4yr': 313252.0766078291,\n",
       "  'current': 310200.0},\n",
       " 73950: {'mse': 46503.1696386568,\n",
       "  '1yr': 149856.9731243031,\n",
       "  '2yr': 148336.02093606364,\n",
       "  '4yr': 157275.3952030515,\n",
       "  'current': 158100.0},\n",
       " 73940: {'mse': 378268.9085984659,\n",
       "  '1yr': 537158.4446317205,\n",
       "  '2yr': 590508.8976641586,\n",
       "  '4yr': 563992.3025002097,\n",
       "  'current': 657600.0},\n",
       " 74301: {'mse': 17265.965992446552,\n",
       "  '1yr': 100908.59787234009,\n",
       "  '2yr': 100682.24626474721,\n",
       "  '4yr': 104636.2943083217,\n",
       "  'current': 106600.0},\n",
       " 74243: {'mse': 131041.89926284598,\n",
       "  '1yr': 645765.0796486951,\n",
       "  '2yr': 646553.1282800551,\n",
       "  '4yr': 656413.6886266104,\n",
       "  'current': 648800.0},\n",
       " 74880: {'mse': 10426.515222950695,\n",
       "  '1yr': 73893.59618203327,\n",
       "  '2yr': 74902.07194237967,\n",
       "  '4yr': 76969.76245871952,\n",
       "  'current': 82000.0},\n",
       " 74237: {'mse': 93168.49732413853,\n",
       "  '1yr': 377840.37287200516,\n",
       "  '2yr': 370926.81803312845,\n",
       "  '4yr': 370552.0560966746,\n",
       "  'current': 342800.0},\n",
       " 74129: {'mse': 131094.20132403894,\n",
       "  '1yr': 388927.74740093335,\n",
       "  '2yr': 407176.6747854422,\n",
       "  '4yr': 414570.8048235581,\n",
       "  'current': 459800.0},\n",
       " 75398: {'mse': 22066.873924902848,\n",
       "  '1yr': 117776.72951068776,\n",
       "  '2yr': 116519.14467533528,\n",
       "  '4yr': 116035.32857950314,\n",
       "  'current': 111700.0},\n",
       " 75408: {'mse': 35323.79142471053,\n",
       "  '1yr': 156512.91618583055,\n",
       "  '2yr': 154526.22015390827,\n",
       "  '4yr': 156608.52302610764,\n",
       "  'current': 155400.0},\n",
       " 75370: {'mse': 16703.60825091208,\n",
       "  '1yr': 115989.27895827111,\n",
       "  '2yr': 121215.69756429852,\n",
       "  '4yr': 119204.95102811953,\n",
       "  'current': 132500.0},\n",
       " 75397: {'mse': 24762.995812292327,\n",
       "  '1yr': 91748.71689995131,\n",
       "  '2yr': 89556.13388765432,\n",
       "  '4yr': 88300.04293120597,\n",
       "  'current': 84100.0},\n",
       " 75165: {'mse': 19181.248570168784,\n",
       "  '1yr': 102113.02339895877,\n",
       "  '2yr': 120405.46363335007,\n",
       "  '4yr': 116198.0938276821,\n",
       "  'current': 143500.0},\n",
       " 76236: {'mse': 29210.193105326616,\n",
       "  '1yr': 187764.67089648705,\n",
       "  '2yr': 196188.39148316663,\n",
       "  '4yr': 195777.7319519751,\n",
       "  'current': 207900.0},\n",
       " 75560: {'mse': 39741.643579731266,\n",
       "  '1yr': 237033.43405822862,\n",
       "  '2yr': 236333.2375455389,\n",
       "  '4yr': 238932.4788265518,\n",
       "  'current': 238500.0},\n",
       " 75471: {'mse': 18271.6321566702,\n",
       "  '1yr': 132508.16678287723,\n",
       "  '2yr': 136820.91506677115,\n",
       "  '4yr': 137622.8577777834,\n",
       "  'current': 145700.0},\n",
       " 75558: {'mse': 39949.506291977945,\n",
       "  '1yr': 194236.82576063956,\n",
       "  '2yr': 191868.3498821791,\n",
       "  '4yr': 195893.89072955956,\n",
       "  'current': 189200.0},\n",
       " 75522: {'mse': 22188.684845730186,\n",
       "  '1yr': 113089.29282648915,\n",
       "  '2yr': 122562.17045216422,\n",
       "  '4yr': 121786.88430452041,\n",
       "  'current': 148300.0},\n",
       " 77839: {'mse': 21550.67196432557,\n",
       "  '1yr': 137342.5072603734,\n",
       "  '2yr': 134264.3965863746,\n",
       "  '4yr': 141860.11934718565,\n",
       "  'current': 132400.0},\n",
       " 76738: {'mse': 53520.13713697056,\n",
       "  '1yr': 262675.77434917365,\n",
       "  '2yr': 265896.34889804106,\n",
       "  '4yr': 263915.60423164803,\n",
       "  'current': 271400.0},\n",
       " 76552: {'mse': 24902.476936703588,\n",
       "  '1yr': 113544.32893595177,\n",
       "  '2yr': 127012.937664789,\n",
       "  '4yr': 120188.86297693673,\n",
       "  'current': 143000.0},\n",
       " 76570: {'mse': 62218.44666786684,\n",
       "  '1yr': 274399.5965558865,\n",
       "  '2yr': 275156.2993423732,\n",
       "  '4yr': 275266.4637822174,\n",
       "  'current': 270300.0},\n",
       " 76847: {'mse': 17314.090753843026,\n",
       "  '1yr': 110114.38349220368,\n",
       "  '2yr': 111552.68309111276,\n",
       "  '4yr': 112334.32339288552,\n",
       "  'current': 118800.0},\n",
       " 78131: {'mse': 23226.001417796026,\n",
       "  '1yr': 169258.7576987166,\n",
       "  '2yr': 173771.9142039594,\n",
       "  '4yr': 171727.12371888882,\n",
       "  'current': 179700.0},\n",
       " 77933: {'mse': 6738.780612419105,\n",
       "  '1yr': 92612.00357960575,\n",
       "  '2yr': 93523.13332405625,\n",
       "  '4yr': 95252.77497189985,\n",
       "  'current': 103300.0},\n",
       " 78151: {'mse': 10653.426064567728,\n",
       "  '1yr': 83915.51800841959,\n",
       "  '2yr': 92104.6751530795,\n",
       "  '4yr': 88867.7155140632,\n",
       "  'current': 107000.0},\n",
       " 78161: {'mse': 20735.438365412458,\n",
       "  '1yr': 152589.17191199178,\n",
       "  '2yr': 157886.84416983344,\n",
       "  '4yr': 156345.01010309925,\n",
       "  'current': 168500.0},\n",
       " 78172: {'mse': 42868.69931557595,\n",
       "  '1yr': 172938.55156217658,\n",
       "  '2yr': 177562.794919374,\n",
       "  '4yr': 174677.1930886455,\n",
       "  'current': 183900.0},\n",
       " 79742: {'mse': 26444.462633258667,\n",
       "  '1yr': 95161.85873626416,\n",
       "  '2yr': 96721.39967913218,\n",
       "  '4yr': 93924.4445544332,\n",
       "  'current': 97200.0},\n",
       " 79648: {'mse': 58704.21842281884,\n",
       "  '1yr': 149042.4662185152,\n",
       "  '2yr': 152996.30845180748,\n",
       "  '4yr': 154396.61096094488,\n",
       "  'current': 159600.0},\n",
       " 79397: {'mse': 54029.62695015355,\n",
       "  '1yr': 189409.134962158,\n",
       "  '2yr': 189569.43315741484,\n",
       "  '4yr': 188066.5617901653,\n",
       "  'current': 184700.0},\n",
       " 79678: {'mse': 7710.63935325477,\n",
       "  '1yr': 18352.832254987872,\n",
       "  '2yr': 30180.432892653018,\n",
       "  '4yr': 24227.05355688022,\n",
       "  'current': 49200.0},\n",
       " 79960: {'mse': 14315.51382930554,\n",
       "  '1yr': 76380.69719246875,\n",
       "  '2yr': 78291.58578304961,\n",
       "  '4yr': 73608.29236683362,\n",
       "  'current': 75700.0},\n",
       " 81097: {'mse': 10552.430509819796,\n",
       "  '1yr': 235271.9993718789,\n",
       "  '2yr': 232277.90520217715,\n",
       "  '4yr': 236483.93681990623,\n",
       "  'current': 230400.0},\n",
       " 80620: {'mse': 19527.743568454138,\n",
       "  '1yr': 230286.67942864867,\n",
       "  '2yr': 224096.75005202883,\n",
       "  '4yr': 230055.45399665716,\n",
       "  'current': 219500.0},\n",
       " 81129: {'mse': 9626.463608806183,\n",
       "  '1yr': 262142.71514286243,\n",
       "  '2yr': 265459.5232930019,\n",
       "  '4yr': 260227.86147475557,\n",
       "  'current': 263000.0},\n",
       " 80235: {'mse': 35869.055979865,\n",
       "  '1yr': 227273.09002925328,\n",
       "  '2yr': 231737.08460416,\n",
       "  '4yr': 240620.6261756976,\n",
       "  'current': 261400.0},\n",
       " 80944: {'mse': 19322.83991257247,\n",
       "  '1yr': 224535.7404696853,\n",
       "  '2yr': 224590.88341586912,\n",
       "  '4yr': 228674.3234028461,\n",
       "  'current': 234400.0},\n",
       " 81540: {'mse': 82396.17587747193,\n",
       "  '1yr': 306871.97485649015,\n",
       "  '2yr': 313480.2650236128,\n",
       "  '4yr': 318862.803119031,\n",
       "  'current': 330400.0},\n",
       " 81226: {'mse': 58592.307127896,\n",
       "  '1yr': 282289.6925189713,\n",
       "  '2yr': 288453.4816920899,\n",
       "  '4yr': 287901.8974218732,\n",
       "  'current': 295400.0},\n",
       " 81421: {'mse': 56928.994351708214,\n",
       "  '1yr': 323043.6782426586,\n",
       "  '2yr': 327983.61374334665,\n",
       "  '4yr': 329668.7368327155,\n",
       "  'current': 336400.0},\n",
       " 81282: {'mse': 38687.479228555436,\n",
       "  '1yr': 207381.2280273009,\n",
       "  '2yr': 210625.0462982818,\n",
       "  '4yr': 206388.49741002344,\n",
       "  'current': 206700.0},\n",
       " 81436: {'mse': 61668.51199749551,\n",
       "  '1yr': 489994.75143317116,\n",
       "  '2yr': 498032.9189061106,\n",
       "  '4yr': 497098.72697462153,\n",
       "  'current': 515700.0},\n",
       " 82930: {'mse': 30747.804758084745,\n",
       "  '1yr': 255695.37822005566,\n",
       "  '2yr': 252481.14860392743,\n",
       "  '4yr': 259419.18243223362,\n",
       "  'current': 251200.0},\n",
       " 82774: {'mse': 63039.9149617014,\n",
       "  '1yr': 211845.94284929204,\n",
       "  '2yr': 209761.70981478147,\n",
       "  '4yr': 214971.20603049488,\n",
       "  'current': 211200.0},\n",
       " 82859: {'mse': 64871.02490014965,\n",
       "  '1yr': 280573.9531296184,\n",
       "  '2yr': 278511.8799507789,\n",
       "  '4yr': 280833.123695472,\n",
       "  'current': 274700.0},\n",
       " 82893: {'mse': 54579.866681328414,\n",
       "  '1yr': 302527.53340736596,\n",
       "  '2yr': 296912.4788291909,\n",
       "  '4yr': 299612.93565218576,\n",
       "  'current': 284300.0},\n",
       " 82299: {'mse': 100161.11157558125,\n",
       "  '1yr': 322071.2586568498,\n",
       "  '2yr': 327473.9724838891,\n",
       "  '4yr': 322514.3052426499,\n",
       "  'current': 331300.0},\n",
       " 83081: {'mse': 20801.490180650213,\n",
       "  '1yr': 187378.09709211817,\n",
       "  '2yr': 188207.107948477,\n",
       "  '4yr': 191649.6032660616,\n",
       "  'current': 196100.0},\n",
       " 83066: {'mse': 25895.76716677888,\n",
       "  '1yr': 174010.23829081774,\n",
       "  '2yr': 176823.5845869294,\n",
       "  '4yr': 180578.9080779735,\n",
       "  'current': 185600.0},\n",
       " 83088: {'mse': 31953.90127047367,\n",
       "  '1yr': 240371.21272940113,\n",
       "  '2yr': 235459.67566586417,\n",
       "  '4yr': 246845.48622632632,\n",
       "  'current': 240900.0},\n",
       " 83068: {'mse': 29745.056630426814,\n",
       "  '1yr': 222979.09077735155,\n",
       "  '2yr': 222547.15021783853,\n",
       "  '4yr': 226552.62068223758,\n",
       "  'current': 227400.0},\n",
       " 83143: {'mse': 27322.181854652237,\n",
       "  '1yr': 244430.44606943039,\n",
       "  '2yr': 240219.58790476745,\n",
       "  '4yr': 246547.46519589677,\n",
       "  'current': 243900.0},\n",
       " 83467: {'mse': 34817.383542004965,\n",
       "  '1yr': 222450.93080051028,\n",
       "  '2yr': 208091.72334147032,\n",
       "  '4yr': 219196.2041303256,\n",
       "  'current': 198200.0},\n",
       " 83485: {'mse': 44574.40851673774,\n",
       "  '1yr': 259524.9035174898,\n",
       "  '2yr': 265746.0690472146,\n",
       "  '4yr': 258140.9420970187,\n",
       "  'current': 255100.0},\n",
       " 83489: {'mse': 63227.87921782134,\n",
       "  '1yr': 393284.76934506313,\n",
       "  '2yr': 371319.68277773133,\n",
       "  '4yr': 379539.11014665285,\n",
       "  'current': 327700.0},\n",
       " 83499: {'mse': 44656.6633022562,\n",
       "  '1yr': 236168.59252622045,\n",
       "  '2yr': 227772.17969102616,\n",
       "  '4yr': 234973.2678856107,\n",
       "  'current': 214700.0},\n",
       " 83510: {'mse': 11762.45690123082,\n",
       "  '1yr': 143318.34654305474,\n",
       "  '2yr': 144211.60603121406,\n",
       "  '4yr': 146019.09130649216,\n",
       "  'current': 145400.0},\n",
       " 84159: {'mse': 82689.06044645332,\n",
       "  '1yr': 459824.9735271476,\n",
       "  '2yr': 486594.7120052743,\n",
       "  '4yr': 470180.06128461915,\n",
       "  'current': 508300.0},\n",
       " 83894: {'mse': 14315.056935141902,\n",
       "  '1yr': 133738.13483816196,\n",
       "  '2yr': 135765.64357591807,\n",
       "  '4yr': 136190.04626113767,\n",
       "  'current': 134200.0},\n",
       " 84035: {'mse': 8861.332000870798,\n",
       "  '1yr': 157198.00065363775,\n",
       "  '2yr': 168117.54978464855,\n",
       "  '4yr': 158665.73718049526,\n",
       "  'current': 175900.0},\n",
       " 83897: {'mse': 22056.151324764633,\n",
       "  '1yr': 224039.98098233828,\n",
       "  '2yr': 238163.25837050873,\n",
       "  '4yr': 232746.82947383687,\n",
       "  'current': 248100.0},\n",
       " 84614: {'mse': 154461.12207194362,\n",
       "  '1yr': 396305.02028843464,\n",
       "  '2yr': 385203.56514356536,\n",
       "  '4yr': 385413.15689997893,\n",
       "  'current': 345400.0},\n",
       " 84615: {'mse': 268139.55189105397,\n",
       "  '1yr': 1067686.9060753447,\n",
       "  '2yr': 1062654.1469626382,\n",
       "  '4yr': 1070966.2855076387,\n",
       "  'current': 1055300.0},\n",
       " 84640: {'mse': 236303.915671701,\n",
       "  '1yr': 849866.5910513201,\n",
       "  '2yr': 830872.944251542,\n",
       "  '4yr': 842076.5496468801,\n",
       "  'current': 782800.0},\n",
       " 84624: {'mse': 221996.78925296175,\n",
       "  '1yr': 852505.1093788403,\n",
       "  '2yr': 842293.1351630666,\n",
       "  '4yr': 844551.6773017556,\n",
       "  'current': 811100.0},\n",
       " 84646: {'mse': 156717.04828993324,\n",
       "  '1yr': 500804.2273503704,\n",
       "  '2yr': 493596.42657752964,\n",
       "  '4yr': 494984.8162777742,\n",
       "  'current': 470200.0},\n",
       " 86347: {'mse': 38957.7643855741,\n",
       "  '1yr': 170645.13326702104,\n",
       "  '2yr': 191471.06365862957,\n",
       "  '4yr': 174846.9571581734,\n",
       "  'current': 207200.0},\n",
       " 86953: {'mse': 5528.78925788503,\n",
       "  '1yr': 73159.60676258456,\n",
       "  '2yr': 76499.660422607,\n",
       "  '4yr': 79113.79383888391,\n",
       "  'current': 93900.0},\n",
       " 85922: {'mse': 37102.01285895463,\n",
       "  '1yr': 217287.41762305787,\n",
       "  '2yr': 213892.61220784803,\n",
       "  '4yr': 217802.8554215513,\n",
       "  'current': 217500.0},\n",
       " 85928: {'mse': 42669.75268040548,\n",
       "  '1yr': 179827.41640174983,\n",
       "  '2yr': 182972.4368912658,\n",
       "  '4yr': 178295.50996644676,\n",
       "  'current': 184500.0},\n",
       " 85926: {'mse': 50294.96467149223,\n",
       "  '1yr': 309016.0797280649,\n",
       "  '2yr': 289809.0034866433,\n",
       "  '4yr': 304921.32477385766,\n",
       "  'current': 284800.0},\n",
       " 87124: {'mse': 47384.6161668013,\n",
       "  '1yr': 249185.94186458195,\n",
       "  '2yr': 269866.09652364126,\n",
       "  '4yr': 264316.70841717505,\n",
       "  'current': 296300.0},\n",
       " 87521: {'mse': 28773.933127567667,\n",
       "  '1yr': 293398.50205799425,\n",
       "  '2yr': 298037.7258542885,\n",
       "  '4yr': 301993.04278196406,\n",
       "  'current': 309800.0},\n",
       " 87520: {'mse': 35333.90649009775,\n",
       "  '1yr': 289343.3573738194,\n",
       "  '2yr': 301535.0455053806,\n",
       "  '4yr': 297193.614733738,\n",
       "  'current': 313700.0},\n",
       " 87127: {'mse': 150210.43634833634,\n",
       "  '1yr': 703863.8585805023,\n",
       "  '2yr': 738888.3543306665,\n",
       "  '4yr': 744507.6934288751,\n",
       "  'current': 801600.0},\n",
       " 87122: {'mse': 65376.708663703605,\n",
       "  '1yr': 361956.27131057985,\n",
       "  '2yr': 394027.1343676378,\n",
       "  '4yr': 391631.45826208475,\n",
       "  'current': 455700.0},\n",
       " 87955: {'mse': 29528.750476558274,\n",
       "  '1yr': 223483.74225741302,\n",
       "  '2yr': 232373.97029784496,\n",
       "  '4yr': 226365.94489985195,\n",
       "  'current': 245700.0},\n",
       " 87878: {'mse': 23711.35838378429,\n",
       "  '1yr': 212920.30683453614,\n",
       "  '2yr': 214970.03011989116,\n",
       "  '4yr': 221475.13698678475,\n",
       "  'current': 231100.0},\n",
       " 88102: {'mse': 17466.793469738113,\n",
       "  '1yr': 158377.98382541066,\n",
       "  '2yr': 157642.13694500588,\n",
       "  '4yr': 160994.88361129313,\n",
       "  'current': 161100.0},\n",
       " 87998: {'mse': 49053.32935531553,\n",
       "  '1yr': 318327.3824690026,\n",
       "  '2yr': 337096.3575165726,\n",
       "  '4yr': 333116.19894548465,\n",
       "  'current': 358700.0},\n",
       " 88048: {'mse': 48625.34336983686,\n",
       "  '1yr': 367244.9599241304,\n",
       "  '2yr': 376181.49153409625,\n",
       "  '4yr': 378162.4719007533,\n",
       "  'current': 407600.0},\n",
       " 88764: {'mse': 33965.46302052243,\n",
       "  '1yr': 289111.9336245689,\n",
       "  '2yr': 278524.43481818365,\n",
       "  '4yr': 286078.7897620266,\n",
       "  'current': 271100.0},\n",
       " 88961: {'mse': 9173.953349373702,\n",
       "  '1yr': 77735.20187315036,\n",
       "  '2yr': 77730.35182569866,\n",
       "  '4yr': 76796.01330604675,\n",
       "  'current': 76000.0},\n",
       " 88493: {'mse': 148278.13934045643,\n",
       "  '1yr': 592266.1457415286,\n",
       "  '2yr': 596567.2681541407,\n",
       "  '4yr': 602823.9141936738,\n",
       "  'current': 587100.0},\n",
       " 88970: {'mse': 20406.6033826202,\n",
       "  '1yr': 129135.01099496844,\n",
       "  '2yr': 135382.25688365867,\n",
       "  '4yr': 136866.75782426345,\n",
       "  'current': 146600.0},\n",
       " 88975: {'mse': 16872.617043293034,\n",
       "  '1yr': 120252.03563095372,\n",
       "  '2yr': 122330.73643958636,\n",
       "  '4yr': 125431.02965462381,\n",
       "  'current': 128900.0},\n",
       " 89827: {'mse': 8496.311469123084,\n",
       "  '1yr': 86655.93203571462,\n",
       "  '2yr': 85746.29406726529,\n",
       "  '4yr': 87395.01866069167,\n",
       "  'current': 87000.0},\n",
       " 89324: {'mse': 12179.921239533513,\n",
       "  '1yr': 89671.7324858833,\n",
       "  '2yr': 95325.53163722302,\n",
       "  '4yr': 93942.80335895106,\n",
       "  'current': 102900.0},\n",
       " 89302: {'mse': 18008.224842253472,\n",
       "  '1yr': 131089.3826693862,\n",
       "  '2yr': 133712.459854402,\n",
       "  '4yr': 129216.86123906795,\n",
       "  'current': 132500.0},\n",
       " 89833: {'mse': 7789.310393204073,\n",
       "  '1yr': 116133.21620002408,\n",
       "  '2yr': 115416.7759568303,\n",
       "  '4yr': 118941.79284852369,\n",
       "  'current': 118300.0},\n",
       " 89687: {'mse': 39111.653411899606,\n",
       "  '1yr': 124603.04689845222,\n",
       "  '2yr': 128885.2464105185,\n",
       "  '4yr': 129588.97212778692,\n",
       "  'current': 143400.0},\n",
       " 90503: {'mse': 6676.412876562674,\n",
       "  '1yr': 92133.22886282371,\n",
       "  '2yr': 97642.61064270564,\n",
       "  '4yr': 97743.36639880306,\n",
       "  'current': 116800.0},\n",
       " 89862: {'mse': 26969.964965423056,\n",
       "  '1yr': 199088.02635478604,\n",
       "  '2yr': 195731.77124815938,\n",
       "  '4yr': 193493.40752692902,\n",
       "  'current': 190100.0},\n",
       " 90504: {'mse': 10353.886571478602,\n",
       "  '1yr': 101433.86196507596,\n",
       "  '2yr': 105927.4437276347,\n",
       "  '4yr': 107403.01084781023,\n",
       "  'current': 118000.0},\n",
       " 89943: {'mse': 27227.81965158996,\n",
       "  '1yr': 136734.44519381953,\n",
       "  '2yr': 145566.6603224032,\n",
       "  '4yr': 141015.8094023374,\n",
       "  'current': 149600.0},\n",
       " 89928: {'mse': 48397.50845953062,\n",
       "  '1yr': 224885.5946065798,\n",
       "  '2yr': 234814.02249892845,\n",
       "  '4yr': 230884.77064139477,\n",
       "  'current': 246600.0},\n",
       " 92660: {'mse': 81944.92656118581,\n",
       "  '1yr': 462631.26130862674,\n",
       "  '2yr': 455609.72188029776,\n",
       "  '4yr': 462140.26427588996,\n",
       "  'current': 444500.0},\n",
       " 92632: {'mse': 77642.5094206527,\n",
       "  '1yr': 304387.37130022177,\n",
       "  '2yr': 302511.11268889497,\n",
       "  '4yr': 305798.1056314308,\n",
       "  'current': 296100.0},\n",
       " 92582: {'mse': 14819.921718047612,\n",
       "  '1yr': 99218.67029469607,\n",
       "  '2yr': 102634.22110565437,\n",
       "  '4yr': 102983.78580885599,\n",
       "  'current': 107000.0},\n",
       " 92633: {'mse': 73347.55410932637,\n",
       "  '1yr': 443953.88428197126,\n",
       "  '2yr': 428410.9324676009,\n",
       "  '4yr': 442860.2085100946,\n",
       "  'current': 417500.0},\n",
       " 92615: {'mse': 89927.92318428704,\n",
       "  '1yr': 451450.1638693918,\n",
       "  '2yr': 436356.85583585873,\n",
       "  '4yr': 445705.19291190826,\n",
       "  'current': 419800.0},\n",
       " 93284: {'mse': 138510.28295482596,\n",
       "  '1yr': 453755.16828258394,\n",
       "  '2yr': 456298.8932862398,\n",
       "  '4yr': 458590.2931169206,\n",
       "  'current': 453900.0},\n",
       " 93288: {'mse': 120792.95228046842,\n",
       "  '1yr': 545673.7511169302,\n",
       "  '2yr': 543256.1234469943,\n",
       "  '4yr': 550134.8786701123,\n",
       "  'current': 546600.0},\n",
       " 93405: {'mse': 48020.77256256868,\n",
       "  '1yr': 233449.27085690445,\n",
       "  '2yr': 236998.98811701362,\n",
       "  '4yr': 243258.93866628205,\n",
       "  'current': 253800.0},\n",
       " 93282: {'mse': 133386.22938490982,\n",
       "  '1yr': 471794.9548628859,\n",
       "  '2yr': 474467.6058586715,\n",
       "  '4yr': 473646.12628511165,\n",
       "  'current': 470300.0},\n",
       " 93399: {'mse': 51937.69153308886,\n",
       "  '1yr': 253400.8461936293,\n",
       "  '2yr': 253961.55538616516,\n",
       "  '4yr': 261819.5155646758,\n",
       "  'current': 267700.0},\n",
       " 93976: {'mse': 39493.24023129337,\n",
       "  '1yr': 280398.5971884762,\n",
       "  '2yr': 276603.22719827696,\n",
       "  '4yr': 282433.2386162945,\n",
       "  'current': 274200.0},\n",
       " 94011: {'mse': 20176.74125629706,\n",
       "  '1yr': 250566.2998115009,\n",
       "  '2yr': 241857.65091549503,\n",
       "  '4yr': 245104.25848121213,\n",
       "  'current': 224300.0},\n",
       " 93856: {'mse': 12163.039312189198,\n",
       "  '1yr': 183859.03078522073,\n",
       "  '2yr': 179528.52521409234,\n",
       "  '4yr': 187101.17900453747,\n",
       "  'current': 181500.0},\n",
       " 93851: {'mse': 8189.156363805375,\n",
       "  '1yr': 202759.41410440436,\n",
       "  '2yr': 204851.4037438054,\n",
       "  '4yr': 206166.77637518843,\n",
       "  'current': 208600.0},\n",
       " 93858: {'mse': 22836.054322033102,\n",
       "  '1yr': 310488.079919634,\n",
       "  '2yr': 309749.2126728581,\n",
       "  '4yr': 314194.4939558171,\n",
       "  'current': 313800.0},\n",
       " 94167: {'mse': 55172.67158363102,\n",
       "  '1yr': 211091.51629590854,\n",
       "  '2yr': 220516.95995182224,\n",
       "  '4yr': 216370.7171145832,\n",
       "  'current': 234500.0},\n",
       " 94134: {'mse': 35096.27630263667,\n",
       "  '1yr': 154790.61313207427,\n",
       "  '2yr': 157447.75712543362,\n",
       "  '4yr': 158536.01800447472,\n",
       "  'current': 162200.0},\n",
       " 94158: {'mse': 50343.63330627369,\n",
       "  '1yr': 243089.9754108636,\n",
       "  '2yr': 247643.5857901286,\n",
       "  '4yr': 245645.8907317074,\n",
       "  'current': 253000.0},\n",
       " 94332: {'mse': 219056.08914433784,\n",
       "  '1yr': 503507.15369947255,\n",
       "  '2yr': 491999.9746594758,\n",
       "  '4yr': 486652.0789595229,\n",
       "  'current': 466800.0},\n",
       " 94179: {'mse': 102996.6585582634,\n",
       "  '1yr': 325038.45979745896,\n",
       "  '2yr': 335947.5512970953,\n",
       "  '4yr': 336377.0351304442,\n",
       "  'current': 354400.0},\n",
       " 94691: {'mse': 219172.5798731082,\n",
       "  '1yr': 366907.3740905102,\n",
       "  '2yr': 375647.8917459337,\n",
       "  '4yr': 371910.2658695561,\n",
       "  'current': 416600.0},\n",
       " 399651: {'mse': 175273.358041544,\n",
       "  '1yr': 387049.552944204,\n",
       "  '2yr': 402707.61832174164,\n",
       "  '4yr': 400712.9686819101,\n",
       "  'current': 420800.0},\n",
       " 94471: {'mse': 101511.68755526985,\n",
       "  '1yr': 276560.38665848627,\n",
       "  '2yr': 291935.41888723173,\n",
       "  '4yr': 289221.6306773442,\n",
       "  'current': 309900.0},\n",
       " 94461: {'mse': 62078.06911698498,\n",
       "  '1yr': 193512.26957922464,\n",
       "  '2yr': 210366.96576066164,\n",
       "  '4yr': 202211.46010136054,\n",
       "  'current': 230300.0},\n",
       " 94425: {'mse': 311564.43798175105,\n",
       "  '1yr': 1199305.376424498,\n",
       "  '2yr': 1210540.005936872,\n",
       "  '4yr': 1209211.8900733339,\n",
       "  'current': 1222100.0},\n",
       " 94732: {'mse': 239865.87968718004,\n",
       "  '1yr': 339015.5462704775,\n",
       "  '2yr': 342682.77830903407,\n",
       "  '4yr': 339273.7471693168,\n",
       "  'current': 341700.0},\n",
       " 94719: {'mse': 307693.71296576323,\n",
       "  '1yr': 443198.4503047182,\n",
       "  '2yr': 451973.6001849457,\n",
       "  '4yr': 439478.2823225302,\n",
       "  'current': 439800.0},\n",
       " 95167: {'mse': 158661.14151449868,\n",
       "  '1yr': 275568.41531888855,\n",
       "  '2yr': 278460.3110428273,\n",
       "  '4yr': 279425.11501026916,\n",
       "  'current': 286400.0},\n",
       " 94734: {'mse': 336838.3619039605,\n",
       "  '1yr': 610978.3244382163,\n",
       "  '2yr': 623547.8810850593,\n",
       "  '4yr': 628496.1054057742,\n",
       "  'current': 649900.0},\n",
       " 95177: {'mse': 154052.31949828588,\n",
       "  '1yr': 245614.939305871,\n",
       "  '2yr': 252868.94553915248,\n",
       "  '4yr': 247050.2877073564,\n",
       "  'current': 269900.0},\n",
       " 95316: {'mse': 67380.72325793598,\n",
       "  '1yr': 524103.5972641276,\n",
       "  '2yr': 515448.77394065016,\n",
       "  '4yr': 523988.983374966,\n",
       "  'current': 505900.0},\n",
       " 95280: {'mse': 77713.97783413473,\n",
       "  '1yr': 388022.02253121213,\n",
       "  '2yr': 403302.4922165807,\n",
       "  '4yr': 402629.18304754095,\n",
       "  'current': 426600.0},\n",
       " 95417: {'mse': 120158.35826429115,\n",
       "  '1yr': 509789.48415009584,\n",
       "  '2yr': 501762.90530093876,\n",
       "  '4yr': 502980.83907210076,\n",
       "  'current': 497600.0},\n",
       " 95381: {'mse': 113170.13869677992,\n",
       "  '1yr': 459316.6949653915,\n",
       "  '2yr': 458493.44870282576,\n",
       "  '4yr': 466697.60984179244,\n",
       "  'current': 472700.0},\n",
       " 95386: {'mse': 224311.0210097589,\n",
       "  '1yr': 687714.2352038191,\n",
       "  '2yr': 672318.7951945958,\n",
       "  '4yr': 696317.2535851474,\n",
       "  'current': 674400.0},\n",
       " 95937: {'mse': 254949.10956421486,\n",
       "  '1yr': 446661.4268568209,\n",
       "  '2yr': 451147.7140495988,\n",
       "  '4yr': 450958.80161393946,\n",
       "  'current': 452300.0},\n",
       " 95955: {'mse': 241913.8234661105,\n",
       "  '1yr': 381814.21531748725,\n",
       "  '2yr': 390755.23811585474,\n",
       "  '4yr': 400669.03949333925,\n",
       "  'current': 425300.0},\n",
       " 95926: {'mse': 353642.3313471601,\n",
       "  '1yr': 904375.6506465012,\n",
       "  '2yr': 936330.4073108897,\n",
       "  '4yr': 934209.4786386974,\n",
       "  'current': 950600.0},\n",
       " 95930: {'mse': 224036.4425119798,\n",
       "  '1yr': 312955.9144608456,\n",
       "  '2yr': 312721.6349449549,\n",
       "  '4yr': 334077.2853265324,\n",
       "  'current': 337900.0},\n",
       " 95893: {'mse': 1162386.6005521643,\n",
       "  '1yr': 2467956.3829350043,\n",
       "  '2yr': 2388634.237465392,\n",
       "  '4yr': 2397063.930676623,\n",
       "  'current': 2161900.0},\n",
       " 96019: {'mse': 418627.77021876024,\n",
       "  '1yr': 1094819.959899112,\n",
       "  '2yr': 1151687.4690358313,\n",
       "  '4yr': 1121255.5856524664,\n",
       "  'current': 1215300.0},\n",
       " 97693: {'mse': 770304.5210528389,\n",
       "  '1yr': 2842138.4811884877,\n",
       "  '2yr': 2784605.8665507114,\n",
       "  '4yr': 2820896.0483442075,\n",
       "  'current': 2733900.0},\n",
       " 97565: {'mse': 518250.2944985102,\n",
       "  '1yr': 1666156.1414705312,\n",
       "  '2yr': 1660694.7807048983,\n",
       "  '4yr': 1644543.5770113596,\n",
       "  'current': 1594000.0},\n",
       " 97696: {'mse': 884627.4195584093,\n",
       "  '1yr': 3186010.162953863,\n",
       "  '2yr': 3175503.004010069,\n",
       "  '4yr': 3253823.998281985,\n",
       "  'current': 3285100.0},\n",
       " 96127: {'mse': 870912.9602959541,\n",
       "  '1yr': 2218631.247252468,\n",
       "  '2yr': 2188338.345261187,\n",
       "  '4yr': 2231368.524023684,\n",
       "  'current': 2056800.0},\n",
       " 98908: {'mse': 105998.05721059442,\n",
       "  '1yr': 164857.59319314954,\n",
       "  '2yr': 176179.65388868278,\n",
       "  '4yr': 184441.86446837714,\n",
       "  'current': 245400.0},\n",
       " 98891: {'mse': 451283.00152988377,\n",
       "  '1yr': 967280.3948764191,\n",
       "  '2yr': 903188.8095194999,\n",
       "  '4yr': 928286.0667976678,\n",
       "  'current': 861500.0},\n",
       " 98853: {'mse': 471375.10145690775,\n",
       "  '1yr': 1287807.5888597346,\n",
       "  '2yr': 1291358.3822469537,\n",
       "  '4yr': 1259313.883733613,\n",
       "  'current': 1205800.0},\n",
       " 98845: {'mse': 297852.7810701634,\n",
       "  '1yr': 582397.2855824819,\n",
       "  '2yr': 586987.1093446704,\n",
       "  '4yr': 572373.5676715841,\n",
       "  'current': 570700.0},\n",
       " 98898: {'mse': 252055.57932577806,\n",
       "  '1yr': 878755.3273927894,\n",
       "  '2yr': 880802.7367805691,\n",
       "  '4yr': 864778.5930784207,\n",
       "  'current': 845400.0},\n",
       " 99201: {'mse': 60848.66117104865,\n",
       "  '1yr': 328385.1423572683,\n",
       "  '2yr': 328036.84660915297,\n",
       "  '4yr': 332737.2593857628,\n",
       "  'current': 326700.0},\n",
       " 99131: {'mse': 132589.9257780707,\n",
       "  '1yr': 489734.3743006128,\n",
       "  '2yr': 480945.4906430051,\n",
       "  '4yr': 480917.04989160993,\n",
       "  'current': 445000.0},\n",
       " 99199: {'mse': 70496.92641145333,\n",
       "  '1yr': 377129.3363942465,\n",
       "  '2yr': 373925.20880896505,\n",
       "  '4yr': 374744.8026365416,\n",
       "  'current': 362500.0},\n",
       " 99125: {'mse': 129955.05526920094,\n",
       "  '1yr': 504340.81697210326,\n",
       "  '2yr': 501021.59843616665,\n",
       "  '4yr': 497132.50039237045,\n",
       "  'current': 474300.0},\n",
       " 99140: {'mse': 137226.00977154536,\n",
       "  '1yr': 571676.4192680081,\n",
       "  '2yr': 568650.3681879368,\n",
       "  '4yr': 568222.2019124202,\n",
       "  'current': 540300.0},\n",
       " 99567: {'mse': 270321.72318936203,\n",
       "  '1yr': 827205.5170974338,\n",
       "  '2yr': 834121.2592823548,\n",
       "  '4yr': 842247.0493065462,\n",
       "  'current': 850400.0},\n",
       " 99563: {'mse': 279241.755594542,\n",
       "  '1yr': 849096.914626453,\n",
       "  '2yr': 855189.4416343935,\n",
       "  '4yr': 865265.7957247967,\n",
       "  'current': 882800.0},\n",
       " 99595: {'mse': 250294.08207220948,\n",
       "  '1yr': 707497.4700844536,\n",
       "  '2yr': 717488.6274619771,\n",
       "  '4yr': 733637.8013234588,\n",
       "  'current': 751500.0},\n",
       " 99581: {'mse': 281105.0858268347,\n",
       "  '1yr': 872788.2211156413,\n",
       "  '2yr': 876688.1892430241,\n",
       "  '4yr': 884723.0449362617,\n",
       "  'current': 884700.0},\n",
       " 99492: {'mse': 645698.0414287081,\n",
       "  '1yr': 1954967.3021357337,\n",
       "  '2yr': 2008352.8674459816,\n",
       "  '4yr': 2006335.9069628788,\n",
       "  'current': 2103200.0},\n",
       " 100235: {'mse': 26579.62921470359,\n",
       "  '1yr': 342425.84524357354,\n",
       "  '2yr': 342176.0069932539,\n",
       "  '4yr': 338284.1718873965,\n",
       "  'current': 333200.0},\n",
       " 100226: {'mse': 30284.488733040558,\n",
       "  '1yr': 380880.7693651085,\n",
       "  '2yr': 381302.2618669641,\n",
       "  '4yr': 373884.62943885865,\n",
       "  'current': 361800.0},\n",
       " 100274: {'mse': 22363.721748705095,\n",
       "  '1yr': 410683.5720715886,\n",
       "  '2yr': 416255.91891632363,\n",
       "  '4yr': 407755.4032987527,\n",
       "  'current': 409300.0},\n",
       " 100265: {'mse': 11192.949672105315,\n",
       "  '1yr': 462975.35496835486,\n",
       "  '2yr': 439723.63563945366,\n",
       "  '4yr': 454097.8278962855,\n",
       "  'current': 419100.0},\n",
       " 100220: {'mse': 41799.78013034584,\n",
       "  '1yr': 389790.0009993958,\n",
       "  '2yr': 383341.0091714888,\n",
       "  '4yr': 375920.628544583,\n",
       "  'current': 367300.0}}"
      ]
     },
     "execution_count": 126,
     "metadata": {},
     "output_type": "execute_result"
    }
   ],
   "source": [
    "from fbprophet import Prophet as proph\n",
    "from math import sqrt\n",
    "from sklearn.metrics import mean_squared_error\n",
    "results = {}\n",
    "counter = 0\n",
    "#for i in topreturns:       <<<<< use this in the beginning \n",
    "for i in modifiedtopreturns:\n",
    "    for c in i :\n",
    "        table = sort[sort['RegionID'] == c[1]]\n",
    "        X = table['variable']\n",
    "        y = table['value']\n",
    "        aic = []\n",
    "        bic = []\n",
    "        mse = []\n",
    "    #account  for the split validation test train split\n",
    "    #pyramid arima needs to be differenced or turned stationary first\n",
    "    #facebook prophet does not since it is not ARIMA model\n",
    "        for j in [.6,.7,.8]:\n",
    "            \n",
    "            split = int(len(X)*j)\n",
    "            X_train = X[0:split]\n",
    "            X_test = X[split:len(X)]\n",
    "            y_train = y[0:split]\n",
    "            y_test = y[split:len(y)]\n",
    "            #arima modeling was not working probably because of the parameter tuning \n",
    "            \"\"\"\n",
    "            model = auto_arima(y=y_train,start_p=0,start_q=0,max_p=6,max_d=7,max_q=8,start_P=0,start_Q=0,max_P=6,max_D=7,max_Q=8,maxiter=300)\n",
    "            order = model.get_params()['order']\n",
    "            # check if random walk\n",
    "            if order == (0,0,0) or (0,1,0):\n",
    "                break\n",
    "            else:\n",
    "                aic.append(model.aic())\n",
    "                bic.append(model.bic())\n",
    "            \"\"\"\n",
    "\n",
    "            #make facebook model    \n",
    "            FBModel = proph(interval_width=0.95)\n",
    "            FB = pd.DataFrame(data=[X_test,y_test])\n",
    "            FB = FB.T\n",
    "            FB.sort_values(by='variable',ascending=True,inplace=True)\n",
    "            FB.head()\n",
    "            FB_train = pd.DataFrame(data=[X_train,y_train])\n",
    "            FB_train = FB_train.T\n",
    "            FB_train.sort_values(by='variable',ascending=True,inplace=True)\n",
    "            FB.columns = ['ds','y']\n",
    "            FB_train.columns = ['ds','y']\n",
    "            FBModel.fit(FB_train)\n",
    "            forecastFB = FBModel.predict(FB)\n",
    "            FBprediction = forecastFB['yhat']\n",
    "            MeanSquaredError = sqrt(mean_squared_error(y_test,FBprediction))\n",
    "            mse.append(MeanSquaredError)\n",
    "            print(mse)\n",
    "        #add aic bic mse\n",
    "        print(mse)\n",
    "        results[c[1]] = {'mse':(sum(mse)/3)}\n",
    "    #run fb model on the whole time series and predict in the future\n",
    "        FBModel = proph(interval_width=0.95)\n",
    "        FB = pd.DataFrame(data=[X,y])\n",
    "        FB = FB.T\n",
    "        FB.sort_values(by='variable',ascending=True,inplace=True)\n",
    "        FB_train = pd.DataFrame(data=[X,y])\n",
    "        FB_train = FB_train.T\n",
    "        FB_train.sort_values(by='variable',ascending=True,inplace=True)\n",
    "        FB.columns = ['ds','y']\n",
    "        FB_train.columns = ['ds','y']\n",
    "        FBModel.fit(FB)\n",
    "\n",
    "        forecast1yr = FBModel.make_future_dataframe(periods=12)\n",
    "        forecastFB1yr = FBModel.predict(forecast1yr)\n",
    "        forecast2yr = FBModel.make_future_dataframe(periods=24)\n",
    "        forecastFB2yr = FBModel.predict(forecast2yr)\n",
    "        forecast4yr = FBModel.make_future_dataframe(periods=48)\n",
    "        forecastFB4yr = FBModel.predict(forecast4yr)\n",
    "        FBprediction1yr = forecastFB1yr['yhat']\n",
    "\n",
    "        FBprediction2yr = forecastFB2yr['yhat']\n",
    "\n",
    "        FBprediction4yr = forecastFB4yr['yhat']\n",
    "        #add the last value in the prediction as the 1yr 2yr and 4yr prediction\n",
    "        results[c[1]]['1yr'] = FBprediction1yr.iloc[-1]\n",
    "        results[c[1]]['2yr'] = FBprediction2yr.iloc[-1]\n",
    "        results[c[1]]['4yr'] = FBprediction4yr.iloc[-1]\n",
    "        results[c[1]]['current'] = y.iloc[-1]\n",
    "        counter += 1\n",
    "        print(\" {} progress so far\".format(counter))\n",
    "#results"
   ]
  },
  {
   "cell_type": "code",
   "execution_count": 224,
   "metadata": {},
   "outputs": [],
   "source": [
    "newresults =sorted(results.items(), key= lambda x: x,reverse=True)\n",
    "newresults.sort(key=lambda e:e[1]['mse'])\n",
    "#newresults\n"
   ]
  },
  {
   "cell_type": "code",
   "execution_count": 233,
   "metadata": {
    "scrolled": false
   },
   "outputs": [
    {
     "data": {
      "text/plain": [
       "(100265,\n",
       " {'mse': 11192.949672105315,\n",
       "  '1yr': 462975.35496835486,\n",
       "  '2yr': 439723.63563945366,\n",
       "  '4yr': 454097.8278962855,\n",
       "  'current': 419100.0,\n",
       "  'mape': 0.026707109692448855,\n",
       "  'uptrend': True,\n",
       "  '1yrprofit': 0.10468946544584792,\n",
       "  '2yrprofit': 0.04920934297173385,\n",
       "  '4yrprofit': 0.0835071054552267})"
      ]
     },
     "execution_count": 233,
     "metadata": {},
     "output_type": "execute_result"
    }
   ],
   "source": [
    "#add a value for average error divided by the current price\n",
    "for i in newresults :\n",
    "    i[1]['mape'] = i[1]['mse']/ i[1]['current']\n",
    "#sort by the error best to worst, best being lower\n",
    "newresults.sort(key=lambda e : e[1]['mape'])\n",
    "newresults\n",
    "#make an uptrend \n",
    "for i in newresults :\n",
    "    if i[1]['4yr'] > i[1]['current']:\n",
    "        i[1]['uptrend'] = True\n",
    "    else:\n",
    "        i[1]['uptrend'] = False\n",
    "newresults\n",
    "#if there is no uptrend then delete using a copy of the newresults list\n",
    "for t in newresults[:]:\n",
    "    if t[1]['uptrend'] == False:\n",
    "        newresults.remove(t)\n",
    "newresults\n",
    "#only look for zipcodes with mape error less than .15\n",
    "for i in newresults[:] :\n",
    "    if i[1]['mape'] > .15:\n",
    "        newresults.remove(i)\n",
    "len(newresults)\n",
    "#calculate profit percentage for the time periods\n",
    "for i in newresults :\n",
    "    i[1]['1yrprofit'] = (i[1]['1yr']- i[1]['current']) / i[1]['current']\n",
    "    i[1]['2yrprofit'] = (i[1]['2yr']- i[1]['current']) / i[1]['current']\n",
    "    i[1]['4yrprofit'] = (i[1]['4yr']-  i[1]['current']) / i[1]['current']\n",
    "bestinvestment1yr = newresults\n",
    "bestinvestment1yr[0]\n",
    "    "
   ]
  },
  {
   "cell_type": "code",
   "execution_count": 229,
   "metadata": {},
   "outputs": [
    {
     "data": {
      "text/plain": [
       "(94011,\n",
       " {'mse': 20176.74125629706,\n",
       "  '1yr': 250566.2998115009,\n",
       "  '2yr': 241857.65091549503,\n",
       "  '4yr': 245104.25848121213,\n",
       "  'current': 224300.0,\n",
       "  'mape': 0.08995426329156068,\n",
       "  'uptrend': True,\n",
       "  '1yrprofit': 0.11710343206197464,\n",
       "  '2yrprofit': 0.07827753417518962,\n",
       "  '4yrprofit': 0.09275193259568495})"
      ]
     },
     "execution_count": 229,
     "metadata": {},
     "output_type": "execute_result"
    }
   ],
   "source": [
    "bestinvestment2yr = newresults\n",
    "bestinvestment2yr.sort(key=lambda e: e[1]['2yrprofit'],reverse=True)\n",
    "bestinvestment2yr[0]"
   ]
  },
  {
   "cell_type": "code",
   "execution_count": 231,
   "metadata": {},
   "outputs": [
    {
     "data": {
      "text/plain": [
       "(94011,\n",
       " {'mse': 20176.74125629706,\n",
       "  '1yr': 250566.2998115009,\n",
       "  '2yr': 241857.65091549503,\n",
       "  '4yr': 245104.25848121213,\n",
       "  'current': 224300.0,\n",
       "  'mape': 0.08995426329156068,\n",
       "  'uptrend': True,\n",
       "  '1yrprofit': 0.11710343206197464,\n",
       "  '2yrprofit': 0.07827753417518962,\n",
       "  '4yrprofit': 0.09275193259568495})"
      ]
     },
     "execution_count": 231,
     "metadata": {},
     "output_type": "execute_result"
    }
   ],
   "source": [
    "bestinvestment1yr.sort(key=lambda e: e[1]['1yrprofit'],reverse=True)\n",
    "bestinvestment1yr[0]"
   ]
  },
  {
   "cell_type": "code",
   "execution_count": 232,
   "metadata": {
    "scrolled": false
   },
   "outputs": [
    {
     "data": {
      "text/plain": [
       "(94011,\n",
       " {'mse': 20176.74125629706,\n",
       "  '1yr': 250566.2998115009,\n",
       "  '2yr': 241857.65091549503,\n",
       "  '4yr': 245104.25848121213,\n",
       "  'current': 224300.0,\n",
       "  'mape': 0.08995426329156068,\n",
       "  'uptrend': True,\n",
       "  '1yrprofit': 0.11710343206197464,\n",
       "  '2yrprofit': 0.07827753417518962,\n",
       "  '4yrprofit': 0.09275193259568495})"
      ]
     },
     "execution_count": 232,
     "metadata": {},
     "output_type": "execute_result"
    }
   ],
   "source": [
    "bestinvestment4yr = bestinvestment1yr\n",
    "bestinvestment4yr.sort(key=lambda e: e[1]['4yrprofit'],reverse=True)\n",
    "bestinvestment4yr[0]"
   ]
  },
  {
   "cell_type": "code",
   "execution_count": null,
   "metadata": {},
   "outputs": [],
   "source": [
    "#the best time period looks to be the 1 yr time period as it is the most accurate time period since results get less accurate with\n",
    "#time and it also has the highest percentage returns available\n",
    "#so I'll pick the top5 from the 1 yr as they will be the least risky and best return on investment "
   ]
  },
  {
   "cell_type": "code",
   "execution_count": 218,
   "metadata": {},
   "outputs": [
    {
     "data": {
      "image/png": "[encoded data removed]",
      "text/plain": [
       "<Figure size 432x288 with 1 Axes>"
      ]
     },
     "metadata": {
      "needs_background": "light"
     },
     "output_type": "display_data"
    }
   ],
   "source": [
    "plt.bar([x for x in range(len(bestinvestment1yr))],height =[x[1]['1yrprofit'] for x in bestinvestment1yr])\n",
    "plt.xlabel([x[0] for x in bestinvestment1yr])\n",
    "plt.ylabel(\"Percentage Increase\")\n",
    "plt.title(\"Median Home Value Price Change per zipcode 1 year from now\")\n",
    "plt.savefig('1yr.png',bbox_inches='tight')"
   ]
  },
  {
   "cell_type": "code",
   "execution_count": 216,
   "metadata": {},
   "outputs": [
    {
     "data": {
      "image/png": "[encoded data removed]",
      "text/plain": [
       "<Figure size 432x288 with 1 Axes>"
      ]
     },
     "metadata": {
      "needs_background": "light"
     },
     "output_type": "display_data"
    }
   ],
   "source": [
    "plt.bar([x for x in range(len(bestinvestment2yr))],height =[x[1]['2yrprofit'] for x in bestinvestment2yr])\n",
    "plt.xlabel([x[0] for x in bestinvestment2yr])\n",
    "plt.ylabel(\"Percentage Increase\")\n",
    "plt.title(\"Median Home Value Price Change per zipcode 2 years from now\")\n",
    "plt.savefig('2yr.png',bbox_inches='tight')"
   ]
  },
  {
   "cell_type": "code",
   "execution_count": 212,
   "metadata": {},
   "outputs": [
    {
     "data": {
      "image/png": "[encoded data removed]",
      "text/plain": [
       "<Figure size 432x288 with 1 Axes>"
      ]
     },
     "metadata": {
      "needs_background": "light"
     },
     "output_type": "display_data"
    }
   ],
   "source": [
    "bestmape = newresults\n",
    "bestmape.sort(key = lambda x: x[1]['mape'],reverse=True)\n",
    "plt.bar([x for x in range(len(bestmape))],height =[x[1]['mape'] for x in bestmape])\n",
    "plt.xlabel([x[0] for x in bestmape])\n",
    "plt.ylabel(\"Percentage Error\")\n",
    "plt.title(\"Average Error Percentage\")\n",
    "plt.savefig('mape.png',bbox_inches='tight')"
   ]
  },
  {
   "cell_type": "code",
   "execution_count": null,
   "metadata": {},
   "outputs": [],
   "source": [
    "#I attempted to use multiprocessing to make it take less time but it would not work on my computer\n",
    "from multiprocessing import Pool,cpu_count\n",
    "import multiprocessing\n",
    "def testt(i):\n",
    "    print(\"starting {}\".format(i))\n",
    "p = Pool(2)\n",
    "p.map(testt,[0,1])"
   ]
  },
  {
   "cell_type": "markdown",
   "metadata": {},
   "source": [
    "# Conclusion\n",
    "My conclusion is that the error rate is not all that low, 15% or less, and that the profit to be made is not that high. If I was investing I would not buy at market price because the price might not go up very much or it could easily be wrong. I would make sure that I was getting a below market value price, then I would flip the house in the short term and sell within 1 year to make as much money as possible. I would do this for the top 5 zipcodes in the 1 year prediction to remain risk adverse. The odds that all the top 5 zipcodes spread across the whole country go down instead of up at the same time is low. "
   ]
  },
  {
   "cell_type": "code",
   "execution_count": null,
   "metadata": {},
   "outputs": [],
   "source": []
  }
 ],
 "metadata": {
  "kernelspec": {
   "display_name": "Python 3",
   "language": "python",
   "name": "python3"
  },
  "language_info": {
   "codemirror_mode": {
    "name": "ipython",
    "version": 3
   },
   "file_extension": ".py",
   "mimetype": "text/x-python",
   "name": "python",
   "nbconvert_exporter": "python",
   "pygments_lexer": "ipython3",
   "version": "3.6.6"
  }
 },
 "nbformat": 4,
 "nbformat_minor": 2
}
